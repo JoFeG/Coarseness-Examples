{
 "cells": [
  {
   "cell_type": "code",
   "execution_count": 2,
   "id": "61cbd43d-9291-449e-b44b-0370bf943c71",
   "metadata": {
    "tags": []
   },
   "outputs": [
    {
     "data": {
      "text/plain": [
       "sorted2midpoints (generic function with 1 method)"
      ]
     },
     "execution_count": 2,
     "metadata": {},
     "output_type": "execute_result"
    }
   ],
   "source": [
    "using Random\n",
    "include(\"src/plotting_utils.jl\")\n",
    "include(\"src/guillotine_utils.jl\")"
   ]
  },
  {
   "cell_type": "code",
   "execution_count": 3,
   "id": "95fe53c0-62e6-4442-8f7f-367b9558d2ea",
   "metadata": {
    "tags": []
   },
   "outputs": [
    {
     "data": {
      "image/svg+xml": [
       "<?xml version=\"1.0\" encoding=\"utf-8\"?>\n",
       "<svg xmlns=\"http://www.w3.org/2000/svg\" xmlns:xlink=\"http://www.w3.org/1999/xlink\" width=\"500\" height=\"500\" viewBox=\"0 0 2000 2000\">\n",
       "<defs>\n",
       "  <clipPath id=\"clip740\">\n",
       "    <rect x=\"0\" y=\"0\" width=\"2000\" height=\"2000\"/>\n",
       "  </clipPath>\n",
       "</defs>\n",
       "<path clip-path=\"url(#clip740)\" d=\"M0 2000 L2000 2000 L2000 0 L0 0  Z\" fill=\"#ffffff\" fill-rule=\"evenodd\" fill-opacity=\"1\"/>\n",
       "<defs>\n",
       "  <clipPath id=\"clip741\">\n",
       "    <rect x=\"400\" y=\"200\" width=\"1401\" height=\"1401\"/>\n",
       "  </clipPath>\n",
       "</defs>\n",
       "<path clip-path=\"url(#clip740)\" d=\"M182.274 1865.17 L1952.76 1865.17 L1952.76 47.2441 L182.274 47.2441  Z\" fill=\"#ffffff\" fill-rule=\"evenodd\" fill-opacity=\"1\"/>\n",
       "<defs>\n",
       "  <clipPath id=\"clip742\">\n",
       "    <rect x=\"182\" y=\"47\" width=\"1771\" height=\"1819\"/>\n",
       "  </clipPath>\n",
       "</defs>\n",
       "<circle clip-path=\"url(#clip742)\" cx=\"1238.43\" cy=\"841.157\" r=\"21.6\" fill=\"#ff0000\" fill-rule=\"evenodd\" fill-opacity=\"1\" stroke=\"#000000\" stroke-opacity=\"1\" stroke-width=\"4\"/>\n",
       "<circle clip-path=\"url(#clip742)\" cx=\"1699.83\" cy=\"1605.46\" r=\"21.6\" fill=\"#ff0000\" fill-rule=\"evenodd\" fill-opacity=\"1\" stroke=\"#000000\" stroke-opacity=\"1\" stroke-width=\"4\"/>\n",
       "<circle clip-path=\"url(#clip742)\" cx=\"489.45\" cy=\"487.943\" r=\"21.6\" fill=\"#ff0000\" fill-rule=\"evenodd\" fill-opacity=\"1\" stroke=\"#000000\" stroke-opacity=\"1\" stroke-width=\"4\"/>\n",
       "<circle clip-path=\"url(#clip742)\" cx=\"882.569\" cy=\"306.947\" r=\"21.6\" fill=\"#0000ff\" fill-rule=\"evenodd\" fill-opacity=\"1\" stroke=\"#000000\" stroke-opacity=\"1\" stroke-width=\"4\"/>\n",
       "<circle clip-path=\"url(#clip742)\" cx=\"1539.4\" cy=\"1343.58\" r=\"21.6\" fill=\"#0000ff\" fill-rule=\"evenodd\" fill-opacity=\"1\" stroke=\"#000000\" stroke-opacity=\"1\" stroke-width=\"4\"/>\n",
       "<circle clip-path=\"url(#clip742)\" cx=\"435.2\" cy=\"1443.51\" r=\"21.6\" fill=\"#0000ff\" fill-rule=\"evenodd\" fill-opacity=\"1\" stroke=\"#000000\" stroke-opacity=\"1\" stroke-width=\"4\"/>\n",
       "<circle clip-path=\"url(#clip742)\" cx=\"1432.52\" cy=\"1550.44\" r=\"21.6\" fill=\"#0000ff\" fill-rule=\"evenodd\" fill-opacity=\"1\" stroke=\"#000000\" stroke-opacity=\"1\" stroke-width=\"4\"/>\n",
       "<polyline clip-path=\"url(#clip742)\" style=\"stroke:#808080; stroke-linecap:round; stroke-linejoin:round; stroke-width:4; stroke-opacity:0.3; fill:none\" points=\"228.513,3683.09 228.513,-1770.68 \"/>\n",
       "<polyline clip-path=\"url(#clip742)\" style=\"stroke:#808080; stroke-linecap:round; stroke-linejoin:round; stroke-width:4; stroke-opacity:0.3; fill:none\" points=\"462.325,3683.09 462.325,-1770.68 \"/>\n",
       "<polyline clip-path=\"url(#clip742)\" style=\"stroke:#808080; stroke-linecap:round; stroke-linejoin:round; stroke-width:4; stroke-opacity:0.3; fill:none\" points=\"686.009,3683.09 686.009,-1770.68 \"/>\n",
       "<polyline clip-path=\"url(#clip742)\" style=\"stroke:#808080; stroke-linecap:round; stroke-linejoin:round; stroke-width:4; stroke-opacity:0.3; fill:none\" points=\"1060.5,3683.09 1060.5,-1770.68 \"/>\n",
       "<polyline clip-path=\"url(#clip742)\" style=\"stroke:#808080; stroke-linecap:round; stroke-linejoin:round; stroke-width:4; stroke-opacity:0.3; fill:none\" points=\"1335.47,3683.09 1335.47,-1770.68 \"/>\n",
       "<polyline clip-path=\"url(#clip742)\" style=\"stroke:#808080; stroke-linecap:round; stroke-linejoin:round; stroke-width:4; stroke-opacity:0.3; fill:none\" points=\"1485.96,3683.09 1485.96,-1770.68 \"/>\n",
       "<polyline clip-path=\"url(#clip742)\" style=\"stroke:#808080; stroke-linecap:round; stroke-linejoin:round; stroke-width:4; stroke-opacity:0.3; fill:none\" points=\"1619.62,3683.09 1619.62,-1770.68 \"/>\n",
       "<polyline clip-path=\"url(#clip742)\" style=\"stroke:#808080; stroke-linecap:round; stroke-linejoin:round; stroke-width:4; stroke-opacity:0.3; fill:none\" points=\"1906.52,3683.09 1906.52,-1770.68 \"/>\n",
       "<polyline clip-path=\"url(#clip742)\" style=\"stroke:#808080; stroke-linecap:round; stroke-linejoin:round; stroke-width:4; stroke-opacity:0.3; fill:none\" points=\"-1588.21,1812.45 3723.24,1812.45 \"/>\n",
       "<polyline clip-path=\"url(#clip742)\" style=\"stroke:#808080; stroke-linecap:round; stroke-linejoin:round; stroke-width:4; stroke-opacity:0.3; fill:none\" points=\"-1588.21,1577.95 3723.24,1577.95 \"/>\n",
       "<polyline clip-path=\"url(#clip742)\" style=\"stroke:#808080; stroke-linecap:round; stroke-linejoin:round; stroke-width:4; stroke-opacity:0.3; fill:none\" points=\"-1588.21,1496.98 3723.24,1496.98 \"/>\n",
       "<polyline clip-path=\"url(#clip742)\" style=\"stroke:#808080; stroke-linecap:round; stroke-linejoin:round; stroke-width:4; stroke-opacity:0.3; fill:none\" points=\"-1588.21,1393.55 3723.24,1393.55 \"/>\n",
       "<polyline clip-path=\"url(#clip742)\" style=\"stroke:#808080; stroke-linecap:round; stroke-linejoin:round; stroke-width:4; stroke-opacity:0.3; fill:none\" points=\"-1588.21,1092.37 3723.24,1092.37 \"/>\n",
       "<polyline clip-path=\"url(#clip742)\" style=\"stroke:#808080; stroke-linecap:round; stroke-linejoin:round; stroke-width:4; stroke-opacity:0.3; fill:none\" points=\"-1588.21,664.55 3723.24,664.55 \"/>\n",
       "<polyline clip-path=\"url(#clip742)\" style=\"stroke:#808080; stroke-linecap:round; stroke-linejoin:round; stroke-width:4; stroke-opacity:0.3; fill:none\" points=\"-1588.21,397.445 3723.24,397.445 \"/>\n",
       "<polyline clip-path=\"url(#clip742)\" style=\"stroke:#808080; stroke-linecap:round; stroke-linejoin:round; stroke-width:4; stroke-opacity:0.3; fill:none\" points=\"-1588.21,99.9592 3723.24,99.9592 \"/>\n",
       "</svg>\n"
      ]
     },
     "execution_count": 3,
     "metadata": {},
     "output_type": "execute_result"
    }
   ],
   "source": [
    "rng = MersenneTwister(1000)\n",
    "n = 7\n",
    "S = rand(rng,n,2)\n",
    "half = n ÷ 2\n",
    "w = shuffle(rng,[ones(Int,half)...,-ones(Int,n-half)...])\n",
    "\n",
    "fig = plot_rb_points(S,w)\n",
    "plot_add_lines!(fig, S)"
   ]
  },
  {
   "cell_type": "code",
   "execution_count": 4,
   "id": "e062a78d-b1d0-4225-a305-b1b07963913d",
   "metadata": {
    "tags": []
   },
   "outputs": [
    {
     "data": {
      "text/plain": [
       "7×4 Matrix{Any}:\n",
       " 1  0.61  0.58  'r'\n",
       " 2  0.92  0.05  'r'\n",
       " 3  0.36  0.96  'b'\n",
       " 4  0.81  0.23  'b'\n",
       " 5  0.06  0.16  'b'\n",
       " 6  0.74  0.09  'b'\n",
       " 7  0.1   0.83  'r'"
      ]
     },
     "metadata": {},
     "output_type": "display_data"
    },
    {
     "name": "stdout",
     "output_type": "stream",
     "text": [
      "\n",
      "p = 3, q = 2, i = 4, j = 5\n",
      "--------------------------\n",
      "                      1  2  3  4  5  6  7  8    midpoint index\n",
      "sortperm_x          = [5, 7, 3, 1, 6, 4, 2]\n",
      "sortperm_x[p:p+i-1] = [3, 1, 6, 4]\n",
      "\n",
      "                      1  2  3  4  5  6  7  8    midpoint index\n",
      "sortperm_y          = [2, 6, 5, 4, 1, 7, 3]\n",
      "sortperm_y[q:q+j-1] = [6, 5, 4, 1, 7]\n",
      "\n",
      "intersection = [1, 6, 4]\n",
      "\n",
      "     1  2   3   4   5   6  7    point index\n",
      "w = [1, 1, -1, -1, -1, -1, 1]\n",
      "\n",
      "Disc_pqij  = abs(sum(w[intersection])) = 1\n",
      "Count_pqij = length(intersection)      = 3\n"
     ]
    },
    {
     "data": {
      "image/svg+xml": [
       "<?xml version=\"1.0\" encoding=\"utf-8\"?>\n",
       "<svg xmlns=\"http://www.w3.org/2000/svg\" xmlns:xlink=\"http://www.w3.org/1999/xlink\" width=\"500\" height=\"500\" viewBox=\"0 0 2000 2000\">\n",
       "<defs>\n",
       "  <clipPath id=\"clip820\">\n",
       "    <rect x=\"0\" y=\"0\" width=\"2000\" height=\"2000\"/>\n",
       "  </clipPath>\n",
       "</defs>\n",
       "<path clip-path=\"url(#clip820)\" d=\"M0 2000 L2000 2000 L2000 0 L0 0  Z\" fill=\"#ffffff\" fill-rule=\"evenodd\" fill-opacity=\"1\"/>\n",
       "<defs>\n",
       "  <clipPath id=\"clip821\">\n",
       "    <rect x=\"400\" y=\"200\" width=\"1401\" height=\"1401\"/>\n",
       "  </clipPath>\n",
       "</defs>\n",
       "<path clip-path=\"url(#clip820)\" d=\"M182.274 1865.17 L1952.76 1865.17 L1952.76 47.2441 L182.274 47.2441  Z\" fill=\"#ffffff\" fill-rule=\"evenodd\" fill-opacity=\"1\"/>\n",
       "<defs>\n",
       "  <clipPath id=\"clip822\">\n",
       "    <rect x=\"182\" y=\"47\" width=\"1771\" height=\"1819\"/>\n",
       "  </clipPath>\n",
       "</defs>\n",
       "<circle clip-path=\"url(#clip822)\" cx=\"1238.43\" cy=\"841.157\" r=\"21.6\" fill=\"#ff0000\" fill-rule=\"evenodd\" fill-opacity=\"1\" stroke=\"#000000\" stroke-opacity=\"1\" stroke-width=\"4\"/>\n",
       "<circle clip-path=\"url(#clip822)\" cx=\"1699.83\" cy=\"1605.46\" r=\"21.6\" fill=\"#ff0000\" fill-rule=\"evenodd\" fill-opacity=\"1\" stroke=\"#000000\" stroke-opacity=\"1\" stroke-width=\"4\"/>\n",
       "<circle clip-path=\"url(#clip822)\" cx=\"489.45\" cy=\"487.943\" r=\"21.6\" fill=\"#ff0000\" fill-rule=\"evenodd\" fill-opacity=\"1\" stroke=\"#000000\" stroke-opacity=\"1\" stroke-width=\"4\"/>\n",
       "<circle clip-path=\"url(#clip822)\" cx=\"882.569\" cy=\"306.947\" r=\"21.6\" fill=\"#0000ff\" fill-rule=\"evenodd\" fill-opacity=\"1\" stroke=\"#000000\" stroke-opacity=\"1\" stroke-width=\"4\"/>\n",
       "<circle clip-path=\"url(#clip822)\" cx=\"1539.4\" cy=\"1343.58\" r=\"21.6\" fill=\"#0000ff\" fill-rule=\"evenodd\" fill-opacity=\"1\" stroke=\"#000000\" stroke-opacity=\"1\" stroke-width=\"4\"/>\n",
       "<circle clip-path=\"url(#clip822)\" cx=\"435.2\" cy=\"1443.51\" r=\"21.6\" fill=\"#0000ff\" fill-rule=\"evenodd\" fill-opacity=\"1\" stroke=\"#000000\" stroke-opacity=\"1\" stroke-width=\"4\"/>\n",
       "<circle clip-path=\"url(#clip822)\" cx=\"1432.52\" cy=\"1550.44\" r=\"21.6\" fill=\"#0000ff\" fill-rule=\"evenodd\" fill-opacity=\"1\" stroke=\"#000000\" stroke-opacity=\"1\" stroke-width=\"4\"/>\n",
       "<polyline clip-path=\"url(#clip822)\" style=\"stroke:#808080; stroke-linecap:round; stroke-linejoin:round; stroke-width:4; stroke-opacity:0.3; fill:none\" points=\"228.513,3683.09 228.513,-1770.68 \"/>\n",
       "<polyline clip-path=\"url(#clip822)\" style=\"stroke:#808080; stroke-linecap:round; stroke-linejoin:round; stroke-width:4; stroke-opacity:0.3; fill:none\" points=\"462.325,3683.09 462.325,-1770.68 \"/>\n",
       "<polyline clip-path=\"url(#clip822)\" style=\"stroke:#808080; stroke-linecap:round; stroke-linejoin:round; stroke-width:4; stroke-opacity:0.3; fill:none\" points=\"686.009,3683.09 686.009,-1770.68 \"/>\n",
       "<polyline clip-path=\"url(#clip822)\" style=\"stroke:#808080; stroke-linecap:round; stroke-linejoin:round; stroke-width:4; stroke-opacity:0.3; fill:none\" points=\"1060.5,3683.09 1060.5,-1770.68 \"/>\n",
       "<polyline clip-path=\"url(#clip822)\" style=\"stroke:#808080; stroke-linecap:round; stroke-linejoin:round; stroke-width:4; stroke-opacity:0.3; fill:none\" points=\"1335.47,3683.09 1335.47,-1770.68 \"/>\n",
       "<polyline clip-path=\"url(#clip822)\" style=\"stroke:#808080; stroke-linecap:round; stroke-linejoin:round; stroke-width:4; stroke-opacity:0.3; fill:none\" points=\"1485.96,3683.09 1485.96,-1770.68 \"/>\n",
       "<polyline clip-path=\"url(#clip822)\" style=\"stroke:#808080; stroke-linecap:round; stroke-linejoin:round; stroke-width:4; stroke-opacity:0.3; fill:none\" points=\"1619.62,3683.09 1619.62,-1770.68 \"/>\n",
       "<polyline clip-path=\"url(#clip822)\" style=\"stroke:#808080; stroke-linecap:round; stroke-linejoin:round; stroke-width:4; stroke-opacity:0.3; fill:none\" points=\"1906.52,3683.09 1906.52,-1770.68 \"/>\n",
       "<polyline clip-path=\"url(#clip822)\" style=\"stroke:#808080; stroke-linecap:round; stroke-linejoin:round; stroke-width:4; stroke-opacity:0.3; fill:none\" points=\"-1588.21,1812.45 3723.24,1812.45 \"/>\n",
       "<polyline clip-path=\"url(#clip822)\" style=\"stroke:#808080; stroke-linecap:round; stroke-linejoin:round; stroke-width:4; stroke-opacity:0.3; fill:none\" points=\"-1588.21,1577.95 3723.24,1577.95 \"/>\n",
       "<polyline clip-path=\"url(#clip822)\" style=\"stroke:#808080; stroke-linecap:round; stroke-linejoin:round; stroke-width:4; stroke-opacity:0.3; fill:none\" points=\"-1588.21,1496.98 3723.24,1496.98 \"/>\n",
       "<polyline clip-path=\"url(#clip822)\" style=\"stroke:#808080; stroke-linecap:round; stroke-linejoin:round; stroke-width:4; stroke-opacity:0.3; fill:none\" points=\"-1588.21,1393.55 3723.24,1393.55 \"/>\n",
       "<polyline clip-path=\"url(#clip822)\" style=\"stroke:#808080; stroke-linecap:round; stroke-linejoin:round; stroke-width:4; stroke-opacity:0.3; fill:none\" points=\"-1588.21,1092.37 3723.24,1092.37 \"/>\n",
       "<polyline clip-path=\"url(#clip822)\" style=\"stroke:#808080; stroke-linecap:round; stroke-linejoin:round; stroke-width:4; stroke-opacity:0.3; fill:none\" points=\"-1588.21,664.55 3723.24,664.55 \"/>\n",
       "<polyline clip-path=\"url(#clip822)\" style=\"stroke:#808080; stroke-linecap:round; stroke-linejoin:round; stroke-width:4; stroke-opacity:0.3; fill:none\" points=\"-1588.21,397.445 3723.24,397.445 \"/>\n",
       "<polyline clip-path=\"url(#clip822)\" style=\"stroke:#808080; stroke-linecap:round; stroke-linejoin:round; stroke-width:4; stroke-opacity:0.3; fill:none\" points=\"-1588.21,99.9592 3723.24,99.9592 \"/>\n",
       "<path clip-path=\"url(#clip822)\" d=\"M686.009 1577.95 L686.009 397.445 L1619.62 397.445 L1619.62 1577.95 L686.009 1577.95  Z\" fill=\"#808080\" fill-rule=\"evenodd\" fill-opacity=\"0.2\"/>\n",
       "<polyline clip-path=\"url(#clip822)\" style=\"stroke:#000000; stroke-linecap:round; stroke-linejoin:round; stroke-width:4; stroke-opacity:0.2; fill:none\" points=\"686.009,1577.95 686.009,397.445 1619.62,397.445 1619.62,1577.95 686.009,1577.95 \"/>\n",
       "</svg>\n"
      ]
     },
     "execution_count": 4,
     "metadata": {},
     "output_type": "execute_result"
    }
   ],
   "source": [
    "p = 3\n",
    "q = 2\n",
    "i = 4\n",
    "j = 5\n",
    "\n",
    "fig = print_S_info(S,p,q,i,j)\n",
    "savefig(fig,\"figs/box$p$q$i$j.svg\")\n",
    "fig"
   ]
  },
  {
   "cell_type": "code",
   "execution_count": null,
   "id": "37d30b42-2dab-4a62-ab78-a2b9fba06321",
   "metadata": {},
   "outputs": [],
   "source": []
  }
 ],
 "metadata": {
  "kernelspec": {
   "display_name": "Julia 1.6.1",
   "language": "julia",
   "name": "julia-1.6"
  },
  "language_info": {
   "file_extension": ".jl",
   "mimetype": "application/julia",
   "name": "julia",
   "version": "1.6.1"
  }
 },
 "nbformat": 4,
 "nbformat_minor": 5
}
