{
 "cells": [
  {
   "cell_type": "code",
   "execution_count": 6,
   "id": "61cbd43d-9291-449e-b44b-0370bf943c71",
   "metadata": {
    "tags": []
   },
   "outputs": [
    {
     "data": {
      "text/plain": [
       "coarseness_bf (generic function with 1 method)"
      ]
     },
     "execution_count": 6,
     "metadata": {},
     "output_type": "execute_result"
    }
   ],
   "source": [
    "using Random\n",
    "include(\"src/plotting_utils.jl\")\n",
    "include(\"src/guillotine_utils.jl\")\n",
    "include(\"src/bruteforce_utils.jl\")"
   ]
  },
  {
   "cell_type": "code",
   "execution_count": 57,
   "id": "95fe53c0-62e6-4442-8f7f-367b9558d2ea",
   "metadata": {
    "tags": []
   },
   "outputs": [
    {
     "data": {
      "image/svg+xml": [
       "<?xml version=\"1.0\" encoding=\"utf-8\"?>\n",
       "<svg xmlns=\"http://www.w3.org/2000/svg\" xmlns:xlink=\"http://www.w3.org/1999/xlink\" width=\"500\" height=\"500\" viewBox=\"0 0 2000 2000\">\n",
       "<defs>\n",
       "  <clipPath id=\"clip220\">\n",
       "    <rect x=\"0\" y=\"0\" width=\"2000\" height=\"2000\"/>\n",
       "  </clipPath>\n",
       "</defs>\n",
       "<path clip-path=\"url(#clip220)\" d=\"M0 2000 L2000 2000 L2000 0 L0 0  Z\" fill=\"#ffffff\" fill-rule=\"evenodd\" fill-opacity=\"1\"/>\n",
       "<defs>\n",
       "  <clipPath id=\"clip221\">\n",
       "    <rect x=\"400\" y=\"200\" width=\"1401\" height=\"1401\"/>\n",
       "  </clipPath>\n",
       "</defs>\n",
       "<path clip-path=\"url(#clip220)\" d=\"M182.274 1865.17 L1952.76 1865.17 L1952.76 47.2441 L182.274 47.2441  Z\" fill=\"#ffffff\" fill-rule=\"evenodd\" fill-opacity=\"1\"/>\n",
       "<defs>\n",
       "  <clipPath id=\"clip222\">\n",
       "    <rect x=\"182\" y=\"47\" width=\"1771\" height=\"1819\"/>\n",
       "  </clipPath>\n",
       "</defs>\n",
       "<circle clip-path=\"url(#clip222)\" cx=\"1238.43\" cy=\"841.157\" r=\"21.6\" fill=\"#ff0000\" fill-rule=\"evenodd\" fill-opacity=\"1\" stroke=\"#000000\" stroke-opacity=\"1\" stroke-width=\"4\"/>\n",
       "<circle clip-path=\"url(#clip222)\" cx=\"1699.83\" cy=\"1605.46\" r=\"21.6\" fill=\"#ff0000\" fill-rule=\"evenodd\" fill-opacity=\"1\" stroke=\"#000000\" stroke-opacity=\"1\" stroke-width=\"4\"/>\n",
       "<circle clip-path=\"url(#clip222)\" cx=\"489.45\" cy=\"487.943\" r=\"21.6\" fill=\"#ff0000\" fill-rule=\"evenodd\" fill-opacity=\"1\" stroke=\"#000000\" stroke-opacity=\"1\" stroke-width=\"4\"/>\n",
       "<circle clip-path=\"url(#clip222)\" cx=\"882.569\" cy=\"306.947\" r=\"21.6\" fill=\"#0000ff\" fill-rule=\"evenodd\" fill-opacity=\"1\" stroke=\"#000000\" stroke-opacity=\"1\" stroke-width=\"4\"/>\n",
       "<circle clip-path=\"url(#clip222)\" cx=\"1539.4\" cy=\"1343.58\" r=\"21.6\" fill=\"#0000ff\" fill-rule=\"evenodd\" fill-opacity=\"1\" stroke=\"#000000\" stroke-opacity=\"1\" stroke-width=\"4\"/>\n",
       "<circle clip-path=\"url(#clip222)\" cx=\"435.2\" cy=\"1443.51\" r=\"21.6\" fill=\"#0000ff\" fill-rule=\"evenodd\" fill-opacity=\"1\" stroke=\"#000000\" stroke-opacity=\"1\" stroke-width=\"4\"/>\n",
       "<circle clip-path=\"url(#clip222)\" cx=\"1432.52\" cy=\"1550.44\" r=\"21.6\" fill=\"#0000ff\" fill-rule=\"evenodd\" fill-opacity=\"1\" stroke=\"#000000\" stroke-opacity=\"1\" stroke-width=\"4\"/>\n",
       "<polyline clip-path=\"url(#clip222)\" style=\"stroke:#808080; stroke-linecap:round; stroke-linejoin:round; stroke-width:4; stroke-opacity:0.3; fill:none\" points=\"254.349,3683.09 254.349,-1770.68 \"/>\n",
       "<polyline clip-path=\"url(#clip222)\" style=\"stroke:#808080; stroke-linecap:round; stroke-linejoin:round; stroke-width:4; stroke-opacity:0.3; fill:none\" points=\"462.325,3683.09 462.325,-1770.68 \"/>\n",
       "<polyline clip-path=\"url(#clip222)\" style=\"stroke:#808080; stroke-linecap:round; stroke-linejoin:round; stroke-width:4; stroke-opacity:0.3; fill:none\" points=\"686.009,3683.09 686.009,-1770.68 \"/>\n",
       "<polyline clip-path=\"url(#clip222)\" style=\"stroke:#808080; stroke-linecap:round; stroke-linejoin:round; stroke-width:4; stroke-opacity:0.3; fill:none\" points=\"1060.5,3683.09 1060.5,-1770.68 \"/>\n",
       "<polyline clip-path=\"url(#clip222)\" style=\"stroke:#808080; stroke-linecap:round; stroke-linejoin:round; stroke-width:4; stroke-opacity:0.3; fill:none\" points=\"1335.47,3683.09 1335.47,-1770.68 \"/>\n",
       "<polyline clip-path=\"url(#clip222)\" style=\"stroke:#808080; stroke-linecap:round; stroke-linejoin:round; stroke-width:4; stroke-opacity:0.3; fill:none\" points=\"1485.96,3683.09 1485.96,-1770.68 \"/>\n",
       "<polyline clip-path=\"url(#clip222)\" style=\"stroke:#808080; stroke-linecap:round; stroke-linejoin:round; stroke-width:4; stroke-opacity:0.3; fill:none\" points=\"1619.62,3683.09 1619.62,-1770.68 \"/>\n",
       "<polyline clip-path=\"url(#clip222)\" style=\"stroke:#808080; stroke-linecap:round; stroke-linejoin:round; stroke-width:4; stroke-opacity:0.3; fill:none\" points=\"1880.68,3683.09 1880.68,-1770.68 \"/>\n",
       "<polyline clip-path=\"url(#clip222)\" style=\"stroke:#808080; stroke-linecap:round; stroke-linejoin:round; stroke-width:4; stroke-opacity:0.3; fill:none\" points=\"-1588.21,1786.58 3723.24,1786.58 \"/>\n",
       "<polyline clip-path=\"url(#clip222)\" style=\"stroke:#808080; stroke-linecap:round; stroke-linejoin:round; stroke-width:4; stroke-opacity:0.3; fill:none\" points=\"-1588.21,1577.95 3723.24,1577.95 \"/>\n",
       "<polyline clip-path=\"url(#clip222)\" style=\"stroke:#808080; stroke-linecap:round; stroke-linejoin:round; stroke-width:4; stroke-opacity:0.3; fill:none\" points=\"-1588.21,1496.98 3723.24,1496.98 \"/>\n",
       "<polyline clip-path=\"url(#clip222)\" style=\"stroke:#808080; stroke-linecap:round; stroke-linejoin:round; stroke-width:4; stroke-opacity:0.3; fill:none\" points=\"-1588.21,1393.55 3723.24,1393.55 \"/>\n",
       "<polyline clip-path=\"url(#clip222)\" style=\"stroke:#808080; stroke-linecap:round; stroke-linejoin:round; stroke-width:4; stroke-opacity:0.3; fill:none\" points=\"-1588.21,1092.37 3723.24,1092.37 \"/>\n",
       "<polyline clip-path=\"url(#clip222)\" style=\"stroke:#808080; stroke-linecap:round; stroke-linejoin:round; stroke-width:4; stroke-opacity:0.3; fill:none\" points=\"-1588.21,664.55 3723.24,664.55 \"/>\n",
       "<polyline clip-path=\"url(#clip222)\" style=\"stroke:#808080; stroke-linecap:round; stroke-linejoin:round; stroke-width:4; stroke-opacity:0.3; fill:none\" points=\"-1588.21,397.445 3723.24,397.445 \"/>\n",
       "<polyline clip-path=\"url(#clip222)\" style=\"stroke:#808080; stroke-linecap:round; stroke-linejoin:round; stroke-width:4; stroke-opacity:0.3; fill:none\" points=\"-1588.21,125.833 3723.24,125.833 \"/>\n",
       "</svg>\n"
      ]
     },
     "execution_count": 57,
     "metadata": {},
     "output_type": "execute_result"
    }
   ],
   "source": [
    "rng = MersenneTwister(1000)\n",
    "n = 7\n",
    "S = rand(rng,n,2)\n",
    "half = n ÷ 2\n",
    "w = shuffle(rng,[ones(Int,half)...,-ones(Int,n-half)...])\n",
    "\n",
    "fig = plot_rb_points(S,w)\n",
    "plot_add_lines!(fig, S)"
   ]
  },
  {
   "cell_type": "code",
   "execution_count": 4,
   "id": "e062a78d-b1d0-4225-a305-b1b07963913d",
   "metadata": {
    "tags": []
   },
   "outputs": [
    {
     "data": {
      "text/plain": [
       "7×4 Matrix{Any}:\n",
       " 1  0.61  0.58  'r'\n",
       " 2  0.92  0.05  'r'\n",
       " 3  0.36  0.96  'b'\n",
       " 4  0.81  0.23  'b'\n",
       " 5  0.06  0.16  'b'\n",
       " 6  0.74  0.09  'b'\n",
       " 7  0.1   0.83  'r'"
      ]
     },
     "metadata": {},
     "output_type": "display_data"
    },
    {
     "name": "stdout",
     "output_type": "stream",
     "text": [
      "\n",
      "p = 3, q = 2, i = 4, j = 5\n",
      "--------------------------\n",
      "                      1  2  3  4  5  6  7  8    midpoint index\n",
      "sortperm_x          = [5, 7, 3, 1, 6, 4, 2]\n",
      "sortperm_x[p:p+i-1] = [3, 1, 6, 4]\n",
      "\n",
      "                      1  2  3  4  5  6  7  8    midpoint index\n",
      "sortperm_y          = [2, 6, 5, 4, 1, 7, 3]\n",
      "sortperm_y[q:q+j-1] = [6, 5, 4, 1, 7]\n",
      "\n",
      "intersection = [1, 6, 4]\n",
      "\n",
      "     1  2   3   4   5   6  7    point index\n",
      "w = [1, 1, -1, -1, -1, -1, 1]\n",
      "\n",
      "Disc_pqij  = abs(sum(w[intersection])) = 1\n",
      "Count_pqij = length(intersection)      = 3\n"
     ]
    },
    {
     "data": {
      "image/svg+xml": [
       "<?xml version=\"1.0\" encoding=\"utf-8\"?>\n",
       "<svg xmlns=\"http://www.w3.org/2000/svg\" xmlns:xlink=\"http://www.w3.org/1999/xlink\" width=\"500\" height=\"500\" viewBox=\"0 0 2000 2000\">\n",
       "<defs>\n",
       "  <clipPath id=\"clip260\">\n",
       "    <rect x=\"0\" y=\"0\" width=\"2000\" height=\"2000\"/>\n",
       "  </clipPath>\n",
       "</defs>\n",
       "<path clip-path=\"url(#clip260)\" d=\"M0 2000 L2000 2000 L2000 0 L0 0  Z\" fill=\"#ffffff\" fill-rule=\"evenodd\" fill-opacity=\"1\"/>\n",
       "<defs>\n",
       "  <clipPath id=\"clip261\">\n",
       "    <rect x=\"400\" y=\"200\" width=\"1401\" height=\"1401\"/>\n",
       "  </clipPath>\n",
       "</defs>\n",
       "<path clip-path=\"url(#clip260)\" d=\"M182.274 1865.17 L1952.76 1865.17 L1952.76 47.2441 L182.274 47.2441  Z\" fill=\"#ffffff\" fill-rule=\"evenodd\" fill-opacity=\"1\"/>\n",
       "<defs>\n",
       "  <clipPath id=\"clip262\">\n",
       "    <rect x=\"182\" y=\"47\" width=\"1771\" height=\"1819\"/>\n",
       "  </clipPath>\n",
       "</defs>\n",
       "<circle clip-path=\"url(#clip262)\" cx=\"1238.43\" cy=\"841.157\" r=\"21.6\" fill=\"#ff0000\" fill-rule=\"evenodd\" fill-opacity=\"1\" stroke=\"#000000\" stroke-opacity=\"1\" stroke-width=\"4\"/>\n",
       "<circle clip-path=\"url(#clip262)\" cx=\"1699.83\" cy=\"1605.46\" r=\"21.6\" fill=\"#ff0000\" fill-rule=\"evenodd\" fill-opacity=\"1\" stroke=\"#000000\" stroke-opacity=\"1\" stroke-width=\"4\"/>\n",
       "<circle clip-path=\"url(#clip262)\" cx=\"489.45\" cy=\"487.943\" r=\"21.6\" fill=\"#ff0000\" fill-rule=\"evenodd\" fill-opacity=\"1\" stroke=\"#000000\" stroke-opacity=\"1\" stroke-width=\"4\"/>\n",
       "<circle clip-path=\"url(#clip262)\" cx=\"882.569\" cy=\"306.947\" r=\"21.6\" fill=\"#0000ff\" fill-rule=\"evenodd\" fill-opacity=\"1\" stroke=\"#000000\" stroke-opacity=\"1\" stroke-width=\"4\"/>\n",
       "<circle clip-path=\"url(#clip262)\" cx=\"1539.4\" cy=\"1343.58\" r=\"21.6\" fill=\"#0000ff\" fill-rule=\"evenodd\" fill-opacity=\"1\" stroke=\"#000000\" stroke-opacity=\"1\" stroke-width=\"4\"/>\n",
       "<circle clip-path=\"url(#clip262)\" cx=\"435.2\" cy=\"1443.51\" r=\"21.6\" fill=\"#0000ff\" fill-rule=\"evenodd\" fill-opacity=\"1\" stroke=\"#000000\" stroke-opacity=\"1\" stroke-width=\"4\"/>\n",
       "<circle clip-path=\"url(#clip262)\" cx=\"1432.52\" cy=\"1550.44\" r=\"21.6\" fill=\"#0000ff\" fill-rule=\"evenodd\" fill-opacity=\"1\" stroke=\"#000000\" stroke-opacity=\"1\" stroke-width=\"4\"/>\n",
       "<polyline clip-path=\"url(#clip262)\" style=\"stroke:#808080; stroke-linecap:round; stroke-linejoin:round; stroke-width:4; stroke-opacity:0.3; fill:none\" points=\"254.349,3683.09 254.349,-1770.68 \"/>\n",
       "<polyline clip-path=\"url(#clip262)\" style=\"stroke:#808080; stroke-linecap:round; stroke-linejoin:round; stroke-width:4; stroke-opacity:0.3; fill:none\" points=\"462.325,3683.09 462.325,-1770.68 \"/>\n",
       "<polyline clip-path=\"url(#clip262)\" style=\"stroke:#808080; stroke-linecap:round; stroke-linejoin:round; stroke-width:4; stroke-opacity:0.3; fill:none\" points=\"686.009,3683.09 686.009,-1770.68 \"/>\n",
       "<polyline clip-path=\"url(#clip262)\" style=\"stroke:#808080; stroke-linecap:round; stroke-linejoin:round; stroke-width:4; stroke-opacity:0.3; fill:none\" points=\"1060.5,3683.09 1060.5,-1770.68 \"/>\n",
       "<polyline clip-path=\"url(#clip262)\" style=\"stroke:#808080; stroke-linecap:round; stroke-linejoin:round; stroke-width:4; stroke-opacity:0.3; fill:none\" points=\"1335.47,3683.09 1335.47,-1770.68 \"/>\n",
       "<polyline clip-path=\"url(#clip262)\" style=\"stroke:#808080; stroke-linecap:round; stroke-linejoin:round; stroke-width:4; stroke-opacity:0.3; fill:none\" points=\"1485.96,3683.09 1485.96,-1770.68 \"/>\n",
       "<polyline clip-path=\"url(#clip262)\" style=\"stroke:#808080; stroke-linecap:round; stroke-linejoin:round; stroke-width:4; stroke-opacity:0.3; fill:none\" points=\"1619.62,3683.09 1619.62,-1770.68 \"/>\n",
       "<polyline clip-path=\"url(#clip262)\" style=\"stroke:#808080; stroke-linecap:round; stroke-linejoin:round; stroke-width:4; stroke-opacity:0.3; fill:none\" points=\"1880.68,3683.09 1880.68,-1770.68 \"/>\n",
       "<polyline clip-path=\"url(#clip262)\" style=\"stroke:#808080; stroke-linecap:round; stroke-linejoin:round; stroke-width:4; stroke-opacity:0.3; fill:none\" points=\"-1588.21,1786.58 3723.24,1786.58 \"/>\n",
       "<polyline clip-path=\"url(#clip262)\" style=\"stroke:#808080; stroke-linecap:round; stroke-linejoin:round; stroke-width:4; stroke-opacity:0.3; fill:none\" points=\"-1588.21,1577.95 3723.24,1577.95 \"/>\n",
       "<polyline clip-path=\"url(#clip262)\" style=\"stroke:#808080; stroke-linecap:round; stroke-linejoin:round; stroke-width:4; stroke-opacity:0.3; fill:none\" points=\"-1588.21,1496.98 3723.24,1496.98 \"/>\n",
       "<polyline clip-path=\"url(#clip262)\" style=\"stroke:#808080; stroke-linecap:round; stroke-linejoin:round; stroke-width:4; stroke-opacity:0.3; fill:none\" points=\"-1588.21,1393.55 3723.24,1393.55 \"/>\n",
       "<polyline clip-path=\"url(#clip262)\" style=\"stroke:#808080; stroke-linecap:round; stroke-linejoin:round; stroke-width:4; stroke-opacity:0.3; fill:none\" points=\"-1588.21,1092.37 3723.24,1092.37 \"/>\n",
       "<polyline clip-path=\"url(#clip262)\" style=\"stroke:#808080; stroke-linecap:round; stroke-linejoin:round; stroke-width:4; stroke-opacity:0.3; fill:none\" points=\"-1588.21,664.55 3723.24,664.55 \"/>\n",
       "<polyline clip-path=\"url(#clip262)\" style=\"stroke:#808080; stroke-linecap:round; stroke-linejoin:round; stroke-width:4; stroke-opacity:0.3; fill:none\" points=\"-1588.21,397.445 3723.24,397.445 \"/>\n",
       "<polyline clip-path=\"url(#clip262)\" style=\"stroke:#808080; stroke-linecap:round; stroke-linejoin:round; stroke-width:4; stroke-opacity:0.3; fill:none\" points=\"-1588.21,125.833 3723.24,125.833 \"/>\n",
       "<path clip-path=\"url(#clip262)\" d=\"M686.009 1577.95 L686.009 397.445 L1619.62 397.445 L1619.62 1577.95 L686.009 1577.95  Z\" fill=\"#808080\" fill-rule=\"evenodd\" fill-opacity=\"0.2\"/>\n",
       "<polyline clip-path=\"url(#clip262)\" style=\"stroke:#000000; stroke-linecap:round; stroke-linejoin:round; stroke-width:4; stroke-opacity:0.2; fill:none\" points=\"686.009,1577.95 686.009,397.445 1619.62,397.445 1619.62,1577.95 686.009,1577.95 \"/>\n",
       "</svg>\n"
      ]
     },
     "execution_count": 4,
     "metadata": {},
     "output_type": "execute_result"
    }
   ],
   "source": [
    "p = 3\n",
    "q = 2\n",
    "i = 4\n",
    "j = 5\n",
    "\n",
    "fig = print_S_info(S,p,q,i,j)\n",
    "savefig(fig,\"figs/box$p$q$i$j.svg\")\n",
    "fig"
   ]
  },
  {
   "cell_type": "code",
   "execution_count": 10,
   "id": "bdeac490-65ef-4274-b155-58624ad2c950",
   "metadata": {
    "tags": []
   },
   "outputs": [
    {
     "data": {
      "image/svg+xml": [
       "<?xml version=\"1.0\" encoding=\"utf-8\"?>\n",
       "<svg xmlns=\"http://www.w3.org/2000/svg\" xmlns:xlink=\"http://www.w3.org/1999/xlink\" width=\"500\" height=\"500\" viewBox=\"0 0 2000 2000\">\n",
       "<defs>\n",
       "  <clipPath id=\"clip500\">\n",
       "    <rect x=\"0\" y=\"0\" width=\"2000\" height=\"2000\"/>\n",
       "  </clipPath>\n",
       "</defs>\n",
       "<path clip-path=\"url(#clip500)\" d=\"M0 2000 L2000 2000 L2000 0 L0 0  Z\" fill=\"#ffffff\" fill-rule=\"evenodd\" fill-opacity=\"1\"/>\n",
       "<defs>\n",
       "  <clipPath id=\"clip501\">\n",
       "    <rect x=\"400\" y=\"200\" width=\"1401\" height=\"1401\"/>\n",
       "  </clipPath>\n",
       "</defs>\n",
       "<path clip-path=\"url(#clip500)\" d=\"M182.274 1865.17 L1952.76 1865.17 L1952.76 47.2441 L182.274 47.2441  Z\" fill=\"#ffffff\" fill-rule=\"evenodd\" fill-opacity=\"1\"/>\n",
       "<defs>\n",
       "  <clipPath id=\"clip502\">\n",
       "    <rect x=\"182\" y=\"47\" width=\"1771\" height=\"1819\"/>\n",
       "  </clipPath>\n",
       "</defs>\n",
       "<circle clip-path=\"url(#clip502)\" cx=\"947.565\" cy=\"841.157\" r=\"21.6\" fill=\"#ff0000\" fill-rule=\"evenodd\" fill-opacity=\"1\" stroke=\"#000000\" stroke-opacity=\"1\" stroke-width=\"4\"/>\n",
       "<circle clip-path=\"url(#clip502)\" cx=\"947.565\" cy=\"1605.46\" r=\"21.6\" fill=\"#ff0000\" fill-rule=\"evenodd\" fill-opacity=\"1\" stroke=\"#000000\" stroke-opacity=\"1\" stroke-width=\"4\"/>\n",
       "<circle clip-path=\"url(#clip502)\" cx=\"497.332\" cy=\"487.943\" r=\"21.6\" fill=\"#ff0000\" fill-rule=\"evenodd\" fill-opacity=\"1\" stroke=\"#000000\" stroke-opacity=\"1\" stroke-width=\"4\"/>\n",
       "<circle clip-path=\"url(#clip502)\" cx=\"947.565\" cy=\"306.947\" r=\"21.6\" fill=\"#0000ff\" fill-rule=\"evenodd\" fill-opacity=\"1\" stroke=\"#000000\" stroke-opacity=\"1\" stroke-width=\"4\"/>\n",
       "<circle clip-path=\"url(#clip502)\" cx=\"1699.83\" cy=\"1443.51\" r=\"21.6\" fill=\"#0000ff\" fill-rule=\"evenodd\" fill-opacity=\"1\" stroke=\"#000000\" stroke-opacity=\"1\" stroke-width=\"4\"/>\n",
       "<circle clip-path=\"url(#clip502)\" cx=\"435.2\" cy=\"1443.51\" r=\"21.6\" fill=\"#0000ff\" fill-rule=\"evenodd\" fill-opacity=\"1\" stroke=\"#000000\" stroke-opacity=\"1\" stroke-width=\"4\"/>\n",
       "<circle clip-path=\"url(#clip502)\" cx=\"1577.42\" cy=\"1550.44\" r=\"21.6\" fill=\"#0000ff\" fill-rule=\"evenodd\" fill-opacity=\"1\" stroke=\"#000000\" stroke-opacity=\"1\" stroke-width=\"4\"/>\n",
       "<polyline clip-path=\"url(#clip502)\" style=\"stroke:#808080; stroke-linecap:round; stroke-linejoin:round; stroke-width:4; stroke-opacity:0.3; fill:none\" points=\"189.654,3683.09 189.654,-1770.68 \"/>\n",
       "<polyline clip-path=\"url(#clip502)\" style=\"stroke:#808080; stroke-linecap:round; stroke-linejoin:round; stroke-width:4; stroke-opacity:0.3; fill:none\" points=\"466.266,3683.09 466.266,-1770.68 \"/>\n",
       "<polyline clip-path=\"url(#clip502)\" style=\"stroke:#808080; stroke-linecap:round; stroke-linejoin:round; stroke-width:4; stroke-opacity:0.3; fill:none\" points=\"722.448,3683.09 722.448,-1770.68 \"/>\n",
       "<polyline clip-path=\"url(#clip502)\" style=\"stroke:#808080; stroke-linecap:round; stroke-linejoin:round; stroke-width:4; stroke-opacity:0.3; fill:none\" points=\"1262.49,3683.09 1262.49,-1770.68 \"/>\n",
       "<polyline clip-path=\"url(#clip502)\" style=\"stroke:#808080; stroke-linecap:round; stroke-linejoin:round; stroke-width:4; stroke-opacity:0.3; fill:none\" points=\"1638.62,3683.09 1638.62,-1770.68 \"/>\n",
       "<polyline clip-path=\"url(#clip502)\" style=\"stroke:#808080; stroke-linecap:round; stroke-linejoin:round; stroke-width:4; stroke-opacity:0.3; fill:none\" points=\"1945.38,3683.09 1945.38,-1770.68 \"/>\n",
       "<polyline clip-path=\"url(#clip502)\" style=\"stroke:#808080; stroke-linecap:round; stroke-linejoin:round; stroke-width:4; stroke-opacity:0.3; fill:none\" points=\"-1588.21,1812.45 3723.24,1812.45 \"/>\n",
       "<polyline clip-path=\"url(#clip502)\" style=\"stroke:#808080; stroke-linecap:round; stroke-linejoin:round; stroke-width:4; stroke-opacity:0.3; fill:none\" points=\"-1588.21,1577.95 3723.24,1577.95 \"/>\n",
       "<polyline clip-path=\"url(#clip502)\" style=\"stroke:#808080; stroke-linecap:round; stroke-linejoin:round; stroke-width:4; stroke-opacity:0.3; fill:none\" points=\"-1588.21,1496.98 3723.24,1496.98 \"/>\n",
       "<polyline clip-path=\"url(#clip502)\" style=\"stroke:#808080; stroke-linecap:round; stroke-linejoin:round; stroke-width:4; stroke-opacity:0.3; fill:none\" points=\"-1588.21,1142.34 3723.24,1142.34 \"/>\n",
       "<polyline clip-path=\"url(#clip502)\" style=\"stroke:#808080; stroke-linecap:round; stroke-linejoin:round; stroke-width:4; stroke-opacity:0.3; fill:none\" points=\"-1588.21,664.55 3723.24,664.55 \"/>\n",
       "<polyline clip-path=\"url(#clip502)\" style=\"stroke:#808080; stroke-linecap:round; stroke-linejoin:round; stroke-width:4; stroke-opacity:0.3; fill:none\" points=\"-1588.21,397.445 3723.24,397.445 \"/>\n",
       "<polyline clip-path=\"url(#clip502)\" style=\"stroke:#808080; stroke-linecap:round; stroke-linejoin:round; stroke-width:4; stroke-opacity:0.3; fill:none\" points=\"-1588.21,99.9592 3723.24,99.9592 \"/>\n",
       "</svg>\n"
      ]
     },
     "execution_count": 10,
     "metadata": {},
     "output_type": "execute_result"
    }
   ],
   "source": [
    "# Ejemplo con lineas perdidas\n",
    "rng = MersenneTwister(1000)\n",
    "n = 7\n",
    "S = rand(rng,n,2)\n",
    "half = n ÷ 2\n",
    "w = shuffle(rng,[ones(Int,half)...,-ones(Int,n-half)...])\n",
    "\n",
    "\n",
    "S[1,1] = S[3,1]\n",
    "S[2,1] = S[3,1]\n",
    "\n",
    "S[4,2] = S[5,2]\n",
    "\n",
    "fig = plot_rb_points(S,w)\n",
    "plot_add_lines!(fig, S)"
   ]
  },
  {
   "cell_type": "code",
   "execution_count": 41,
   "id": "e7a4d873-5c9b-4f36-8e00-2c1b5204ffe4",
   "metadata": {
    "tags": []
   },
   "outputs": [
    {
     "name": "stdout",
     "output_type": "stream",
     "text": [
      "C[1,1,n,n]=3\n"
     ]
    },
    {
     "data": {
      "image/svg+xml": [
       "<?xml version=\"1.0\" encoding=\"utf-8\"?>\n",
       "<svg xmlns=\"http://www.w3.org/2000/svg\" xmlns:xlink=\"http://www.w3.org/1999/xlink\" width=\"500\" height=\"500\" viewBox=\"0 0 2000 2000\">\n",
       "<defs>\n",
       "  <clipPath id=\"clip740\">\n",
       "    <rect x=\"0\" y=\"0\" width=\"2000\" height=\"2000\"/>\n",
       "  </clipPath>\n",
       "</defs>\n",
       "<path clip-path=\"url(#clip740)\" d=\"M0 2000 L2000 2000 L2000 0 L0 0  Z\" fill=\"#ffffff\" fill-rule=\"evenodd\" fill-opacity=\"1\"/>\n",
       "<defs>\n",
       "  <clipPath id=\"clip741\">\n",
       "    <rect x=\"400\" y=\"200\" width=\"1401\" height=\"1401\"/>\n",
       "  </clipPath>\n",
       "</defs>\n",
       "<path clip-path=\"url(#clip740)\" d=\"M182.274 1865.17 L1952.76 1865.17 L1952.76 47.2441 L182.274 47.2441  Z\" fill=\"#ffffff\" fill-rule=\"evenodd\" fill-opacity=\"1\"/>\n",
       "<defs>\n",
       "  <clipPath id=\"clip742\">\n",
       "    <rect x=\"182\" y=\"47\" width=\"1771\" height=\"1819\"/>\n",
       "  </clipPath>\n",
       "</defs>\n",
       "<circle clip-path=\"url(#clip742)\" cx=\"1209.28\" cy=\"306.947\" r=\"21.6\" fill=\"#ff0000\" fill-rule=\"evenodd\" fill-opacity=\"1\" stroke=\"#000000\" stroke-opacity=\"1\" stroke-width=\"4\"/>\n",
       "<circle clip-path=\"url(#clip742)\" cx=\"1494.45\" cy=\"402.539\" r=\"21.6\" fill=\"#ff0000\" fill-rule=\"evenodd\" fill-opacity=\"1\" stroke=\"#000000\" stroke-opacity=\"1\" stroke-width=\"4\"/>\n",
       "<circle clip-path=\"url(#clip742)\" cx=\"1179.56\" cy=\"1015.52\" r=\"21.6\" fill=\"#ff0000\" fill-rule=\"evenodd\" fill-opacity=\"1\" stroke=\"#000000\" stroke-opacity=\"1\" stroke-width=\"4\"/>\n",
       "<circle clip-path=\"url(#clip742)\" cx=\"1699.83\" cy=\"925.245\" r=\"21.6\" fill=\"#ff0000\" fill-rule=\"evenodd\" fill-opacity=\"1\" stroke=\"#000000\" stroke-opacity=\"1\" stroke-width=\"4\"/>\n",
       "<circle clip-path=\"url(#clip742)\" cx=\"690.248\" cy=\"523.976\" r=\"21.6\" fill=\"#ff0000\" fill-rule=\"evenodd\" fill-opacity=\"1\" stroke=\"#000000\" stroke-opacity=\"1\" stroke-width=\"4\"/>\n",
       "<circle clip-path=\"url(#clip742)\" cx=\"488.79\" cy=\"1412.77\" r=\"21.6\" fill=\"#ff0000\" fill-rule=\"evenodd\" fill-opacity=\"1\" stroke=\"#000000\" stroke-opacity=\"1\" stroke-width=\"4\"/>\n",
       "<circle clip-path=\"url(#clip742)\" cx=\"1523.56\" cy=\"1605.46\" r=\"21.6\" fill=\"#ff0000\" fill-rule=\"evenodd\" fill-opacity=\"1\" stroke=\"#000000\" stroke-opacity=\"1\" stroke-width=\"4\"/>\n",
       "<circle clip-path=\"url(#clip742)\" cx=\"1061.71\" cy=\"937.228\" r=\"21.6\" fill=\"#ff0000\" fill-rule=\"evenodd\" fill-opacity=\"1\" stroke=\"#000000\" stroke-opacity=\"1\" stroke-width=\"4\"/>\n",
       "<circle clip-path=\"url(#clip742)\" cx=\"1646.44\" cy=\"1566.72\" r=\"21.6\" fill=\"#0000ff\" fill-rule=\"evenodd\" fill-opacity=\"1\" stroke=\"#000000\" stroke-opacity=\"1\" stroke-width=\"4\"/>\n",
       "<circle clip-path=\"url(#clip742)\" cx=\"872.125\" cy=\"1342.52\" r=\"21.6\" fill=\"#0000ff\" fill-rule=\"evenodd\" fill-opacity=\"1\" stroke=\"#000000\" stroke-opacity=\"1\" stroke-width=\"4\"/>\n",
       "<circle clip-path=\"url(#clip742)\" cx=\"448.264\" cy=\"853.038\" r=\"21.6\" fill=\"#0000ff\" fill-rule=\"evenodd\" fill-opacity=\"1\" stroke=\"#000000\" stroke-opacity=\"1\" stroke-width=\"4\"/>\n",
       "<circle clip-path=\"url(#clip742)\" cx=\"1393.18\" cy=\"557.799\" r=\"21.6\" fill=\"#0000ff\" fill-rule=\"evenodd\" fill-opacity=\"1\" stroke=\"#000000\" stroke-opacity=\"1\" stroke-width=\"4\"/>\n",
       "<circle clip-path=\"url(#clip742)\" cx=\"499.663\" cy=\"515.864\" r=\"21.6\" fill=\"#0000ff\" fill-rule=\"evenodd\" fill-opacity=\"1\" stroke=\"#000000\" stroke-opacity=\"1\" stroke-width=\"4\"/>\n",
       "<circle clip-path=\"url(#clip742)\" cx=\"435.2\" cy=\"1408.98\" r=\"21.6\" fill=\"#0000ff\" fill-rule=\"evenodd\" fill-opacity=\"1\" stroke=\"#000000\" stroke-opacity=\"1\" stroke-width=\"4\"/>\n",
       "<circle clip-path=\"url(#clip742)\" cx=\"592.925\" cy=\"375.663\" r=\"21.6\" fill=\"#0000ff\" fill-rule=\"evenodd\" fill-opacity=\"1\" stroke=\"#000000\" stroke-opacity=\"1\" stroke-width=\"4\"/>\n",
       "<circle clip-path=\"url(#clip742)\" cx=\"1655.96\" cy=\"1520.59\" r=\"21.6\" fill=\"#0000ff\" fill-rule=\"evenodd\" fill-opacity=\"1\" stroke=\"#000000\" stroke-opacity=\"1\" stroke-width=\"4\"/>\n",
       "<circle clip-path=\"url(#clip742)\" cx=\"1074.41\" cy=\"1175.34\" r=\"21.6\" fill=\"#0000ff\" fill-rule=\"evenodd\" fill-opacity=\"1\" stroke=\"#000000\" stroke-opacity=\"1\" stroke-width=\"4\"/>\n",
       "<polyline clip-path=\"url(#clip742)\" style=\"stroke:#808080; stroke-linecap:round; stroke-linejoin:round; stroke-width:4; stroke-opacity:0.3; fill:none\" points=\"356.805,3683.09 356.805,-1770.68 \"/>\n",
       "<polyline clip-path=\"url(#clip742)\" style=\"stroke:#808080; stroke-linecap:round; stroke-linejoin:round; stroke-width:4; stroke-opacity:0.3; fill:none\" points=\"441.732,3683.09 441.732,-1770.68 \"/>\n",
       "<polyline clip-path=\"url(#clip742)\" style=\"stroke:#808080; stroke-linecap:round; stroke-linejoin:round; stroke-width:4; stroke-opacity:0.3; fill:none\" points=\"468.527,3683.09 468.527,-1770.68 \"/>\n",
       "<polyline clip-path=\"url(#clip742)\" style=\"stroke:#808080; stroke-linecap:round; stroke-linejoin:round; stroke-width:4; stroke-opacity:0.3; fill:none\" points=\"494.227,3683.09 494.227,-1770.68 \"/>\n",
       "<polyline clip-path=\"url(#clip742)\" style=\"stroke:#808080; stroke-linecap:round; stroke-linejoin:round; stroke-width:4; stroke-opacity:0.3; fill:none\" points=\"546.294,3683.09 546.294,-1770.68 \"/>\n",
       "<polyline clip-path=\"url(#clip742)\" style=\"stroke:#808080; stroke-linecap:round; stroke-linejoin:round; stroke-width:4; stroke-opacity:0.3; fill:none\" points=\"641.586,3683.09 641.586,-1770.68 \"/>\n",
       "<polyline clip-path=\"url(#clip742)\" style=\"stroke:#808080; stroke-linecap:round; stroke-linejoin:round; stroke-width:4; stroke-opacity:0.3; fill:none\" points=\"781.187,3683.09 781.187,-1770.68 \"/>\n",
       "<polyline clip-path=\"url(#clip742)\" style=\"stroke:#808080; stroke-linecap:round; stroke-linejoin:round; stroke-width:4; stroke-opacity:0.3; fill:none\" points=\"966.916,3683.09 966.916,-1770.68 \"/>\n",
       "<polyline clip-path=\"url(#clip742)\" style=\"stroke:#808080; stroke-linecap:round; stroke-linejoin:round; stroke-width:4; stroke-opacity:0.3; fill:none\" points=\"1068.06,3683.09 1068.06,-1770.68 \"/>\n",
       "<polyline clip-path=\"url(#clip742)\" style=\"stroke:#808080; stroke-linecap:round; stroke-linejoin:round; stroke-width:4; stroke-opacity:0.3; fill:none\" points=\"1126.98,3683.09 1126.98,-1770.68 \"/>\n",
       "<polyline clip-path=\"url(#clip742)\" style=\"stroke:#808080; stroke-linecap:round; stroke-linejoin:round; stroke-width:4; stroke-opacity:0.3; fill:none\" points=\"1194.42,3683.09 1194.42,-1770.68 \"/>\n",
       "<polyline clip-path=\"url(#clip742)\" style=\"stroke:#808080; stroke-linecap:round; stroke-linejoin:round; stroke-width:4; stroke-opacity:0.3; fill:none\" points=\"1301.23,3683.09 1301.23,-1770.68 \"/>\n",
       "<polyline clip-path=\"url(#clip742)\" style=\"stroke:#808080; stroke-linecap:round; stroke-linejoin:round; stroke-width:4; stroke-opacity:0.3; fill:none\" points=\"1443.81,3683.09 1443.81,-1770.68 \"/>\n",
       "<polyline clip-path=\"url(#clip742)\" style=\"stroke:#808080; stroke-linecap:round; stroke-linejoin:round; stroke-width:4; stroke-opacity:0.3; fill:none\" points=\"1509,3683.09 1509,-1770.68 \"/>\n",
       "<polyline clip-path=\"url(#clip742)\" style=\"stroke:#808080; stroke-linecap:round; stroke-linejoin:round; stroke-width:4; stroke-opacity:0.3; fill:none\" points=\"1585,3683.09 1585,-1770.68 \"/>\n",
       "<polyline clip-path=\"url(#clip742)\" style=\"stroke:#808080; stroke-linecap:round; stroke-linejoin:round; stroke-width:4; stroke-opacity:0.3; fill:none\" points=\"1651.2,3683.09 1651.2,-1770.68 \"/>\n",
       "<polyline clip-path=\"url(#clip742)\" style=\"stroke:#808080; stroke-linecap:round; stroke-linejoin:round; stroke-width:4; stroke-opacity:0.3; fill:none\" points=\"1677.9,3683.09 1677.9,-1770.68 \"/>\n",
       "<polyline clip-path=\"url(#clip742)\" style=\"stroke:#808080; stroke-linecap:round; stroke-linejoin:round; stroke-width:4; stroke-opacity:0.3; fill:none\" points=\"1778.22,3683.09 1778.22,-1770.68 \"/>\n",
       "<polyline clip-path=\"url(#clip742)\" style=\"stroke:#808080; stroke-linecap:round; stroke-linejoin:round; stroke-width:4; stroke-opacity:0.3; fill:none\" points=\"-1588.21,1706.04 3723.24,1706.04 \"/>\n",
       "<polyline clip-path=\"url(#clip742)\" style=\"stroke:#808080; stroke-linecap:round; stroke-linejoin:round; stroke-width:4; stroke-opacity:0.3; fill:none\" points=\"-1588.21,1586.09 3723.24,1586.09 \"/>\n",
       "<polyline clip-path=\"url(#clip742)\" style=\"stroke:#808080; stroke-linecap:round; stroke-linejoin:round; stroke-width:4; stroke-opacity:0.3; fill:none\" points=\"-1588.21,1543.66 3723.24,1543.66 \"/>\n",
       "<polyline clip-path=\"url(#clip742)\" style=\"stroke:#808080; stroke-linecap:round; stroke-linejoin:round; stroke-width:4; stroke-opacity:0.3; fill:none\" points=\"-1588.21,1466.68 3723.24,1466.68 \"/>\n",
       "<polyline clip-path=\"url(#clip742)\" style=\"stroke:#808080; stroke-linecap:round; stroke-linejoin:round; stroke-width:4; stroke-opacity:0.3; fill:none\" points=\"-1588.21,1410.88 3723.24,1410.88 \"/>\n",
       "<polyline clip-path=\"url(#clip742)\" style=\"stroke:#808080; stroke-linecap:round; stroke-linejoin:round; stroke-width:4; stroke-opacity:0.3; fill:none\" points=\"-1588.21,1375.75 3723.24,1375.75 \"/>\n",
       "<polyline clip-path=\"url(#clip742)\" style=\"stroke:#808080; stroke-linecap:round; stroke-linejoin:round; stroke-width:4; stroke-opacity:0.3; fill:none\" points=\"-1588.21,1258.93 3723.24,1258.93 \"/>\n",
       "<polyline clip-path=\"url(#clip742)\" style=\"stroke:#808080; stroke-linecap:round; stroke-linejoin:round; stroke-width:4; stroke-opacity:0.3; fill:none\" points=\"-1588.21,1095.43 3723.24,1095.43 \"/>\n",
       "<polyline clip-path=\"url(#clip742)\" style=\"stroke:#808080; stroke-linecap:round; stroke-linejoin:round; stroke-width:4; stroke-opacity:0.3; fill:none\" points=\"-1588.21,976.373 3723.24,976.373 \"/>\n",
       "<polyline clip-path=\"url(#clip742)\" style=\"stroke:#808080; stroke-linecap:round; stroke-linejoin:round; stroke-width:4; stroke-opacity:0.3; fill:none\" points=\"-1588.21,931.236 3723.24,931.236 \"/>\n",
       "<polyline clip-path=\"url(#clip742)\" style=\"stroke:#808080; stroke-linecap:round; stroke-linejoin:round; stroke-width:4; stroke-opacity:0.3; fill:none\" points=\"-1588.21,889.142 3723.24,889.142 \"/>\n",
       "<polyline clip-path=\"url(#clip742)\" style=\"stroke:#808080; stroke-linecap:round; stroke-linejoin:round; stroke-width:4; stroke-opacity:0.3; fill:none\" points=\"-1588.21,705.418 3723.24,705.418 \"/>\n",
       "<polyline clip-path=\"url(#clip742)\" style=\"stroke:#808080; stroke-linecap:round; stroke-linejoin:round; stroke-width:4; stroke-opacity:0.3; fill:none\" points=\"-1588.21,540.887 3723.24,540.887 \"/>\n",
       "<polyline clip-path=\"url(#clip742)\" style=\"stroke:#808080; stroke-linecap:round; stroke-linejoin:round; stroke-width:4; stroke-opacity:0.3; fill:none\" points=\"-1588.21,519.92 3723.24,519.92 \"/>\n",
       "<polyline clip-path=\"url(#clip742)\" style=\"stroke:#808080; stroke-linecap:round; stroke-linejoin:round; stroke-width:4; stroke-opacity:0.3; fill:none\" points=\"-1588.21,459.201 3723.24,459.201 \"/>\n",
       "<polyline clip-path=\"url(#clip742)\" style=\"stroke:#808080; stroke-linecap:round; stroke-linejoin:round; stroke-width:4; stroke-opacity:0.3; fill:none\" points=\"-1588.21,389.101 3723.24,389.101 \"/>\n",
       "<polyline clip-path=\"url(#clip742)\" style=\"stroke:#808080; stroke-linecap:round; stroke-linejoin:round; stroke-width:4; stroke-opacity:0.3; fill:none\" points=\"-1588.21,341.305 3723.24,341.305 \"/>\n",
       "<polyline clip-path=\"url(#clip742)\" style=\"stroke:#808080; stroke-linecap:round; stroke-linejoin:round; stroke-width:4; stroke-opacity:0.3; fill:none\" points=\"-1588.21,206.376 3723.24,206.376 \"/>\n",
       "<polyline clip-path=\"url(#clip742)\" style=\"stroke:#000000; stroke-linecap:round; stroke-linejoin:round; stroke-width:4; stroke-opacity:1; fill:none\" points=\"641.586,1706.04 641.586,206.376 \"/>\n",
       "<circle clip-path=\"url(#clip742)\" cx=\"641.586\" cy=\"956.206\" r=\"21.6\" fill=\"#ffffff\" fill-rule=\"evenodd\" fill-opacity=\"1\" stroke=\"none\"/>\n",
       "<polyline clip-path=\"url(#clip742)\" style=\"stroke:#000000; stroke-linecap:round; stroke-linejoin:round; stroke-width:4; stroke-opacity:1; fill:none\" points=\"641.586,1095.43 1778.22,1095.43 \"/>\n",
       "<circle clip-path=\"url(#clip742)\" cx=\"1209.91\" cy=\"1095.43\" r=\"21.6\" fill=\"#ffffff\" fill-rule=\"evenodd\" fill-opacity=\"1\" stroke=\"none\"/>\n",
       "<path clip-path=\"url(#clip740)\" d=\"M634.373 966.215 L640.102 966.215 L640.102 946.44 L633.869 947.69 L633.869 944.496 L640.067 943.246 L643.574 943.246 L643.574 966.215 L649.303 966.215 L649.303 969.166 L634.373 969.166 L634.373 966.215 Z\" fill=\"#000000\" fill-rule=\"nonzero\" fill-opacity=\"1\" /><path clip-path=\"url(#clip740)\" d=\"M1205.9 1105.44 L1218.13 1105.44 L1218.13 1108.39 L1201.68 1108.39 L1201.68 1105.44 Q1203.67 1103.37 1207.11 1099.9 Q1210.57 1096.41 1211.45 1095.41 Q1213.13 1093.51 1213.79 1092.21 Q1214.47 1090.89 1214.47 1089.62 Q1214.47 1087.56 1213.01 1086.26 Q1211.57 1084.95 1209.25 1084.95 Q1207.6 1084.95 1205.76 1085.53 Q1203.93 1086.1 1201.85 1087.26 L1201.85 1083.72 Q1203.97 1082.87 1205.81 1082.44 Q1207.65 1082 1209.18 1082 Q1213.2 1082 1215.6 1084.02 Q1218 1086.03 1218 1089.4 Q1218 1091 1217.39 1092.44 Q1216.8 1093.86 1215.22 1095.81 Q1214.78 1096.31 1212.46 1098.72 Q1210.13 1101.12 1205.9 1105.44 Z\" fill=\"#000000\" fill-rule=\"nonzero\" fill-opacity=\"1\" /></svg>\n"
      ]
     },
     "execution_count": 41,
     "metadata": {},
     "output_type": "execute_result"
    }
   ],
   "source": [
    "rng = MersenneTwister(1000)\n",
    "n = 17\n",
    "S = rand(rng,n,2)\n",
    "half = n ÷ 2\n",
    "w = shuffle(rng,[ones(Int,half)...,-ones(Int,n-half)...])\n",
    "\n",
    "\n",
    "\n",
    "C, P, D, midpoints_x, midpoints_y, argcuts, idxcuts = coarseness_g(S,w)\n",
    "\n",
    "fig = plot_rb_points(S,w)\n",
    "plot_add_lines!(fig, S)\n",
    "plot_guillotine_line!(fig,1,1,n,n)\n",
    "println(\"C[1,1,n,n]=$(C[1,1,n,n])\")\n",
    "fig"
   ]
  },
  {
   "cell_type": "code",
   "execution_count": 3,
   "id": "12978783-af16-4a8c-a126-488aeca382f9",
   "metadata": {
    "tags": []
   },
   "outputs": [
    {
     "name": "stdout",
     "output_type": "stream",
     "text": [
      "coarseness = 2\n"
     ]
    },
    {
     "data": {
      "text/plain": [
       "9×3 Matrix{Integer}:\n",
       " 1  1  1\n",
       " 1  2  2\n",
       " 2  2  2\n",
       " 1  2  2\n",
       " 2  2  3\n",
       " 1  1  1\n",
       " 2  2  1\n",
       " 2  2  2\n",
       " 2  2  3"
      ]
     },
     "execution_count": 3,
     "metadata": {},
     "output_type": "execute_result"
    }
   ],
   "source": [
    "rng = MersenneTwister(1000)\n",
    "n = 9\n",
    "S = rand(rng,n,2)\n",
    "half = n ÷ 2\n",
    "w = shuffle(rng,[ones(Int,half)...,-ones(Int,n-half)...])\n",
    "\n",
    "c, Π_opt = coarseness_bf(S,w)\n",
    "\n",
    "println(\"coarseness = \", c)\n",
    "Π_opt"
   ]
  },
  {
   "cell_type": "code",
   "execution_count": 5,
   "id": "4c5eff61-c6dc-4c9a-98ae-5d285a7defc6",
   "metadata": {
    "tags": []
   },
   "outputs": [
    {
     "data": {
      "image/svg+xml": [
       "<?xml version=\"1.0\" encoding=\"utf-8\"?>\n",
       "<svg xmlns=\"http://www.w3.org/2000/svg\" xmlns:xlink=\"http://www.w3.org/1999/xlink\" width=\"250\" height=\"250\" viewBox=\"0 0 1000 1000\">\n",
       "<defs>\n",
       "  <clipPath id=\"clip840\">\n",
       "    <rect x=\"0\" y=\"0\" width=\"1000\" height=\"1000\"/>\n",
       "  </clipPath>\n",
       "</defs>\n",
       "<path clip-path=\"url(#clip840)\" d=\"M0 1000 L1000 1000 L1000 0 L0 0  Z\" fill=\"#ffffff\" fill-rule=\"evenodd\" fill-opacity=\"1\"/>\n",
       "<defs>\n",
       "  <clipPath id=\"clip841\">\n",
       "    <rect x=\"200\" y=\"100\" width=\"701\" height=\"701\"/>\n",
       "  </clipPath>\n",
       "</defs>\n",
       "<path clip-path=\"url(#clip840)\" d=\"M172.274 875.168 L952.756 875.168 L952.756 47.2441 L172.274 47.2441  Z\" fill=\"#ffffff\" fill-rule=\"evenodd\" fill-opacity=\"1\"/>\n",
       "<defs>\n",
       "  <clipPath id=\"clip842\">\n",
       "    <rect x=\"172\" y=\"47\" width=\"781\" height=\"829\"/>\n",
       "  </clipPath>\n",
       "</defs>\n",
       "<circle clip-path=\"url(#clip842)\" cx=\"640.052\" cy=\"193.778\" r=\"21.6\" fill=\"#ff0000\" fill-rule=\"evenodd\" fill-opacity=\"1\" stroke=\"#000000\" stroke-opacity=\"1\" stroke-width=\"2\"/>\n",
       "<circle clip-path=\"url(#clip842)\" cx=\"771.301\" cy=\"756.893\" r=\"21.6\" fill=\"#ff0000\" fill-rule=\"evenodd\" fill-opacity=\"1\" stroke=\"#000000\" stroke-opacity=\"1\" stroke-width=\"2\"/>\n",
       "<circle clip-path=\"url(#clip842)\" cx=\"724.691\" cy=\"214.176\" r=\"21.6\" fill=\"#ff0000\" fill-rule=\"evenodd\" fill-opacity=\"1\" stroke=\"#000000\" stroke-opacity=\"1\" stroke-width=\"2\"/>\n",
       "<circle clip-path=\"url(#clip842)\" cx=\"313.441\" cy=\"484.591\" r=\"21.6\" fill=\"#ff0000\" fill-rule=\"evenodd\" fill-opacity=\"1\" stroke=\"#000000\" stroke-opacity=\"1\" stroke-width=\"2\"/>\n",
       "<circle clip-path=\"url(#clip842)\" cx=\"841.258\" cy=\"663.218\" r=\"21.6\" fill=\"#0000ff\" fill-rule=\"evenodd\" fill-opacity=\"1\" stroke=\"#000000\" stroke-opacity=\"1\" stroke-width=\"2\"/>\n",
       "<circle clip-path=\"url(#clip842)\" cx=\"484.871\" cy=\"708.472\" r=\"21.6\" fill=\"#0000ff\" fill-rule=\"evenodd\" fill-opacity=\"1\" stroke=\"#000000\" stroke-opacity=\"1\" stroke-width=\"2\"/>\n",
       "<circle clip-path=\"url(#clip842)\" cx=\"289.784\" cy=\"275.742\" r=\"21.6\" fill=\"#0000ff\" fill-rule=\"evenodd\" fill-opacity=\"1\" stroke=\"#000000\" stroke-opacity=\"1\" stroke-width=\"2\"/>\n",
       "<circle clip-path=\"url(#clip842)\" cx=\"626.372\" cy=\"490.496\" r=\"21.6\" fill=\"#0000ff\" fill-rule=\"evenodd\" fill-opacity=\"1\" stroke=\"#000000\" stroke-opacity=\"1\" stroke-width=\"2\"/>\n",
       "<circle clip-path=\"url(#clip842)\" cx=\"283.771\" cy=\"165.519\" r=\"21.6\" fill=\"#0000ff\" fill-rule=\"evenodd\" fill-opacity=\"1\" stroke=\"#000000\" stroke-opacity=\"1\" stroke-width=\"2\"/>\n",
       "<path clip-path=\"url(#clip842)\" d=\"M724.691 214.176 L640.052 193.778 L771.301 756.893 L841.258 663.218 L724.691 214.176 L724.691 214.176  Z\" fill=\"#808080\" fill-rule=\"evenodd\" fill-opacity=\"0.2\"/>\n",
       "<polyline clip-path=\"url(#clip842)\" style=\"stroke:#000000; stroke-linecap:round; stroke-linejoin:round; stroke-width:4; stroke-opacity:0.2; fill:none\" points=\"724.691,214.176 640.052,193.778 771.301,756.893 841.258,663.218 724.691,214.176 \"/>\n",
       "<path clip-path=\"url(#clip842)\" d=\"M283.771 165.519 L289.784 275.742 L313.441 484.591 L484.871 708.472 L626.372 490.496 L283.771 165.519 L283.771 165.519  Z\" fill=\"#808080\" fill-rule=\"evenodd\" fill-opacity=\"0.2\"/>\n",
       "<polyline clip-path=\"url(#clip842)\" style=\"stroke:#000000; stroke-linecap:round; stroke-linejoin:round; stroke-width:4; stroke-opacity:0.2; fill:none\" points=\"283.771,165.519 289.784,275.742 313.441,484.591 484.871,708.472 626.372,490.496 283.771,165.519 \"/>\n",
       "</svg>\n"
      ]
     },
     "metadata": {},
     "output_type": "display_data"
    },
    {
     "data": {
      "image/svg+xml": [
       "<?xml version=\"1.0\" encoding=\"utf-8\"?>\n",
       "<svg xmlns=\"http://www.w3.org/2000/svg\" xmlns:xlink=\"http://www.w3.org/1999/xlink\" width=\"250\" height=\"250\" viewBox=\"0 0 1000 1000\">\n",
       "<defs>\n",
       "  <clipPath id=\"clip920\">\n",
       "    <rect x=\"0\" y=\"0\" width=\"1000\" height=\"1000\"/>\n",
       "  </clipPath>\n",
       "</defs>\n",
       "<path clip-path=\"url(#clip920)\" d=\"M0 1000 L1000 1000 L1000 0 L0 0  Z\" fill=\"#ffffff\" fill-rule=\"evenodd\" fill-opacity=\"1\"/>\n",
       "<defs>\n",
       "  <clipPath id=\"clip921\">\n",
       "    <rect x=\"200\" y=\"100\" width=\"701\" height=\"701\"/>\n",
       "  </clipPath>\n",
       "</defs>\n",
       "<path clip-path=\"url(#clip920)\" d=\"M172.274 875.168 L952.756 875.168 L952.756 47.2441 L172.274 47.2441  Z\" fill=\"#ffffff\" fill-rule=\"evenodd\" fill-opacity=\"1\"/>\n",
       "<defs>\n",
       "  <clipPath id=\"clip922\">\n",
       "    <rect x=\"172\" y=\"47\" width=\"781\" height=\"829\"/>\n",
       "  </clipPath>\n",
       "</defs>\n",
       "<circle clip-path=\"url(#clip922)\" cx=\"640.052\" cy=\"193.778\" r=\"21.6\" fill=\"#ff0000\" fill-rule=\"evenodd\" fill-opacity=\"1\" stroke=\"#000000\" stroke-opacity=\"1\" stroke-width=\"2\"/>\n",
       "<circle clip-path=\"url(#clip922)\" cx=\"771.301\" cy=\"756.893\" r=\"21.6\" fill=\"#ff0000\" fill-rule=\"evenodd\" fill-opacity=\"1\" stroke=\"#000000\" stroke-opacity=\"1\" stroke-width=\"2\"/>\n",
       "<circle clip-path=\"url(#clip922)\" cx=\"724.691\" cy=\"214.176\" r=\"21.6\" fill=\"#ff0000\" fill-rule=\"evenodd\" fill-opacity=\"1\" stroke=\"#000000\" stroke-opacity=\"1\" stroke-width=\"2\"/>\n",
       "<circle clip-path=\"url(#clip922)\" cx=\"313.441\" cy=\"484.591\" r=\"21.6\" fill=\"#ff0000\" fill-rule=\"evenodd\" fill-opacity=\"1\" stroke=\"#000000\" stroke-opacity=\"1\" stroke-width=\"2\"/>\n",
       "<circle clip-path=\"url(#clip922)\" cx=\"841.258\" cy=\"663.218\" r=\"21.6\" fill=\"#0000ff\" fill-rule=\"evenodd\" fill-opacity=\"1\" stroke=\"#000000\" stroke-opacity=\"1\" stroke-width=\"2\"/>\n",
       "<circle clip-path=\"url(#clip922)\" cx=\"484.871\" cy=\"708.472\" r=\"21.6\" fill=\"#0000ff\" fill-rule=\"evenodd\" fill-opacity=\"1\" stroke=\"#000000\" stroke-opacity=\"1\" stroke-width=\"2\"/>\n",
       "<circle clip-path=\"url(#clip922)\" cx=\"289.784\" cy=\"275.742\" r=\"21.6\" fill=\"#0000ff\" fill-rule=\"evenodd\" fill-opacity=\"1\" stroke=\"#000000\" stroke-opacity=\"1\" stroke-width=\"2\"/>\n",
       "<circle clip-path=\"url(#clip922)\" cx=\"626.372\" cy=\"490.496\" r=\"21.6\" fill=\"#0000ff\" fill-rule=\"evenodd\" fill-opacity=\"1\" stroke=\"#000000\" stroke-opacity=\"1\" stroke-width=\"2\"/>\n",
       "<circle clip-path=\"url(#clip922)\" cx=\"283.771\" cy=\"165.519\" r=\"21.6\" fill=\"#0000ff\" fill-rule=\"evenodd\" fill-opacity=\"1\" stroke=\"#000000\" stroke-opacity=\"1\" stroke-width=\"2\"/>\n",
       "<polyline clip-path=\"url(#clip922)\" style=\"stroke:#808080; stroke-linecap:round; stroke-linejoin:round; stroke-width:4; stroke-opacity:0.2; fill:none\" points=\"640.052,193.778 724.691,214.176 \"/>\n",
       "<circle clip-path=\"url(#clip922)\" cx=\"640.052\" cy=\"193.778\" r=\"14.4\" fill=\"#808080\" fill-rule=\"evenodd\" fill-opacity=\"0.2\" stroke=\"#000000\" stroke-opacity=\"0.2\" stroke-width=\"2\"/>\n",
       "<circle clip-path=\"url(#clip922)\" cx=\"724.691\" cy=\"214.176\" r=\"14.4\" fill=\"#808080\" fill-rule=\"evenodd\" fill-opacity=\"0.2\" stroke=\"#000000\" stroke-opacity=\"0.2\" stroke-width=\"2\"/>\n",
       "<path clip-path=\"url(#clip922)\" d=\"M283.771 165.519 L289.784 275.742 L313.441 484.591 L484.871 708.472 L771.301 756.893 L841.258 663.218 L283.771 165.519 L283.771 165.519  Z\" fill=\"#808080\" fill-rule=\"evenodd\" fill-opacity=\"0.2\"/>\n",
       "<polyline clip-path=\"url(#clip922)\" style=\"stroke:#000000; stroke-linecap:round; stroke-linejoin:round; stroke-width:4; stroke-opacity:0.2; fill:none\" points=\"283.771,165.519 289.784,275.742 313.441,484.591 484.871,708.472 771.301,756.893 841.258,663.218 283.771,165.519 \"/>\n",
       "</svg>\n"
      ]
     },
     "metadata": {},
     "output_type": "display_data"
    },
    {
     "data": {
      "image/svg+xml": [
       "<?xml version=\"1.0\" encoding=\"utf-8\"?>\n",
       "<svg xmlns=\"http://www.w3.org/2000/svg\" xmlns:xlink=\"http://www.w3.org/1999/xlink\" width=\"250\" height=\"250\" viewBox=\"0 0 1000 1000\">\n",
       "<defs>\n",
       "  <clipPath id=\"clip000\">\n",
       "    <rect x=\"0\" y=\"0\" width=\"1000\" height=\"1000\"/>\n",
       "  </clipPath>\n",
       "</defs>\n",
       "<path clip-path=\"url(#clip000)\" d=\"M0 1000 L1000 1000 L1000 0 L0 0  Z\" fill=\"#ffffff\" fill-rule=\"evenodd\" fill-opacity=\"1\"/>\n",
       "<defs>\n",
       "  <clipPath id=\"clip001\">\n",
       "    <rect x=\"200\" y=\"100\" width=\"701\" height=\"701\"/>\n",
       "  </clipPath>\n",
       "</defs>\n",
       "<path clip-path=\"url(#clip000)\" d=\"M172.274 875.168 L952.756 875.168 L952.756 47.2441 L172.274 47.2441  Z\" fill=\"#ffffff\" fill-rule=\"evenodd\" fill-opacity=\"1\"/>\n",
       "<defs>\n",
       "  <clipPath id=\"clip002\">\n",
       "    <rect x=\"172\" y=\"47\" width=\"781\" height=\"829\"/>\n",
       "  </clipPath>\n",
       "</defs>\n",
       "<circle clip-path=\"url(#clip002)\" cx=\"640.052\" cy=\"193.778\" r=\"21.6\" fill=\"#ff0000\" fill-rule=\"evenodd\" fill-opacity=\"1\" stroke=\"#000000\" stroke-opacity=\"1\" stroke-width=\"2\"/>\n",
       "<circle clip-path=\"url(#clip002)\" cx=\"771.301\" cy=\"756.893\" r=\"21.6\" fill=\"#ff0000\" fill-rule=\"evenodd\" fill-opacity=\"1\" stroke=\"#000000\" stroke-opacity=\"1\" stroke-width=\"2\"/>\n",
       "<circle clip-path=\"url(#clip002)\" cx=\"724.691\" cy=\"214.176\" r=\"21.6\" fill=\"#ff0000\" fill-rule=\"evenodd\" fill-opacity=\"1\" stroke=\"#000000\" stroke-opacity=\"1\" stroke-width=\"2\"/>\n",
       "<circle clip-path=\"url(#clip002)\" cx=\"313.441\" cy=\"484.591\" r=\"21.6\" fill=\"#ff0000\" fill-rule=\"evenodd\" fill-opacity=\"1\" stroke=\"#000000\" stroke-opacity=\"1\" stroke-width=\"2\"/>\n",
       "<circle clip-path=\"url(#clip002)\" cx=\"841.258\" cy=\"663.218\" r=\"21.6\" fill=\"#0000ff\" fill-rule=\"evenodd\" fill-opacity=\"1\" stroke=\"#000000\" stroke-opacity=\"1\" stroke-width=\"2\"/>\n",
       "<circle clip-path=\"url(#clip002)\" cx=\"484.871\" cy=\"708.472\" r=\"21.6\" fill=\"#0000ff\" fill-rule=\"evenodd\" fill-opacity=\"1\" stroke=\"#000000\" stroke-opacity=\"1\" stroke-width=\"2\"/>\n",
       "<circle clip-path=\"url(#clip002)\" cx=\"289.784\" cy=\"275.742\" r=\"21.6\" fill=\"#0000ff\" fill-rule=\"evenodd\" fill-opacity=\"1\" stroke=\"#000000\" stroke-opacity=\"1\" stroke-width=\"2\"/>\n",
       "<circle clip-path=\"url(#clip002)\" cx=\"626.372\" cy=\"490.496\" r=\"21.6\" fill=\"#0000ff\" fill-rule=\"evenodd\" fill-opacity=\"1\" stroke=\"#000000\" stroke-opacity=\"1\" stroke-width=\"2\"/>\n",
       "<circle clip-path=\"url(#clip002)\" cx=\"283.771\" cy=\"165.519\" r=\"21.6\" fill=\"#0000ff\" fill-rule=\"evenodd\" fill-opacity=\"1\" stroke=\"#000000\" stroke-opacity=\"1\" stroke-width=\"2\"/>\n",
       "<path clip-path=\"url(#clip002)\" d=\"M313.441 484.591 L724.691 214.176 L640.052 193.778 L313.441 484.591 L313.441 484.591  Z\" fill=\"#808080\" fill-rule=\"evenodd\" fill-opacity=\"0.2\"/>\n",
       "<polyline clip-path=\"url(#clip002)\" style=\"stroke:#000000; stroke-linecap:round; stroke-linejoin:round; stroke-width:4; stroke-opacity:0.2; fill:none\" points=\"313.441,484.591 724.691,214.176 640.052,193.778 313.441,484.591 \"/>\n",
       "<path clip-path=\"url(#clip002)\" d=\"M841.258 663.218 L626.372 490.496 L484.871 708.472 L771.301 756.893 L841.258 663.218 L841.258 663.218  Z\" fill=\"#808080\" fill-rule=\"evenodd\" fill-opacity=\"0.2\"/>\n",
       "<polyline clip-path=\"url(#clip002)\" style=\"stroke:#000000; stroke-linecap:round; stroke-linejoin:round; stroke-width:4; stroke-opacity:0.2; fill:none\" points=\"841.258,663.218 626.372,490.496 484.871,708.472 771.301,756.893 841.258,663.218 \"/>\n",
       "<polyline clip-path=\"url(#clip002)\" style=\"stroke:#808080; stroke-linecap:round; stroke-linejoin:round; stroke-width:4; stroke-opacity:0.2; fill:none\" points=\"289.784,275.742 283.771,165.519 \"/>\n",
       "<circle clip-path=\"url(#clip002)\" cx=\"289.784\" cy=\"275.742\" r=\"14.4\" fill=\"#808080\" fill-rule=\"evenodd\" fill-opacity=\"0.2\" stroke=\"#000000\" stroke-opacity=\"0.2\" stroke-width=\"2\"/>\n",
       "<circle clip-path=\"url(#clip002)\" cx=\"283.771\" cy=\"165.519\" r=\"14.4\" fill=\"#808080\" fill-rule=\"evenodd\" fill-opacity=\"0.2\" stroke=\"#000000\" stroke-opacity=\"0.2\" stroke-width=\"2\"/>\n",
       "</svg>\n"
      ]
     },
     "metadata": {},
     "output_type": "display_data"
    }
   ],
   "source": [
    "for i = 1:size(Π_opt,2)\n",
    "    fig = plot_rb_points(S,w,Π_opt[:,i],fig_size=(250,250))\n",
    "    savefig(fig,\"figs/C_bf_$i.svg\")\n",
    "    display(fig)\n",
    "end"
   ]
  },
  {
   "cell_type": "code",
   "execution_count": 21,
   "id": "7ba4d120-d636-4274-bf4b-dd4b65e0b6fb",
   "metadata": {
    "tags": []
   },
   "outputs": [
    {
     "name": "stdout",
     "output_type": "stream",
     "text": [
      "\n",
      "i=33\n",
      "C[1,1,n,n]=3\n"
     ]
    },
    {
     "data": {
      "image/svg+xml": [
       "<?xml version=\"1.0\" encoding=\"utf-8\"?>\n",
       "<svg xmlns=\"http://www.w3.org/2000/svg\" xmlns:xlink=\"http://www.w3.org/1999/xlink\" width=\"500\" height=\"500\" viewBox=\"0 0 2000 2000\">\n",
       "<defs>\n",
       "  <clipPath id=\"clip520\">\n",
       "    <rect x=\"0\" y=\"0\" width=\"2000\" height=\"2000\"/>\n",
       "  </clipPath>\n",
       "</defs>\n",
       "<path clip-path=\"url(#clip520)\" d=\"M0 2000 L2000 2000 L2000 0 L0 0  Z\" fill=\"#ffffff\" fill-rule=\"evenodd\" fill-opacity=\"1\"/>\n",
       "<defs>\n",
       "  <clipPath id=\"clip521\">\n",
       "    <rect x=\"400\" y=\"200\" width=\"1401\" height=\"1401\"/>\n",
       "  </clipPath>\n",
       "</defs>\n",
       "<path clip-path=\"url(#clip520)\" d=\"M182.274 1865.17 L1952.76 1865.17 L1952.76 47.2441 L182.274 47.2441  Z\" fill=\"#ffffff\" fill-rule=\"evenodd\" fill-opacity=\"1\"/>\n",
       "<defs>\n",
       "  <clipPath id=\"clip522\">\n",
       "    <rect x=\"182\" y=\"47\" width=\"1771\" height=\"1819\"/>\n",
       "  </clipPath>\n",
       "</defs>\n",
       "<circle clip-path=\"url(#clip522)\" cx=\"1488.19\" cy=\"1250.79\" r=\"21.6\" fill=\"#ff0000\" fill-rule=\"evenodd\" fill-opacity=\"1\" stroke=\"#000000\" stroke-opacity=\"1\" stroke-width=\"4\"/>\n",
       "<circle clip-path=\"url(#clip522)\" cx=\"794.157\" cy=\"729.497\" r=\"21.6\" fill=\"#ff0000\" fill-rule=\"evenodd\" fill-opacity=\"1\" stroke=\"#000000\" stroke-opacity=\"1\" stroke-width=\"4\"/>\n",
       "<circle clip-path=\"url(#clip522)\" cx=\"1556.1\" cy=\"306.947\" r=\"21.6\" fill=\"#ff0000\" fill-rule=\"evenodd\" fill-opacity=\"1\" stroke=\"#000000\" stroke-opacity=\"1\" stroke-width=\"4\"/>\n",
       "<circle clip-path=\"url(#clip522)\" cx=\"955.116\" cy=\"1605.46\" r=\"21.6\" fill=\"#ff0000\" fill-rule=\"evenodd\" fill-opacity=\"1\" stroke=\"#000000\" stroke-opacity=\"1\" stroke-width=\"4\"/>\n",
       "<circle clip-path=\"url(#clip522)\" cx=\"1425.17\" cy=\"331.039\" r=\"21.6\" fill=\"#ff0000\" fill-rule=\"evenodd\" fill-opacity=\"1\" stroke=\"#000000\" stroke-opacity=\"1\" stroke-width=\"4\"/>\n",
       "<circle clip-path=\"url(#clip522)\" cx=\"943.724\" cy=\"901.901\" r=\"21.6\" fill=\"#ff0000\" fill-rule=\"evenodd\" fill-opacity=\"1\" stroke=\"#000000\" stroke-opacity=\"1\" stroke-width=\"4\"/>\n",
       "<circle clip-path=\"url(#clip522)\" cx=\"617.659\" cy=\"1216.22\" r=\"21.6\" fill=\"#ff0000\" fill-rule=\"evenodd\" fill-opacity=\"1\" stroke=\"#000000\" stroke-opacity=\"1\" stroke-width=\"4\"/>\n",
       "<circle clip-path=\"url(#clip522)\" cx=\"435.2\" cy=\"1180.29\" r=\"21.6\" fill=\"#ff0000\" fill-rule=\"evenodd\" fill-opacity=\"1\" stroke=\"#000000\" stroke-opacity=\"1\" stroke-width=\"4\"/>\n",
       "<circle clip-path=\"url(#clip522)\" cx=\"1077.2\" cy=\"650.492\" r=\"21.6\" fill=\"#ff0000\" fill-rule=\"evenodd\" fill-opacity=\"1\" stroke=\"#000000\" stroke-opacity=\"1\" stroke-width=\"4\"/>\n",
       "<circle clip-path=\"url(#clip522)\" cx=\"1649.87\" cy=\"411.56\" r=\"21.6\" fill=\"#ff0000\" fill-rule=\"evenodd\" fill-opacity=\"1\" stroke=\"#000000\" stroke-opacity=\"1\" stroke-width=\"4\"/>\n",
       "<circle clip-path=\"url(#clip522)\" cx=\"1340.39\" cy=\"618.161\" r=\"21.6\" fill=\"#0000ff\" fill-rule=\"evenodd\" fill-opacity=\"1\" stroke=\"#000000\" stroke-opacity=\"1\" stroke-width=\"4\"/>\n",
       "<circle clip-path=\"url(#clip522)\" cx=\"1572.28\" cy=\"756.552\" r=\"21.6\" fill=\"#0000ff\" fill-rule=\"evenodd\" fill-opacity=\"1\" stroke=\"#000000\" stroke-opacity=\"1\" stroke-width=\"4\"/>\n",
       "<circle clip-path=\"url(#clip522)\" cx=\"1322\" cy=\"609.113\" r=\"21.6\" fill=\"#0000ff\" fill-rule=\"evenodd\" fill-opacity=\"1\" stroke=\"#000000\" stroke-opacity=\"1\" stroke-width=\"4\"/>\n",
       "<circle clip-path=\"url(#clip522)\" cx=\"1185.77\" cy=\"632.218\" r=\"21.6\" fill=\"#0000ff\" fill-rule=\"evenodd\" fill-opacity=\"1\" stroke=\"#000000\" stroke-opacity=\"1\" stroke-width=\"4\"/>\n",
       "<circle clip-path=\"url(#clip522)\" cx=\"1275.17\" cy=\"1054.63\" r=\"21.6\" fill=\"#0000ff\" fill-rule=\"evenodd\" fill-opacity=\"1\" stroke=\"#000000\" stroke-opacity=\"1\" stroke-width=\"4\"/>\n",
       "<circle clip-path=\"url(#clip522)\" cx=\"1699.83\" cy=\"1019.6\" r=\"21.6\" fill=\"#0000ff\" fill-rule=\"evenodd\" fill-opacity=\"1\" stroke=\"#000000\" stroke-opacity=\"1\" stroke-width=\"4\"/>\n",
       "<circle clip-path=\"url(#clip522)\" cx=\"844.979\" cy=\"395.316\" r=\"21.6\" fill=\"#0000ff\" fill-rule=\"evenodd\" fill-opacity=\"1\" stroke=\"#000000\" stroke-opacity=\"1\" stroke-width=\"4\"/>\n",
       "<circle clip-path=\"url(#clip522)\" cx=\"1002.38\" cy=\"1431.5\" r=\"21.6\" fill=\"#0000ff\" fill-rule=\"evenodd\" fill-opacity=\"1\" stroke=\"#000000\" stroke-opacity=\"1\" stroke-width=\"4\"/>\n",
       "<circle clip-path=\"url(#clip522)\" cx=\"578.909\" cy=\"705.06\" r=\"21.6\" fill=\"#0000ff\" fill-rule=\"evenodd\" fill-opacity=\"1\" stroke=\"#000000\" stroke-opacity=\"1\" stroke-width=\"4\"/>\n",
       "<circle clip-path=\"url(#clip522)\" cx=\"699.156\" cy=\"1601.35\" r=\"21.6\" fill=\"#0000ff\" fill-rule=\"evenodd\" fill-opacity=\"1\" stroke=\"#000000\" stroke-opacity=\"1\" stroke-width=\"4\"/>\n",
       "<polyline clip-path=\"url(#clip522)\" style=\"stroke:#808080; stroke-linecap:round; stroke-linejoin:round; stroke-width:4; stroke-opacity:0.3; fill:none\" points=\"372.763,3683.09 372.763,-1770.68 \"/>\n",
       "<polyline clip-path=\"url(#clip522)\" style=\"stroke:#808080; stroke-linecap:round; stroke-linejoin:round; stroke-width:4; stroke-opacity:0.3; fill:none\" points=\"507.054,3683.09 507.054,-1770.68 \"/>\n",
       "<polyline clip-path=\"url(#clip522)\" style=\"stroke:#808080; stroke-linecap:round; stroke-linejoin:round; stroke-width:4; stroke-opacity:0.3; fill:none\" points=\"598.284,3683.09 598.284,-1770.68 \"/>\n",
       "<polyline clip-path=\"url(#clip522)\" style=\"stroke:#808080; stroke-linecap:round; stroke-linejoin:round; stroke-width:4; stroke-opacity:0.3; fill:none\" points=\"658.408,3683.09 658.408,-1770.68 \"/>\n",
       "<polyline clip-path=\"url(#clip522)\" style=\"stroke:#808080; stroke-linecap:round; stroke-linejoin:round; stroke-width:4; stroke-opacity:0.3; fill:none\" points=\"746.657,3683.09 746.657,-1770.68 \"/>\n",
       "<polyline clip-path=\"url(#clip522)\" style=\"stroke:#808080; stroke-linecap:round; stroke-linejoin:round; stroke-width:4; stroke-opacity:0.3; fill:none\" points=\"819.568,3683.09 819.568,-1770.68 \"/>\n",
       "<polyline clip-path=\"url(#clip522)\" style=\"stroke:#808080; stroke-linecap:round; stroke-linejoin:round; stroke-width:4; stroke-opacity:0.3; fill:none\" points=\"894.352,3683.09 894.352,-1770.68 \"/>\n",
       "<polyline clip-path=\"url(#clip522)\" style=\"stroke:#808080; stroke-linecap:round; stroke-linejoin:round; stroke-width:4; stroke-opacity:0.3; fill:none\" points=\"949.42,3683.09 949.42,-1770.68 \"/>\n",
       "<polyline clip-path=\"url(#clip522)\" style=\"stroke:#808080; stroke-linecap:round; stroke-linejoin:round; stroke-width:4; stroke-opacity:0.3; fill:none\" points=\"978.748,3683.09 978.748,-1770.68 \"/>\n",
       "<polyline clip-path=\"url(#clip522)\" style=\"stroke:#808080; stroke-linecap:round; stroke-linejoin:round; stroke-width:4; stroke-opacity:0.3; fill:none\" points=\"1039.79,3683.09 1039.79,-1770.68 \"/>\n",
       "<polyline clip-path=\"url(#clip522)\" style=\"stroke:#808080; stroke-linecap:round; stroke-linejoin:round; stroke-width:4; stroke-opacity:0.3; fill:none\" points=\"1131.48,3683.09 1131.48,-1770.68 \"/>\n",
       "<polyline clip-path=\"url(#clip522)\" style=\"stroke:#808080; stroke-linecap:round; stroke-linejoin:round; stroke-width:4; stroke-opacity:0.3; fill:none\" points=\"1230.47,3683.09 1230.47,-1770.68 \"/>\n",
       "<polyline clip-path=\"url(#clip522)\" style=\"stroke:#808080; stroke-linecap:round; stroke-linejoin:round; stroke-width:4; stroke-opacity:0.3; fill:none\" points=\"1298.58,3683.09 1298.58,-1770.68 \"/>\n",
       "<polyline clip-path=\"url(#clip522)\" style=\"stroke:#808080; stroke-linecap:round; stroke-linejoin:round; stroke-width:4; stroke-opacity:0.3; fill:none\" points=\"1331.2,3683.09 1331.2,-1770.68 \"/>\n",
       "<polyline clip-path=\"url(#clip522)\" style=\"stroke:#808080; stroke-linecap:round; stroke-linejoin:round; stroke-width:4; stroke-opacity:0.3; fill:none\" points=\"1382.78,3683.09 1382.78,-1770.68 \"/>\n",
       "<polyline clip-path=\"url(#clip522)\" style=\"stroke:#808080; stroke-linecap:round; stroke-linejoin:round; stroke-width:4; stroke-opacity:0.3; fill:none\" points=\"1456.68,3683.09 1456.68,-1770.68 \"/>\n",
       "<polyline clip-path=\"url(#clip522)\" style=\"stroke:#808080; stroke-linecap:round; stroke-linejoin:round; stroke-width:4; stroke-opacity:0.3; fill:none\" points=\"1522.14,3683.09 1522.14,-1770.68 \"/>\n",
       "<polyline clip-path=\"url(#clip522)\" style=\"stroke:#808080; stroke-linecap:round; stroke-linejoin:round; stroke-width:4; stroke-opacity:0.3; fill:none\" points=\"1564.19,3683.09 1564.19,-1770.68 \"/>\n",
       "<polyline clip-path=\"url(#clip522)\" style=\"stroke:#808080; stroke-linecap:round; stroke-linejoin:round; stroke-width:4; stroke-opacity:0.3; fill:none\" points=\"1611.08,3683.09 1611.08,-1770.68 \"/>\n",
       "<polyline clip-path=\"url(#clip522)\" style=\"stroke:#808080; stroke-linecap:round; stroke-linejoin:round; stroke-width:4; stroke-opacity:0.3; fill:none\" points=\"1674.85,3683.09 1674.85,-1770.68 \"/>\n",
       "<polyline clip-path=\"url(#clip522)\" style=\"stroke:#808080; stroke-linecap:round; stroke-linejoin:round; stroke-width:4; stroke-opacity:0.3; fill:none\" points=\"1762.27,3683.09 1762.27,-1770.68 \"/>\n",
       "<polyline clip-path=\"url(#clip522)\" style=\"stroke:#808080; stroke-linecap:round; stroke-linejoin:round; stroke-width:4; stroke-opacity:0.3; fill:none\" points=\"-1588.21,1667.49 3723.24,1667.49 \"/>\n",
       "<polyline clip-path=\"url(#clip522)\" style=\"stroke:#808080; stroke-linecap:round; stroke-linejoin:round; stroke-width:4; stroke-opacity:0.3; fill:none\" points=\"-1588.21,1603.41 3723.24,1603.41 \"/>\n",
       "<polyline clip-path=\"url(#clip522)\" style=\"stroke:#808080; stroke-linecap:round; stroke-linejoin:round; stroke-width:4; stroke-opacity:0.3; fill:none\" points=\"-1588.21,1516.43 3723.24,1516.43 \"/>\n",
       "<polyline clip-path=\"url(#clip522)\" style=\"stroke:#808080; stroke-linecap:round; stroke-linejoin:round; stroke-width:4; stroke-opacity:0.3; fill:none\" points=\"-1588.21,1341.15 3723.24,1341.15 \"/>\n",
       "<polyline clip-path=\"url(#clip522)\" style=\"stroke:#808080; stroke-linecap:round; stroke-linejoin:round; stroke-width:4; stroke-opacity:0.3; fill:none\" points=\"-1588.21,1233.51 3723.24,1233.51 \"/>\n",
       "<polyline clip-path=\"url(#clip522)\" style=\"stroke:#808080; stroke-linecap:round; stroke-linejoin:round; stroke-width:4; stroke-opacity:0.3; fill:none\" points=\"-1588.21,1198.26 3723.24,1198.26 \"/>\n",
       "<polyline clip-path=\"url(#clip522)\" style=\"stroke:#808080; stroke-linecap:round; stroke-linejoin:round; stroke-width:4; stroke-opacity:0.3; fill:none\" points=\"-1588.21,1117.46 3723.24,1117.46 \"/>\n",
       "<polyline clip-path=\"url(#clip522)\" style=\"stroke:#808080; stroke-linecap:round; stroke-linejoin:round; stroke-width:4; stroke-opacity:0.3; fill:none\" points=\"-1588.21,1037.12 3723.24,1037.12 \"/>\n",
       "<polyline clip-path=\"url(#clip522)\" style=\"stroke:#808080; stroke-linecap:round; stroke-linejoin:round; stroke-width:4; stroke-opacity:0.3; fill:none\" points=\"-1588.21,960.753 3723.24,960.753 \"/>\n",
       "<polyline clip-path=\"url(#clip522)\" style=\"stroke:#808080; stroke-linecap:round; stroke-linejoin:round; stroke-width:4; stroke-opacity:0.3; fill:none\" points=\"-1588.21,829.227 3723.24,829.227 \"/>\n",
       "<polyline clip-path=\"url(#clip522)\" style=\"stroke:#808080; stroke-linecap:round; stroke-linejoin:round; stroke-width:4; stroke-opacity:0.3; fill:none\" points=\"-1588.21,743.025 3723.24,743.025 \"/>\n",
       "<polyline clip-path=\"url(#clip522)\" style=\"stroke:#808080; stroke-linecap:round; stroke-linejoin:round; stroke-width:4; stroke-opacity:0.3; fill:none\" points=\"-1588.21,717.279 3723.24,717.279 \"/>\n",
       "<polyline clip-path=\"url(#clip522)\" style=\"stroke:#808080; stroke-linecap:round; stroke-linejoin:round; stroke-width:4; stroke-opacity:0.3; fill:none\" points=\"-1588.21,677.776 3723.24,677.776 \"/>\n",
       "<polyline clip-path=\"url(#clip522)\" style=\"stroke:#808080; stroke-linecap:round; stroke-linejoin:round; stroke-width:4; stroke-opacity:0.3; fill:none\" points=\"-1588.21,641.355 3723.24,641.355 \"/>\n",
       "<polyline clip-path=\"url(#clip522)\" style=\"stroke:#808080; stroke-linecap:round; stroke-linejoin:round; stroke-width:4; stroke-opacity:0.3; fill:none\" points=\"-1588.21,625.19 3723.24,625.19 \"/>\n",
       "<polyline clip-path=\"url(#clip522)\" style=\"stroke:#808080; stroke-linecap:round; stroke-linejoin:round; stroke-width:4; stroke-opacity:0.3; fill:none\" points=\"-1588.21,613.637 3723.24,613.637 \"/>\n",
       "<polyline clip-path=\"url(#clip522)\" style=\"stroke:#808080; stroke-linecap:round; stroke-linejoin:round; stroke-width:4; stroke-opacity:0.3; fill:none\" points=\"-1588.21,510.336 3723.24,510.336 \"/>\n",
       "<polyline clip-path=\"url(#clip522)\" style=\"stroke:#808080; stroke-linecap:round; stroke-linejoin:round; stroke-width:4; stroke-opacity:0.3; fill:none\" points=\"-1588.21,403.438 3723.24,403.438 \"/>\n",
       "<polyline clip-path=\"url(#clip522)\" style=\"stroke:#808080; stroke-linecap:round; stroke-linejoin:round; stroke-width:4; stroke-opacity:0.3; fill:none\" points=\"-1588.21,363.177 3723.24,363.177 \"/>\n",
       "<polyline clip-path=\"url(#clip522)\" style=\"stroke:#808080; stroke-linecap:round; stroke-linejoin:round; stroke-width:4; stroke-opacity:0.3; fill:none\" points=\"-1588.21,318.993 3723.24,318.993 \"/>\n",
       "<polyline clip-path=\"url(#clip522)\" style=\"stroke:#808080; stroke-linecap:round; stroke-linejoin:round; stroke-width:4; stroke-opacity:0.3; fill:none\" points=\"-1588.21,244.919 3723.24,244.919 \"/>\n",
       "<polyline clip-path=\"url(#clip522)\" style=\"stroke:#000000; stroke-linecap:round; stroke-linejoin:round; stroke-width:4; stroke-opacity:1; fill:none\" points=\"372.763,743.025 1762.27,743.025 \"/>\n",
       "<circle clip-path=\"url(#clip522)\" cx=\"1067.51\" cy=\"743.025\" r=\"21.6\" fill=\"#ffffff\" fill-rule=\"evenodd\" fill-opacity=\"0.4\" stroke=\"none\"/>\n",
       "<polyline clip-path=\"url(#clip522)\" style=\"stroke:#000000; stroke-linecap:round; stroke-linejoin:round; stroke-width:4; stroke-opacity:1; fill:none\" points=\"978.748,1667.49 978.748,743.025 \"/>\n",
       "<circle clip-path=\"url(#clip522)\" cx=\"978.748\" cy=\"1205.26\" r=\"21.6\" fill=\"#ffffff\" fill-rule=\"evenodd\" fill-opacity=\"0.4\" stroke=\"none\"/>\n",
       "<polyline clip-path=\"url(#clip522)\" style=\"stroke:#000000; stroke-linecap:round; stroke-linejoin:round; stroke-width:4; stroke-opacity:1; fill:none\" points=\"1382.78,743.025 1382.78,244.919 \"/>\n",
       "<circle clip-path=\"url(#clip522)\" cx=\"1382.78\" cy=\"493.972\" r=\"21.6\" fill=\"#ffffff\" fill-rule=\"evenodd\" fill-opacity=\"0.4\" stroke=\"none\"/>\n",
       "<path clip-path=\"url(#clip520)\" d=\"M1060.3 753.033 L1066.03 753.033 L1066.03 733.259 L1059.8 734.509 L1059.8 731.315 L1066 730.065 L1069.5 730.065 L1069.5 753.033 L1075.23 753.033 L1075.23 755.985 L1060.3 755.985 L1060.3 753.033 Z\" fill=\"#000000\" fill-rule=\"nonzero\" fill-opacity=\"1\" /><path clip-path=\"url(#clip520)\" d=\"M974.738 1215.27 L986.978 1215.27 L986.978 1218.22 L970.519 1218.22 L970.519 1215.27 Q972.516 1213.2 975.953 1209.73 Q979.408 1206.24 980.294 1205.23 Q981.978 1203.34 982.637 1202.04 Q983.314 1200.72 983.314 1199.45 Q983.314 1197.39 981.856 1196.08 Q980.415 1194.78 978.089 1194.78 Q976.439 1194.78 974.599 1195.35 Q972.776 1195.93 970.693 1197.09 L970.693 1193.55 Q972.811 1192.7 974.651 1192.26 Q976.491 1191.83 978.019 1191.83 Q982.047 1191.83 984.443 1193.84 Q986.839 1195.86 986.839 1199.23 Q986.839 1200.82 986.231 1202.26 Q985.641 1203.69 984.061 1205.63 Q983.627 1206.14 981.3 1208.55 Q978.974 1210.94 974.738 1215.27 Z\" fill=\"#000000\" fill-rule=\"nonzero\" fill-opacity=\"1\" /><path clip-path=\"url(#clip520)\" d=\"M1378.77 503.981 L1391.01 503.981 L1391.01 506.932 L1374.55 506.932 L1374.55 503.981 Q1376.55 501.915 1379.99 498.443 Q1383.44 494.953 1384.33 493.946 Q1386.01 492.054 1386.67 490.752 Q1387.35 489.432 1387.35 488.165 Q1387.35 486.099 1385.89 484.797 Q1384.45 483.495 1382.12 483.495 Q1380.47 483.495 1378.63 484.068 Q1376.81 484.641 1374.73 485.804 L1374.73 482.262 Q1376.84 481.411 1378.68 480.977 Q1380.52 480.543 1382.05 480.543 Q1386.08 480.543 1388.48 482.557 Q1390.87 484.571 1390.87 487.939 Q1390.87 489.536 1390.26 490.977 Q1389.67 492.401 1388.09 494.345 Q1387.66 494.849 1385.33 497.262 Q1383.01 499.658 1378.77 503.981 Z\" fill=\"#000000\" fill-rule=\"nonzero\" fill-opacity=\"1\" /></svg>\n"
      ]
     },
     "metadata": {},
     "output_type": "display_data"
    }
   ],
   "source": [
    "for i = 33 # 1:100\n",
    "    rng = MersenneTwister(i)\n",
    "    n = 20\n",
    "    S = rand(rng,n,2)\n",
    "    half = n ÷ 2\n",
    "    w = shuffle(rng,[ones(Int,half)...,-ones(Int,n-half)...])\n",
    "\n",
    "    fig = plot_rb_points(S,w)\n",
    "    plot_add_lines!(fig, S)\n",
    "\n",
    "    C, P, D, midpoints_x, midpoints_y, argcuts, idxcuts = coarseness_g(S,w)\n",
    "\n",
    "    fig = plot_rb_points(S,w)\n",
    "    plot_add_lines!(fig, S)\n",
    "    plot_guillotine_line!(fig,1,1,n,n)\n",
    "    println(\"\\ni=$i\")\n",
    "    println(\"C[1,1,n,n]=$(C[1,1,n,n])\")\n",
    "    display(fig)\n",
    "    savefig(fig,\"figs/C_g_n$(n)_seed$(i).svg\") ## OJO NO GUARDAR TODO!!\n",
    "end\n"
   ]
  },
  {
   "cell_type": "code",
   "execution_count": null,
   "id": "33f33ffe-449a-4ee0-b470-9183ad340599",
   "metadata": {},
   "outputs": [],
   "source": []
  }
 ],
 "metadata": {
  "kernelspec": {
   "display_name": "Julia 1.6.1",
   "language": "julia",
   "name": "julia-1.6"
  },
  "language_info": {
   "file_extension": ".jl",
   "mimetype": "application/julia",
   "name": "julia",
   "version": "1.6.1"
  }
 },
 "nbformat": 4,
 "nbformat_minor": 5
}
