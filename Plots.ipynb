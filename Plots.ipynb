{
 "cells": [
  {
   "cell_type": "code",
   "execution_count": 25,
   "id": "61cbd43d-9291-449e-b44b-0370bf943c71",
   "metadata": {
    "tags": []
   },
   "outputs": [
    {
     "data": {
      "text/plain": [
       "coarseness_g (generic function with 1 method)"
      ]
     },
     "execution_count": 25,
     "metadata": {},
     "output_type": "execute_result"
    }
   ],
   "source": [
    "using Random\n",
    "include(\"src/plotting_utils.jl\")\n",
    "include(\"src/guillotine_utils.jl\")\n",
    "include(\"src/guillotine_utils.jl\")"
   ]
  },
  {
   "cell_type": "code",
   "execution_count": 22,
   "id": "95fe53c0-62e6-4442-8f7f-367b9558d2ea",
   "metadata": {
    "tags": []
   },
   "outputs": [
    {
     "data": {
      "image/svg+xml": [
       "<?xml version=\"1.0\" encoding=\"utf-8\"?>\n",
       "<svg xmlns=\"http://www.w3.org/2000/svg\" xmlns:xlink=\"http://www.w3.org/1999/xlink\" width=\"500\" height=\"500\" viewBox=\"0 0 2000 2000\">\n",
       "<defs>\n",
       "  <clipPath id=\"clip300\">\n",
       "    <rect x=\"0\" y=\"0\" width=\"2000\" height=\"2000\"/>\n",
       "  </clipPath>\n",
       "</defs>\n",
       "<path clip-path=\"url(#clip300)\" d=\"M0 2000 L2000 2000 L2000 0 L0 0  Z\" fill=\"#ffffff\" fill-rule=\"evenodd\" fill-opacity=\"1\"/>\n",
       "<defs>\n",
       "  <clipPath id=\"clip301\">\n",
       "    <rect x=\"400\" y=\"200\" width=\"1401\" height=\"1401\"/>\n",
       "  </clipPath>\n",
       "</defs>\n",
       "<path clip-path=\"url(#clip300)\" d=\"M182.274 1865.17 L1952.76 1865.17 L1952.76 47.2441 L182.274 47.2441  Z\" fill=\"#ffffff\" fill-rule=\"evenodd\" fill-opacity=\"1\"/>\n",
       "<defs>\n",
       "  <clipPath id=\"clip302\">\n",
       "    <rect x=\"182\" y=\"47\" width=\"1771\" height=\"1819\"/>\n",
       "  </clipPath>\n",
       "</defs>\n",
       "<circle clip-path=\"url(#clip302)\" cx=\"1238.43\" cy=\"841.157\" r=\"21.6\" fill=\"#ff0000\" fill-rule=\"evenodd\" fill-opacity=\"1\" stroke=\"#000000\" stroke-opacity=\"1\" stroke-width=\"4\"/>\n",
       "<circle clip-path=\"url(#clip302)\" cx=\"1699.83\" cy=\"1605.46\" r=\"21.6\" fill=\"#ff0000\" fill-rule=\"evenodd\" fill-opacity=\"1\" stroke=\"#000000\" stroke-opacity=\"1\" stroke-width=\"4\"/>\n",
       "<circle clip-path=\"url(#clip302)\" cx=\"489.45\" cy=\"487.943\" r=\"21.6\" fill=\"#ff0000\" fill-rule=\"evenodd\" fill-opacity=\"1\" stroke=\"#000000\" stroke-opacity=\"1\" stroke-width=\"4\"/>\n",
       "<circle clip-path=\"url(#clip302)\" cx=\"882.569\" cy=\"306.947\" r=\"21.6\" fill=\"#0000ff\" fill-rule=\"evenodd\" fill-opacity=\"1\" stroke=\"#000000\" stroke-opacity=\"1\" stroke-width=\"4\"/>\n",
       "<circle clip-path=\"url(#clip302)\" cx=\"1539.4\" cy=\"1343.58\" r=\"21.6\" fill=\"#0000ff\" fill-rule=\"evenodd\" fill-opacity=\"1\" stroke=\"#000000\" stroke-opacity=\"1\" stroke-width=\"4\"/>\n",
       "<circle clip-path=\"url(#clip302)\" cx=\"435.2\" cy=\"1443.51\" r=\"21.6\" fill=\"#0000ff\" fill-rule=\"evenodd\" fill-opacity=\"1\" stroke=\"#000000\" stroke-opacity=\"1\" stroke-width=\"4\"/>\n",
       "<circle clip-path=\"url(#clip302)\" cx=\"1432.52\" cy=\"1550.44\" r=\"21.6\" fill=\"#0000ff\" fill-rule=\"evenodd\" fill-opacity=\"1\" stroke=\"#000000\" stroke-opacity=\"1\" stroke-width=\"4\"/>\n",
       "<polyline clip-path=\"url(#clip302)\" style=\"stroke:#808080; stroke-linecap:round; stroke-linejoin:round; stroke-width:4; stroke-opacity:0.3; fill:none\" points=\"254.349,3683.09 254.349,-1770.68 \"/>\n",
       "<polyline clip-path=\"url(#clip302)\" style=\"stroke:#808080; stroke-linecap:round; stroke-linejoin:round; stroke-width:4; stroke-opacity:0.3; fill:none\" points=\"462.325,3683.09 462.325,-1770.68 \"/>\n",
       "<polyline clip-path=\"url(#clip302)\" style=\"stroke:#808080; stroke-linecap:round; stroke-linejoin:round; stroke-width:4; stroke-opacity:0.3; fill:none\" points=\"686.009,3683.09 686.009,-1770.68 \"/>\n",
       "<polyline clip-path=\"url(#clip302)\" style=\"stroke:#808080; stroke-linecap:round; stroke-linejoin:round; stroke-width:4; stroke-opacity:0.3; fill:none\" points=\"1060.5,3683.09 1060.5,-1770.68 \"/>\n",
       "<polyline clip-path=\"url(#clip302)\" style=\"stroke:#808080; stroke-linecap:round; stroke-linejoin:round; stroke-width:4; stroke-opacity:0.3; fill:none\" points=\"1335.47,3683.09 1335.47,-1770.68 \"/>\n",
       "<polyline clip-path=\"url(#clip302)\" style=\"stroke:#808080; stroke-linecap:round; stroke-linejoin:round; stroke-width:4; stroke-opacity:0.3; fill:none\" points=\"1485.96,3683.09 1485.96,-1770.68 \"/>\n",
       "<polyline clip-path=\"url(#clip302)\" style=\"stroke:#808080; stroke-linecap:round; stroke-linejoin:round; stroke-width:4; stroke-opacity:0.3; fill:none\" points=\"1619.62,3683.09 1619.62,-1770.68 \"/>\n",
       "<polyline clip-path=\"url(#clip302)\" style=\"stroke:#808080; stroke-linecap:round; stroke-linejoin:round; stroke-width:4; stroke-opacity:0.3; fill:none\" points=\"1880.68,3683.09 1880.68,-1770.68 \"/>\n",
       "<polyline clip-path=\"url(#clip302)\" style=\"stroke:#808080; stroke-linecap:round; stroke-linejoin:round; stroke-width:4; stroke-opacity:0.3; fill:none\" points=\"-1588.21,1786.58 3723.24,1786.58 \"/>\n",
       "<polyline clip-path=\"url(#clip302)\" style=\"stroke:#808080; stroke-linecap:round; stroke-linejoin:round; stroke-width:4; stroke-opacity:0.3; fill:none\" points=\"-1588.21,1577.95 3723.24,1577.95 \"/>\n",
       "<polyline clip-path=\"url(#clip302)\" style=\"stroke:#808080; stroke-linecap:round; stroke-linejoin:round; stroke-width:4; stroke-opacity:0.3; fill:none\" points=\"-1588.21,1496.98 3723.24,1496.98 \"/>\n",
       "<polyline clip-path=\"url(#clip302)\" style=\"stroke:#808080; stroke-linecap:round; stroke-linejoin:round; stroke-width:4; stroke-opacity:0.3; fill:none\" points=\"-1588.21,1393.55 3723.24,1393.55 \"/>\n",
       "<polyline clip-path=\"url(#clip302)\" style=\"stroke:#808080; stroke-linecap:round; stroke-linejoin:round; stroke-width:4; stroke-opacity:0.3; fill:none\" points=\"-1588.21,1092.37 3723.24,1092.37 \"/>\n",
       "<polyline clip-path=\"url(#clip302)\" style=\"stroke:#808080; stroke-linecap:round; stroke-linejoin:round; stroke-width:4; stroke-opacity:0.3; fill:none\" points=\"-1588.21,664.55 3723.24,664.55 \"/>\n",
       "<polyline clip-path=\"url(#clip302)\" style=\"stroke:#808080; stroke-linecap:round; stroke-linejoin:round; stroke-width:4; stroke-opacity:0.3; fill:none\" points=\"-1588.21,397.445 3723.24,397.445 \"/>\n",
       "<polyline clip-path=\"url(#clip302)\" style=\"stroke:#808080; stroke-linecap:round; stroke-linejoin:round; stroke-width:4; stroke-opacity:0.3; fill:none\" points=\"-1588.21,125.833 3723.24,125.833 \"/>\n",
       "</svg>\n"
      ]
     },
     "execution_count": 22,
     "metadata": {},
     "output_type": "execute_result"
    }
   ],
   "source": [
    "rng = MersenneTwister(1000)\n",
    "n = 7\n",
    "S = rand(rng,n,2)\n",
    "half = n ÷ 2\n",
    "w = shuffle(rng,[ones(Int,half)...,-ones(Int,n-half)...])\n",
    "\n",
    "fig = plot_rb_points(S,w)\n",
    "plot_add_lines!(fig, S)"
   ]
  },
  {
   "cell_type": "code",
   "execution_count": 23,
   "id": "e062a78d-b1d0-4225-a305-b1b07963913d",
   "metadata": {
    "tags": []
   },
   "outputs": [
    {
     "data": {
      "text/plain": [
       "7×4 Matrix{Any}:\n",
       " 1  0.61  0.58  'r'\n",
       " 2  0.92  0.05  'r'\n",
       " 3  0.36  0.96  'b'\n",
       " 4  0.81  0.23  'b'\n",
       " 5  0.06  0.16  'b'\n",
       " 6  0.74  0.09  'b'\n",
       " 7  0.1   0.83  'r'"
      ]
     },
     "metadata": {},
     "output_type": "display_data"
    },
    {
     "name": "stdout",
     "output_type": "stream",
     "text": [
      "\n",
      "p = 3, q = 2, i = 4, j = 5\n",
      "--------------------------\n",
      "                      1  2  3  4  5  6  7  8    midpoint index\n",
      "sortperm_x          = [5, 7, 3, 1, 6, 4, 2]\n",
      "sortperm_x[p:p+i-1] = [3, 1, 6, 4]\n",
      "\n",
      "                      1  2  3  4  5  6  7  8    midpoint index\n",
      "sortperm_y          = [2, 6, 5, 4, 1, 7, 3]\n",
      "sortperm_y[q:q+j-1] = [6, 5, 4, 1, 7]\n",
      "\n",
      "intersection = [1, 6, 4]\n",
      "\n",
      "     1  2   3   4   5   6  7    point index\n",
      "w = [1, 1, -1, -1, -1, -1, 1]\n",
      "\n",
      "Disc_pqij  = abs(sum(w[intersection])) = 1\n",
      "Count_pqij = length(intersection)      = 3\n"
     ]
    },
    {
     "data": {
      "image/svg+xml": [
       "<?xml version=\"1.0\" encoding=\"utf-8\"?>\n",
       "<svg xmlns=\"http://www.w3.org/2000/svg\" xmlns:xlink=\"http://www.w3.org/1999/xlink\" width=\"500\" height=\"500\" viewBox=\"0 0 2000 2000\">\n",
       "<defs>\n",
       "  <clipPath id=\"clip380\">\n",
       "    <rect x=\"0\" y=\"0\" width=\"2000\" height=\"2000\"/>\n",
       "  </clipPath>\n",
       "</defs>\n",
       "<path clip-path=\"url(#clip380)\" d=\"M0 2000 L2000 2000 L2000 0 L0 0  Z\" fill=\"#ffffff\" fill-rule=\"evenodd\" fill-opacity=\"1\"/>\n",
       "<defs>\n",
       "  <clipPath id=\"clip381\">\n",
       "    <rect x=\"400\" y=\"200\" width=\"1401\" height=\"1401\"/>\n",
       "  </clipPath>\n",
       "</defs>\n",
       "<path clip-path=\"url(#clip380)\" d=\"M182.274 1865.17 L1952.76 1865.17 L1952.76 47.2441 L182.274 47.2441  Z\" fill=\"#ffffff\" fill-rule=\"evenodd\" fill-opacity=\"1\"/>\n",
       "<defs>\n",
       "  <clipPath id=\"clip382\">\n",
       "    <rect x=\"182\" y=\"47\" width=\"1771\" height=\"1819\"/>\n",
       "  </clipPath>\n",
       "</defs>\n",
       "<circle clip-path=\"url(#clip382)\" cx=\"1238.43\" cy=\"841.157\" r=\"21.6\" fill=\"#ff0000\" fill-rule=\"evenodd\" fill-opacity=\"1\" stroke=\"#000000\" stroke-opacity=\"1\" stroke-width=\"4\"/>\n",
       "<circle clip-path=\"url(#clip382)\" cx=\"1699.83\" cy=\"1605.46\" r=\"21.6\" fill=\"#ff0000\" fill-rule=\"evenodd\" fill-opacity=\"1\" stroke=\"#000000\" stroke-opacity=\"1\" stroke-width=\"4\"/>\n",
       "<circle clip-path=\"url(#clip382)\" cx=\"489.45\" cy=\"487.943\" r=\"21.6\" fill=\"#ff0000\" fill-rule=\"evenodd\" fill-opacity=\"1\" stroke=\"#000000\" stroke-opacity=\"1\" stroke-width=\"4\"/>\n",
       "<circle clip-path=\"url(#clip382)\" cx=\"882.569\" cy=\"306.947\" r=\"21.6\" fill=\"#0000ff\" fill-rule=\"evenodd\" fill-opacity=\"1\" stroke=\"#000000\" stroke-opacity=\"1\" stroke-width=\"4\"/>\n",
       "<circle clip-path=\"url(#clip382)\" cx=\"1539.4\" cy=\"1343.58\" r=\"21.6\" fill=\"#0000ff\" fill-rule=\"evenodd\" fill-opacity=\"1\" stroke=\"#000000\" stroke-opacity=\"1\" stroke-width=\"4\"/>\n",
       "<circle clip-path=\"url(#clip382)\" cx=\"435.2\" cy=\"1443.51\" r=\"21.6\" fill=\"#0000ff\" fill-rule=\"evenodd\" fill-opacity=\"1\" stroke=\"#000000\" stroke-opacity=\"1\" stroke-width=\"4\"/>\n",
       "<circle clip-path=\"url(#clip382)\" cx=\"1432.52\" cy=\"1550.44\" r=\"21.6\" fill=\"#0000ff\" fill-rule=\"evenodd\" fill-opacity=\"1\" stroke=\"#000000\" stroke-opacity=\"1\" stroke-width=\"4\"/>\n",
       "<polyline clip-path=\"url(#clip382)\" style=\"stroke:#808080; stroke-linecap:round; stroke-linejoin:round; stroke-width:4; stroke-opacity:0.3; fill:none\" points=\"254.349,3683.09 254.349,-1770.68 \"/>\n",
       "<polyline clip-path=\"url(#clip382)\" style=\"stroke:#808080; stroke-linecap:round; stroke-linejoin:round; stroke-width:4; stroke-opacity:0.3; fill:none\" points=\"462.325,3683.09 462.325,-1770.68 \"/>\n",
       "<polyline clip-path=\"url(#clip382)\" style=\"stroke:#808080; stroke-linecap:round; stroke-linejoin:round; stroke-width:4; stroke-opacity:0.3; fill:none\" points=\"686.009,3683.09 686.009,-1770.68 \"/>\n",
       "<polyline clip-path=\"url(#clip382)\" style=\"stroke:#808080; stroke-linecap:round; stroke-linejoin:round; stroke-width:4; stroke-opacity:0.3; fill:none\" points=\"1060.5,3683.09 1060.5,-1770.68 \"/>\n",
       "<polyline clip-path=\"url(#clip382)\" style=\"stroke:#808080; stroke-linecap:round; stroke-linejoin:round; stroke-width:4; stroke-opacity:0.3; fill:none\" points=\"1335.47,3683.09 1335.47,-1770.68 \"/>\n",
       "<polyline clip-path=\"url(#clip382)\" style=\"stroke:#808080; stroke-linecap:round; stroke-linejoin:round; stroke-width:4; stroke-opacity:0.3; fill:none\" points=\"1485.96,3683.09 1485.96,-1770.68 \"/>\n",
       "<polyline clip-path=\"url(#clip382)\" style=\"stroke:#808080; stroke-linecap:round; stroke-linejoin:round; stroke-width:4; stroke-opacity:0.3; fill:none\" points=\"1619.62,3683.09 1619.62,-1770.68 \"/>\n",
       "<polyline clip-path=\"url(#clip382)\" style=\"stroke:#808080; stroke-linecap:round; stroke-linejoin:round; stroke-width:4; stroke-opacity:0.3; fill:none\" points=\"1880.68,3683.09 1880.68,-1770.68 \"/>\n",
       "<polyline clip-path=\"url(#clip382)\" style=\"stroke:#808080; stroke-linecap:round; stroke-linejoin:round; stroke-width:4; stroke-opacity:0.3; fill:none\" points=\"-1588.21,1786.58 3723.24,1786.58 \"/>\n",
       "<polyline clip-path=\"url(#clip382)\" style=\"stroke:#808080; stroke-linecap:round; stroke-linejoin:round; stroke-width:4; stroke-opacity:0.3; fill:none\" points=\"-1588.21,1577.95 3723.24,1577.95 \"/>\n",
       "<polyline clip-path=\"url(#clip382)\" style=\"stroke:#808080; stroke-linecap:round; stroke-linejoin:round; stroke-width:4; stroke-opacity:0.3; fill:none\" points=\"-1588.21,1496.98 3723.24,1496.98 \"/>\n",
       "<polyline clip-path=\"url(#clip382)\" style=\"stroke:#808080; stroke-linecap:round; stroke-linejoin:round; stroke-width:4; stroke-opacity:0.3; fill:none\" points=\"-1588.21,1393.55 3723.24,1393.55 \"/>\n",
       "<polyline clip-path=\"url(#clip382)\" style=\"stroke:#808080; stroke-linecap:round; stroke-linejoin:round; stroke-width:4; stroke-opacity:0.3; fill:none\" points=\"-1588.21,1092.37 3723.24,1092.37 \"/>\n",
       "<polyline clip-path=\"url(#clip382)\" style=\"stroke:#808080; stroke-linecap:round; stroke-linejoin:round; stroke-width:4; stroke-opacity:0.3; fill:none\" points=\"-1588.21,664.55 3723.24,664.55 \"/>\n",
       "<polyline clip-path=\"url(#clip382)\" style=\"stroke:#808080; stroke-linecap:round; stroke-linejoin:round; stroke-width:4; stroke-opacity:0.3; fill:none\" points=\"-1588.21,397.445 3723.24,397.445 \"/>\n",
       "<polyline clip-path=\"url(#clip382)\" style=\"stroke:#808080; stroke-linecap:round; stroke-linejoin:round; stroke-width:4; stroke-opacity:0.3; fill:none\" points=\"-1588.21,125.833 3723.24,125.833 \"/>\n",
       "<path clip-path=\"url(#clip382)\" d=\"M686.009 1577.95 L686.009 397.445 L1619.62 397.445 L1619.62 1577.95 L686.009 1577.95  Z\" fill=\"#808080\" fill-rule=\"evenodd\" fill-opacity=\"0.2\"/>\n",
       "<polyline clip-path=\"url(#clip382)\" style=\"stroke:#000000; stroke-linecap:round; stroke-linejoin:round; stroke-width:4; stroke-opacity:0.2; fill:none\" points=\"686.009,1577.95 686.009,397.445 1619.62,397.445 1619.62,1577.95 686.009,1577.95 \"/>\n",
       "</svg>\n"
      ]
     },
     "execution_count": 23,
     "metadata": {},
     "output_type": "execute_result"
    }
   ],
   "source": [
    "p = 3\n",
    "q = 2\n",
    "i = 4\n",
    "j = 5\n",
    "\n",
    "fig = print_S_info(S,p,q,i,j)\n",
    "savefig(fig,\"figs/box$p$q$i$j.svg\")\n",
    "fig"
   ]
  },
  {
   "cell_type": "code",
   "execution_count": 415,
   "id": "bdeac490-65ef-4274-b155-58624ad2c950",
   "metadata": {
    "tags": []
   },
   "outputs": [
    {
     "name": "stdout",
     "output_type": "stream",
     "text": [
      "C[1,1,n,n]=2\n"
     ]
    },
    {
     "data": {
      "image/svg+xml": [
       "<?xml version=\"1.0\" encoding=\"utf-8\"?>\n",
       "<svg xmlns=\"http://www.w3.org/2000/svg\" xmlns:xlink=\"http://www.w3.org/1999/xlink\" width=\"500\" height=\"500\" viewBox=\"0 0 2000 2000\">\n",
       "<defs>\n",
       "  <clipPath id=\"clip780\">\n",
       "    <rect x=\"0\" y=\"0\" width=\"2000\" height=\"2000\"/>\n",
       "  </clipPath>\n",
       "</defs>\n",
       "<path clip-path=\"url(#clip780)\" d=\"M0 2000 L2000 2000 L2000 0 L0 0  Z\" fill=\"#ffffff\" fill-rule=\"evenodd\" fill-opacity=\"1\"/>\n",
       "<defs>\n",
       "  <clipPath id=\"clip781\">\n",
       "    <rect x=\"400\" y=\"200\" width=\"1401\" height=\"1401\"/>\n",
       "  </clipPath>\n",
       "</defs>\n",
       "<path clip-path=\"url(#clip780)\" d=\"M152.598 1865.17 L1952.76 1865.17 L1952.76 47.2441 L152.598 47.2441  Z\" fill=\"#ffffff\" fill-rule=\"evenodd\" fill-opacity=\"1\"/>\n",
       "<defs>\n",
       "  <clipPath id=\"clip782\">\n",
       "    <rect x=\"152\" y=\"47\" width=\"1801\" height=\"1819\"/>\n",
       "  </clipPath>\n",
       "</defs>\n",
       "<circle clip-path=\"url(#clip782)\" cx=\"655.262\" cy=\"864.88\" r=\"21.6\" fill=\"#ff0000\" fill-rule=\"evenodd\" fill-opacity=\"1\" stroke=\"#000000\" stroke-opacity=\"1\" stroke-width=\"4\"/>\n",
       "<circle clip-path=\"url(#clip782)\" cx=\"655.262\" cy=\"641.983\" r=\"21.6\" fill=\"#ff0000\" fill-rule=\"evenodd\" fill-opacity=\"1\" stroke=\"#000000\" stroke-opacity=\"1\" stroke-width=\"4\"/>\n",
       "<circle clip-path=\"url(#clip782)\" cx=\"1695.59\" cy=\"306.947\" r=\"21.6\" fill=\"#ff0000\" fill-rule=\"evenodd\" fill-opacity=\"1\" stroke=\"#000000\" stroke-opacity=\"1\" stroke-width=\"4\"/>\n",
       "<circle clip-path=\"url(#clip782)\" cx=\"655.262\" cy=\"622.369\" r=\"21.6\" fill=\"#0000ff\" fill-rule=\"evenodd\" fill-opacity=\"1\" stroke=\"#000000\" stroke-opacity=\"1\" stroke-width=\"4\"/>\n",
       "<circle clip-path=\"url(#clip782)\" cx=\"1079.1\" cy=\"1605.46\" r=\"21.6\" fill=\"#0000ff\" fill-rule=\"evenodd\" fill-opacity=\"1\" stroke=\"#000000\" stroke-opacity=\"1\" stroke-width=\"4\"/>\n",
       "<circle clip-path=\"url(#clip782)\" cx=\"693.96\" cy=\"1605.46\" r=\"21.6\" fill=\"#0000ff\" fill-rule=\"evenodd\" fill-opacity=\"1\" stroke=\"#000000\" stroke-opacity=\"1\" stroke-width=\"4\"/>\n",
       "<circle clip-path=\"url(#clip782)\" cx=\"409.764\" cy=\"1438.46\" r=\"21.6\" fill=\"#0000ff\" fill-rule=\"evenodd\" fill-opacity=\"1\" stroke=\"#000000\" stroke-opacity=\"1\" stroke-width=\"4\"/>\n",
       "<polyline clip-path=\"url(#clip782)\" style=\"stroke:#808080; stroke-linecap:round; stroke-linejoin:round; stroke-width:4; stroke-opacity:0.3; fill:none\" points=\"137.446,3683.09 137.446,-1770.68 \"/>\n",
       "<polyline clip-path=\"url(#clip782)\" style=\"stroke:#808080; stroke-linecap:round; stroke-linejoin:round; stroke-width:4; stroke-opacity:0.3; fill:none\" points=\"532.513,3683.09 532.513,-1770.68 \"/>\n",
       "<polyline clip-path=\"url(#clip782)\" style=\"stroke:#808080; stroke-linecap:round; stroke-linejoin:round; stroke-width:4; stroke-opacity:0.3; fill:none\" points=\"674.611,3683.09 674.611,-1770.68 \"/>\n",
       "<polyline clip-path=\"url(#clip782)\" style=\"stroke:#808080; stroke-linecap:round; stroke-linejoin:round; stroke-width:4; stroke-opacity:0.3; fill:none\" points=\"886.531,3683.09 886.531,-1770.68 \"/>\n",
       "<polyline clip-path=\"url(#clip782)\" style=\"stroke:#808080; stroke-linecap:round; stroke-linejoin:round; stroke-width:4; stroke-opacity:0.3; fill:none\" points=\"1387.35,3683.09 1387.35,-1770.68 \"/>\n",
       "<polyline clip-path=\"url(#clip782)\" style=\"stroke:#808080; stroke-linecap:round; stroke-linejoin:round; stroke-width:4; stroke-opacity:0.3; fill:none\" points=\"1967.91,3683.09 1967.91,-1770.68 \"/>\n",
       "<polyline clip-path=\"url(#clip782)\" style=\"stroke:#808080; stroke-linecap:round; stroke-linejoin:round; stroke-width:4; stroke-opacity:0.3; fill:none\" points=\"-1647.56,1856.6 3752.91,1856.6 \"/>\n",
       "<polyline clip-path=\"url(#clip782)\" style=\"stroke:#808080; stroke-linecap:round; stroke-linejoin:round; stroke-width:4; stroke-opacity:0.3; fill:none\" points=\"-1647.56,1521.96 3752.91,1521.96 \"/>\n",
       "<polyline clip-path=\"url(#clip782)\" style=\"stroke:#808080; stroke-linecap:round; stroke-linejoin:round; stroke-width:4; stroke-opacity:0.3; fill:none\" points=\"-1647.56,1151.67 3752.91,1151.67 \"/>\n",
       "<polyline clip-path=\"url(#clip782)\" style=\"stroke:#808080; stroke-linecap:round; stroke-linejoin:round; stroke-width:4; stroke-opacity:0.3; fill:none\" points=\"-1647.56,753.432 3752.91,753.432 \"/>\n",
       "<polyline clip-path=\"url(#clip782)\" style=\"stroke:#808080; stroke-linecap:round; stroke-linejoin:round; stroke-width:4; stroke-opacity:0.3; fill:none\" points=\"-1647.56,632.176 3752.91,632.176 \"/>\n",
       "<polyline clip-path=\"url(#clip782)\" style=\"stroke:#808080; stroke-linecap:round; stroke-linejoin:round; stroke-width:4; stroke-opacity:0.3; fill:none\" points=\"-1647.56,464.658 3752.91,464.658 \"/>\n",
       "<polyline clip-path=\"url(#clip782)\" style=\"stroke:#808080; stroke-linecap:round; stroke-linejoin:round; stroke-width:4; stroke-opacity:0.3; fill:none\" points=\"-1647.56,55.8101 3752.91,55.8101 \"/>\n",
       "<polyline clip-path=\"url(#clip782)\" style=\"stroke:#000000; stroke-linecap:round; stroke-linejoin:round; stroke-width:4; stroke-opacity:1; fill:none\" points=\"655.262,1825.21 655.262,87.2023 \"/>\n",
       "<circle clip-path=\"url(#clip782)\" cx=\"655.262\" cy=\"956.206\" r=\"21.6\" fill=\"#ffffff\" fill-rule=\"evenodd\" fill-opacity=\"1\" stroke=\"none\"/>\n",
       "<polyline clip-path=\"url(#clip782)\" style=\"stroke:#000000; stroke-linecap:round; stroke-linejoin:round; stroke-width:4; stroke-opacity:1; fill:none\" points=\"655.262,1521.96 1899.83,1521.96 \"/>\n",
       "<circle clip-path=\"url(#clip782)\" cx=\"1277.55\" cy=\"1521.96\" r=\"21.6\" fill=\"#ffffff\" fill-rule=\"evenodd\" fill-opacity=\"1\" stroke=\"none\"/>\n",
       "<path clip-path=\"url(#clip780)\" d=\"M648.048 966.215 L653.777 966.215 L653.777 946.44 L647.545 947.69 L647.545 944.496 L653.742 943.246 L657.249 943.246 L657.249 966.215 L662.979 966.215 L662.979 969.166 L648.048 969.166 L648.048 966.215 Z\" fill=\"#000000\" fill-rule=\"nonzero\" fill-opacity=\"1\" /><path clip-path=\"url(#clip780)\" d=\"M1273.53 1531.97 L1285.77 1531.97 L1285.77 1534.92 L1269.32 1534.92 L1269.32 1531.97 Q1271.31 1529.91 1274.75 1526.43 Q1278.2 1522.94 1279.09 1521.94 Q1280.77 1520.05 1281.43 1518.74 Q1282.11 1517.42 1282.11 1516.16 Q1282.11 1514.09 1280.65 1512.79 Q1279.21 1511.49 1276.89 1511.49 Q1275.24 1511.49 1273.4 1512.06 Q1271.57 1512.63 1269.49 1513.8 L1269.49 1510.25 Q1271.61 1509.4 1273.45 1508.97 Q1275.29 1508.53 1276.82 1508.53 Q1280.84 1508.53 1283.24 1510.55 Q1285.64 1512.56 1285.64 1515.93 Q1285.64 1517.53 1285.03 1518.97 Q1284.44 1520.39 1282.86 1522.34 Q1282.42 1522.84 1280.1 1525.25 Q1277.77 1527.65 1273.53 1531.97 Z\" fill=\"#000000\" fill-rule=\"nonzero\" fill-opacity=\"1\" /></svg>\n"
      ]
     },
     "execution_count": 415,
     "metadata": {},
     "output_type": "execute_result"
    }
   ],
   "source": [
    "# Ejemplo con lineas perdidas\n",
    "rng = MersenneTwister()\n",
    "n = 7\n",
    "S = rand(rng,n,2)\n",
    "half = n ÷ 2\n",
    "w = shuffle(rng,[ones(Int,half)...,-ones(Int,n-half)...])\n",
    "\n",
    "\n",
    "S[1,1] = S[3,1]\n",
    "S[2,1] = S[3,1]\n",
    "\n",
    "S[4,2] = S[5,2]\n",
    "\n",
    "fig = plot_rb_points(S,w)\n",
    "plot_add_lines!(fig, S)\n",
    "\n",
    "C, P, D, midpoints_x, midpoints_y, argcuts, idxcuts = coarseness_g(S,w)\n",
    "\n",
    "fig = plot_rb_points(S,w)\n",
    "plot_add_lines!(fig, S)\n",
    "plot_guillotine_line!(fig,1,1,n,n)\n",
    "println(\"C[1,1,n,n]=$(C[1,1,n,n])\")\n",
    "fig"
   ]
  },
  {
   "cell_type": "code",
   "execution_count": 383,
   "id": "e7a4d873-5c9b-4f36-8e00-2c1b5204ffe4",
   "metadata": {
    "tags": []
   },
   "outputs": [
    {
     "name": "stdout",
     "output_type": "stream",
     "text": [
      "C[1,1,n,n]=5\n"
     ]
    },
    {
     "data": {
      "image/svg+xml": [
       "<?xml version=\"1.0\" encoding=\"utf-8\"?>\n",
       "<svg xmlns=\"http://www.w3.org/2000/svg\" xmlns:xlink=\"http://www.w3.org/1999/xlink\" width=\"500\" height=\"500\" viewBox=\"0 0 2000 2000\">\n",
       "<defs>\n",
       "  <clipPath id=\"clip620\">\n",
       "    <rect x=\"0\" y=\"0\" width=\"2000\" height=\"2000\"/>\n",
       "  </clipPath>\n",
       "</defs>\n",
       "<path clip-path=\"url(#clip620)\" d=\"M0 2000 L2000 2000 L2000 0 L0 0  Z\" fill=\"#ffffff\" fill-rule=\"evenodd\" fill-opacity=\"1\"/>\n",
       "<defs>\n",
       "  <clipPath id=\"clip621\">\n",
       "    <rect x=\"400\" y=\"200\" width=\"1401\" height=\"1401\"/>\n",
       "  </clipPath>\n",
       "</defs>\n",
       "<path clip-path=\"url(#clip620)\" d=\"M182.274 1865.17 L1952.76 1865.17 L1952.76 47.2441 L182.274 47.2441  Z\" fill=\"#ffffff\" fill-rule=\"evenodd\" fill-opacity=\"1\"/>\n",
       "<defs>\n",
       "  <clipPath id=\"clip622\">\n",
       "    <rect x=\"182\" y=\"47\" width=\"1771\" height=\"1819\"/>\n",
       "  </clipPath>\n",
       "</defs>\n",
       "<circle clip-path=\"url(#clip622)\" cx=\"1600.75\" cy=\"816.841\" r=\"21.6\" fill=\"#ff0000\" fill-rule=\"evenodd\" fill-opacity=\"1\" stroke=\"#000000\" stroke-opacity=\"1\" stroke-width=\"4\"/>\n",
       "<circle clip-path=\"url(#clip622)\" cx=\"1140.41\" cy=\"842.59\" r=\"21.6\" fill=\"#ff0000\" fill-rule=\"evenodd\" fill-opacity=\"1\" stroke=\"#000000\" stroke-opacity=\"1\" stroke-width=\"4\"/>\n",
       "<circle clip-path=\"url(#clip622)\" cx=\"1308.12\" cy=\"1093.48\" r=\"21.6\" fill=\"#ff0000\" fill-rule=\"evenodd\" fill-opacity=\"1\" stroke=\"#000000\" stroke-opacity=\"1\" stroke-width=\"4\"/>\n",
       "<circle clip-path=\"url(#clip622)\" cx=\"1290.82\" cy=\"1416.07\" r=\"21.6\" fill=\"#ff0000\" fill-rule=\"evenodd\" fill-opacity=\"1\" stroke=\"#000000\" stroke-opacity=\"1\" stroke-width=\"4\"/>\n",
       "<circle clip-path=\"url(#clip622)\" cx=\"1605.4\" cy=\"521.315\" r=\"21.6\" fill=\"#ff0000\" fill-rule=\"evenodd\" fill-opacity=\"1\" stroke=\"#000000\" stroke-opacity=\"1\" stroke-width=\"4\"/>\n",
       "<circle clip-path=\"url(#clip622)\" cx=\"698.978\" cy=\"429.548\" r=\"21.6\" fill=\"#ff0000\" fill-rule=\"evenodd\" fill-opacity=\"1\" stroke=\"#000000\" stroke-opacity=\"1\" stroke-width=\"4\"/>\n",
       "<circle clip-path=\"url(#clip622)\" cx=\"1046.6\" cy=\"1573.38\" r=\"21.6\" fill=\"#ff0000\" fill-rule=\"evenodd\" fill-opacity=\"1\" stroke=\"#000000\" stroke-opacity=\"1\" stroke-width=\"4\"/>\n",
       "<circle clip-path=\"url(#clip622)\" cx=\"897.595\" cy=\"854.496\" r=\"21.6\" fill=\"#ff0000\" fill-rule=\"evenodd\" fill-opacity=\"1\" stroke=\"#000000\" stroke-opacity=\"1\" stroke-width=\"4\"/>\n",
       "<circle clip-path=\"url(#clip622)\" cx=\"711.071\" cy=\"841.303\" r=\"21.6\" fill=\"#ff0000\" fill-rule=\"evenodd\" fill-opacity=\"1\" stroke=\"#000000\" stroke-opacity=\"1\" stroke-width=\"4\"/>\n",
       "<circle clip-path=\"url(#clip622)\" cx=\"1186.97\" cy=\"379.698\" r=\"21.6\" fill=\"#ff0000\" fill-rule=\"evenodd\" fill-opacity=\"1\" stroke=\"#000000\" stroke-opacity=\"1\" stroke-width=\"4\"/>\n",
       "<circle clip-path=\"url(#clip622)\" cx=\"1078.23\" cy=\"306.947\" r=\"21.6\" fill=\"#ff0000\" fill-rule=\"evenodd\" fill-opacity=\"1\" stroke=\"#000000\" stroke-opacity=\"1\" stroke-width=\"4\"/>\n",
       "<circle clip-path=\"url(#clip622)\" cx=\"1086.97\" cy=\"1463.8\" r=\"21.6\" fill=\"#ff0000\" fill-rule=\"evenodd\" fill-opacity=\"1\" stroke=\"#000000\" stroke-opacity=\"1\" stroke-width=\"4\"/>\n",
       "<circle clip-path=\"url(#clip622)\" cx=\"645.784\" cy=\"1485\" r=\"21.6\" fill=\"#ff0000\" fill-rule=\"evenodd\" fill-opacity=\"1\" stroke=\"#000000\" stroke-opacity=\"1\" stroke-width=\"4\"/>\n",
       "<circle clip-path=\"url(#clip622)\" cx=\"1290.62\" cy=\"1207.91\" r=\"21.6\" fill=\"#ff0000\" fill-rule=\"evenodd\" fill-opacity=\"1\" stroke=\"#000000\" stroke-opacity=\"1\" stroke-width=\"4\"/>\n",
       "<circle clip-path=\"url(#clip622)\" cx=\"1314.4\" cy=\"790.92\" r=\"21.6\" fill=\"#ff0000\" fill-rule=\"evenodd\" fill-opacity=\"1\" stroke=\"#000000\" stroke-opacity=\"1\" stroke-width=\"4\"/>\n",
       "<circle clip-path=\"url(#clip622)\" cx=\"437.237\" cy=\"1332.05\" r=\"21.6\" fill=\"#0000ff\" fill-rule=\"evenodd\" fill-opacity=\"1\" stroke=\"#000000\" stroke-opacity=\"1\" stroke-width=\"4\"/>\n",
       "<circle clip-path=\"url(#clip622)\" cx=\"1660.88\" cy=\"354.295\" r=\"21.6\" fill=\"#0000ff\" fill-rule=\"evenodd\" fill-opacity=\"1\" stroke=\"#000000\" stroke-opacity=\"1\" stroke-width=\"4\"/>\n",
       "<circle clip-path=\"url(#clip622)\" cx=\"499.264\" cy=\"566.851\" r=\"21.6\" fill=\"#0000ff\" fill-rule=\"evenodd\" fill-opacity=\"1\" stroke=\"#000000\" stroke-opacity=\"1\" stroke-width=\"4\"/>\n",
       "<circle clip-path=\"url(#clip622)\" cx=\"1467.72\" cy=\"417.147\" r=\"21.6\" fill=\"#0000ff\" fill-rule=\"evenodd\" fill-opacity=\"1\" stroke=\"#000000\" stroke-opacity=\"1\" stroke-width=\"4\"/>\n",
       "<circle clip-path=\"url(#clip622)\" cx=\"1567.35\" cy=\"1095.59\" r=\"21.6\" fill=\"#0000ff\" fill-rule=\"evenodd\" fill-opacity=\"1\" stroke=\"#000000\" stroke-opacity=\"1\" stroke-width=\"4\"/>\n",
       "<circle clip-path=\"url(#clip622)\" cx=\"435.2\" cy=\"796.618\" r=\"21.6\" fill=\"#0000ff\" fill-rule=\"evenodd\" fill-opacity=\"1\" stroke=\"#000000\" stroke-opacity=\"1\" stroke-width=\"4\"/>\n",
       "<circle clip-path=\"url(#clip622)\" cx=\"1699.83\" cy=\"1083.31\" r=\"21.6\" fill=\"#0000ff\" fill-rule=\"evenodd\" fill-opacity=\"1\" stroke=\"#000000\" stroke-opacity=\"1\" stroke-width=\"4\"/>\n",
       "<circle clip-path=\"url(#clip622)\" cx=\"581.045\" cy=\"1175.87\" r=\"21.6\" fill=\"#0000ff\" fill-rule=\"evenodd\" fill-opacity=\"1\" stroke=\"#000000\" stroke-opacity=\"1\" stroke-width=\"4\"/>\n",
       "<circle clip-path=\"url(#clip622)\" cx=\"921.731\" cy=\"607.19\" r=\"21.6\" fill=\"#0000ff\" fill-rule=\"evenodd\" fill-opacity=\"1\" stroke=\"#000000\" stroke-opacity=\"1\" stroke-width=\"4\"/>\n",
       "<circle clip-path=\"url(#clip622)\" cx=\"1037.29\" cy=\"1374.63\" r=\"21.6\" fill=\"#0000ff\" fill-rule=\"evenodd\" fill-opacity=\"1\" stroke=\"#000000\" stroke-opacity=\"1\" stroke-width=\"4\"/>\n",
       "<circle clip-path=\"url(#clip622)\" cx=\"1532.17\" cy=\"1238.09\" r=\"21.6\" fill=\"#0000ff\" fill-rule=\"evenodd\" fill-opacity=\"1\" stroke=\"#000000\" stroke-opacity=\"1\" stroke-width=\"4\"/>\n",
       "<circle clip-path=\"url(#clip622)\" cx=\"761.322\" cy=\"1605.46\" r=\"21.6\" fill=\"#0000ff\" fill-rule=\"evenodd\" fill-opacity=\"1\" stroke=\"#000000\" stroke-opacity=\"1\" stroke-width=\"4\"/>\n",
       "<circle clip-path=\"url(#clip622)\" cx=\"1329.36\" cy=\"567.406\" r=\"21.6\" fill=\"#0000ff\" fill-rule=\"evenodd\" fill-opacity=\"1\" stroke=\"#000000\" stroke-opacity=\"1\" stroke-width=\"4\"/>\n",
       "<circle clip-path=\"url(#clip622)\" cx=\"911.123\" cy=\"665.809\" r=\"21.6\" fill=\"#0000ff\" fill-rule=\"evenodd\" fill-opacity=\"1\" stroke=\"#000000\" stroke-opacity=\"1\" stroke-width=\"4\"/>\n",
       "<circle clip-path=\"url(#clip622)\" cx=\"528.59\" cy=\"388.752\" r=\"21.6\" fill=\"#0000ff\" fill-rule=\"evenodd\" fill-opacity=\"1\" stroke=\"#000000\" stroke-opacity=\"1\" stroke-width=\"4\"/>\n",
       "<polyline clip-path=\"url(#clip622)\" style=\"stroke:#808080; stroke-linecap:round; stroke-linejoin:round; stroke-width:4; stroke-opacity:0.3; fill:none\" points=\"389.98,3683.09 389.98,-1770.68 \"/>\n",
       "<polyline clip-path=\"url(#clip622)\" style=\"stroke:#808080; stroke-linecap:round; stroke-linejoin:round; stroke-width:4; stroke-opacity:0.3; fill:none\" points=\"436.218,3683.09 436.218,-1770.68 \"/>\n",
       "<polyline clip-path=\"url(#clip622)\" style=\"stroke:#808080; stroke-linecap:round; stroke-linejoin:round; stroke-width:4; stroke-opacity:0.3; fill:none\" points=\"468.25,3683.09 468.25,-1770.68 \"/>\n",
       "<polyline clip-path=\"url(#clip622)\" style=\"stroke:#808080; stroke-linecap:round; stroke-linejoin:round; stroke-width:4; stroke-opacity:0.3; fill:none\" points=\"513.927,3683.09 513.927,-1770.68 \"/>\n",
       "<polyline clip-path=\"url(#clip622)\" style=\"stroke:#808080; stroke-linecap:round; stroke-linejoin:round; stroke-width:4; stroke-opacity:0.3; fill:none\" points=\"554.817,3683.09 554.817,-1770.68 \"/>\n",
       "<polyline clip-path=\"url(#clip622)\" style=\"stroke:#808080; stroke-linecap:round; stroke-linejoin:round; stroke-width:4; stroke-opacity:0.3; fill:none\" points=\"613.414,3683.09 613.414,-1770.68 \"/>\n",
       "<polyline clip-path=\"url(#clip622)\" style=\"stroke:#808080; stroke-linecap:round; stroke-linejoin:round; stroke-width:4; stroke-opacity:0.3; fill:none\" points=\"672.381,3683.09 672.381,-1770.68 \"/>\n",
       "<polyline clip-path=\"url(#clip622)\" style=\"stroke:#808080; stroke-linecap:round; stroke-linejoin:round; stroke-width:4; stroke-opacity:0.3; fill:none\" points=\"705.025,3683.09 705.025,-1770.68 \"/>\n",
       "<polyline clip-path=\"url(#clip622)\" style=\"stroke:#808080; stroke-linecap:round; stroke-linejoin:round; stroke-width:4; stroke-opacity:0.3; fill:none\" points=\"736.196,3683.09 736.196,-1770.68 \"/>\n",
       "<polyline clip-path=\"url(#clip622)\" style=\"stroke:#808080; stroke-linecap:round; stroke-linejoin:round; stroke-width:4; stroke-opacity:0.3; fill:none\" points=\"829.458,3683.09 829.458,-1770.68 \"/>\n",
       "<polyline clip-path=\"url(#clip622)\" style=\"stroke:#808080; stroke-linecap:round; stroke-linejoin:round; stroke-width:4; stroke-opacity:0.3; fill:none\" points=\"904.359,3683.09 904.359,-1770.68 \"/>\n",
       "<polyline clip-path=\"url(#clip622)\" style=\"stroke:#808080; stroke-linecap:round; stroke-linejoin:round; stroke-width:4; stroke-opacity:0.3; fill:none\" points=\"916.427,3683.09 916.427,-1770.68 \"/>\n",
       "<polyline clip-path=\"url(#clip622)\" style=\"stroke:#808080; stroke-linecap:round; stroke-linejoin:round; stroke-width:4; stroke-opacity:0.3; fill:none\" points=\"979.508,3683.09 979.508,-1770.68 \"/>\n",
       "<polyline clip-path=\"url(#clip622)\" style=\"stroke:#808080; stroke-linecap:round; stroke-linejoin:round; stroke-width:4; stroke-opacity:0.3; fill:none\" points=\"1041.94,3683.09 1041.94,-1770.68 \"/>\n",
       "<polyline clip-path=\"url(#clip622)\" style=\"stroke:#808080; stroke-linecap:round; stroke-linejoin:round; stroke-width:4; stroke-opacity:0.3; fill:none\" points=\"1062.42,3683.09 1062.42,-1770.68 \"/>\n",
       "<polyline clip-path=\"url(#clip622)\" style=\"stroke:#808080; stroke-linecap:round; stroke-linejoin:round; stroke-width:4; stroke-opacity:0.3; fill:none\" points=\"1082.6,3683.09 1082.6,-1770.68 \"/>\n",
       "<polyline clip-path=\"url(#clip622)\" style=\"stroke:#808080; stroke-linecap:round; stroke-linejoin:round; stroke-width:4; stroke-opacity:0.3; fill:none\" points=\"1113.69,3683.09 1113.69,-1770.68 \"/>\n",
       "<polyline clip-path=\"url(#clip622)\" style=\"stroke:#808080; stroke-linecap:round; stroke-linejoin:round; stroke-width:4; stroke-opacity:0.3; fill:none\" points=\"1163.69,3683.09 1163.69,-1770.68 \"/>\n",
       "<polyline clip-path=\"url(#clip622)\" style=\"stroke:#808080; stroke-linecap:round; stroke-linejoin:round; stroke-width:4; stroke-opacity:0.3; fill:none\" points=\"1238.8,3683.09 1238.8,-1770.68 \"/>\n",
       "<polyline clip-path=\"url(#clip622)\" style=\"stroke:#808080; stroke-linecap:round; stroke-linejoin:round; stroke-width:4; stroke-opacity:0.3; fill:none\" points=\"1290.72,3683.09 1290.72,-1770.68 \"/>\n",
       "<polyline clip-path=\"url(#clip622)\" style=\"stroke:#808080; stroke-linecap:round; stroke-linejoin:round; stroke-width:4; stroke-opacity:0.3; fill:none\" points=\"1299.47,3683.09 1299.47,-1770.68 \"/>\n",
       "<polyline clip-path=\"url(#clip622)\" style=\"stroke:#808080; stroke-linecap:round; stroke-linejoin:round; stroke-width:4; stroke-opacity:0.3; fill:none\" points=\"1311.26,3683.09 1311.26,-1770.68 \"/>\n",
       "<polyline clip-path=\"url(#clip622)\" style=\"stroke:#808080; stroke-linecap:round; stroke-linejoin:round; stroke-width:4; stroke-opacity:0.3; fill:none\" points=\"1321.88,3683.09 1321.88,-1770.68 \"/>\n",
       "<polyline clip-path=\"url(#clip622)\" style=\"stroke:#808080; stroke-linecap:round; stroke-linejoin:round; stroke-width:4; stroke-opacity:0.3; fill:none\" points=\"1398.54,3683.09 1398.54,-1770.68 \"/>\n",
       "<polyline clip-path=\"url(#clip622)\" style=\"stroke:#808080; stroke-linecap:round; stroke-linejoin:round; stroke-width:4; stroke-opacity:0.3; fill:none\" points=\"1499.94,3683.09 1499.94,-1770.68 \"/>\n",
       "<polyline clip-path=\"url(#clip622)\" style=\"stroke:#808080; stroke-linecap:round; stroke-linejoin:round; stroke-width:4; stroke-opacity:0.3; fill:none\" points=\"1549.76,3683.09 1549.76,-1770.68 \"/>\n",
       "<polyline clip-path=\"url(#clip622)\" style=\"stroke:#808080; stroke-linecap:round; stroke-linejoin:round; stroke-width:4; stroke-opacity:0.3; fill:none\" points=\"1584.05,3683.09 1584.05,-1770.68 \"/>\n",
       "<polyline clip-path=\"url(#clip622)\" style=\"stroke:#808080; stroke-linecap:round; stroke-linejoin:round; stroke-width:4; stroke-opacity:0.3; fill:none\" points=\"1603.08,3683.09 1603.08,-1770.68 \"/>\n",
       "<polyline clip-path=\"url(#clip622)\" style=\"stroke:#808080; stroke-linecap:round; stroke-linejoin:round; stroke-width:4; stroke-opacity:0.3; fill:none\" points=\"1633.14,3683.09 1633.14,-1770.68 \"/>\n",
       "<polyline clip-path=\"url(#clip622)\" style=\"stroke:#808080; stroke-linecap:round; stroke-linejoin:round; stroke-width:4; stroke-opacity:0.3; fill:none\" points=\"1680.35,3683.09 1680.35,-1770.68 \"/>\n",
       "<polyline clip-path=\"url(#clip622)\" style=\"stroke:#808080; stroke-linecap:round; stroke-linejoin:round; stroke-width:4; stroke-opacity:0.3; fill:none\" points=\"1745.05,3683.09 1745.05,-1770.68 \"/>\n",
       "<polyline clip-path=\"url(#clip622)\" style=\"stroke:#808080; stroke-linecap:round; stroke-linejoin:round; stroke-width:4; stroke-opacity:0.3; fill:none\" points=\"-1588.21,1660.59 3723.24,1660.59 \"/>\n",
       "<polyline clip-path=\"url(#clip622)\" style=\"stroke:#808080; stroke-linecap:round; stroke-linejoin:round; stroke-width:4; stroke-opacity:0.3; fill:none\" points=\"-1588.21,1589.42 3723.24,1589.42 \"/>\n",
       "<polyline clip-path=\"url(#clip622)\" style=\"stroke:#808080; stroke-linecap:round; stroke-linejoin:round; stroke-width:4; stroke-opacity:0.3; fill:none\" points=\"-1588.21,1529.19 3723.24,1529.19 \"/>\n",
       "<polyline clip-path=\"url(#clip622)\" style=\"stroke:#808080; stroke-linecap:round; stroke-linejoin:round; stroke-width:4; stroke-opacity:0.3; fill:none\" points=\"-1588.21,1474.4 3723.24,1474.4 \"/>\n",
       "<polyline clip-path=\"url(#clip622)\" style=\"stroke:#808080; stroke-linecap:round; stroke-linejoin:round; stroke-width:4; stroke-opacity:0.3; fill:none\" points=\"-1588.21,1439.94 3723.24,1439.94 \"/>\n",
       "<polyline clip-path=\"url(#clip622)\" style=\"stroke:#808080; stroke-linecap:round; stroke-linejoin:round; stroke-width:4; stroke-opacity:0.3; fill:none\" points=\"-1588.21,1395.35 3723.24,1395.35 \"/>\n",
       "<polyline clip-path=\"url(#clip622)\" style=\"stroke:#808080; stroke-linecap:round; stroke-linejoin:round; stroke-width:4; stroke-opacity:0.3; fill:none\" points=\"-1588.21,1353.34 3723.24,1353.34 \"/>\n",
       "<polyline clip-path=\"url(#clip622)\" style=\"stroke:#808080; stroke-linecap:round; stroke-linejoin:round; stroke-width:4; stroke-opacity:0.3; fill:none\" points=\"-1588.21,1285.07 3723.24,1285.07 \"/>\n",
       "<polyline clip-path=\"url(#clip622)\" style=\"stroke:#808080; stroke-linecap:round; stroke-linejoin:round; stroke-width:4; stroke-opacity:0.3; fill:none\" points=\"-1588.21,1223 3723.24,1223 \"/>\n",
       "<polyline clip-path=\"url(#clip622)\" style=\"stroke:#808080; stroke-linecap:round; stroke-linejoin:round; stroke-width:4; stroke-opacity:0.3; fill:none\" points=\"-1588.21,1191.89 3723.24,1191.89 \"/>\n",
       "<polyline clip-path=\"url(#clip622)\" style=\"stroke:#808080; stroke-linecap:round; stroke-linejoin:round; stroke-width:4; stroke-opacity:0.3; fill:none\" points=\"-1588.21,1135.73 3723.24,1135.73 \"/>\n",
       "<polyline clip-path=\"url(#clip622)\" style=\"stroke:#808080; stroke-linecap:round; stroke-linejoin:round; stroke-width:4; stroke-opacity:0.3; fill:none\" points=\"-1588.21,1094.53 3723.24,1094.53 \"/>\n",
       "<polyline clip-path=\"url(#clip622)\" style=\"stroke:#808080; stroke-linecap:round; stroke-linejoin:round; stroke-width:4; stroke-opacity:0.3; fill:none\" points=\"-1588.21,1088.39 3723.24,1088.39 \"/>\n",
       "<polyline clip-path=\"url(#clip622)\" style=\"stroke:#808080; stroke-linecap:round; stroke-linejoin:round; stroke-width:4; stroke-opacity:0.3; fill:none\" points=\"-1588.21,968.902 3723.24,968.902 \"/>\n",
       "<polyline clip-path=\"url(#clip622)\" style=\"stroke:#808080; stroke-linecap:round; stroke-linejoin:round; stroke-width:4; stroke-opacity:0.3; fill:none\" points=\"-1588.21,848.543 3723.24,848.543 \"/>\n",
       "<polyline clip-path=\"url(#clip622)\" style=\"stroke:#808080; stroke-linecap:round; stroke-linejoin:round; stroke-width:4; stroke-opacity:0.3; fill:none\" points=\"-1588.21,841.947 3723.24,841.947 \"/>\n",
       "<polyline clip-path=\"url(#clip622)\" style=\"stroke:#808080; stroke-linecap:round; stroke-linejoin:round; stroke-width:4; stroke-opacity:0.3; fill:none\" points=\"-1588.21,829.072 3723.24,829.072 \"/>\n",
       "<polyline clip-path=\"url(#clip622)\" style=\"stroke:#808080; stroke-linecap:round; stroke-linejoin:round; stroke-width:4; stroke-opacity:0.3; fill:none\" points=\"-1588.21,806.729 3723.24,806.729 \"/>\n",
       "<polyline clip-path=\"url(#clip622)\" style=\"stroke:#808080; stroke-linecap:round; stroke-linejoin:round; stroke-width:4; stroke-opacity:0.3; fill:none\" points=\"-1588.21,793.769 3723.24,793.769 \"/>\n",
       "<polyline clip-path=\"url(#clip622)\" style=\"stroke:#808080; stroke-linecap:round; stroke-linejoin:round; stroke-width:4; stroke-opacity:0.3; fill:none\" points=\"-1588.21,728.365 3723.24,728.365 \"/>\n",
       "<polyline clip-path=\"url(#clip622)\" style=\"stroke:#808080; stroke-linecap:round; stroke-linejoin:round; stroke-width:4; stroke-opacity:0.3; fill:none\" points=\"-1588.21,636.499 3723.24,636.499 \"/>\n",
       "<polyline clip-path=\"url(#clip622)\" style=\"stroke:#808080; stroke-linecap:round; stroke-linejoin:round; stroke-width:4; stroke-opacity:0.3; fill:none\" points=\"-1588.21,587.298 3723.24,587.298 \"/>\n",
       "<polyline clip-path=\"url(#clip622)\" style=\"stroke:#808080; stroke-linecap:round; stroke-linejoin:round; stroke-width:4; stroke-opacity:0.3; fill:none\" points=\"-1588.21,567.129 3723.24,567.129 \"/>\n",
       "<polyline clip-path=\"url(#clip622)\" style=\"stroke:#808080; stroke-linecap:round; stroke-linejoin:round; stroke-width:4; stroke-opacity:0.3; fill:none\" points=\"-1588.21,544.083 3723.24,544.083 \"/>\n",
       "<polyline clip-path=\"url(#clip622)\" style=\"stroke:#808080; stroke-linecap:round; stroke-linejoin:round; stroke-width:4; stroke-opacity:0.3; fill:none\" points=\"-1588.21,475.431 3723.24,475.431 \"/>\n",
       "<polyline clip-path=\"url(#clip622)\" style=\"stroke:#808080; stroke-linecap:round; stroke-linejoin:round; stroke-width:4; stroke-opacity:0.3; fill:none\" points=\"-1588.21,423.347 3723.24,423.347 \"/>\n",
       "<polyline clip-path=\"url(#clip622)\" style=\"stroke:#808080; stroke-linecap:round; stroke-linejoin:round; stroke-width:4; stroke-opacity:0.3; fill:none\" points=\"-1588.21,402.95 3723.24,402.95 \"/>\n",
       "<polyline clip-path=\"url(#clip622)\" style=\"stroke:#808080; stroke-linecap:round; stroke-linejoin:round; stroke-width:4; stroke-opacity:0.3; fill:none\" points=\"-1588.21,384.225 3723.24,384.225 \"/>\n",
       "<polyline clip-path=\"url(#clip622)\" style=\"stroke:#808080; stroke-linecap:round; stroke-linejoin:round; stroke-width:4; stroke-opacity:0.3; fill:none\" points=\"-1588.21,366.996 3723.24,366.996 \"/>\n",
       "<polyline clip-path=\"url(#clip622)\" style=\"stroke:#808080; stroke-linecap:round; stroke-linejoin:round; stroke-width:4; stroke-opacity:0.3; fill:none\" points=\"-1588.21,330.621 3723.24,330.621 \"/>\n",
       "<polyline clip-path=\"url(#clip622)\" style=\"stroke:#808080; stroke-linecap:round; stroke-linejoin:round; stroke-width:4; stroke-opacity:0.3; fill:none\" points=\"-1588.21,251.819 3723.24,251.819 \"/>\n",
       "<polyline clip-path=\"url(#clip622)\" style=\"stroke:#000000; stroke-linecap:round; stroke-linejoin:round; stroke-width:4; stroke-opacity:1; fill:none\" points=\"613.414,1660.59 613.414,251.819 \"/>\n",
       "<circle clip-path=\"url(#clip622)\" cx=\"613.414\" cy=\"956.206\" r=\"21.6\" fill=\"#ffffff\" fill-rule=\"evenodd\" fill-opacity=\"1\" stroke=\"none\"/>\n",
       "<path clip-path=\"url(#clip620)\" d=\"M606.201 966.215 L611.93 966.215 L611.93 946.44 L605.697 947.69 L605.697 944.496 L611.895 943.246 L615.402 943.246 L615.402 966.215 L621.131 966.215 L621.131 969.166 L606.201 969.166 L606.201 966.215 Z\" fill=\"#000000\" fill-rule=\"nonzero\" fill-opacity=\"1\" /></svg>\n"
      ]
     },
     "execution_count": 383,
     "metadata": {},
     "output_type": "execute_result"
    }
   ],
   "source": [
    "rng = MersenneTwister()\n",
    "n = 30\n",
    "S = rand(rng,n,2)\n",
    "half = n ÷ 2\n",
    "w = shuffle(rng,[ones(Int,half)...,-ones(Int,n-half)...])\n",
    "\n",
    "\n",
    "\n",
    "C, P, D, midpoints_x, midpoints_y, argcuts, idxcuts = coarseness_g(S,w)\n",
    "\n",
    "fig = plot_rb_points(S,w)\n",
    "plot_add_lines!(fig, S)\n",
    "plot_guillotine_line!(fig,1,1,n,n)\n",
    "println(\"C[1,1,n,n]=$(C[1,1,n,n])\")\n",
    "fig"
   ]
  },
  {
   "cell_type": "code",
   "execution_count": 72,
   "id": "12978783-af16-4a8c-a126-488aeca382f9",
   "metadata": {
    "tags": []
   },
   "outputs": [
    {
     "data": {
      "text/plain": [
       "0"
      ]
     },
     "execution_count": 72,
     "metadata": {},
     "output_type": "execute_result"
    }
   ],
   "source": []
  }
 ],
 "metadata": {
  "kernelspec": {
   "display_name": "Julia 1.6.1",
   "language": "julia",
   "name": "julia-1.6"
  },
  "language_info": {
   "file_extension": ".jl",
   "mimetype": "application/julia",
   "name": "julia",
   "version": "1.6.1"
  }
 },
 "nbformat": 4,
 "nbformat_minor": 5
}
