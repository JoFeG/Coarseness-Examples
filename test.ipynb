{
 "cells": [
  {
   "cell_type": "code",
   "execution_count": 1,
   "id": "bfab1d65-d1e6-44d3-8fcd-bf1297c49ce2",
   "metadata": {
    "tags": []
   },
   "outputs": [
    {
     "name": "stdout",
     "output_type": "stream",
     "text": [
      "[0.306, 0.332, 0.62, 0.644, 0.751, 0.722]\n",
      "[0.306, 0.332, 0.62, 0.644, 0.722, 0.751]\n"
     ]
    }
   ],
   "source": [
    "a = round.(rand(6),digits=3)\n",
    "b = sort(a)\n",
    "println(a)\n",
    "println(b)"
   ]
  },
  {
   "cell_type": "code",
   "execution_count": 2,
   "id": "32c37318-845b-486f-9c91-6ad6c00357c5",
   "metadata": {
    "tags": []
   },
   "outputs": [
    {
     "name": "stdout",
     "output_type": "stream",
     "text": [
      "[0.422, 0.129, 0.622, 0.065, 0.614, 0.122]\n",
      "i = [4, 6, 2, 1, 5, 3], \n",
      "a[i] =\n",
      "[0.065, 0.122, 0.129, 0.422, 0.614, 0.622]"
     ]
    }
   ],
   "source": [
    "a = round.(rand(6),digits=3)\n",
    "i = sortperm(a)\n",
    "println(a)\n",
    "println(\"i = $i, \\na[i] =\")\n",
    "print(a[i])"
   ]
  },
  {
   "cell_type": "code",
   "execution_count": 3,
   "id": "f0f7d9b3-9240-4f8c-ab7d-714932803be5",
   "metadata": {
    "tags": []
   },
   "outputs": [
    {
     "name": "stdout",
     "output_type": "stream",
     "text": [
      "search: \u001b[0m\u001b[1mi\u001b[22m\u001b[0m\u001b[1mn\u001b[22m\u001b[0m\u001b[1mt\u001b[22m\u001b[0m\u001b[1me\u001b[22m\u001b[0m\u001b[1mr\u001b[22m\u001b[0m\u001b[1ms\u001b[22m\u001b[0m\u001b[1me\u001b[22m\u001b[0m\u001b[1mc\u001b[22m\u001b[0m\u001b[1mt\u001b[22m \u001b[0m\u001b[1mi\u001b[22m\u001b[0m\u001b[1mn\u001b[22m\u001b[0m\u001b[1mt\u001b[22m\u001b[0m\u001b[1me\u001b[22m\u001b[0m\u001b[1mr\u001b[22m\u001b[0m\u001b[1ms\u001b[22m\u001b[0m\u001b[1me\u001b[22m\u001b[0m\u001b[1mc\u001b[22m\u001b[0m\u001b[1mt\u001b[22m! type\u001b[0m\u001b[1mi\u001b[22m\u001b[0m\u001b[1mn\u001b[22m\u001b[0m\u001b[1mt\u001b[22m\u001b[0m\u001b[1me\u001b[22m\u001b[0m\u001b[1mr\u001b[22m\u001b[0m\u001b[1ms\u001b[22m\u001b[0m\u001b[1me\u001b[22m\u001b[0m\u001b[1mc\u001b[22m\u001b[0m\u001b[1mt\u001b[22m\n",
      "\n"
     ]
    },
    {
     "data": {
      "text/latex": [
       "\\begin{verbatim}\n",
       "intersect(s, itrs...)\n",
       "∩(s, itrs...)\n",
       "\\end{verbatim}\n",
       "Construct the set containing those elements which appear in all of the arguments.\n",
       "\n",
       "The first argument controls what kind of container is returned. If this is an array, it maintains the order in which elements first appear.\n",
       "\n",
       "Unicode \\texttt{∩} can be typed by writing \\texttt{{\\textbackslash}cap} then pressing tab in the Julia REPL, and in many editors. This is an infix operator, allowing \\texttt{s ∩ itr}.\n",
       "\n",
       "See also \\href{@ref}{\\texttt{setdiff}}, \\href{@ref}{\\texttt{isdisjoint}}, \\href{@ref Base.issubset}{\\texttt{issubset}}, \\href{@ref}{\\texttt{issetequal}}.\n",
       "\n",
       "\\begin{quote}\n",
       "\\textbf{compat}\n",
       "\n",
       "Julia 1.8\n",
       "\n",
       "As of Julia 1.8 intersect returns a result with the eltype of the type-promoted eltypes of the two inputs\n",
       "\n",
       "\\end{quote}\n",
       "\\section{Examples}\n",
       "\\begin{verbatim}\n",
       "julia> intersect([1, 2, 3], [3, 4, 5])\n",
       "1-element Vector{Int64}:\n",
       " 3\n",
       "\n",
       "julia> intersect([1, 4, 4, 5, 6], [6, 4, 6, 7, 8])\n",
       "2-element Vector{Int64}:\n",
       " 4\n",
       " 6\n",
       "\n",
       "julia> intersect(1:16, 7:99)\n",
       "7:16\n",
       "\n",
       "julia> (0, 0.0) ∩ (-0.0, 0)\n",
       "1-element Vector{Real}:\n",
       " 0\n",
       "\n",
       "julia> intersect(Set([1, 2]), BitSet([2, 3]), 1.0:10.0)\n",
       "Set{Float64} with 1 element:\n",
       "  2.0\n",
       "\\end{verbatim}\n"
      ],
      "text/markdown": [
       "```\n",
       "intersect(s, itrs...)\n",
       "∩(s, itrs...)\n",
       "```\n",
       "\n",
       "Construct the set containing those elements which appear in all of the arguments.\n",
       "\n",
       "The first argument controls what kind of container is returned. If this is an array, it maintains the order in which elements first appear.\n",
       "\n",
       "Unicode `∩` can be typed by writing `\\cap` then pressing tab in the Julia REPL, and in many editors. This is an infix operator, allowing `s ∩ itr`.\n",
       "\n",
       "See also [`setdiff`](@ref), [`isdisjoint`](@ref), [`issubset`](@ref Base.issubset), [`issetequal`](@ref).\n",
       "\n",
       "!!! compat \"Julia 1.8\"\n",
       "    As of Julia 1.8 intersect returns a result with the eltype of the type-promoted eltypes of the two inputs\n",
       "\n",
       "\n",
       "# Examples\n",
       "\n",
       "```jldoctest\n",
       "julia> intersect([1, 2, 3], [3, 4, 5])\n",
       "1-element Vector{Int64}:\n",
       " 3\n",
       "\n",
       "julia> intersect([1, 4, 4, 5, 6], [6, 4, 6, 7, 8])\n",
       "2-element Vector{Int64}:\n",
       " 4\n",
       " 6\n",
       "\n",
       "julia> intersect(1:16, 7:99)\n",
       "7:16\n",
       "\n",
       "julia> (0, 0.0) ∩ (-0.0, 0)\n",
       "1-element Vector{Real}:\n",
       " 0\n",
       "\n",
       "julia> intersect(Set([1, 2]), BitSet([2, 3]), 1.0:10.0)\n",
       "Set{Float64} with 1 element:\n",
       "  2.0\n",
       "```\n"
      ],
      "text/plain": [
       "\u001b[36m  intersect(s, itrs...)\u001b[39m\n",
       "\u001b[36m  ∩(s, itrs...)\u001b[39m\n",
       "\n",
       "  Construct the set containing those elements which appear in all of the\n",
       "  arguments.\n",
       "\n",
       "  The first argument controls what kind of container is returned. If this is\n",
       "  an array, it maintains the order in which elements first appear.\n",
       "\n",
       "  Unicode \u001b[36m∩\u001b[39m can be typed by writing \u001b[36m\\cap\u001b[39m then pressing tab in the Julia REPL,\n",
       "  and in many editors. This is an infix operator, allowing \u001b[36ms ∩ itr\u001b[39m.\n",
       "\n",
       "  See also \u001b[36msetdiff\u001b[39m, \u001b[36misdisjoint\u001b[39m, \u001b[36missubset\u001b[39m, \u001b[36missetequal\u001b[39m.\n",
       "\n",
       "\u001b[39m\u001b[1m  │ \u001b[22m\u001b[39m\u001b[1mJulia 1.8\u001b[22m\n",
       "\u001b[39m\u001b[1m  │\u001b[22m\n",
       "\u001b[39m\u001b[1m  │\u001b[22m  As of Julia 1.8 intersect returns a result with the eltype of the\n",
       "\u001b[39m\u001b[1m  │\u001b[22m  type-promoted eltypes of the two inputs\n",
       "\n",
       "\u001b[1m  Examples\u001b[22m\n",
       "\u001b[1m  ≡≡≡≡≡≡≡≡≡≡\u001b[22m\n",
       "\n",
       "\u001b[36m  julia> intersect([1, 2, 3], [3, 4, 5])\u001b[39m\n",
       "\u001b[36m  1-element Vector{Int64}:\u001b[39m\n",
       "\u001b[36m   3\u001b[39m\n",
       "\u001b[36m  \u001b[39m\n",
       "\u001b[36m  julia> intersect([1, 4, 4, 5, 6], [6, 4, 6, 7, 8])\u001b[39m\n",
       "\u001b[36m  2-element Vector{Int64}:\u001b[39m\n",
       "\u001b[36m   4\u001b[39m\n",
       "\u001b[36m   6\u001b[39m\n",
       "\u001b[36m  \u001b[39m\n",
       "\u001b[36m  julia> intersect(1:16, 7:99)\u001b[39m\n",
       "\u001b[36m  7:16\u001b[39m\n",
       "\u001b[36m  \u001b[39m\n",
       "\u001b[36m  julia> (0, 0.0) ∩ (-0.0, 0)\u001b[39m\n",
       "\u001b[36m  1-element Vector{Real}:\u001b[39m\n",
       "\u001b[36m   0\u001b[39m\n",
       "\u001b[36m  \u001b[39m\n",
       "\u001b[36m  julia> intersect(Set([1, 2]), BitSet([2, 3]), 1.0:10.0)\u001b[39m\n",
       "\u001b[36m  Set{Float64} with 1 element:\u001b[39m\n",
       "\u001b[36m    2.0\u001b[39m"
      ]
     },
     "execution_count": 3,
     "metadata": {},
     "output_type": "execute_result"
    }
   ],
   "source": [
    "?intersect"
   ]
  }
 ],
 "metadata": {
  "kernelspec": {
   "display_name": "Julia 1.8.4",
   "language": "julia",
   "name": "julia-1.8"
  },
  "language_info": {
   "file_extension": ".jl",
   "mimetype": "application/julia",
   "name": "julia",
   "version": "1.8.4"
  }
 },
 "nbformat": 4,
 "nbformat_minor": 5
}
