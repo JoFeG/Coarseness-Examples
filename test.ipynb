{
 "cells": [
  {
   "cell_type": "code",
   "execution_count": 1,
   "id": "bfab1d65-d1e6-44d3-8fcd-bf1297c49ce2",
   "metadata": {
    "tags": []
   },
   "outputs": [
    {
     "name": "stdout",
     "output_type": "stream",
     "text": [
      "[0.306, 0.332, 0.62, 0.644, 0.751, 0.722]\n",
      "[0.306, 0.332, 0.62, 0.644, 0.722, 0.751]\n"
     ]
    }
   ],
   "source": [
    "a = round.(rand(6),digits=3)\n",
    "b = sort(a)\n",
    "println(a)\n",
    "println(b)"
   ]
  },
  {
   "cell_type": "code",
   "execution_count": 2,
   "id": "32c37318-845b-486f-9c91-6ad6c00357c5",
   "metadata": {
    "tags": []
   },
   "outputs": [
    {
     "name": "stdout",
     "output_type": "stream",
     "text": [
      "[0.422, 0.129, 0.622, 0.065, 0.614, 0.122]\n",
      "i = [4, 6, 2, 1, 5, 3], \n",
      "a[i] =\n",
      "[0.065, 0.122, 0.129, 0.422, 0.614, 0.622]"
     ]
    }
   ],
   "source": [
    "a = round.(rand(6),digits=3)\n",
    "i = sortperm(a)\n",
    "println(a)\n",
    "println(\"i = $i, \\na[i] =\")\n",
    "print(a[i])"
   ]
  },
  {
   "cell_type": "code",
   "execution_count": 3,
   "id": "f0f7d9b3-9240-4f8c-ab7d-714932803be5",
   "metadata": {
    "tags": []
   },
   "outputs": [
    {
     "name": "stdout",
     "output_type": "stream",
     "text": [
      "search: \u001b[0m\u001b[1mi\u001b[22m\u001b[0m\u001b[1mn\u001b[22m\u001b[0m\u001b[1mt\u001b[22m\u001b[0m\u001b[1me\u001b[22m\u001b[0m\u001b[1mr\u001b[22m\u001b[0m\u001b[1ms\u001b[22m\u001b[0m\u001b[1me\u001b[22m\u001b[0m\u001b[1mc\u001b[22m\u001b[0m\u001b[1mt\u001b[22m \u001b[0m\u001b[1mi\u001b[22m\u001b[0m\u001b[1mn\u001b[22m\u001b[0m\u001b[1mt\u001b[22m\u001b[0m\u001b[1me\u001b[22m\u001b[0m\u001b[1mr\u001b[22m\u001b[0m\u001b[1ms\u001b[22m\u001b[0m\u001b[1me\u001b[22m\u001b[0m\u001b[1mc\u001b[22m\u001b[0m\u001b[1mt\u001b[22m! type\u001b[0m\u001b[1mi\u001b[22m\u001b[0m\u001b[1mn\u001b[22m\u001b[0m\u001b[1mt\u001b[22m\u001b[0m\u001b[1me\u001b[22m\u001b[0m\u001b[1mr\u001b[22m\u001b[0m\u001b[1ms\u001b[22m\u001b[0m\u001b[1me\u001b[22m\u001b[0m\u001b[1mc\u001b[22m\u001b[0m\u001b[1mt\u001b[22m\n",
      "\n"
     ]
    },
    {
     "data": {
      "text/latex": [
       "\\begin{verbatim}\n",
       "intersect(s, itrs...)\n",
       "∩(s, itrs...)\n",
       "\\end{verbatim}\n",
       "Construct the set containing those elements which appear in all of the arguments.\n",
       "\n",
       "The first argument controls what kind of container is returned. If this is an array, it maintains the order in which elements first appear.\n",
       "\n",
       "Unicode \\texttt{∩} can be typed by writing \\texttt{{\\textbackslash}cap} then pressing tab in the Julia REPL, and in many editors. This is an infix operator, allowing \\texttt{s ∩ itr}.\n",
       "\n",
       "See also \\href{@ref}{\\texttt{setdiff}}, \\href{@ref}{\\texttt{isdisjoint}}, \\href{@ref Base.issubset}{\\texttt{issubset}}, \\href{@ref}{\\texttt{issetequal}}.\n",
       "\n",
       "\\begin{quote}\n",
       "\\textbf{compat}\n",
       "\n",
       "Julia 1.8\n",
       "\n",
       "As of Julia 1.8 intersect returns a result with the eltype of the type-promoted eltypes of the two inputs\n",
       "\n",
       "\\end{quote}\n",
       "\\section{Examples}\n",
       "\\begin{verbatim}\n",
       "julia> intersect([1, 2, 3], [3, 4, 5])\n",
       "1-element Vector{Int64}:\n",
       " 3\n",
       "\n",
       "julia> intersect([1, 4, 4, 5, 6], [6, 4, 6, 7, 8])\n",
       "2-element Vector{Int64}:\n",
       " 4\n",
       " 6\n",
       "\n",
       "julia> intersect(1:16, 7:99)\n",
       "7:16\n",
       "\n",
       "julia> (0, 0.0) ∩ (-0.0, 0)\n",
       "1-element Vector{Real}:\n",
       " 0\n",
       "\n",
       "julia> intersect(Set([1, 2]), BitSet([2, 3]), 1.0:10.0)\n",
       "Set{Float64} with 1 element:\n",
       "  2.0\n",
       "\\end{verbatim}\n"
      ],
      "text/markdown": [
       "```\n",
       "intersect(s, itrs...)\n",
       "∩(s, itrs...)\n",
       "```\n",
       "\n",
       "Construct the set containing those elements which appear in all of the arguments.\n",
       "\n",
       "The first argument controls what kind of container is returned. If this is an array, it maintains the order in which elements first appear.\n",
       "\n",
       "Unicode `∩` can be typed by writing `\\cap` then pressing tab in the Julia REPL, and in many editors. This is an infix operator, allowing `s ∩ itr`.\n",
       "\n",
       "See also [`setdiff`](@ref), [`isdisjoint`](@ref), [`issubset`](@ref Base.issubset), [`issetequal`](@ref).\n",
       "\n",
       "!!! compat \"Julia 1.8\"\n",
       "    As of Julia 1.8 intersect returns a result with the eltype of the type-promoted eltypes of the two inputs\n",
       "\n",
       "\n",
       "# Examples\n",
       "\n",
       "```jldoctest\n",
       "julia> intersect([1, 2, 3], [3, 4, 5])\n",
       "1-element Vector{Int64}:\n",
       " 3\n",
       "\n",
       "julia> intersect([1, 4, 4, 5, 6], [6, 4, 6, 7, 8])\n",
       "2-element Vector{Int64}:\n",
       " 4\n",
       " 6\n",
       "\n",
       "julia> intersect(1:16, 7:99)\n",
       "7:16\n",
       "\n",
       "julia> (0, 0.0) ∩ (-0.0, 0)\n",
       "1-element Vector{Real}:\n",
       " 0\n",
       "\n",
       "julia> intersect(Set([1, 2]), BitSet([2, 3]), 1.0:10.0)\n",
       "Set{Float64} with 1 element:\n",
       "  2.0\n",
       "```\n"
      ],
      "text/plain": [
       "\u001b[36m  intersect(s, itrs...)\u001b[39m\n",
       "\u001b[36m  ∩(s, itrs...)\u001b[39m\n",
       "\n",
       "  Construct the set containing those elements which appear in all of the\n",
       "  arguments.\n",
       "\n",
       "  The first argument controls what kind of container is returned. If this is\n",
       "  an array, it maintains the order in which elements first appear.\n",
       "\n",
       "  Unicode \u001b[36m∩\u001b[39m can be typed by writing \u001b[36m\\cap\u001b[39m then pressing tab in the Julia REPL,\n",
       "  and in many editors. This is an infix operator, allowing \u001b[36ms ∩ itr\u001b[39m.\n",
       "\n",
       "  See also \u001b[36msetdiff\u001b[39m, \u001b[36misdisjoint\u001b[39m, \u001b[36missubset\u001b[39m, \u001b[36missetequal\u001b[39m.\n",
       "\n",
       "\u001b[39m\u001b[1m  │ \u001b[22m\u001b[39m\u001b[1mJulia 1.8\u001b[22m\n",
       "\u001b[39m\u001b[1m  │\u001b[22m\n",
       "\u001b[39m\u001b[1m  │\u001b[22m  As of Julia 1.8 intersect returns a result with the eltype of the\n",
       "\u001b[39m\u001b[1m  │\u001b[22m  type-promoted eltypes of the two inputs\n",
       "\n",
       "\u001b[1m  Examples\u001b[22m\n",
       "\u001b[1m  ≡≡≡≡≡≡≡≡≡≡\u001b[22m\n",
       "\n",
       "\u001b[36m  julia> intersect([1, 2, 3], [3, 4, 5])\u001b[39m\n",
       "\u001b[36m  1-element Vector{Int64}:\u001b[39m\n",
       "\u001b[36m   3\u001b[39m\n",
       "\u001b[36m  \u001b[39m\n",
       "\u001b[36m  julia> intersect([1, 4, 4, 5, 6], [6, 4, 6, 7, 8])\u001b[39m\n",
       "\u001b[36m  2-element Vector{Int64}:\u001b[39m\n",
       "\u001b[36m   4\u001b[39m\n",
       "\u001b[36m   6\u001b[39m\n",
       "\u001b[36m  \u001b[39m\n",
       "\u001b[36m  julia> intersect(1:16, 7:99)\u001b[39m\n",
       "\u001b[36m  7:16\u001b[39m\n",
       "\u001b[36m  \u001b[39m\n",
       "\u001b[36m  julia> (0, 0.0) ∩ (-0.0, 0)\u001b[39m\n",
       "\u001b[36m  1-element Vector{Real}:\u001b[39m\n",
       "\u001b[36m   0\u001b[39m\n",
       "\u001b[36m  \u001b[39m\n",
       "\u001b[36m  julia> intersect(Set([1, 2]), BitSet([2, 3]), 1.0:10.0)\u001b[39m\n",
       "\u001b[36m  Set{Float64} with 1 element:\u001b[39m\n",
       "\u001b[36m    2.0\u001b[39m"
      ]
     },
     "execution_count": 3,
     "metadata": {},
     "output_type": "execute_result"
    }
   ],
   "source": [
    "?intersect"
   ]
  },
  {
   "cell_type": "code",
   "execution_count": 2,
   "id": "c9e68da2-7d9b-4697-b9d0-e72a4d09d285",
   "metadata": {
    "tags": []
   },
   "outputs": [
    {
     "data": {
      "text/plain": [
       "sorted2midpoints (generic function with 1 method)"
      ]
     },
     "execution_count": 2,
     "metadata": {},
     "output_type": "execute_result"
    }
   ],
   "source": [
    "using Random\n",
    "include(\"src/plotting_utils.jl\")\n",
    "include(\"src/guillotine_utils.jl\")"
   ]
  },
  {
   "cell_type": "code",
   "execution_count": 3,
   "id": "4bcdf8d6-797f-4a62-abf8-f4ba80544c80",
   "metadata": {
    "tags": []
   },
   "outputs": [
    {
     "data": {
      "image/svg+xml": [
       "<?xml version=\"1.0\" encoding=\"utf-8\"?>\n",
       "<svg xmlns=\"http://www.w3.org/2000/svg\" xmlns:xlink=\"http://www.w3.org/1999/xlink\" width=\"500\" height=\"500\" viewBox=\"0 0 2000 2000\">\n",
       "<defs>\n",
       "  <clipPath id=\"clip120\">\n",
       "    <rect x=\"0\" y=\"0\" width=\"2000\" height=\"2000\"/>\n",
       "  </clipPath>\n",
       "</defs>\n",
       "<path clip-path=\"url(#clip120)\" d=\"M0 2000 L2000 2000 L2000 0 L0 0  Z\" fill=\"#ffffff\" fill-rule=\"evenodd\" fill-opacity=\"1\"/>\n",
       "<defs>\n",
       "  <clipPath id=\"clip121\">\n",
       "    <rect x=\"400\" y=\"200\" width=\"1401\" height=\"1401\"/>\n",
       "  </clipPath>\n",
       "</defs>\n",
       "<path clip-path=\"url(#clip120)\" d=\"M108.177 1865.17 L1952.76 1865.17 L1952.76 47.2441 L108.177 47.2441  Z\" fill=\"#ffffff\" fill-rule=\"evenodd\" fill-opacity=\"1\"/>\n",
       "<defs>\n",
       "  <clipPath id=\"clip122\">\n",
       "    <rect x=\"108\" y=\"47\" width=\"1846\" height=\"1819\"/>\n",
       "  </clipPath>\n",
       "</defs>\n",
       "<polyline clip-path=\"url(#clip122)\" style=\"stroke:#000000; stroke-linecap:round; stroke-linejoin:round; stroke-width:0; stroke-opacity:0.1; fill:none\" points=\"108.177,1865.17 108.177,47.2441 \"/>\n",
       "<polyline clip-path=\"url(#clip122)\" style=\"stroke:#000000; stroke-linecap:round; stroke-linejoin:round; stroke-width:0; stroke-opacity:0.1; fill:none\" points=\"371.688,1865.17 371.688,47.2441 \"/>\n",
       "<polyline clip-path=\"url(#clip122)\" style=\"stroke:#000000; stroke-linecap:round; stroke-linejoin:round; stroke-width:0; stroke-opacity:0.1; fill:none\" points=\"635.2,1865.17 635.2,47.2441 \"/>\n",
       "<polyline clip-path=\"url(#clip122)\" style=\"stroke:#000000; stroke-linecap:round; stroke-linejoin:round; stroke-width:0; stroke-opacity:0.1; fill:none\" points=\"898.711,1865.17 898.711,47.2441 \"/>\n",
       "<polyline clip-path=\"url(#clip122)\" style=\"stroke:#000000; stroke-linecap:round; stroke-linejoin:round; stroke-width:0; stroke-opacity:0.1; fill:none\" points=\"1162.22,1865.17 1162.22,47.2441 \"/>\n",
       "<polyline clip-path=\"url(#clip122)\" style=\"stroke:#000000; stroke-linecap:round; stroke-linejoin:round; stroke-width:0; stroke-opacity:0.1; fill:none\" points=\"1425.73,1865.17 1425.73,47.2441 \"/>\n",
       "<polyline clip-path=\"url(#clip122)\" style=\"stroke:#000000; stroke-linecap:round; stroke-linejoin:round; stroke-width:0; stroke-opacity:0.1; fill:none\" points=\"1689.24,1865.17 1689.24,47.2441 \"/>\n",
       "<polyline clip-path=\"url(#clip122)\" style=\"stroke:#000000; stroke-linecap:round; stroke-linejoin:round; stroke-width:0; stroke-opacity:0.1; fill:none\" points=\"1952.76,1865.17 1952.76,47.2441 \"/>\n",
       "<polyline clip-path=\"url(#clip120)\" style=\"stroke:#000000; stroke-linecap:round; stroke-linejoin:round; stroke-width:4; stroke-opacity:1; fill:none\" points=\"108.177,1865.17 1952.76,1865.17 \"/>\n",
       "<polyline clip-path=\"url(#clip120)\" style=\"stroke:#000000; stroke-linecap:round; stroke-linejoin:round; stroke-width:4; stroke-opacity:1; fill:none\" points=\"108.177,47.2441 1952.76,47.2441 \"/>\n",
       "<polyline clip-path=\"url(#clip120)\" style=\"stroke:#000000; stroke-linecap:round; stroke-linejoin:round; stroke-width:4; stroke-opacity:1; fill:none\" points=\"108.177,1865.17 108.177,1846.27 \"/>\n",
       "<polyline clip-path=\"url(#clip120)\" style=\"stroke:#000000; stroke-linecap:round; stroke-linejoin:round; stroke-width:4; stroke-opacity:1; fill:none\" points=\"371.688,1865.17 371.688,1846.27 \"/>\n",
       "<polyline clip-path=\"url(#clip120)\" style=\"stroke:#000000; stroke-linecap:round; stroke-linejoin:round; stroke-width:4; stroke-opacity:1; fill:none\" points=\"635.2,1865.17 635.2,1846.27 \"/>\n",
       "<polyline clip-path=\"url(#clip120)\" style=\"stroke:#000000; stroke-linecap:round; stroke-linejoin:round; stroke-width:4; stroke-opacity:1; fill:none\" points=\"898.711,1865.17 898.711,1846.27 \"/>\n",
       "<polyline clip-path=\"url(#clip120)\" style=\"stroke:#000000; stroke-linecap:round; stroke-linejoin:round; stroke-width:4; stroke-opacity:1; fill:none\" points=\"1162.22,1865.17 1162.22,1846.27 \"/>\n",
       "<polyline clip-path=\"url(#clip120)\" style=\"stroke:#000000; stroke-linecap:round; stroke-linejoin:round; stroke-width:4; stroke-opacity:1; fill:none\" points=\"1425.73,1865.17 1425.73,1846.27 \"/>\n",
       "<polyline clip-path=\"url(#clip120)\" style=\"stroke:#000000; stroke-linecap:round; stroke-linejoin:round; stroke-width:4; stroke-opacity:1; fill:none\" points=\"1689.24,1865.17 1689.24,1846.27 \"/>\n",
       "<polyline clip-path=\"url(#clip120)\" style=\"stroke:#000000; stroke-linecap:round; stroke-linejoin:round; stroke-width:4; stroke-opacity:1; fill:none\" points=\"1952.76,1865.17 1952.76,1846.27 \"/>\n",
       "<path clip-path=\"url(#clip120)\" d=\"M85.5616 1892.89 Q81.9505 1892.89 80.1218 1896.45 Q78.3162 1899.99 78.3162 1907.12 Q78.3162 1914.23 80.1218 1917.79 Q81.9505 1921.34 85.5616 1921.34 Q89.1958 1921.34 91.0013 1917.79 Q92.83 1914.23 92.83 1907.12 Q92.83 1899.99 91.0013 1896.45 Q89.1958 1892.89 85.5616 1892.89 M85.5616 1889.18 Q91.3717 1889.18 94.4272 1893.79 Q97.5059 1898.37 97.5059 1907.12 Q97.5059 1915.85 94.4272 1920.46 Q91.3717 1925.04 85.5616 1925.04 Q79.7514 1925.04 76.6727 1920.46 Q73.6172 1915.85 73.6172 1907.12 Q73.6172 1898.37 76.6727 1893.79 Q79.7514 1889.18 85.5616 1889.18 Z\" fill=\"#000000\" fill-rule=\"nonzero\" fill-opacity=\"1\" /><path clip-path=\"url(#clip120)\" d=\"M105.723 1918.49 L110.608 1918.49 L110.608 1924.37 L105.723 1924.37 L105.723 1918.49 Z\" fill=\"#000000\" fill-rule=\"nonzero\" fill-opacity=\"1\" /><path clip-path=\"url(#clip120)\" d=\"M130.793 1892.89 Q127.182 1892.89 125.353 1896.45 Q123.547 1899.99 123.547 1907.12 Q123.547 1914.23 125.353 1917.79 Q127.182 1921.34 130.793 1921.34 Q134.427 1921.34 136.233 1917.79 Q138.061 1914.23 138.061 1907.12 Q138.061 1899.99 136.233 1896.45 Q134.427 1892.89 130.793 1892.89 M130.793 1889.18 Q136.603 1889.18 139.658 1893.79 Q142.737 1898.37 142.737 1907.12 Q142.737 1915.85 139.658 1920.46 Q136.603 1925.04 130.793 1925.04 Q124.983 1925.04 121.904 1920.46 Q118.848 1915.85 118.848 1907.12 Q118.848 1898.37 121.904 1893.79 Q124.983 1889.18 130.793 1889.18 Z\" fill=\"#000000\" fill-rule=\"nonzero\" fill-opacity=\"1\" /><path clip-path=\"url(#clip120)\" d=\"M349.57 1892.89 Q345.959 1892.89 344.131 1896.45 Q342.325 1899.99 342.325 1907.12 Q342.325 1914.23 344.131 1917.79 Q345.959 1921.34 349.57 1921.34 Q353.205 1921.34 355.01 1917.79 Q356.839 1914.23 356.839 1907.12 Q356.839 1899.99 355.01 1896.45 Q353.205 1892.89 349.57 1892.89 M349.57 1889.18 Q355.381 1889.18 358.436 1893.79 Q361.515 1898.37 361.515 1907.12 Q361.515 1915.85 358.436 1920.46 Q355.381 1925.04 349.57 1925.04 Q343.76 1925.04 340.682 1920.46 Q337.626 1915.85 337.626 1907.12 Q337.626 1898.37 340.682 1893.79 Q343.76 1889.18 349.57 1889.18 Z\" fill=\"#000000\" fill-rule=\"nonzero\" fill-opacity=\"1\" /><path clip-path=\"url(#clip120)\" d=\"M369.732 1918.49 L374.617 1918.49 L374.617 1924.37 L369.732 1924.37 L369.732 1918.49 Z\" fill=\"#000000\" fill-rule=\"nonzero\" fill-opacity=\"1\" /><path clip-path=\"url(#clip120)\" d=\"M384.848 1889.81 L403.204 1889.81 L403.204 1893.74 L389.13 1893.74 L389.13 1902.22 Q390.149 1901.87 391.167 1901.71 Q392.186 1901.52 393.205 1901.52 Q398.992 1901.52 402.371 1904.69 Q405.751 1907.86 405.751 1913.28 Q405.751 1918.86 402.279 1921.96 Q398.806 1925.04 392.487 1925.04 Q390.311 1925.04 388.043 1924.67 Q385.797 1924.3 383.39 1923.56 L383.39 1918.86 Q385.473 1919.99 387.695 1920.55 Q389.917 1921.1 392.394 1921.1 Q396.399 1921.1 398.737 1919 Q401.075 1916.89 401.075 1913.28 Q401.075 1909.67 398.737 1907.56 Q396.399 1905.46 392.394 1905.46 Q390.519 1905.46 388.644 1905.87 Q386.793 1906.29 384.848 1907.17 L384.848 1889.81 Z\" fill=\"#000000\" fill-rule=\"nonzero\" fill-opacity=\"1\" /><path clip-path=\"url(#clip120)\" d=\"M602.353 1920.43 L609.991 1920.43 L609.991 1894.07 L601.681 1895.73 L601.681 1891.47 L609.945 1889.81 L614.621 1889.81 L614.621 1920.43 L622.26 1920.43 L622.26 1924.37 L602.353 1924.37 L602.353 1920.43 Z\" fill=\"#000000\" fill-rule=\"nonzero\" fill-opacity=\"1\" /><path clip-path=\"url(#clip120)\" d=\"M631.704 1918.49 L636.589 1918.49 L636.589 1924.37 L631.704 1924.37 L631.704 1918.49 Z\" fill=\"#000000\" fill-rule=\"nonzero\" fill-opacity=\"1\" /><path clip-path=\"url(#clip120)\" d=\"M656.774 1892.89 Q653.163 1892.89 651.334 1896.45 Q649.528 1899.99 649.528 1907.12 Q649.528 1914.23 651.334 1917.79 Q653.163 1921.34 656.774 1921.34 Q660.408 1921.34 662.213 1917.79 Q664.042 1914.23 664.042 1907.12 Q664.042 1899.99 662.213 1896.45 Q660.408 1892.89 656.774 1892.89 M656.774 1889.18 Q662.584 1889.18 665.639 1893.79 Q668.718 1898.37 668.718 1907.12 Q668.718 1915.85 665.639 1920.46 Q662.584 1925.04 656.774 1925.04 Q650.963 1925.04 647.885 1920.46 Q644.829 1915.85 644.829 1907.12 Q644.829 1898.37 647.885 1893.79 Q650.963 1889.18 656.774 1889.18 Z\" fill=\"#000000\" fill-rule=\"nonzero\" fill-opacity=\"1\" /><path clip-path=\"url(#clip120)\" d=\"M866.362 1920.43 L874 1920.43 L874 1894.07 L865.69 1895.73 L865.69 1891.47 L873.954 1889.81 L878.63 1889.81 L878.63 1920.43 L886.269 1920.43 L886.269 1924.37 L866.362 1924.37 L866.362 1920.43 Z\" fill=\"#000000\" fill-rule=\"nonzero\" fill-opacity=\"1\" /><path clip-path=\"url(#clip120)\" d=\"M895.713 1918.49 L900.597 1918.49 L900.597 1924.37 L895.713 1924.37 L895.713 1918.49 Z\" fill=\"#000000\" fill-rule=\"nonzero\" fill-opacity=\"1\" /><path clip-path=\"url(#clip120)\" d=\"M910.829 1889.81 L929.185 1889.81 L929.185 1893.74 L915.111 1893.74 L915.111 1902.22 Q916.13 1901.87 917.148 1901.71 Q918.167 1901.52 919.185 1901.52 Q924.972 1901.52 928.352 1904.69 Q931.732 1907.86 931.732 1913.28 Q931.732 1918.86 928.259 1921.96 Q924.787 1925.04 918.468 1925.04 Q916.292 1925.04 914.023 1924.67 Q911.778 1924.3 909.371 1923.56 L909.371 1918.86 Q911.454 1919.99 913.676 1920.55 Q915.898 1921.1 918.375 1921.1 Q922.38 1921.1 924.718 1919 Q927.056 1916.89 927.056 1913.28 Q927.056 1909.67 924.718 1907.56 Q922.38 1905.46 918.375 1905.46 Q916.5 1905.46 914.625 1905.87 Q912.773 1906.29 910.829 1907.17 L910.829 1889.81 Z\" fill=\"#000000\" fill-rule=\"nonzero\" fill-opacity=\"1\" /><path clip-path=\"url(#clip120)\" d=\"M1133.46 1920.43 L1149.78 1920.43 L1149.78 1924.37 L1127.84 1924.37 L1127.84 1920.43 Q1130.5 1917.68 1135.08 1913.05 Q1139.69 1908.4 1140.87 1907.05 Q1143.11 1904.53 1143.99 1902.79 Q1144.9 1901.03 1144.9 1899.34 Q1144.9 1896.59 1142.95 1894.85 Q1141.03 1893.12 1137.93 1893.12 Q1135.73 1893.12 1133.28 1893.88 Q1130.85 1894.65 1128.07 1896.2 L1128.07 1891.47 Q1130.89 1890.34 1133.35 1889.76 Q1135.8 1889.18 1137.84 1889.18 Q1143.21 1889.18 1146.4 1891.87 Q1149.59 1894.55 1149.59 1899.04 Q1149.59 1901.17 1148.78 1903.09 Q1148 1904.99 1145.89 1907.59 Q1145.31 1908.26 1142.21 1911.47 Q1139.11 1914.67 1133.46 1920.43 Z\" fill=\"#000000\" fill-rule=\"nonzero\" fill-opacity=\"1\" /><path clip-path=\"url(#clip120)\" d=\"M1159.59 1918.49 L1164.48 1918.49 L1164.48 1924.37 L1159.59 1924.37 L1159.59 1918.49 Z\" fill=\"#000000\" fill-rule=\"nonzero\" fill-opacity=\"1\" /><path clip-path=\"url(#clip120)\" d=\"M1184.66 1892.89 Q1181.05 1892.89 1179.22 1896.45 Q1177.42 1899.99 1177.42 1907.12 Q1177.42 1914.23 1179.22 1917.79 Q1181.05 1921.34 1184.66 1921.34 Q1188.3 1921.34 1190.1 1917.79 Q1191.93 1914.23 1191.93 1907.12 Q1191.93 1899.99 1190.1 1896.45 Q1188.3 1892.89 1184.66 1892.89 M1184.66 1889.18 Q1190.47 1889.18 1193.53 1893.79 Q1196.61 1898.37 1196.61 1907.12 Q1196.61 1915.85 1193.53 1920.46 Q1190.47 1925.04 1184.66 1925.04 Q1178.85 1925.04 1175.78 1920.46 Q1172.72 1915.85 1172.72 1907.12 Q1172.72 1898.37 1175.78 1893.79 Q1178.85 1889.18 1184.66 1889.18 Z\" fill=\"#000000\" fill-rule=\"nonzero\" fill-opacity=\"1\" /><path clip-path=\"url(#clip120)\" d=\"M1397.47 1920.43 L1413.79 1920.43 L1413.79 1924.37 L1391.84 1924.37 L1391.84 1920.43 Q1394.51 1917.68 1399.09 1913.05 Q1403.7 1908.4 1404.88 1907.05 Q1407.12 1904.53 1408 1902.79 Q1408.9 1901.03 1408.9 1899.34 Q1408.9 1896.59 1406.96 1894.85 Q1405.04 1893.12 1401.94 1893.12 Q1399.74 1893.12 1397.28 1893.88 Q1394.85 1894.65 1392.08 1896.2 L1392.08 1891.47 Q1394.9 1890.34 1397.35 1889.76 Q1399.81 1889.18 1401.84 1889.18 Q1407.21 1889.18 1410.41 1891.87 Q1413.6 1894.55 1413.6 1899.04 Q1413.6 1901.17 1412.79 1903.09 Q1412.01 1904.99 1409.9 1907.59 Q1409.32 1908.26 1406.22 1911.47 Q1403.12 1914.67 1397.47 1920.43 Z\" fill=\"#000000\" fill-rule=\"nonzero\" fill-opacity=\"1\" /><path clip-path=\"url(#clip120)\" d=\"M1423.6 1918.49 L1428.49 1918.49 L1428.49 1924.37 L1423.6 1924.37 L1423.6 1918.49 Z\" fill=\"#000000\" fill-rule=\"nonzero\" fill-opacity=\"1\" /><path clip-path=\"url(#clip120)\" d=\"M1438.72 1889.81 L1457.08 1889.81 L1457.08 1893.74 L1443 1893.74 L1443 1902.22 Q1444.02 1901.87 1445.04 1901.71 Q1446.06 1901.52 1447.08 1901.52 Q1452.86 1901.52 1456.24 1904.69 Q1459.62 1907.86 1459.62 1913.28 Q1459.62 1918.86 1456.15 1921.96 Q1452.68 1925.04 1446.36 1925.04 Q1444.18 1925.04 1441.91 1924.67 Q1439.67 1924.3 1437.26 1923.56 L1437.26 1918.86 Q1439.34 1919.99 1441.57 1920.55 Q1443.79 1921.1 1446.27 1921.1 Q1450.27 1921.1 1452.61 1919 Q1454.95 1916.89 1454.95 1913.28 Q1454.95 1909.67 1452.61 1907.56 Q1450.27 1905.46 1446.27 1905.46 Q1444.39 1905.46 1442.52 1905.87 Q1440.66 1906.29 1438.72 1907.17 L1438.72 1889.81 Z\" fill=\"#000000\" fill-rule=\"nonzero\" fill-opacity=\"1\" /><path clip-path=\"url(#clip120)\" d=\"M1670.55 1905.73 Q1673.91 1906.45 1675.78 1908.72 Q1677.68 1910.99 1677.68 1914.32 Q1677.68 1919.44 1674.16 1922.24 Q1670.65 1925.04 1664.16 1925.04 Q1661.99 1925.04 1659.67 1924.6 Q1657.38 1924.18 1654.93 1923.33 L1654.93 1918.81 Q1656.87 1919.95 1659.19 1920.53 Q1661.5 1921.1 1664.02 1921.1 Q1668.42 1921.1 1670.71 1919.37 Q1673.03 1917.63 1673.03 1914.32 Q1673.03 1911.27 1670.88 1909.55 Q1668.75 1907.82 1664.93 1907.82 L1660.9 1907.82 L1660.9 1903.97 L1665.11 1903.97 Q1668.56 1903.97 1670.39 1902.61 Q1672.22 1901.22 1672.22 1898.63 Q1672.22 1895.97 1670.32 1894.55 Q1668.45 1893.12 1664.93 1893.12 Q1663.01 1893.12 1660.81 1893.53 Q1658.61 1893.95 1655.97 1894.83 L1655.97 1890.66 Q1658.63 1889.92 1660.95 1889.55 Q1663.28 1889.18 1665.34 1889.18 Q1670.67 1889.18 1673.77 1891.61 Q1676.87 1894.02 1676.87 1898.14 Q1676.87 1901.01 1675.23 1903 Q1673.59 1904.97 1670.55 1905.73 Z\" fill=\"#000000\" fill-rule=\"nonzero\" fill-opacity=\"1\" /><path clip-path=\"url(#clip120)\" d=\"M1686.55 1918.49 L1691.43 1918.49 L1691.43 1924.37 L1686.55 1924.37 L1686.55 1918.49 Z\" fill=\"#000000\" fill-rule=\"nonzero\" fill-opacity=\"1\" /><path clip-path=\"url(#clip120)\" d=\"M1711.62 1892.89 Q1708.01 1892.89 1706.18 1896.45 Q1704.37 1899.99 1704.37 1907.12 Q1704.37 1914.23 1706.18 1917.79 Q1708.01 1921.34 1711.62 1921.34 Q1715.25 1921.34 1717.06 1917.79 Q1718.89 1914.23 1718.89 1907.12 Q1718.89 1899.99 1717.06 1896.45 Q1715.25 1892.89 1711.62 1892.89 M1711.62 1889.18 Q1717.43 1889.18 1720.48 1893.79 Q1723.56 1898.37 1723.56 1907.12 Q1723.56 1915.85 1720.48 1920.46 Q1717.43 1925.04 1711.62 1925.04 Q1705.81 1925.04 1702.73 1920.46 Q1699.67 1915.85 1699.67 1907.12 Q1699.67 1898.37 1702.73 1893.79 Q1705.81 1889.18 1711.62 1889.18 Z\" fill=\"#000000\" fill-rule=\"nonzero\" fill-opacity=\"1\" /><path clip-path=\"url(#clip120)\" d=\"M1934.56 1905.73 Q1937.92 1906.45 1939.79 1908.72 Q1941.69 1910.99 1941.69 1914.32 Q1941.69 1919.44 1938.17 1922.24 Q1934.65 1925.04 1928.17 1925.04 Q1926 1925.04 1923.68 1924.6 Q1921.39 1924.18 1918.94 1923.33 L1918.94 1918.81 Q1920.88 1919.95 1923.2 1920.53 Q1925.51 1921.1 1928.03 1921.1 Q1932.43 1921.1 1934.72 1919.37 Q1937.04 1917.63 1937.04 1914.32 Q1937.04 1911.27 1934.89 1909.55 Q1932.76 1907.82 1928.94 1907.82 L1924.91 1907.82 L1924.91 1903.97 L1929.12 1903.97 Q1932.57 1903.97 1934.4 1902.61 Q1936.23 1901.22 1936.23 1898.63 Q1936.23 1895.97 1934.33 1894.55 Q1932.46 1893.12 1928.94 1893.12 Q1927.02 1893.12 1924.82 1893.53 Q1922.62 1893.95 1919.98 1894.83 L1919.98 1890.66 Q1922.64 1889.92 1924.96 1889.55 Q1927.29 1889.18 1929.35 1889.18 Q1934.68 1889.18 1937.78 1891.61 Q1940.88 1894.02 1940.88 1898.14 Q1940.88 1901.01 1939.24 1903 Q1937.59 1904.97 1934.56 1905.73 Z\" fill=\"#000000\" fill-rule=\"nonzero\" fill-opacity=\"1\" /><path clip-path=\"url(#clip120)\" d=\"M1950.56 1918.49 L1955.44 1918.49 L1955.44 1924.37 L1950.56 1924.37 L1950.56 1918.49 Z\" fill=\"#000000\" fill-rule=\"nonzero\" fill-opacity=\"1\" /><path clip-path=\"url(#clip120)\" d=\"M1965.67 1889.81 L1984.03 1889.81 L1984.03 1893.74 L1969.95 1893.74 L1969.95 1902.22 Q1970.97 1901.87 1971.99 1901.71 Q1973.01 1901.52 1974.03 1901.52 Q1979.82 1901.52 1983.2 1904.69 Q1986.58 1907.86 1986.58 1913.28 Q1986.58 1918.86 1983.1 1921.96 Q1979.63 1925.04 1973.31 1925.04 Q1971.14 1925.04 1968.87 1924.67 Q1966.62 1924.3 1964.21 1923.56 L1964.21 1918.86 Q1966.3 1919.99 1968.52 1920.55 Q1970.74 1921.1 1973.22 1921.1 Q1977.22 1921.1 1979.56 1919 Q1981.9 1916.89 1981.9 1913.28 Q1981.9 1909.67 1979.56 1907.56 Q1977.22 1905.46 1973.22 1905.46 Q1971.34 1905.46 1969.47 1905.87 Q1967.62 1906.29 1965.67 1907.17 L1965.67 1889.81 Z\" fill=\"#000000\" fill-rule=\"nonzero\" fill-opacity=\"1\" /><polyline clip-path=\"url(#clip122)\" style=\"stroke:#000000; stroke-linecap:round; stroke-linejoin:round; stroke-width:0; stroke-opacity:0.1; fill:none\" points=\"108.177,1865.17 1952.76,1865.17 \"/>\n",
       "<polyline clip-path=\"url(#clip122)\" style=\"stroke:#000000; stroke-linecap:round; stroke-linejoin:round; stroke-width:0; stroke-opacity:0.1; fill:none\" points=\"108.177,1410.69 1952.76,1410.69 \"/>\n",
       "<polyline clip-path=\"url(#clip122)\" style=\"stroke:#000000; stroke-linecap:round; stroke-linejoin:round; stroke-width:0; stroke-opacity:0.1; fill:none\" points=\"108.177,956.206 1952.76,956.206 \"/>\n",
       "<polyline clip-path=\"url(#clip122)\" style=\"stroke:#000000; stroke-linecap:round; stroke-linejoin:round; stroke-width:0; stroke-opacity:0.1; fill:none\" points=\"108.177,501.725 1952.76,501.725 \"/>\n",
       "<polyline clip-path=\"url(#clip122)\" style=\"stroke:#000000; stroke-linecap:round; stroke-linejoin:round; stroke-width:0; stroke-opacity:0.1; fill:none\" points=\"108.177,47.2441 1952.76,47.2441 \"/>\n",
       "<polyline clip-path=\"url(#clip120)\" style=\"stroke:#000000; stroke-linecap:round; stroke-linejoin:round; stroke-width:4; stroke-opacity:1; fill:none\" points=\"108.177,1865.17 108.177,47.2441 \"/>\n",
       "<polyline clip-path=\"url(#clip120)\" style=\"stroke:#000000; stroke-linecap:round; stroke-linejoin:round; stroke-width:4; stroke-opacity:1; fill:none\" points=\"1952.76,1865.17 1952.76,47.2441 \"/>\n",
       "<polyline clip-path=\"url(#clip120)\" style=\"stroke:#000000; stroke-linecap:round; stroke-linejoin:round; stroke-width:4; stroke-opacity:1; fill:none\" points=\"108.177,1865.17 127.075,1865.17 \"/>\n",
       "<polyline clip-path=\"url(#clip120)\" style=\"stroke:#000000; stroke-linecap:round; stroke-linejoin:round; stroke-width:4; stroke-opacity:1; fill:none\" points=\"108.177,1410.69 127.075,1410.69 \"/>\n",
       "<polyline clip-path=\"url(#clip120)\" style=\"stroke:#000000; stroke-linecap:round; stroke-linejoin:round; stroke-width:4; stroke-opacity:1; fill:none\" points=\"108.177,956.206 127.075,956.206 \"/>\n",
       "<polyline clip-path=\"url(#clip120)\" style=\"stroke:#000000; stroke-linecap:round; stroke-linejoin:round; stroke-width:4; stroke-opacity:1; fill:none\" points=\"108.177,501.725 127.075,501.725 \"/>\n",
       "<polyline clip-path=\"url(#clip120)\" style=\"stroke:#000000; stroke-linecap:round; stroke-linejoin:round; stroke-width:4; stroke-opacity:1; fill:none\" points=\"108.177,47.2441 127.075,47.2441 \"/>\n",
       "<path clip-path=\"url(#clip120)\" d=\"M66.2328 1850.97 Q62.6217 1850.97 60.793 1854.53 Q58.9875 1858.07 58.9875 1865.2 Q58.9875 1872.31 60.793 1875.87 Q62.6217 1879.42 66.2328 1879.42 Q69.867 1879.42 71.6726 1875.87 Q73.5013 1872.31 73.5013 1865.2 Q73.5013 1858.07 71.6726 1854.53 Q69.867 1850.97 66.2328 1850.97 M66.2328 1847.26 Q72.0429 1847.26 75.0985 1851.87 Q78.1772 1856.45 78.1772 1865.2 Q78.1772 1873.93 75.0985 1878.54 Q72.0429 1883.12 66.2328 1883.12 Q60.4226 1883.12 57.344 1878.54 Q54.2884 1873.93 54.2884 1865.2 Q54.2884 1856.45 57.344 1851.87 Q60.4226 1847.26 66.2328 1847.26 Z\" fill=\"#000000\" fill-rule=\"nonzero\" fill-opacity=\"1\" /><path clip-path=\"url(#clip120)\" d=\"M58.2699 1424.03 L65.9087 1424.03 L65.9087 1397.67 L57.5986 1399.33 L57.5986 1395.07 L65.8624 1393.41 L70.5383 1393.41 L70.5383 1424.03 L78.1772 1424.03 L78.1772 1427.97 L58.2699 1427.97 L58.2699 1424.03 Z\" fill=\"#000000\" fill-rule=\"nonzero\" fill-opacity=\"1\" /><path clip-path=\"url(#clip120)\" d=\"M61.8578 969.551 L78.1772 969.551 L78.1772 973.486 L56.2328 973.486 L56.2328 969.551 Q58.8949 966.796 63.4782 962.167 Q68.0846 957.514 69.2652 956.171 Q71.5105 953.648 72.3902 951.912 Q73.2929 950.153 73.2929 948.463 Q73.2929 945.708 71.3485 943.972 Q69.4272 942.236 66.3254 942.236 Q64.1263 942.236 61.6726 943 Q59.2421 943.764 56.4643 945.315 L56.4643 940.593 Q59.2884 939.458 61.7421 938.88 Q64.1958 938.301 66.2328 938.301 Q71.6031 938.301 74.7976 940.986 Q77.992 943.671 77.992 948.162 Q77.992 950.292 77.1818 952.213 Q76.3948 954.111 74.2883 956.704 Q73.7096 957.375 70.6078 960.593 Q67.5059 963.787 61.8578 969.551 Z\" fill=\"#000000\" fill-rule=\"nonzero\" fill-opacity=\"1\" /><path clip-path=\"url(#clip120)\" d=\"M71.0476 500.371 Q74.404 501.088 76.279 503.357 Q78.1772 505.625 78.1772 508.959 Q78.1772 514.075 74.6587 516.875 Q71.1402 519.676 64.6587 519.676 Q62.4828 519.676 60.168 519.237 Q57.8764 518.82 55.4227 517.963 L55.4227 513.45 Q57.3671 514.584 59.6819 515.162 Q61.9967 515.741 64.5198 515.741 Q68.918 515.741 71.2096 514.005 Q73.5244 512.269 73.5244 508.959 Q73.5244 505.903 71.3717 504.19 Q69.242 502.454 65.4226 502.454 L61.3949 502.454 L61.3949 498.612 L65.6078 498.612 Q69.0569 498.612 70.8855 497.246 Q72.7142 495.857 72.7142 493.264 Q72.7142 490.602 70.8161 489.19 Q68.9411 487.755 65.4226 487.755 Q63.5013 487.755 61.3023 488.172 Q59.1032 488.589 56.4643 489.468 L56.4643 485.302 Q59.1264 484.561 61.4412 484.19 Q63.7791 483.82 65.8393 483.82 Q71.1633 483.82 74.2652 486.251 Q77.367 488.658 77.367 492.778 Q77.367 495.649 75.7235 497.639 Q74.08 499.607 71.0476 500.371 Z\" fill=\"#000000\" fill-rule=\"nonzero\" fill-opacity=\"1\" /><path clip-path=\"url(#clip120)\" d=\"M68.5939 34.0381 L56.7884 52.4871 L68.5939 52.4871 L68.5939 34.0381 M67.367 29.9641 L73.2466 29.9641 L73.2466 52.4871 L78.1772 52.4871 L78.1772 56.376 L73.2466 56.376 L73.2466 64.5241 L68.5939 64.5241 L68.5939 56.376 L52.9921 56.376 L52.9921 51.8621 L67.367 29.9641 Z\" fill=\"#000000\" fill-rule=\"nonzero\" fill-opacity=\"1\" /><circle clip-path=\"url(#clip122)\" cx=\"635.2\" cy=\"1410.69\" r=\"14.4\" fill=\"#ff0000\" fill-rule=\"evenodd\" fill-opacity=\"1\" stroke=\"#000000\" stroke-opacity=\"1\" stroke-width=\"4\"/>\n",
       "<circle clip-path=\"url(#clip122)\" cx=\"1162.22\" cy=\"956.206\" r=\"14.4\" fill=\"#ff0000\" fill-rule=\"evenodd\" fill-opacity=\"1\" stroke=\"#000000\" stroke-opacity=\"1\" stroke-width=\"4\"/>\n",
       "<circle clip-path=\"url(#clip122)\" cx=\"1425.73\" cy=\"501.725\" r=\"14.4\" fill=\"#0000ff\" fill-rule=\"evenodd\" fill-opacity=\"1\" stroke=\"#000000\" stroke-opacity=\"1\" stroke-width=\"4\"/>\n",
       "</svg>\n"
      ]
     },
     "metadata": {},
     "output_type": "display_data"
    },
    {
     "data": {
      "image/svg+xml": [
       "<?xml version=\"1.0\" encoding=\"utf-8\"?>\n",
       "<svg xmlns=\"http://www.w3.org/2000/svg\" xmlns:xlink=\"http://www.w3.org/1999/xlink\" width=\"500\" height=\"500\" viewBox=\"0 0 2000 2000\">\n",
       "<defs>\n",
       "  <clipPath id=\"clip160\">\n",
       "    <rect x=\"0\" y=\"0\" width=\"2000\" height=\"2000\"/>\n",
       "  </clipPath>\n",
       "</defs>\n",
       "<path clip-path=\"url(#clip160)\" d=\"M0 2000 L2000 2000 L2000 0 L0 0  Z\" fill=\"#ffffff\" fill-rule=\"evenodd\" fill-opacity=\"1\"/>\n",
       "<defs>\n",
       "  <clipPath id=\"clip161\">\n",
       "    <rect x=\"400\" y=\"200\" width=\"1401\" height=\"1401\"/>\n",
       "  </clipPath>\n",
       "</defs>\n",
       "<path clip-path=\"url(#clip160)\" d=\"M108.177 1865.17 L1952.76 1865.17 L1952.76 47.2441 L108.177 47.2441  Z\" fill=\"#ffffff\" fill-rule=\"evenodd\" fill-opacity=\"1\"/>\n",
       "<defs>\n",
       "  <clipPath id=\"clip162\">\n",
       "    <rect x=\"108\" y=\"47\" width=\"1846\" height=\"1819\"/>\n",
       "  </clipPath>\n",
       "</defs>\n",
       "<polyline clip-path=\"url(#clip162)\" style=\"stroke:#000000; stroke-linecap:round; stroke-linejoin:round; stroke-width:0; stroke-opacity:0.1; fill:none\" points=\"108.177,1865.17 108.177,47.2441 \"/>\n",
       "<polyline clip-path=\"url(#clip162)\" style=\"stroke:#000000; stroke-linecap:round; stroke-linejoin:round; stroke-width:0; stroke-opacity:0.1; fill:none\" points=\"371.688,1865.17 371.688,47.2441 \"/>\n",
       "<polyline clip-path=\"url(#clip162)\" style=\"stroke:#000000; stroke-linecap:round; stroke-linejoin:round; stroke-width:0; stroke-opacity:0.1; fill:none\" points=\"635.2,1865.17 635.2,47.2441 \"/>\n",
       "<polyline clip-path=\"url(#clip162)\" style=\"stroke:#000000; stroke-linecap:round; stroke-linejoin:round; stroke-width:0; stroke-opacity:0.1; fill:none\" points=\"898.711,1865.17 898.711,47.2441 \"/>\n",
       "<polyline clip-path=\"url(#clip162)\" style=\"stroke:#000000; stroke-linecap:round; stroke-linejoin:round; stroke-width:0; stroke-opacity:0.1; fill:none\" points=\"1162.22,1865.17 1162.22,47.2441 \"/>\n",
       "<polyline clip-path=\"url(#clip162)\" style=\"stroke:#000000; stroke-linecap:round; stroke-linejoin:round; stroke-width:0; stroke-opacity:0.1; fill:none\" points=\"1425.73,1865.17 1425.73,47.2441 \"/>\n",
       "<polyline clip-path=\"url(#clip162)\" style=\"stroke:#000000; stroke-linecap:round; stroke-linejoin:round; stroke-width:0; stroke-opacity:0.1; fill:none\" points=\"1689.24,1865.17 1689.24,47.2441 \"/>\n",
       "<polyline clip-path=\"url(#clip162)\" style=\"stroke:#000000; stroke-linecap:round; stroke-linejoin:round; stroke-width:0; stroke-opacity:0.1; fill:none\" points=\"1952.76,1865.17 1952.76,47.2441 \"/>\n",
       "<polyline clip-path=\"url(#clip160)\" style=\"stroke:#000000; stroke-linecap:round; stroke-linejoin:round; stroke-width:4; stroke-opacity:1; fill:none\" points=\"108.177,1865.17 1952.76,1865.17 \"/>\n",
       "<polyline clip-path=\"url(#clip160)\" style=\"stroke:#000000; stroke-linecap:round; stroke-linejoin:round; stroke-width:4; stroke-opacity:1; fill:none\" points=\"108.177,47.2441 1952.76,47.2441 \"/>\n",
       "<polyline clip-path=\"url(#clip160)\" style=\"stroke:#000000; stroke-linecap:round; stroke-linejoin:round; stroke-width:4; stroke-opacity:1; fill:none\" points=\"108.177,1865.17 108.177,1846.27 \"/>\n",
       "<polyline clip-path=\"url(#clip160)\" style=\"stroke:#000000; stroke-linecap:round; stroke-linejoin:round; stroke-width:4; stroke-opacity:1; fill:none\" points=\"371.688,1865.17 371.688,1846.27 \"/>\n",
       "<polyline clip-path=\"url(#clip160)\" style=\"stroke:#000000; stroke-linecap:round; stroke-linejoin:round; stroke-width:4; stroke-opacity:1; fill:none\" points=\"635.2,1865.17 635.2,1846.27 \"/>\n",
       "<polyline clip-path=\"url(#clip160)\" style=\"stroke:#000000; stroke-linecap:round; stroke-linejoin:round; stroke-width:4; stroke-opacity:1; fill:none\" points=\"898.711,1865.17 898.711,1846.27 \"/>\n",
       "<polyline clip-path=\"url(#clip160)\" style=\"stroke:#000000; stroke-linecap:round; stroke-linejoin:round; stroke-width:4; stroke-opacity:1; fill:none\" points=\"1162.22,1865.17 1162.22,1846.27 \"/>\n",
       "<polyline clip-path=\"url(#clip160)\" style=\"stroke:#000000; stroke-linecap:round; stroke-linejoin:round; stroke-width:4; stroke-opacity:1; fill:none\" points=\"1425.73,1865.17 1425.73,1846.27 \"/>\n",
       "<polyline clip-path=\"url(#clip160)\" style=\"stroke:#000000; stroke-linecap:round; stroke-linejoin:round; stroke-width:4; stroke-opacity:1; fill:none\" points=\"1689.24,1865.17 1689.24,1846.27 \"/>\n",
       "<polyline clip-path=\"url(#clip160)\" style=\"stroke:#000000; stroke-linecap:round; stroke-linejoin:round; stroke-width:4; stroke-opacity:1; fill:none\" points=\"1952.76,1865.17 1952.76,1846.27 \"/>\n",
       "<path clip-path=\"url(#clip160)\" d=\"M85.5616 1892.89 Q81.9505 1892.89 80.1218 1896.45 Q78.3162 1899.99 78.3162 1907.12 Q78.3162 1914.23 80.1218 1917.79 Q81.9505 1921.34 85.5616 1921.34 Q89.1958 1921.34 91.0013 1917.79 Q92.83 1914.23 92.83 1907.12 Q92.83 1899.99 91.0013 1896.45 Q89.1958 1892.89 85.5616 1892.89 M85.5616 1889.18 Q91.3717 1889.18 94.4272 1893.79 Q97.5059 1898.37 97.5059 1907.12 Q97.5059 1915.85 94.4272 1920.46 Q91.3717 1925.04 85.5616 1925.04 Q79.7514 1925.04 76.6727 1920.46 Q73.6172 1915.85 73.6172 1907.12 Q73.6172 1898.37 76.6727 1893.79 Q79.7514 1889.18 85.5616 1889.18 Z\" fill=\"#000000\" fill-rule=\"nonzero\" fill-opacity=\"1\" /><path clip-path=\"url(#clip160)\" d=\"M105.723 1918.49 L110.608 1918.49 L110.608 1924.37 L105.723 1924.37 L105.723 1918.49 Z\" fill=\"#000000\" fill-rule=\"nonzero\" fill-opacity=\"1\" /><path clip-path=\"url(#clip160)\" d=\"M130.793 1892.89 Q127.182 1892.89 125.353 1896.45 Q123.547 1899.99 123.547 1907.12 Q123.547 1914.23 125.353 1917.79 Q127.182 1921.34 130.793 1921.34 Q134.427 1921.34 136.233 1917.79 Q138.061 1914.23 138.061 1907.12 Q138.061 1899.99 136.233 1896.45 Q134.427 1892.89 130.793 1892.89 M130.793 1889.18 Q136.603 1889.18 139.658 1893.79 Q142.737 1898.37 142.737 1907.12 Q142.737 1915.85 139.658 1920.46 Q136.603 1925.04 130.793 1925.04 Q124.983 1925.04 121.904 1920.46 Q118.848 1915.85 118.848 1907.12 Q118.848 1898.37 121.904 1893.79 Q124.983 1889.18 130.793 1889.18 Z\" fill=\"#000000\" fill-rule=\"nonzero\" fill-opacity=\"1\" /><path clip-path=\"url(#clip160)\" d=\"M349.57 1892.89 Q345.959 1892.89 344.131 1896.45 Q342.325 1899.99 342.325 1907.12 Q342.325 1914.23 344.131 1917.79 Q345.959 1921.34 349.57 1921.34 Q353.205 1921.34 355.01 1917.79 Q356.839 1914.23 356.839 1907.12 Q356.839 1899.99 355.01 1896.45 Q353.205 1892.89 349.57 1892.89 M349.57 1889.18 Q355.381 1889.18 358.436 1893.79 Q361.515 1898.37 361.515 1907.12 Q361.515 1915.85 358.436 1920.46 Q355.381 1925.04 349.57 1925.04 Q343.76 1925.04 340.682 1920.46 Q337.626 1915.85 337.626 1907.12 Q337.626 1898.37 340.682 1893.79 Q343.76 1889.18 349.57 1889.18 Z\" fill=\"#000000\" fill-rule=\"nonzero\" fill-opacity=\"1\" /><path clip-path=\"url(#clip160)\" d=\"M369.732 1918.49 L374.617 1918.49 L374.617 1924.37 L369.732 1924.37 L369.732 1918.49 Z\" fill=\"#000000\" fill-rule=\"nonzero\" fill-opacity=\"1\" /><path clip-path=\"url(#clip160)\" d=\"M384.848 1889.81 L403.204 1889.81 L403.204 1893.74 L389.13 1893.74 L389.13 1902.22 Q390.149 1901.87 391.167 1901.71 Q392.186 1901.52 393.205 1901.52 Q398.992 1901.52 402.371 1904.69 Q405.751 1907.86 405.751 1913.28 Q405.751 1918.86 402.279 1921.96 Q398.806 1925.04 392.487 1925.04 Q390.311 1925.04 388.043 1924.67 Q385.797 1924.3 383.39 1923.56 L383.39 1918.86 Q385.473 1919.99 387.695 1920.55 Q389.917 1921.1 392.394 1921.1 Q396.399 1921.1 398.737 1919 Q401.075 1916.89 401.075 1913.28 Q401.075 1909.67 398.737 1907.56 Q396.399 1905.46 392.394 1905.46 Q390.519 1905.46 388.644 1905.87 Q386.793 1906.29 384.848 1907.17 L384.848 1889.81 Z\" fill=\"#000000\" fill-rule=\"nonzero\" fill-opacity=\"1\" /><path clip-path=\"url(#clip160)\" d=\"M602.353 1920.43 L609.991 1920.43 L609.991 1894.07 L601.681 1895.73 L601.681 1891.47 L609.945 1889.81 L614.621 1889.81 L614.621 1920.43 L622.26 1920.43 L622.26 1924.37 L602.353 1924.37 L602.353 1920.43 Z\" fill=\"#000000\" fill-rule=\"nonzero\" fill-opacity=\"1\" /><path clip-path=\"url(#clip160)\" d=\"M631.704 1918.49 L636.589 1918.49 L636.589 1924.37 L631.704 1924.37 L631.704 1918.49 Z\" fill=\"#000000\" fill-rule=\"nonzero\" fill-opacity=\"1\" /><path clip-path=\"url(#clip160)\" d=\"M656.774 1892.89 Q653.163 1892.89 651.334 1896.45 Q649.528 1899.99 649.528 1907.12 Q649.528 1914.23 651.334 1917.79 Q653.163 1921.34 656.774 1921.34 Q660.408 1921.34 662.213 1917.79 Q664.042 1914.23 664.042 1907.12 Q664.042 1899.99 662.213 1896.45 Q660.408 1892.89 656.774 1892.89 M656.774 1889.18 Q662.584 1889.18 665.639 1893.79 Q668.718 1898.37 668.718 1907.12 Q668.718 1915.85 665.639 1920.46 Q662.584 1925.04 656.774 1925.04 Q650.963 1925.04 647.885 1920.46 Q644.829 1915.85 644.829 1907.12 Q644.829 1898.37 647.885 1893.79 Q650.963 1889.18 656.774 1889.18 Z\" fill=\"#000000\" fill-rule=\"nonzero\" fill-opacity=\"1\" /><path clip-path=\"url(#clip160)\" d=\"M866.362 1920.43 L874 1920.43 L874 1894.07 L865.69 1895.73 L865.69 1891.47 L873.954 1889.81 L878.63 1889.81 L878.63 1920.43 L886.269 1920.43 L886.269 1924.37 L866.362 1924.37 L866.362 1920.43 Z\" fill=\"#000000\" fill-rule=\"nonzero\" fill-opacity=\"1\" /><path clip-path=\"url(#clip160)\" d=\"M895.713 1918.49 L900.597 1918.49 L900.597 1924.37 L895.713 1924.37 L895.713 1918.49 Z\" fill=\"#000000\" fill-rule=\"nonzero\" fill-opacity=\"1\" /><path clip-path=\"url(#clip160)\" d=\"M910.829 1889.81 L929.185 1889.81 L929.185 1893.74 L915.111 1893.74 L915.111 1902.22 Q916.13 1901.87 917.148 1901.71 Q918.167 1901.52 919.185 1901.52 Q924.972 1901.52 928.352 1904.69 Q931.732 1907.86 931.732 1913.28 Q931.732 1918.86 928.259 1921.96 Q924.787 1925.04 918.468 1925.04 Q916.292 1925.04 914.023 1924.67 Q911.778 1924.3 909.371 1923.56 L909.371 1918.86 Q911.454 1919.99 913.676 1920.55 Q915.898 1921.1 918.375 1921.1 Q922.38 1921.1 924.718 1919 Q927.056 1916.89 927.056 1913.28 Q927.056 1909.67 924.718 1907.56 Q922.38 1905.46 918.375 1905.46 Q916.5 1905.46 914.625 1905.87 Q912.773 1906.29 910.829 1907.17 L910.829 1889.81 Z\" fill=\"#000000\" fill-rule=\"nonzero\" fill-opacity=\"1\" /><path clip-path=\"url(#clip160)\" d=\"M1133.46 1920.43 L1149.78 1920.43 L1149.78 1924.37 L1127.84 1924.37 L1127.84 1920.43 Q1130.5 1917.68 1135.08 1913.05 Q1139.69 1908.4 1140.87 1907.05 Q1143.11 1904.53 1143.99 1902.79 Q1144.9 1901.03 1144.9 1899.34 Q1144.9 1896.59 1142.95 1894.85 Q1141.03 1893.12 1137.93 1893.12 Q1135.73 1893.12 1133.28 1893.88 Q1130.85 1894.65 1128.07 1896.2 L1128.07 1891.47 Q1130.89 1890.34 1133.35 1889.76 Q1135.8 1889.18 1137.84 1889.18 Q1143.21 1889.18 1146.4 1891.87 Q1149.59 1894.55 1149.59 1899.04 Q1149.59 1901.17 1148.78 1903.09 Q1148 1904.99 1145.89 1907.59 Q1145.31 1908.26 1142.21 1911.47 Q1139.11 1914.67 1133.46 1920.43 Z\" fill=\"#000000\" fill-rule=\"nonzero\" fill-opacity=\"1\" /><path clip-path=\"url(#clip160)\" d=\"M1159.59 1918.49 L1164.48 1918.49 L1164.48 1924.37 L1159.59 1924.37 L1159.59 1918.49 Z\" fill=\"#000000\" fill-rule=\"nonzero\" fill-opacity=\"1\" /><path clip-path=\"url(#clip160)\" d=\"M1184.66 1892.89 Q1181.05 1892.89 1179.22 1896.45 Q1177.42 1899.99 1177.42 1907.12 Q1177.42 1914.23 1179.22 1917.79 Q1181.05 1921.34 1184.66 1921.34 Q1188.3 1921.34 1190.1 1917.79 Q1191.93 1914.23 1191.93 1907.12 Q1191.93 1899.99 1190.1 1896.45 Q1188.3 1892.89 1184.66 1892.89 M1184.66 1889.18 Q1190.47 1889.18 1193.53 1893.79 Q1196.61 1898.37 1196.61 1907.12 Q1196.61 1915.85 1193.53 1920.46 Q1190.47 1925.04 1184.66 1925.04 Q1178.85 1925.04 1175.78 1920.46 Q1172.72 1915.85 1172.72 1907.12 Q1172.72 1898.37 1175.78 1893.79 Q1178.85 1889.18 1184.66 1889.18 Z\" fill=\"#000000\" fill-rule=\"nonzero\" fill-opacity=\"1\" /><path clip-path=\"url(#clip160)\" d=\"M1397.47 1920.43 L1413.79 1920.43 L1413.79 1924.37 L1391.84 1924.37 L1391.84 1920.43 Q1394.51 1917.68 1399.09 1913.05 Q1403.7 1908.4 1404.88 1907.05 Q1407.12 1904.53 1408 1902.79 Q1408.9 1901.03 1408.9 1899.34 Q1408.9 1896.59 1406.96 1894.85 Q1405.04 1893.12 1401.94 1893.12 Q1399.74 1893.12 1397.28 1893.88 Q1394.85 1894.65 1392.08 1896.2 L1392.08 1891.47 Q1394.9 1890.34 1397.35 1889.76 Q1399.81 1889.18 1401.84 1889.18 Q1407.21 1889.18 1410.41 1891.87 Q1413.6 1894.55 1413.6 1899.04 Q1413.6 1901.17 1412.79 1903.09 Q1412.01 1904.99 1409.9 1907.59 Q1409.32 1908.26 1406.22 1911.47 Q1403.12 1914.67 1397.47 1920.43 Z\" fill=\"#000000\" fill-rule=\"nonzero\" fill-opacity=\"1\" /><path clip-path=\"url(#clip160)\" d=\"M1423.6 1918.49 L1428.49 1918.49 L1428.49 1924.37 L1423.6 1924.37 L1423.6 1918.49 Z\" fill=\"#000000\" fill-rule=\"nonzero\" fill-opacity=\"1\" /><path clip-path=\"url(#clip160)\" d=\"M1438.72 1889.81 L1457.08 1889.81 L1457.08 1893.74 L1443 1893.74 L1443 1902.22 Q1444.02 1901.87 1445.04 1901.71 Q1446.06 1901.52 1447.08 1901.52 Q1452.86 1901.52 1456.24 1904.69 Q1459.62 1907.86 1459.62 1913.28 Q1459.62 1918.86 1456.15 1921.96 Q1452.68 1925.04 1446.36 1925.04 Q1444.18 1925.04 1441.91 1924.67 Q1439.67 1924.3 1437.26 1923.56 L1437.26 1918.86 Q1439.34 1919.99 1441.57 1920.55 Q1443.79 1921.1 1446.27 1921.1 Q1450.27 1921.1 1452.61 1919 Q1454.95 1916.89 1454.95 1913.28 Q1454.95 1909.67 1452.61 1907.56 Q1450.27 1905.46 1446.27 1905.46 Q1444.39 1905.46 1442.52 1905.87 Q1440.66 1906.29 1438.72 1907.17 L1438.72 1889.81 Z\" fill=\"#000000\" fill-rule=\"nonzero\" fill-opacity=\"1\" /><path clip-path=\"url(#clip160)\" d=\"M1670.55 1905.73 Q1673.91 1906.45 1675.78 1908.72 Q1677.68 1910.99 1677.68 1914.32 Q1677.68 1919.44 1674.16 1922.24 Q1670.65 1925.04 1664.16 1925.04 Q1661.99 1925.04 1659.67 1924.6 Q1657.38 1924.18 1654.93 1923.33 L1654.93 1918.81 Q1656.87 1919.95 1659.19 1920.53 Q1661.5 1921.1 1664.02 1921.1 Q1668.42 1921.1 1670.71 1919.37 Q1673.03 1917.63 1673.03 1914.32 Q1673.03 1911.27 1670.88 1909.55 Q1668.75 1907.82 1664.93 1907.82 L1660.9 1907.82 L1660.9 1903.97 L1665.11 1903.97 Q1668.56 1903.97 1670.39 1902.61 Q1672.22 1901.22 1672.22 1898.63 Q1672.22 1895.97 1670.32 1894.55 Q1668.45 1893.12 1664.93 1893.12 Q1663.01 1893.12 1660.81 1893.53 Q1658.61 1893.95 1655.97 1894.83 L1655.97 1890.66 Q1658.63 1889.92 1660.95 1889.55 Q1663.28 1889.18 1665.34 1889.18 Q1670.67 1889.18 1673.77 1891.61 Q1676.87 1894.02 1676.87 1898.14 Q1676.87 1901.01 1675.23 1903 Q1673.59 1904.97 1670.55 1905.73 Z\" fill=\"#000000\" fill-rule=\"nonzero\" fill-opacity=\"1\" /><path clip-path=\"url(#clip160)\" d=\"M1686.55 1918.49 L1691.43 1918.49 L1691.43 1924.37 L1686.55 1924.37 L1686.55 1918.49 Z\" fill=\"#000000\" fill-rule=\"nonzero\" fill-opacity=\"1\" /><path clip-path=\"url(#clip160)\" d=\"M1711.62 1892.89 Q1708.01 1892.89 1706.18 1896.45 Q1704.37 1899.99 1704.37 1907.12 Q1704.37 1914.23 1706.18 1917.79 Q1708.01 1921.34 1711.62 1921.34 Q1715.25 1921.34 1717.06 1917.79 Q1718.89 1914.23 1718.89 1907.12 Q1718.89 1899.99 1717.06 1896.45 Q1715.25 1892.89 1711.62 1892.89 M1711.62 1889.18 Q1717.43 1889.18 1720.48 1893.79 Q1723.56 1898.37 1723.56 1907.12 Q1723.56 1915.85 1720.48 1920.46 Q1717.43 1925.04 1711.62 1925.04 Q1705.81 1925.04 1702.73 1920.46 Q1699.67 1915.85 1699.67 1907.12 Q1699.67 1898.37 1702.73 1893.79 Q1705.81 1889.18 1711.62 1889.18 Z\" fill=\"#000000\" fill-rule=\"nonzero\" fill-opacity=\"1\" /><path clip-path=\"url(#clip160)\" d=\"M1934.56 1905.73 Q1937.92 1906.45 1939.79 1908.72 Q1941.69 1910.99 1941.69 1914.32 Q1941.69 1919.44 1938.17 1922.24 Q1934.65 1925.04 1928.17 1925.04 Q1926 1925.04 1923.68 1924.6 Q1921.39 1924.18 1918.94 1923.33 L1918.94 1918.81 Q1920.88 1919.95 1923.2 1920.53 Q1925.51 1921.1 1928.03 1921.1 Q1932.43 1921.1 1934.72 1919.37 Q1937.04 1917.63 1937.04 1914.32 Q1937.04 1911.27 1934.89 1909.55 Q1932.76 1907.82 1928.94 1907.82 L1924.91 1907.82 L1924.91 1903.97 L1929.12 1903.97 Q1932.57 1903.97 1934.4 1902.61 Q1936.23 1901.22 1936.23 1898.63 Q1936.23 1895.97 1934.33 1894.55 Q1932.46 1893.12 1928.94 1893.12 Q1927.02 1893.12 1924.82 1893.53 Q1922.62 1893.95 1919.98 1894.83 L1919.98 1890.66 Q1922.64 1889.92 1924.96 1889.55 Q1927.29 1889.18 1929.35 1889.18 Q1934.68 1889.18 1937.78 1891.61 Q1940.88 1894.02 1940.88 1898.14 Q1940.88 1901.01 1939.24 1903 Q1937.59 1904.97 1934.56 1905.73 Z\" fill=\"#000000\" fill-rule=\"nonzero\" fill-opacity=\"1\" /><path clip-path=\"url(#clip160)\" d=\"M1950.56 1918.49 L1955.44 1918.49 L1955.44 1924.37 L1950.56 1924.37 L1950.56 1918.49 Z\" fill=\"#000000\" fill-rule=\"nonzero\" fill-opacity=\"1\" /><path clip-path=\"url(#clip160)\" d=\"M1965.67 1889.81 L1984.03 1889.81 L1984.03 1893.74 L1969.95 1893.74 L1969.95 1902.22 Q1970.97 1901.87 1971.99 1901.71 Q1973.01 1901.52 1974.03 1901.52 Q1979.82 1901.52 1983.2 1904.69 Q1986.58 1907.86 1986.58 1913.28 Q1986.58 1918.86 1983.1 1921.96 Q1979.63 1925.04 1973.31 1925.04 Q1971.14 1925.04 1968.87 1924.67 Q1966.62 1924.3 1964.21 1923.56 L1964.21 1918.86 Q1966.3 1919.99 1968.52 1920.55 Q1970.74 1921.1 1973.22 1921.1 Q1977.22 1921.1 1979.56 1919 Q1981.9 1916.89 1981.9 1913.28 Q1981.9 1909.67 1979.56 1907.56 Q1977.22 1905.46 1973.22 1905.46 Q1971.34 1905.46 1969.47 1905.87 Q1967.62 1906.29 1965.67 1907.17 L1965.67 1889.81 Z\" fill=\"#000000\" fill-rule=\"nonzero\" fill-opacity=\"1\" /><polyline clip-path=\"url(#clip162)\" style=\"stroke:#000000; stroke-linecap:round; stroke-linejoin:round; stroke-width:0; stroke-opacity:0.1; fill:none\" points=\"108.177,1865.17 1952.76,1865.17 \"/>\n",
       "<polyline clip-path=\"url(#clip162)\" style=\"stroke:#000000; stroke-linecap:round; stroke-linejoin:round; stroke-width:0; stroke-opacity:0.1; fill:none\" points=\"108.177,1410.69 1952.76,1410.69 \"/>\n",
       "<polyline clip-path=\"url(#clip162)\" style=\"stroke:#000000; stroke-linecap:round; stroke-linejoin:round; stroke-width:0; stroke-opacity:0.1; fill:none\" points=\"108.177,956.206 1952.76,956.206 \"/>\n",
       "<polyline clip-path=\"url(#clip162)\" style=\"stroke:#000000; stroke-linecap:round; stroke-linejoin:round; stroke-width:0; stroke-opacity:0.1; fill:none\" points=\"108.177,501.725 1952.76,501.725 \"/>\n",
       "<polyline clip-path=\"url(#clip162)\" style=\"stroke:#000000; stroke-linecap:round; stroke-linejoin:round; stroke-width:0; stroke-opacity:0.1; fill:none\" points=\"108.177,47.2441 1952.76,47.2441 \"/>\n",
       "<polyline clip-path=\"url(#clip160)\" style=\"stroke:#000000; stroke-linecap:round; stroke-linejoin:round; stroke-width:4; stroke-opacity:1; fill:none\" points=\"108.177,1865.17 108.177,47.2441 \"/>\n",
       "<polyline clip-path=\"url(#clip160)\" style=\"stroke:#000000; stroke-linecap:round; stroke-linejoin:round; stroke-width:4; stroke-opacity:1; fill:none\" points=\"1952.76,1865.17 1952.76,47.2441 \"/>\n",
       "<polyline clip-path=\"url(#clip160)\" style=\"stroke:#000000; stroke-linecap:round; stroke-linejoin:round; stroke-width:4; stroke-opacity:1; fill:none\" points=\"108.177,1865.17 127.075,1865.17 \"/>\n",
       "<polyline clip-path=\"url(#clip160)\" style=\"stroke:#000000; stroke-linecap:round; stroke-linejoin:round; stroke-width:4; stroke-opacity:1; fill:none\" points=\"108.177,1410.69 127.075,1410.69 \"/>\n",
       "<polyline clip-path=\"url(#clip160)\" style=\"stroke:#000000; stroke-linecap:round; stroke-linejoin:round; stroke-width:4; stroke-opacity:1; fill:none\" points=\"108.177,956.206 127.075,956.206 \"/>\n",
       "<polyline clip-path=\"url(#clip160)\" style=\"stroke:#000000; stroke-linecap:round; stroke-linejoin:round; stroke-width:4; stroke-opacity:1; fill:none\" points=\"108.177,501.725 127.075,501.725 \"/>\n",
       "<polyline clip-path=\"url(#clip160)\" style=\"stroke:#000000; stroke-linecap:round; stroke-linejoin:round; stroke-width:4; stroke-opacity:1; fill:none\" points=\"108.177,47.2441 127.075,47.2441 \"/>\n",
       "<path clip-path=\"url(#clip160)\" d=\"M66.2328 1850.97 Q62.6217 1850.97 60.793 1854.53 Q58.9875 1858.07 58.9875 1865.2 Q58.9875 1872.31 60.793 1875.87 Q62.6217 1879.42 66.2328 1879.42 Q69.867 1879.42 71.6726 1875.87 Q73.5013 1872.31 73.5013 1865.2 Q73.5013 1858.07 71.6726 1854.53 Q69.867 1850.97 66.2328 1850.97 M66.2328 1847.26 Q72.0429 1847.26 75.0985 1851.87 Q78.1772 1856.45 78.1772 1865.2 Q78.1772 1873.93 75.0985 1878.54 Q72.0429 1883.12 66.2328 1883.12 Q60.4226 1883.12 57.344 1878.54 Q54.2884 1873.93 54.2884 1865.2 Q54.2884 1856.45 57.344 1851.87 Q60.4226 1847.26 66.2328 1847.26 Z\" fill=\"#000000\" fill-rule=\"nonzero\" fill-opacity=\"1\" /><path clip-path=\"url(#clip160)\" d=\"M58.2699 1424.03 L65.9087 1424.03 L65.9087 1397.67 L57.5986 1399.33 L57.5986 1395.07 L65.8624 1393.41 L70.5383 1393.41 L70.5383 1424.03 L78.1772 1424.03 L78.1772 1427.97 L58.2699 1427.97 L58.2699 1424.03 Z\" fill=\"#000000\" fill-rule=\"nonzero\" fill-opacity=\"1\" /><path clip-path=\"url(#clip160)\" d=\"M61.8578 969.551 L78.1772 969.551 L78.1772 973.486 L56.2328 973.486 L56.2328 969.551 Q58.8949 966.796 63.4782 962.167 Q68.0846 957.514 69.2652 956.171 Q71.5105 953.648 72.3902 951.912 Q73.2929 950.153 73.2929 948.463 Q73.2929 945.708 71.3485 943.972 Q69.4272 942.236 66.3254 942.236 Q64.1263 942.236 61.6726 943 Q59.2421 943.764 56.4643 945.315 L56.4643 940.593 Q59.2884 939.458 61.7421 938.88 Q64.1958 938.301 66.2328 938.301 Q71.6031 938.301 74.7976 940.986 Q77.992 943.671 77.992 948.162 Q77.992 950.292 77.1818 952.213 Q76.3948 954.111 74.2883 956.704 Q73.7096 957.375 70.6078 960.593 Q67.5059 963.787 61.8578 969.551 Z\" fill=\"#000000\" fill-rule=\"nonzero\" fill-opacity=\"1\" /><path clip-path=\"url(#clip160)\" d=\"M71.0476 500.371 Q74.404 501.088 76.279 503.357 Q78.1772 505.625 78.1772 508.959 Q78.1772 514.075 74.6587 516.875 Q71.1402 519.676 64.6587 519.676 Q62.4828 519.676 60.168 519.237 Q57.8764 518.82 55.4227 517.963 L55.4227 513.45 Q57.3671 514.584 59.6819 515.162 Q61.9967 515.741 64.5198 515.741 Q68.918 515.741 71.2096 514.005 Q73.5244 512.269 73.5244 508.959 Q73.5244 505.903 71.3717 504.19 Q69.242 502.454 65.4226 502.454 L61.3949 502.454 L61.3949 498.612 L65.6078 498.612 Q69.0569 498.612 70.8855 497.246 Q72.7142 495.857 72.7142 493.264 Q72.7142 490.602 70.8161 489.19 Q68.9411 487.755 65.4226 487.755 Q63.5013 487.755 61.3023 488.172 Q59.1032 488.589 56.4643 489.468 L56.4643 485.302 Q59.1264 484.561 61.4412 484.19 Q63.7791 483.82 65.8393 483.82 Q71.1633 483.82 74.2652 486.251 Q77.367 488.658 77.367 492.778 Q77.367 495.649 75.7235 497.639 Q74.08 499.607 71.0476 500.371 Z\" fill=\"#000000\" fill-rule=\"nonzero\" fill-opacity=\"1\" /><path clip-path=\"url(#clip160)\" d=\"M68.5939 34.0381 L56.7884 52.4871 L68.5939 52.4871 L68.5939 34.0381 M67.367 29.9641 L73.2466 29.9641 L73.2466 52.4871 L78.1772 52.4871 L78.1772 56.376 L73.2466 56.376 L73.2466 64.5241 L68.5939 64.5241 L68.5939 56.376 L52.9921 56.376 L52.9921 51.8621 L67.367 29.9641 Z\" fill=\"#000000\" fill-rule=\"nonzero\" fill-opacity=\"1\" /><circle clip-path=\"url(#clip162)\" cx=\"635.2\" cy=\"1410.69\" r=\"14.4\" fill=\"#ff0000\" fill-rule=\"evenodd\" fill-opacity=\"1\" stroke=\"#000000\" stroke-opacity=\"1\" stroke-width=\"4\"/>\n",
       "<circle clip-path=\"url(#clip162)\" cx=\"1162.22\" cy=\"956.206\" r=\"14.4\" fill=\"#ff0000\" fill-rule=\"evenodd\" fill-opacity=\"1\" stroke=\"#000000\" stroke-opacity=\"1\" stroke-width=\"4\"/>\n",
       "<circle clip-path=\"url(#clip162)\" cx=\"1425.73\" cy=\"501.725\" r=\"14.4\" fill=\"#0000ff\" fill-rule=\"evenodd\" fill-opacity=\"1\" stroke=\"#000000\" stroke-opacity=\"1\" stroke-width=\"4\"/>\n",
       "<polyline clip-path=\"url(#clip162)\" style=\"stroke:#808080; stroke-linecap:round; stroke-linejoin:round; stroke-width:4; stroke-opacity:0.4; fill:none\" points=\"20.3401,3683.09 20.3401,-1770.68 \"/>\n",
       "<polyline clip-path=\"url(#clip162)\" style=\"stroke:#808080; stroke-linecap:round; stroke-linejoin:round; stroke-width:4; stroke-opacity:0.4; fill:none\" points=\"898.711,3683.09 898.711,-1770.68 \"/>\n",
       "<polyline clip-path=\"url(#clip162)\" style=\"stroke:#808080; stroke-linecap:round; stroke-linejoin:round; stroke-width:4; stroke-opacity:0.4; fill:none\" points=\"1293.98,3683.09 1293.98,-1770.68 \"/>\n",
       "<polyline clip-path=\"url(#clip162)\" style=\"stroke:#808080; stroke-linecap:round; stroke-linejoin:round; stroke-width:4; stroke-opacity:0.4; fill:none\" points=\"2040.59,3683.09 2040.59,-1770.68 \"/>\n",
       "<polyline clip-path=\"url(#clip162)\" style=\"stroke:#808080; stroke-linecap:round; stroke-linejoin:round; stroke-width:4; stroke-opacity:0.4; fill:none\" points=\"-1736.4,2016.66 3797.33,2016.66 \"/>\n",
       "<polyline clip-path=\"url(#clip162)\" style=\"stroke:#808080; stroke-linecap:round; stroke-linejoin:round; stroke-width:4; stroke-opacity:0.4; fill:none\" points=\"-1736.4,1183.45 3797.33,1183.45 \"/>\n",
       "<polyline clip-path=\"url(#clip162)\" style=\"stroke:#808080; stroke-linecap:round; stroke-linejoin:round; stroke-width:4; stroke-opacity:0.4; fill:none\" points=\"-1736.4,728.966 3797.33,728.966 \"/>\n",
       "<polyline clip-path=\"url(#clip162)\" style=\"stroke:#808080; stroke-linecap:round; stroke-linejoin:round; stroke-width:4; stroke-opacity:0.4; fill:none\" points=\"-1736.4,-104.25 3797.33,-104.25 \"/>\n",
       "</svg>\n"
      ]
     },
     "metadata": {},
     "output_type": "display_data"
    }
   ],
   "source": [
    "n = 3\n",
    "\n",
    "#S = rand(n,2)\n",
    "S = [\n",
    "    1 1\n",
    "    2 2\n",
    "    2.5 3\n",
    "]\n",
    "\n",
    "#w = rand([-1,1], n)\n",
    "w = [1,1,-1]\n",
    "\n",
    "p1 = plot_rb_points(S, w)\n",
    "\n",
    "sortperm_x = sortperm(S[:, 1])\n",
    "sorted_x = S[sortperm_x, 1]\n",
    "midpoints_x = sorted2midpoints(sorted_x)\n",
    "\n",
    "sortperm_y = sortperm(S[:, 2])\n",
    "sorted_y = S[sortperm_y, 2]\n",
    "midpoints_y = sorted2midpoints(sorted_y)\n",
    "\n",
    "p2 = plot_rb_points(S, w)\n",
    "vline!(midpoints_x, color=:gray, alpha = .4)\n",
    "hline!(midpoints_y, color=:gray, alpha = .4)\n",
    "\n",
    "display(p1)\n",
    "display(p2)"
   ]
  },
  {
   "cell_type": "code",
   "execution_count": 5,
   "id": "a5111c7d-03b1-4183-9408-74178f619a4f",
   "metadata": {
    "tags": []
   },
   "outputs": [
    {
     "data": {
      "text/plain": [
       "1"
      ]
     },
     "execution_count": 5,
     "metadata": {},
     "output_type": "execute_result"
    }
   ],
   "source": [
    "Disc_ijkl(i,j,k,l) = abs(sum(w[intersect(sortperm_x[i:j-1],sortperm_y[k:l-1])]))\n",
    "Count_ijkl(i,j,k,l) = length(intersect(sortperm_x[i:j-1],sortperm_y[k:l-1]))\n",
    "i=1\n",
    "j=4\n",
    "k=1\n",
    "l=4\n",
    "Disc_ijkl(i,j,k,l)"
   ]
  }
 ],
 "metadata": {
  "kernelspec": {
   "display_name": "Julia 1.8.4",
   "language": "julia",
   "name": "julia-1.8"
  },
  "language_info": {
   "file_extension": ".jl",
   "mimetype": "application/julia",
   "name": "julia",
   "version": "1.8.4"
  }
 },
 "nbformat": 4,
 "nbformat_minor": 5
}
