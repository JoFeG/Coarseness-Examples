{
 "cells": [
  {
   "cell_type": "code",
   "execution_count": 1,
   "id": "84e9de01-68e4-41b8-a5b4-0c2637672b8d",
   "metadata": {
    "tags": []
   },
   "outputs": [
    {
     "data": {
      "text/plain": [
       "coarseness_bf (generic function with 1 method)"
      ]
     },
     "execution_count": 1,
     "metadata": {},
     "output_type": "execute_result"
    }
   ],
   "source": [
    "using LazySets\n",
    "using Random\n",
    "include(\"src/plotting_utils.jl\")\n",
    "include(\"src/bruteforce_utils.jl\")"
   ]
  },
  {
   "cell_type": "code",
   "execution_count": 2,
   "id": "6ce669dc-11d2-4454-8241-67993a730fcf",
   "metadata": {
    "tags": []
   },
   "outputs": [
    {
     "data": {
      "image/svg+xml": [
       "<?xml version=\"1.0\" encoding=\"utf-8\"?>\n",
       "<svg xmlns=\"http://www.w3.org/2000/svg\" xmlns:xlink=\"http://www.w3.org/1999/xlink\" width=\"500\" height=\"500\" viewBox=\"0 0 2000 2000\">\n",
       "<defs>\n",
       "  <clipPath id=\"clip770\">\n",
       "    <rect x=\"0\" y=\"0\" width=\"2000\" height=\"2000\"/>\n",
       "  </clipPath>\n",
       "</defs>\n",
       "<path clip-path=\"url(#clip770)\" d=\"M0 2000 L2000 2000 L2000 0 L0 0  Z\" fill=\"#ffffff\" fill-rule=\"evenodd\" fill-opacity=\"1\"/>\n",
       "<defs>\n",
       "  <clipPath id=\"clip771\">\n",
       "    <rect x=\"400\" y=\"200\" width=\"1401\" height=\"1401\"/>\n",
       "  </clipPath>\n",
       "</defs>\n",
       "<path clip-path=\"url(#clip770)\" d=\"M152.598 1865.17 L1952.76 1865.17 L1952.76 47.2441 L152.598 47.2441  Z\" fill=\"#ffffff\" fill-rule=\"evenodd\" fill-opacity=\"1\"/>\n",
       "<defs>\n",
       "  <clipPath id=\"clip772\">\n",
       "    <rect x=\"152\" y=\"47\" width=\"1801\" height=\"1819\"/>\n",
       "  </clipPath>\n",
       "</defs>\n",
       "<circle clip-path=\"url(#clip772)\" cx=\"1404.58\" cy=\"949.104\" r=\"21.6\" fill=\"#ff0000\" fill-rule=\"evenodd\" fill-opacity=\"1\" stroke=\"#000000\" stroke-opacity=\"1\" stroke-width=\"4\"/>\n",
       "<circle clip-path=\"url(#clip772)\" cx=\"895.909\" cy=\"649.053\" r=\"21.6\" fill=\"#ff0000\" fill-rule=\"evenodd\" fill-opacity=\"1\" stroke=\"#000000\" stroke-opacity=\"1\" stroke-width=\"4\"/>\n",
       "<circle clip-path=\"url(#clip772)\" cx=\"1695.59\" cy=\"582.07\" r=\"21.6\" fill=\"#0000ff\" fill-rule=\"evenodd\" fill-opacity=\"1\" stroke=\"#000000\" stroke-opacity=\"1\" stroke-width=\"4\"/>\n",
       "<circle clip-path=\"url(#clip772)\" cx=\"841.675\" cy=\"552.032\" r=\"21.6\" fill=\"#0000ff\" fill-rule=\"evenodd\" fill-opacity=\"1\" stroke=\"#000000\" stroke-opacity=\"1\" stroke-width=\"4\"/>\n",
       "<circle clip-path=\"url(#clip772)\" cx=\"1650.82\" cy=\"997.003\" r=\"21.6\" fill=\"#0000ff\" fill-rule=\"evenodd\" fill-opacity=\"1\" stroke=\"#000000\" stroke-opacity=\"1\" stroke-width=\"4\"/>\n",
       "<circle clip-path=\"url(#clip772)\" cx=\"481.336\" cy=\"1605.46\" r=\"21.6\" fill=\"#0000ff\" fill-rule=\"evenodd\" fill-opacity=\"1\" stroke=\"#000000\" stroke-opacity=\"1\" stroke-width=\"4\"/>\n",
       "<circle clip-path=\"url(#clip772)\" cx=\"1413.56\" cy=\"807.923\" r=\"21.6\" fill=\"#0000ff\" fill-rule=\"evenodd\" fill-opacity=\"1\" stroke=\"#000000\" stroke-opacity=\"1\" stroke-width=\"4\"/>\n",
       "<circle clip-path=\"url(#clip772)\" cx=\"409.764\" cy=\"306.947\" r=\"21.6\" fill=\"#0000ff\" fill-rule=\"evenodd\" fill-opacity=\"1\" stroke=\"#000000\" stroke-opacity=\"1\" stroke-width=\"4\"/>\n",
       "</svg>\n"
      ]
     },
     "execution_count": 2,
     "metadata": {},
     "output_type": "execute_result"
    }
   ],
   "source": [
    "n = 8\n",
    "\n",
    "S = rand(n,2)\n",
    "w = rand([-1,1], n)\n",
    "\n",
    "plot_rb_points(S, w)"
   ]
  },
  {
   "cell_type": "code",
   "execution_count": 3,
   "id": "caa2f72d-aaa3-4b2e-8f0e-dbd1298a403a",
   "metadata": {
    "tags": []
   },
   "outputs": [
    {
     "data": {
      "image/svg+xml": [
       "<?xml version=\"1.0\" encoding=\"utf-8\"?>\n",
       "<svg xmlns=\"http://www.w3.org/2000/svg\" xmlns:xlink=\"http://www.w3.org/1999/xlink\" width=\"500\" height=\"500\" viewBox=\"0 0 2000 2000\">\n",
       "<defs>\n",
       "  <clipPath id=\"clip810\">\n",
       "    <rect x=\"0\" y=\"0\" width=\"2000\" height=\"2000\"/>\n",
       "  </clipPath>\n",
       "</defs>\n",
       "<path clip-path=\"url(#clip810)\" d=\"M0 2000 L2000 2000 L2000 0 L0 0  Z\" fill=\"#ffffff\" fill-rule=\"evenodd\" fill-opacity=\"1\"/>\n",
       "<defs>\n",
       "  <clipPath id=\"clip811\">\n",
       "    <rect x=\"400\" y=\"200\" width=\"1401\" height=\"1401\"/>\n",
       "  </clipPath>\n",
       "</defs>\n",
       "<path clip-path=\"url(#clip810)\" d=\"M152.598 1865.17 L1952.76 1865.17 L1952.76 47.2441 L152.598 47.2441  Z\" fill=\"#ffffff\" fill-rule=\"evenodd\" fill-opacity=\"1\"/>\n",
       "<defs>\n",
       "  <clipPath id=\"clip812\">\n",
       "    <rect x=\"152\" y=\"47\" width=\"1801\" height=\"1819\"/>\n",
       "  </clipPath>\n",
       "</defs>\n",
       "<circle clip-path=\"url(#clip812)\" cx=\"1404.58\" cy=\"949.104\" r=\"21.6\" fill=\"#ff0000\" fill-rule=\"evenodd\" fill-opacity=\"1\" stroke=\"#000000\" stroke-opacity=\"1\" stroke-width=\"4\"/>\n",
       "<circle clip-path=\"url(#clip812)\" cx=\"895.909\" cy=\"649.053\" r=\"21.6\" fill=\"#ff0000\" fill-rule=\"evenodd\" fill-opacity=\"1\" stroke=\"#000000\" stroke-opacity=\"1\" stroke-width=\"4\"/>\n",
       "<circle clip-path=\"url(#clip812)\" cx=\"1695.59\" cy=\"582.07\" r=\"21.6\" fill=\"#0000ff\" fill-rule=\"evenodd\" fill-opacity=\"1\" stroke=\"#000000\" stroke-opacity=\"1\" stroke-width=\"4\"/>\n",
       "<circle clip-path=\"url(#clip812)\" cx=\"841.675\" cy=\"552.032\" r=\"21.6\" fill=\"#0000ff\" fill-rule=\"evenodd\" fill-opacity=\"1\" stroke=\"#000000\" stroke-opacity=\"1\" stroke-width=\"4\"/>\n",
       "<circle clip-path=\"url(#clip812)\" cx=\"1650.82\" cy=\"997.003\" r=\"21.6\" fill=\"#0000ff\" fill-rule=\"evenodd\" fill-opacity=\"1\" stroke=\"#000000\" stroke-opacity=\"1\" stroke-width=\"4\"/>\n",
       "<circle clip-path=\"url(#clip812)\" cx=\"481.336\" cy=\"1605.46\" r=\"21.6\" fill=\"#0000ff\" fill-rule=\"evenodd\" fill-opacity=\"1\" stroke=\"#000000\" stroke-opacity=\"1\" stroke-width=\"4\"/>\n",
       "<circle clip-path=\"url(#clip812)\" cx=\"1413.56\" cy=\"807.923\" r=\"21.6\" fill=\"#0000ff\" fill-rule=\"evenodd\" fill-opacity=\"1\" stroke=\"#000000\" stroke-opacity=\"1\" stroke-width=\"4\"/>\n",
       "<circle clip-path=\"url(#clip812)\" cx=\"409.764\" cy=\"306.947\" r=\"21.6\" fill=\"#0000ff\" fill-rule=\"evenodd\" fill-opacity=\"1\" stroke=\"#000000\" stroke-opacity=\"1\" stroke-width=\"4\"/>\n",
       "<path clip-path=\"url(#clip812)\" d=\"M1650.82 997.003 L1413.56 807.923 L409.764 306.947 L1650.82 997.003 L1650.82 997.003  Z\" fill=\"#808080\" fill-rule=\"evenodd\" fill-opacity=\"0.2\"/>\n",
       "<polyline clip-path=\"url(#clip812)\" style=\"stroke:#000000; stroke-linecap:round; stroke-linejoin:round; stroke-width:4; stroke-opacity:0.2; fill:none\" points=\"1650.82,997.003 1413.56,807.923 409.764,306.947 1650.82,997.003 \"/>\n",
       "<path clip-path=\"url(#clip812)\" d=\"M1695.59 582.07 L895.909 649.053 L481.336 1605.46 L1695.59 582.07 L1695.59 582.07  Z\" fill=\"#808080\" fill-rule=\"evenodd\" fill-opacity=\"0.2\"/>\n",
       "<polyline clip-path=\"url(#clip812)\" style=\"stroke:#000000; stroke-linecap:round; stroke-linejoin:round; stroke-width:4; stroke-opacity:0.2; fill:none\" points=\"1695.59,582.07 895.909,649.053 481.336,1605.46 1695.59,582.07 \"/>\n",
       "<polyline clip-path=\"url(#clip812)\" style=\"stroke:#808080; stroke-linecap:round; stroke-linejoin:round; stroke-width:4; stroke-opacity:0.2; fill:none\" points=\"841.675,552.032 1404.58,949.104 \"/>\n",
       "<circle clip-path=\"url(#clip812)\" cx=\"841.675\" cy=\"552.032\" r=\"14.4\" fill=\"#808080\" fill-rule=\"evenodd\" fill-opacity=\"0.2\" stroke=\"#000000\" stroke-opacity=\"0.2\" stroke-width=\"4\"/>\n",
       "<circle clip-path=\"url(#clip812)\" cx=\"1404.58\" cy=\"949.104\" r=\"14.4\" fill=\"#808080\" fill-rule=\"evenodd\" fill-opacity=\"0.2\" stroke=\"#000000\" stroke-opacity=\"0.2\" stroke-width=\"4\"/>\n",
       "</svg>\n"
      ]
     },
     "metadata": {},
     "output_type": "display_data"
    },
    {
     "data": {
      "text/plain": [
       "0"
      ]
     },
     "execution_count": 3,
     "metadata": {},
     "output_type": "execute_result"
    }
   ],
   "source": [
    "# Ejemplo uso diccrepancy()\n",
    "\n",
    "k = 3\n",
    "Π = shuffle!(cat(collect(1:k), rand(1:k, n-k), dims=1))\n",
    "display(plot_rb_points(S, w, Π))\n",
    "discrepancy(S, w, Π)"
   ]
  },
  {
   "cell_type": "code",
   "execution_count": 4,
   "id": "e4f0c98b-3403-4d75-8168-7072c8578858",
   "metadata": {
    "tags": []
   },
   "outputs": [
    {
     "name": "stdout",
     "output_type": "stream",
     "text": [
      "[2, 3, 1, 3, 2, 2, 1, 1]\n",
      "[1, 2, 3, 2, 1, 1, 3, 3]\n"
     ]
    }
   ],
   "source": [
    "# Ejemplo uso relabler()\n",
    "println(Π)\n",
    "relabler!(Π, [3,1,2])\n",
    "println(Π)"
   ]
  },
  {
   "cell_type": "code",
   "execution_count": 5,
   "id": "5a963237-ddec-4c88-b25b-ae197d07cfe0",
   "metadata": {
    "tags": []
   },
   "outputs": [
    {
     "data": {
      "text/plain": [
       "5×25 Matrix{Integer}:\n",
       " 1  1  1  1  1  1  1  1  1  1  1  1  1  1  1  1  1  1  1  1  1  1  1  1  1\n",
       " 1  1  1  1  1  1  3  3  3  3  3  3  2  2  2  2  2  2  2  2  2  2  2  2  2\n",
       " 1  3  2  2  2  2  3  2  1  1  1  1  2  1  3  3  3  3  2  2  2  3  3  3  3\n",
       " 2  1  3  2  3  3  1  3  2  1  2  2  3  2  1  3  1  1  2  3  3  3  2  2  3\n",
       " 3  2  1  3  2  3  2  1  3  2  1  2  1  3  2  1  3  1  3  2  3  2  3  2  3"
      ]
     },
     "execution_count": 5,
     "metadata": {},
     "output_type": "execute_result"
    }
   ],
   "source": [
    "# Ejemplo uso partitions()\n",
    "# arma una matriz con todas las particiones de n en k grupos no vacios\n",
    "\n",
    "partitions(5, 3)"
   ]
  },
  {
   "cell_type": "code",
   "execution_count": 6,
   "id": "f1309304-f417-4bb6-a9ff-3c7872182f32",
   "metadata": {
    "tags": []
   },
   "outputs": [
    {
     "name": "stdout",
     "output_type": "stream",
     "text": [
      "coarseness = 2\n"
     ]
    },
    {
     "data": {
      "text/plain": [
       "6×2 Matrix{Integer}:\n",
       " 1  1\n",
       " 1  2\n",
       " 1  3\n",
       " 1  2\n",
       " 1  3\n",
       " 1  1"
      ]
     },
     "execution_count": 6,
     "metadata": {},
     "output_type": "execute_result"
    }
   ],
   "source": [
    "# Ejemplo uso coarseness() \n",
    "# OJO que es fuerza bruta: exponencial! \n",
    "# con n=10 demora aprox 7min en mi compu, con 11 ya no probe...\n",
    "\n",
    "n = 6\n",
    "S = rand(n,2)\n",
    "w = rand([-1,1], n)\n",
    "\n",
    "# devuelve el valor del coarseness y todas las particiones optimas\n",
    "c, Π_opt = coarseness_bf(S,w)\n",
    "\n",
    "println(\"coarseness = \", c)\n",
    "Π_opt"
   ]
  },
  {
   "cell_type": "code",
   "execution_count": 8,
   "id": "c1fbc4ce-385f-4515-9e02-4cbdb8c9f0f3",
   "metadata": {
    "tags": []
   },
   "outputs": [
    {
     "data": {
      "image/svg+xml": [
       "<?xml version=\"1.0\" encoding=\"utf-8\"?>\n",
       "<svg xmlns=\"http://www.w3.org/2000/svg\" xmlns:xlink=\"http://www.w3.org/1999/xlink\" width=\"500\" height=\"500\" viewBox=\"0 0 2000 2000\">\n",
       "<defs>\n",
       "  <clipPath id=\"clip890\">\n",
       "    <rect x=\"0\" y=\"0\" width=\"2000\" height=\"2000\"/>\n",
       "  </clipPath>\n",
       "</defs>\n",
       "<path clip-path=\"url(#clip890)\" d=\"M0 2000 L2000 2000 L2000 0 L0 0  Z\" fill=\"#ffffff\" fill-rule=\"evenodd\" fill-opacity=\"1\"/>\n",
       "<defs>\n",
       "  <clipPath id=\"clip891\">\n",
       "    <rect x=\"400\" y=\"200\" width=\"1401\" height=\"1401\"/>\n",
       "  </clipPath>\n",
       "</defs>\n",
       "<path clip-path=\"url(#clip890)\" d=\"M182.274 1865.17 L1952.76 1865.17 L1952.76 47.2441 L182.274 47.2441  Z\" fill=\"#ffffff\" fill-rule=\"evenodd\" fill-opacity=\"1\"/>\n",
       "<defs>\n",
       "  <clipPath id=\"clip892\">\n",
       "    <rect x=\"182\" y=\"47\" width=\"1771\" height=\"1819\"/>\n",
       "  </clipPath>\n",
       "</defs>\n",
       "<circle clip-path=\"url(#clip892)\" cx=\"1699.83\" cy=\"929.974\" r=\"21.6\" fill=\"#ff0000\" fill-rule=\"evenodd\" fill-opacity=\"1\" stroke=\"#000000\" stroke-opacity=\"1\" stroke-width=\"4\"/>\n",
       "<circle clip-path=\"url(#clip892)\" cx=\"1082.55\" cy=\"1605.46\" r=\"21.6\" fill=\"#ff0000\" fill-rule=\"evenodd\" fill-opacity=\"1\" stroke=\"#000000\" stroke-opacity=\"1\" stroke-width=\"4\"/>\n",
       "<circle clip-path=\"url(#clip892)\" cx=\"1235.09\" cy=\"1549.54\" r=\"21.6\" fill=\"#0000ff\" fill-rule=\"evenodd\" fill-opacity=\"1\" stroke=\"#000000\" stroke-opacity=\"1\" stroke-width=\"4\"/>\n",
       "<circle clip-path=\"url(#clip892)\" cx=\"1690.21\" cy=\"306.947\" r=\"21.6\" fill=\"#0000ff\" fill-rule=\"evenodd\" fill-opacity=\"1\" stroke=\"#000000\" stroke-opacity=\"1\" stroke-width=\"4\"/>\n",
       "<circle clip-path=\"url(#clip892)\" cx=\"435.2\" cy=\"743.101\" r=\"21.6\" fill=\"#0000ff\" fill-rule=\"evenodd\" fill-opacity=\"1\" stroke=\"#000000\" stroke-opacity=\"1\" stroke-width=\"4\"/>\n",
       "<circle clip-path=\"url(#clip892)\" cx=\"1319.28\" cy=\"1590.16\" r=\"21.6\" fill=\"#0000ff\" fill-rule=\"evenodd\" fill-opacity=\"1\" stroke=\"#000000\" stroke-opacity=\"1\" stroke-width=\"4\"/>\n",
       "<polyline clip-path=\"url(#clip892)\" style=\"stroke:#808080; stroke-linecap:round; stroke-linejoin:round; stroke-width:4; stroke-opacity:0.2; fill:none\" points=\"1235.09,1549.54 1319.28,1590.16 \"/>\n",
       "<circle clip-path=\"url(#clip892)\" cx=\"1235.09\" cy=\"1549.54\" r=\"14.4\" fill=\"#808080\" fill-rule=\"evenodd\" fill-opacity=\"0.2\" stroke=\"#000000\" stroke-opacity=\"0.2\" stroke-width=\"4\"/>\n",
       "<circle clip-path=\"url(#clip892)\" cx=\"1319.28\" cy=\"1590.16\" r=\"14.4\" fill=\"#808080\" fill-rule=\"evenodd\" fill-opacity=\"0.2\" stroke=\"#000000\" stroke-opacity=\"0.2\" stroke-width=\"4\"/>\n",
       "<polyline clip-path=\"url(#clip892)\" style=\"stroke:#808080; stroke-linecap:round; stroke-linejoin:round; stroke-width:4; stroke-opacity:0.2; fill:none\" points=\"1690.21,306.947 435.2,743.101 \"/>\n",
       "<circle clip-path=\"url(#clip892)\" cx=\"1690.21\" cy=\"306.947\" r=\"14.4\" fill=\"#808080\" fill-rule=\"evenodd\" fill-opacity=\"0.2\" stroke=\"#000000\" stroke-opacity=\"0.2\" stroke-width=\"4\"/>\n",
       "<circle clip-path=\"url(#clip892)\" cx=\"435.2\" cy=\"743.101\" r=\"14.4\" fill=\"#808080\" fill-rule=\"evenodd\" fill-opacity=\"0.2\" stroke=\"#000000\" stroke-opacity=\"0.2\" stroke-width=\"4\"/>\n",
       "<polyline clip-path=\"url(#clip892)\" style=\"stroke:#808080; stroke-linecap:round; stroke-linejoin:round; stroke-width:4; stroke-opacity:0.2; fill:none\" points=\"1699.83,929.974 1082.55,1605.46 \"/>\n",
       "<circle clip-path=\"url(#clip892)\" cx=\"1699.83\" cy=\"929.974\" r=\"14.4\" fill=\"#808080\" fill-rule=\"evenodd\" fill-opacity=\"0.2\" stroke=\"#000000\" stroke-opacity=\"0.2\" stroke-width=\"4\"/>\n",
       "<circle clip-path=\"url(#clip892)\" cx=\"1082.55\" cy=\"1605.46\" r=\"14.4\" fill=\"#808080\" fill-rule=\"evenodd\" fill-opacity=\"0.2\" stroke=\"#000000\" stroke-opacity=\"0.2\" stroke-width=\"4\"/>\n",
       "</svg>\n"
      ]
     },
     "execution_count": 8,
     "metadata": {},
     "output_type": "execute_result"
    }
   ],
   "source": [
    "i = 2\n",
    "plot_rb_points(S,w,Π_opt[:,i])"
   ]
  },
  {
   "cell_type": "code",
   "execution_count": 18,
   "id": "4bffa61c-ee88-4e44-85d5-a4a0fd205c81",
   "metadata": {
    "tags": []
   },
   "outputs": [
    {
     "name": "stdout",
     "output_type": "stream",
     "text": [
      "coarseness = 3\n"
     ]
    },
    {
     "data": {
      "text/plain": [
       "8×2 Matrix{Int64}:\n",
       " 1  1\n",
       " 1  2\n",
       " 2  1\n",
       " 1  2\n",
       " 1  1\n",
       " 2  1\n",
       " 1  2\n",
       " 2  1"
      ]
     },
     "execution_count": 18,
     "metadata": {},
     "output_type": "execute_result"
    }
   ],
   "source": [
    "# OJO Con n muy grande\n",
    "n = 8\n",
    "\n",
    "S = rand(n,2)\n",
    "w = rand([-1,1], n)\n",
    "\n",
    "c, Π_opt = coarseness_bf(S,w)\n",
    "\n",
    "println(\"coarseness = \", c)\n",
    "Π_opt"
   ]
  },
  {
   "cell_type": "code",
   "execution_count": 13,
   "id": "c4556545-af22-4f34-abab-584f97798286",
   "metadata": {
    "tags": []
   },
   "outputs": [],
   "source": [
    "a = zeros(12)\n",
    "Threads.@threads for i = 1:12\n",
    "    # ...\n",
    "    a[i] = Threads.threadid()\n",
    "end"
   ]
  }
 ],
 "metadata": {
  "kernelspec": {
   "display_name": "Julia 12 Threads 1.6.1",
   "language": "julia",
   "name": "julia-12-threads-1.6"
  },
  "language_info": {
   "file_extension": ".jl",
   "mimetype": "application/julia",
   "name": "julia",
   "version": "1.6.1"
  }
 },
 "nbformat": 4,
 "nbformat_minor": 5
}
