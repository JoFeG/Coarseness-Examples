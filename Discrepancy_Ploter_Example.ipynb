{
 "cells": [
  {
   "cell_type": "code",
   "execution_count": 39,
   "id": "27da6508-5eb0-4805-b1ef-e0e5dfcafc18",
   "metadata": {
    "tags": []
   },
   "outputs": [
    {
     "data": {
      "text/plain": [
       "print_S_info (generic function with 1 method)"
      ]
     },
     "execution_count": 39,
     "metadata": {},
     "output_type": "execute_result"
    }
   ],
   "source": [
    "using Random\n",
    "include(\"src/plotting_utils.jl\")"
   ]
  },
  {
   "cell_type": "code",
   "execution_count": 45,
   "id": "9c6d8394-ebfc-424d-b41e-c742dcde104b",
   "metadata": {
    "tags": []
   },
   "outputs": [
    {
     "data": {
      "image/svg+xml": [
       "<?xml version=\"1.0\" encoding=\"utf-8\"?>\n",
       "<svg xmlns=\"http://www.w3.org/2000/svg\" xmlns:xlink=\"http://www.w3.org/1999/xlink\" width=\"500\" height=\"500\" viewBox=\"0 0 2000 2000\">\n",
       "<defs>\n",
       "  <clipPath id=\"clip230\">\n",
       "    <rect x=\"0\" y=\"0\" width=\"2000\" height=\"2000\"/>\n",
       "  </clipPath>\n",
       "</defs>\n",
       "<path clip-path=\"url(#clip230)\" d=\"M0 2000 L2000 2000 L2000 0 L0 0  Z\" fill=\"#ffffff\" fill-rule=\"evenodd\" fill-opacity=\"1\"/>\n",
       "<defs>\n",
       "  <clipPath id=\"clip231\">\n",
       "    <rect x=\"400\" y=\"200\" width=\"1401\" height=\"1401\"/>\n",
       "  </clipPath>\n",
       "</defs>\n",
       "<path clip-path=\"url(#clip230)\" d=\"M189.936 1865.17 L1952.76 1865.17 L1952.76 47.2441 L189.936 47.2441  Z\" fill=\"#ffffff\" fill-rule=\"evenodd\" fill-opacity=\"1\"/>\n",
       "<defs>\n",
       "  <clipPath id=\"clip232\">\n",
       "    <rect x=\"189\" y=\"47\" width=\"1764\" height=\"1819\"/>\n",
       "  </clipPath>\n",
       "</defs>\n",
       "<circle clip-path=\"url(#clip232)\" cx=\"1386.14\" cy=\"393.932\" r=\"14.4\" fill=\"#ff0000\" fill-rule=\"evenodd\" fill-opacity=\"1\" stroke=\"#000000\" stroke-opacity=\"1\" stroke-width=\"4\"/>\n",
       "<circle clip-path=\"url(#clip232)\" cx=\"1616.58\" cy=\"631.577\" r=\"14.4\" fill=\"#ff0000\" fill-rule=\"evenodd\" fill-opacity=\"1\" stroke=\"#000000\" stroke-opacity=\"1\" stroke-width=\"4\"/>\n",
       "<circle clip-path=\"url(#clip232)\" cx=\"1386.14\" cy=\"1518.48\" r=\"14.4\" fill=\"#ff0000\" fill-rule=\"evenodd\" fill-opacity=\"1\" stroke=\"#000000\" stroke-opacity=\"1\" stroke-width=\"4\"/>\n",
       "<circle clip-path=\"url(#clip232)\" cx=\"1071.35\" cy=\"1605.46\" r=\"14.4\" fill=\"#ff0000\" fill-rule=\"evenodd\" fill-opacity=\"1\" stroke=\"#000000\" stroke-opacity=\"1\" stroke-width=\"4\"/>\n",
       "<circle clip-path=\"url(#clip232)\" cx=\"441.767\" cy=\"956.206\" r=\"14.4\" fill=\"#ff0000\" fill-rule=\"evenodd\" fill-opacity=\"1\" stroke=\"#000000\" stroke-opacity=\"1\" stroke-width=\"4\"/>\n",
       "<circle clip-path=\"url(#clip232)\" cx=\"526.115\" cy=\"631.577\" r=\"14.4\" fill=\"#ff0000\" fill-rule=\"evenodd\" fill-opacity=\"1\" stroke=\"#000000\" stroke-opacity=\"1\" stroke-width=\"4\"/>\n",
       "<circle clip-path=\"url(#clip232)\" cx=\"1700.92\" cy=\"956.206\" r=\"14.4\" fill=\"#0000ff\" fill-rule=\"evenodd\" fill-opacity=\"1\" stroke=\"#000000\" stroke-opacity=\"1\" stroke-width=\"4\"/>\n",
       "<circle clip-path=\"url(#clip232)\" cx=\"1616.58\" cy=\"1280.84\" r=\"14.4\" fill=\"#0000ff\" fill-rule=\"evenodd\" fill-opacity=\"1\" stroke=\"#000000\" stroke-opacity=\"1\" stroke-width=\"4\"/>\n",
       "<circle clip-path=\"url(#clip232)\" cx=\"756.557\" cy=\"1518.48\" r=\"14.4\" fill=\"#0000ff\" fill-rule=\"evenodd\" fill-opacity=\"1\" stroke=\"#000000\" stroke-opacity=\"1\" stroke-width=\"4\"/>\n",
       "<circle clip-path=\"url(#clip232)\" cx=\"526.115\" cy=\"1280.84\" r=\"14.4\" fill=\"#0000ff\" fill-rule=\"evenodd\" fill-opacity=\"1\" stroke=\"#000000\" stroke-opacity=\"1\" stroke-width=\"4\"/>\n",
       "<circle clip-path=\"url(#clip232)\" cx=\"756.557\" cy=\"393.932\" r=\"14.4\" fill=\"#0000ff\" fill-rule=\"evenodd\" fill-opacity=\"1\" stroke=\"#000000\" stroke-opacity=\"1\" stroke-width=\"4\"/>\n",
       "<circle clip-path=\"url(#clip232)\" cx=\"1071.35\" cy=\"306.947\" r=\"14.4\" fill=\"#0000ff\" fill-rule=\"evenodd\" fill-opacity=\"1\" stroke=\"#000000\" stroke-opacity=\"1\" stroke-width=\"4\"/>\n",
       "<path clip-path=\"url(#clip232)\" d=\"M1700.92 956.206 L1616.58 631.577 L1386.14 393.932 L1700.92 956.206 L1700.92 956.206  Z\" fill=\"#808080\" fill-rule=\"evenodd\" fill-opacity=\"0.2\"/>\n",
       "<polyline clip-path=\"url(#clip232)\" style=\"stroke:#000000; stroke-linecap:round; stroke-linejoin:round; stroke-width:4; stroke-opacity:0.2; fill:none\" points=\"1700.92,956.206 1616.58,631.577 1386.14,393.932 1700.92,956.206 \"/>\n",
       "<path clip-path=\"url(#clip232)\" d=\"M1071.35 1605.46 L1386.14 1518.48 L1616.58 1280.84 L1071.35 1605.46 L1071.35 1605.46  Z\" fill=\"#808080\" fill-rule=\"evenodd\" fill-opacity=\"0.2\"/>\n",
       "<polyline clip-path=\"url(#clip232)\" style=\"stroke:#000000; stroke-linecap:round; stroke-linejoin:round; stroke-width:4; stroke-opacity:0.2; fill:none\" points=\"1071.35,1605.46 1386.14,1518.48 1616.58,1280.84 1071.35,1605.46 \"/>\n",
       "<path clip-path=\"url(#clip232)\" d=\"M441.767 956.206 L526.115 1280.84 L756.557 1518.48 L1071.35 306.947 L756.557 393.932 L526.115 631.577 L441.767 956.206 L441.767 956.206  Z\" fill=\"#808080\" fill-rule=\"evenodd\" fill-opacity=\"0.2\"/>\n",
       "<polyline clip-path=\"url(#clip232)\" style=\"stroke:#000000; stroke-linecap:round; stroke-linejoin:round; stroke-width:4; stroke-opacity:0.2; fill:none\" points=\"441.767,956.206 526.115,1280.84 756.557,1518.48 1071.35,306.947 756.557,393.932 526.115,631.577 441.767,956.206 \"/>\n",
       "<path clip-path=\"url(#clip230)\" d=\"M284.231 215.599 L284.231 242.474 L289.879 242.474 Q297.032 242.474 300.342 239.233 Q303.675 235.992 303.675 229.002 Q303.675 222.057 300.342 218.84 Q297.032 215.599 289.879 215.599 L284.231 215.599 M279.555 211.756 L289.161 211.756 Q299.208 211.756 303.907 215.946 Q308.606 220.113 308.606 229.002 Q308.606 237.937 303.883 242.127 Q299.161 246.316 289.161 246.316 L279.555 246.316 L279.555 211.756 Z\" fill=\"#000000\" fill-rule=\"nonzero\" fill-opacity=\"1\" /><path clip-path=\"url(#clip230)\" d=\"M315.874 220.391 L320.133 220.391 L320.133 246.316 L315.874 246.316 L315.874 220.391 M315.874 210.298 L320.133 210.298 L320.133 215.692 L315.874 215.692 L315.874 210.298 Z\" fill=\"#000000\" fill-rule=\"nonzero\" fill-opacity=\"1\" /><path clip-path=\"url(#clip230)\" d=\"M345.573 221.155 L345.573 225.182 Q343.768 224.256 341.823 223.793 Q339.879 223.33 337.795 223.33 Q334.624 223.33 333.027 224.303 Q331.453 225.275 331.453 227.219 Q331.453 228.701 332.587 229.557 Q333.721 230.391 337.147 231.155 L338.606 231.479 Q343.143 232.451 345.041 234.233 Q346.962 235.992 346.962 239.164 Q346.962 242.775 344.092 244.881 Q341.244 246.988 336.244 246.988 Q334.161 246.988 331.893 246.571 Q329.647 246.178 327.147 245.367 L327.147 240.969 Q329.508 242.196 331.8 242.821 Q334.092 243.423 336.337 243.423 Q339.346 243.423 340.967 242.404 Q342.587 241.363 342.587 239.488 Q342.587 237.752 341.406 236.826 Q340.249 235.9 336.291 235.043 L334.809 234.696 Q330.851 233.863 329.092 232.15 Q327.332 230.414 327.332 227.405 Q327.332 223.747 329.925 221.756 Q332.518 219.766 337.286 219.766 Q339.647 219.766 341.73 220.113 Q343.814 220.46 345.573 221.155 Z\" fill=\"#000000\" fill-rule=\"nonzero\" fill-opacity=\"1\" /><path clip-path=\"url(#clip230)\" d=\"M372.402 221.386 L372.402 225.368 Q370.596 224.372 368.767 223.886 Q366.962 223.377 365.11 223.377 Q360.966 223.377 358.675 226.016 Q356.383 228.631 356.383 233.377 Q356.383 238.122 358.675 240.761 Q360.966 243.377 365.11 243.377 Q366.962 243.377 368.767 242.891 Q370.596 242.381 372.402 241.386 L372.402 245.321 Q370.619 246.154 368.698 246.571 Q366.8 246.988 364.647 246.988 Q358.791 246.988 355.342 243.307 Q351.892 239.627 351.892 233.377 Q351.892 227.034 355.365 223.4 Q358.86 219.766 364.925 219.766 Q366.892 219.766 368.767 220.182 Q370.642 220.576 372.402 221.386 Z\" fill=\"#000000\" fill-rule=\"nonzero\" fill-opacity=\"1\" /><path clip-path=\"url(#clip230)\" d=\"M394.832 224.372 Q394.114 223.955 393.258 223.77 Q392.425 223.562 391.406 223.562 Q387.795 223.562 385.851 225.923 Q383.929 228.261 383.929 232.659 L383.929 246.316 L379.647 246.316 L379.647 220.391 L383.929 220.391 L383.929 224.418 Q385.272 222.057 387.425 220.923 Q389.577 219.766 392.656 219.766 Q393.096 219.766 393.628 219.835 Q394.161 219.881 394.809 219.997 L394.832 224.372 Z\" fill=\"#000000\" fill-rule=\"nonzero\" fill-opacity=\"1\" /><path clip-path=\"url(#clip230)\" d=\"M420.434 232.289 L420.434 234.372 L400.851 234.372 Q401.128 238.77 403.489 241.085 Q405.874 243.377 410.11 243.377 Q412.563 243.377 414.855 242.775 Q417.17 242.173 419.438 240.969 L419.438 244.997 Q417.147 245.969 414.739 246.479 Q412.332 246.988 409.855 246.988 Q403.651 246.988 400.017 243.377 Q396.406 239.766 396.406 233.608 Q396.406 227.243 399.832 223.516 Q403.281 219.766 409.114 219.766 Q414.346 219.766 417.378 223.145 Q420.434 226.502 420.434 232.289 M416.175 231.039 Q416.128 227.543 414.207 225.46 Q412.309 223.377 409.161 223.377 Q405.596 223.377 403.443 225.391 Q401.313 227.405 400.989 231.062 L416.175 231.039 Z\" fill=\"#000000\" fill-rule=\"nonzero\" fill-opacity=\"1\" /><path clip-path=\"url(#clip230)\" d=\"M431.545 242.428 L431.545 256.178 L427.262 256.178 L427.262 220.391 L431.545 220.391 L431.545 224.326 Q432.887 222.011 434.924 220.9 Q436.985 219.766 439.832 219.766 Q444.554 219.766 447.494 223.516 Q450.457 227.266 450.457 233.377 Q450.457 239.488 447.494 243.238 Q444.554 246.988 439.832 246.988 Q436.985 246.988 434.924 245.877 Q432.887 244.742 431.545 242.428 M446.035 233.377 Q446.035 228.678 444.091 226.016 Q442.17 223.33 438.79 223.33 Q435.411 223.33 433.466 226.016 Q431.545 228.678 431.545 233.377 Q431.545 238.076 433.466 240.761 Q435.411 243.423 438.79 243.423 Q442.17 243.423 444.091 240.761 Q446.035 238.076 446.035 233.377 Z\" fill=\"#000000\" fill-rule=\"nonzero\" fill-opacity=\"1\" /><path clip-path=\"url(#clip230)\" d=\"M469.299 233.284 Q464.137 233.284 462.147 234.465 Q460.156 235.645 460.156 238.492 Q460.156 240.761 461.637 242.104 Q463.142 243.423 465.711 243.423 Q469.253 243.423 471.383 240.923 Q473.535 238.4 473.535 234.233 L473.535 233.284 L469.299 233.284 M477.795 231.525 L477.795 246.316 L473.535 246.316 L473.535 242.381 Q472.077 244.742 469.901 245.877 Q467.725 246.988 464.577 246.988 Q460.596 246.988 458.234 244.766 Q455.897 242.52 455.897 238.77 Q455.897 234.395 458.813 232.173 Q461.753 229.951 467.563 229.951 L473.535 229.951 L473.535 229.534 Q473.535 226.594 471.591 224.997 Q469.67 223.377 466.174 223.377 Q463.952 223.377 461.846 223.909 Q459.739 224.442 457.795 225.506 L457.795 221.571 Q460.133 220.668 462.332 220.229 Q464.531 219.766 466.614 219.766 Q472.239 219.766 475.017 222.682 Q477.795 225.599 477.795 231.525 Z\" fill=\"#000000\" fill-rule=\"nonzero\" fill-opacity=\"1\" /><path clip-path=\"url(#clip230)\" d=\"M508.118 230.668 L508.118 246.316 L503.859 246.316 L503.859 230.807 Q503.859 227.127 502.424 225.298 Q500.989 223.469 498.119 223.469 Q494.669 223.469 492.679 225.668 Q490.688 227.867 490.688 231.664 L490.688 246.316 L486.406 246.316 L486.406 220.391 L490.688 220.391 L490.688 224.418 Q492.216 222.08 494.276 220.923 Q496.359 219.766 499.068 219.766 Q503.535 219.766 505.827 222.543 Q508.118 225.298 508.118 230.668 Z\" fill=\"#000000\" fill-rule=\"nonzero\" fill-opacity=\"1\" /><path clip-path=\"url(#clip230)\" d=\"M535.271 221.386 L535.271 225.368 Q533.466 224.372 531.637 223.886 Q529.831 223.377 527.979 223.377 Q523.836 223.377 521.544 226.016 Q519.253 228.631 519.253 233.377 Q519.253 238.122 521.544 240.761 Q523.836 243.377 527.979 243.377 Q529.831 243.377 531.637 242.891 Q533.466 242.381 535.271 241.386 L535.271 245.321 Q533.489 246.154 531.567 246.571 Q529.669 246.988 527.517 246.988 Q521.66 246.988 518.211 243.307 Q514.762 239.627 514.762 233.377 Q514.762 227.034 518.234 223.4 Q521.73 219.766 527.794 219.766 Q529.762 219.766 531.637 220.182 Q533.512 220.576 535.271 221.386 Z\" fill=\"#000000\" fill-rule=\"nonzero\" fill-opacity=\"1\" /><path clip-path=\"url(#clip230)\" d=\"M553.465 248.724 Q551.66 253.353 549.947 254.766 Q548.234 256.178 545.364 256.178 L541.961 256.178 L541.961 252.613 L544.461 252.613 Q546.22 252.613 547.192 251.779 Q548.165 250.946 549.345 247.844 L550.109 245.9 L539.623 220.391 L544.137 220.391 L552.239 240.668 L560.34 220.391 L564.854 220.391 L553.465 248.724 Z\" fill=\"#000000\" fill-rule=\"nonzero\" fill-opacity=\"1\" /><path clip-path=\"url(#clip230)\" d=\"M568.373 240.437 L573.257 240.437 L573.257 246.316 L568.373 246.316 L568.373 240.437 M568.373 221.803 L573.257 221.803 L573.257 227.682 L568.373 227.682 L568.373 221.803 Z\" fill=\"#000000\" fill-rule=\"nonzero\" fill-opacity=\"1\" /><path clip-path=\"url(#clip230)\" d=\"M618.511 225.368 Q620.109 222.497 622.331 221.131 Q624.553 219.766 627.562 219.766 Q631.613 219.766 633.812 222.613 Q636.011 225.437 636.011 230.668 L636.011 246.316 L631.729 246.316 L631.729 230.807 Q631.729 227.08 630.409 225.275 Q629.09 223.469 626.382 223.469 Q623.072 223.469 621.15 225.668 Q619.229 227.867 619.229 231.664 L619.229 246.316 L614.947 246.316 L614.947 230.807 Q614.947 227.057 613.627 225.275 Q612.308 223.469 609.553 223.469 Q606.289 223.469 604.368 225.692 Q602.447 227.891 602.447 231.664 L602.447 246.316 L598.164 246.316 L598.164 220.391 L602.447 220.391 L602.447 224.418 Q603.905 222.034 605.942 220.9 Q607.979 219.766 610.78 219.766 Q613.604 219.766 615.572 221.201 Q617.562 222.636 618.511 225.368 Z\" fill=\"#000000\" fill-rule=\"nonzero\" fill-opacity=\"1\" /><path clip-path=\"url(#clip230)\" d=\"M644.507 220.391 L648.766 220.391 L648.766 246.316 L644.507 246.316 L644.507 220.391 M644.507 210.298 L648.766 210.298 L648.766 215.692 L644.507 215.692 L644.507 210.298 Z\" fill=\"#000000\" fill-rule=\"nonzero\" fill-opacity=\"1\" /><path clip-path=\"url(#clip230)\" d=\"M679.229 230.668 L679.229 246.316 L674.969 246.316 L674.969 230.807 Q674.969 227.127 673.534 225.298 Q672.099 223.469 669.229 223.469 Q665.78 223.469 663.789 225.668 Q661.798 227.867 661.798 231.664 L661.798 246.316 L657.516 246.316 L657.516 220.391 L661.798 220.391 L661.798 224.418 Q663.326 222.08 665.386 220.923 Q667.469 219.766 670.178 219.766 Q674.645 219.766 676.937 222.543 Q679.229 225.298 679.229 230.668 Z\" fill=\"#000000\" fill-rule=\"nonzero\" fill-opacity=\"1\" /><path clip-path=\"url(#clip230)\" d=\"M702.4 210.298 L712.215 210.298 L712.215 213.608 L706.659 213.608 L706.659 249.256 L712.215 249.256 L712.215 252.566 L702.4 252.566 L702.4 210.298 Z\" fill=\"#000000\" fill-rule=\"nonzero\" fill-opacity=\"1\" /><path clip-path=\"url(#clip230)\" d=\"M722.701 242.381 L730.34 242.381 L730.34 216.016 L722.029 217.682 L722.029 213.423 L730.293 211.756 L734.969 211.756 L734.969 242.381 L742.608 242.381 L742.608 246.316 L722.701 246.316 L722.701 242.381 Z\" fill=\"#000000\" fill-rule=\"nonzero\" fill-opacity=\"1\" /><path clip-path=\"url(#clip230)\" d=\"M752.538 240.437 L757.423 240.437 L757.423 244.418 L753.626 251.826 L750.64 251.826 L752.538 244.418 L752.538 240.437 Z\" fill=\"#000000\" fill-rule=\"nonzero\" fill-opacity=\"1\" /><path clip-path=\"url(#clip230)\" d=\"M783.001 242.381 L790.64 242.381 L790.64 216.016 L782.33 217.682 L782.33 213.423 L790.594 211.756 L795.27 211.756 L795.27 242.381 L802.909 242.381 L802.909 246.316 L783.001 246.316 L783.001 242.381 Z\" fill=\"#000000\" fill-rule=\"nonzero\" fill-opacity=\"1\" /><path clip-path=\"url(#clip230)\" d=\"M812.839 240.437 L817.723 240.437 L817.723 244.418 L813.927 251.826 L810.941 251.826 L812.839 244.418 L812.839 240.437 Z\" fill=\"#000000\" fill-rule=\"nonzero\" fill-opacity=\"1\" /><path clip-path=\"url(#clip230)\" d=\"M846.519 242.381 L862.839 242.381 L862.839 246.316 L840.894 246.316 L840.894 242.381 Q843.557 239.627 848.14 234.997 Q852.746 230.344 853.927 229.002 Q856.172 226.479 857.052 224.743 Q857.955 222.983 857.955 221.293 Q857.955 218.539 856.01 216.803 Q854.089 215.067 850.987 215.067 Q848.788 215.067 846.334 215.831 Q843.904 216.594 841.126 218.145 L841.126 213.423 Q843.95 212.289 846.404 211.71 Q848.857 211.131 850.894 211.131 Q856.265 211.131 859.459 213.817 Q862.654 216.502 862.654 220.993 Q862.654 223.122 861.843 225.043 Q861.056 226.942 858.95 229.534 Q858.371 230.205 855.269 233.423 Q852.168 236.617 846.519 242.381 Z\" fill=\"#000000\" fill-rule=\"nonzero\" fill-opacity=\"1\" /><path clip-path=\"url(#clip230)\" d=\"M882.005 210.298 L882.005 252.566 L872.191 252.566 L872.191 249.256 L877.723 249.256 L877.723 213.608 L872.191 213.608 L872.191 210.298 L882.005 210.298 Z\" fill=\"#000000\" fill-rule=\"nonzero\" fill-opacity=\"1\" /><path clip-path=\"url(#clip230)\" d=\"M906.172 224.789 L935.848 224.789 L935.848 228.678 L906.172 228.678 L906.172 224.789 M906.172 234.233 L935.848 234.233 L935.848 238.168 L906.172 238.168 L906.172 234.233 Z\" fill=\"#000000\" fill-rule=\"nonzero\" fill-opacity=\"1\" /><path clip-path=\"url(#clip230)\" d=\"M961.82 242.381 L969.459 242.381 L969.459 216.016 L961.148 217.682 L961.148 213.423 L969.412 211.756 L974.088 211.756 L974.088 242.381 L981.727 242.381 L981.727 246.316 L961.82 246.316 L961.82 242.381 Z\" fill=\"#000000\" fill-rule=\"nonzero\" fill-opacity=\"1\" /></svg>\n"
      ]
     },
     "execution_count": 45,
     "metadata": {},
     "output_type": "execute_result"
    }
   ],
   "source": [
    "n = 12\n",
    "S = zeros(12,2)\n",
    "θ = 2π / n\n",
    "for i = 1:n\n",
    "    S[i,:] = [sin(θ*i), cos(θ*i)]\n",
    "end\n",
    "w = [1, 1, -1, -1, 1, 1, -1, -1, 1, 1, -1, -1]\n",
    "Π = [1, 1, 1, 2, 2, 2, 3, 3, 3, 3, 3, 3]\n",
    "plot_rb_points(S,w,Π,true)"
   ]
  },
  {
   "cell_type": "code",
   "execution_count": 50,
   "id": "6e9fd60f-3244-48c5-a5b4-79c037a34a53",
   "metadata": {
    "tags": []
   },
   "outputs": [
    {
     "data": {
      "image/svg+xml": [
       "<?xml version=\"1.0\" encoding=\"utf-8\"?>\n",
       "<svg xmlns=\"http://www.w3.org/2000/svg\" xmlns:xlink=\"http://www.w3.org/1999/xlink\" width=\"500\" height=\"500\" viewBox=\"0 0 2000 2000\">\n",
       "<defs>\n",
       "  <clipPath id=\"clip430\">\n",
       "    <rect x=\"0\" y=\"0\" width=\"2000\" height=\"2000\"/>\n",
       "  </clipPath>\n",
       "</defs>\n",
       "<path clip-path=\"url(#clip430)\" d=\"M0 2000 L2000 2000 L2000 0 L0 0  Z\" fill=\"#ffffff\" fill-rule=\"evenodd\" fill-opacity=\"1\"/>\n",
       "<defs>\n",
       "  <clipPath id=\"clip431\">\n",
       "    <rect x=\"400\" y=\"200\" width=\"1401\" height=\"1401\"/>\n",
       "  </clipPath>\n",
       "</defs>\n",
       "<path clip-path=\"url(#clip430)\" d=\"M182.274 1865.17 L1952.76 1865.17 L1952.76 47.2441 L182.274 47.2441  Z\" fill=\"#ffffff\" fill-rule=\"evenodd\" fill-opacity=\"1\"/>\n",
       "<defs>\n",
       "  <clipPath id=\"clip432\">\n",
       "    <rect x=\"182\" y=\"47\" width=\"1771\" height=\"1819\"/>\n",
       "  </clipPath>\n",
       "</defs>\n",
       "<circle clip-path=\"url(#clip432)\" cx=\"1687.88\" cy=\"740.019\" r=\"14.4\" fill=\"#ff0000\" fill-rule=\"evenodd\" fill-opacity=\"1\" stroke=\"#000000\" stroke-opacity=\"1\" stroke-width=\"4\"/>\n",
       "<circle clip-path=\"url(#clip432)\" cx=\"435.2\" cy=\"1539.07\" r=\"14.4\" fill=\"#ff0000\" fill-rule=\"evenodd\" fill-opacity=\"1\" stroke=\"#000000\" stroke-opacity=\"1\" stroke-width=\"4\"/>\n",
       "<circle clip-path=\"url(#clip432)\" cx=\"625.437\" cy=\"698.141\" r=\"14.4\" fill=\"#ff0000\" fill-rule=\"evenodd\" fill-opacity=\"1\" stroke=\"#000000\" stroke-opacity=\"1\" stroke-width=\"4\"/>\n",
       "<circle clip-path=\"url(#clip432)\" cx=\"1699.83\" cy=\"1474.89\" r=\"14.4\" fill=\"#ff0000\" fill-rule=\"evenodd\" fill-opacity=\"1\" stroke=\"#000000\" stroke-opacity=\"1\" stroke-width=\"4\"/>\n",
       "<circle clip-path=\"url(#clip432)\" cx=\"1634.77\" cy=\"786.308\" r=\"14.4\" fill=\"#ff0000\" fill-rule=\"evenodd\" fill-opacity=\"1\" stroke=\"#000000\" stroke-opacity=\"1\" stroke-width=\"4\"/>\n",
       "<circle clip-path=\"url(#clip432)\" cx=\"1383.09\" cy=\"306.947\" r=\"14.4\" fill=\"#ff0000\" fill-rule=\"evenodd\" fill-opacity=\"1\" stroke=\"#000000\" stroke-opacity=\"1\" stroke-width=\"4\"/>\n",
       "<circle clip-path=\"url(#clip432)\" cx=\"589.594\" cy=\"1605.46\" r=\"14.4\" fill=\"#ff0000\" fill-rule=\"evenodd\" fill-opacity=\"1\" stroke=\"#000000\" stroke-opacity=\"1\" stroke-width=\"4\"/>\n",
       "<circle clip-path=\"url(#clip432)\" cx=\"1363.27\" cy=\"1133.05\" r=\"14.4\" fill=\"#0000ff\" fill-rule=\"evenodd\" fill-opacity=\"1\" stroke=\"#000000\" stroke-opacity=\"1\" stroke-width=\"4\"/>\n",
       "<circle clip-path=\"url(#clip432)\" cx=\"1193.43\" cy=\"628.436\" r=\"14.4\" fill=\"#0000ff\" fill-rule=\"evenodd\" fill-opacity=\"1\" stroke=\"#000000\" stroke-opacity=\"1\" stroke-width=\"4\"/>\n",
       "<circle clip-path=\"url(#clip432)\" cx=\"868.991\" cy=\"1331.32\" r=\"14.4\" fill=\"#0000ff\" fill-rule=\"evenodd\" fill-opacity=\"1\" stroke=\"#000000\" stroke-opacity=\"1\" stroke-width=\"4\"/>\n",
       "<path clip-path=\"url(#clip432)\" d=\"M1363.27 1133.05 L868.991 1331.32 L589.594 1605.46 L1363.27 1133.05 L1363.27 1133.05  Z\" fill=\"#808080\" fill-rule=\"evenodd\" fill-opacity=\"0.2\"/>\n",
       "<polyline clip-path=\"url(#clip432)\" style=\"stroke:#000000; stroke-linecap:round; stroke-linejoin:round; stroke-width:4; stroke-opacity:0.2; fill:none\" points=\"1363.27,1133.05 868.991,1331.32 589.594,1605.46 1363.27,1133.05 \"/>\n",
       "<path clip-path=\"url(#clip432)\" d=\"M435.2 1539.07 L1699.83 1474.89 L1634.77 786.308 L1193.43 628.436 L435.2 1539.07 L435.2 1539.07  Z\" fill=\"#808080\" fill-rule=\"evenodd\" fill-opacity=\"0.2\"/>\n",
       "<polyline clip-path=\"url(#clip432)\" style=\"stroke:#000000; stroke-linecap:round; stroke-linejoin:round; stroke-width:4; stroke-opacity:0.2; fill:none\" points=\"435.2,1539.07 1699.83,1474.89 1634.77,786.308 1193.43,628.436 435.2,1539.07 \"/>\n",
       "<path clip-path=\"url(#clip432)\" d=\"M1383.09 306.947 L625.437 698.141 L1687.88 740.019 L1383.09 306.947 L1383.09 306.947  Z\" fill=\"#808080\" fill-rule=\"evenodd\" fill-opacity=\"0.2\"/>\n",
       "<polyline clip-path=\"url(#clip432)\" style=\"stroke:#000000; stroke-linecap:round; stroke-linejoin:round; stroke-width:4; stroke-opacity:0.2; fill:none\" points=\"1383.09,306.947 625.437,698.141 1687.88,740.019 1383.09,306.947 \"/>\n",
       "</svg>\n"
      ]
     },
     "execution_count": 50,
     "metadata": {},
     "output_type": "execute_result"
    }
   ],
   "source": [
    "# hasta aqui no hay chequeo de \"convex partition\" solo ploter y calculo discrepancia\n",
    "\n",
    "n = 10\n",
    "S = rand(n,2)\n",
    "w = rand([-1,1], n)\n",
    "k = 3\n",
    "\n",
    "# asignar ptos a partes aleatoreamente\n",
    "# el collect es para tener al menos un pto por parte\n",
    "\n",
    "Π = shuffle!(cat(collect(1:k), rand(1:k, n-k), dims=1)) \n",
    "\n",
    "plot_rb_points(S,w,Π)"
   ]
  }
 ],
 "metadata": {
  "kernelspec": {
   "display_name": "Julia 1.6.1",
   "language": "julia",
   "name": "julia-1.6"
  },
  "language_info": {
   "file_extension": ".jl",
   "mimetype": "application/julia",
   "name": "julia",
   "version": "1.6.1"
  }
 },
 "nbformat": 4,
 "nbformat_minor": 5
}
