{
 "cells": [
  {
   "cell_type": "code",
   "execution_count": 1,
   "id": "988e1d4d-cfb5-4369-8e0d-376fbcc5ecc5",
   "metadata": {
    "tags": []
   },
   "outputs": [
    {
     "data": {
      "text/plain": [
       "coarseness_g (generic function with 1 method)"
      ]
     },
     "execution_count": 1,
     "metadata": {},
     "output_type": "execute_result"
    }
   ],
   "source": [
    "using Random\n",
    "include(\"src/plotting_utils.jl\")\n",
    "include(\"src/guillotine_utils.jl\")"
   ]
  },
  {
   "cell_type": "code",
   "execution_count": 2,
   "id": "b5e4935b-d75c-4c8b-9896-f4ab00a1ff83",
   "metadata": {
    "tags": []
   },
   "outputs": [],
   "source": [
    "# Un ejemplo que toma K=7 en la version inicial del algoritmo DP\n",
    "#                     K=4 en la version que omite secciones vacias coarseness_g(S,w)\n",
    "\n",
    "n = 15\n",
    "S = [\n",
    "    0.7557374686676213  0.06419492229827028\n",
    "    0.8184525221911587  0.5211640578368422\n",
    "    0.5469180755043479  0.9571141421428488\n",
    "    0.4351982955216729  0.34233991655949003\n",
    "    0.5473231274475154  0.4399280293513139\n",
    "    0.5837482725271874  0.5085426217218953\n",
    "    0.38485213519511574 0.7381652031724553\n",
    "    0.3941770305843393  0.03540479609509273\n",
    "    0.8429600343652437  0.8372836029407078\n",
    "    0.7568101146333601  0.14823287100088112\n",
    "    0.5104238027781562  0.5728775814190357\n",
    "    0.8093078142897505  0.7490086251499939\n",
    "    0.9172768358572758  0.9258864485501244\n",
    "    0.525837899873983   0.13038851026664688\n",
    "    0.21643189932478601 0.004892368089211452\n",
    "]\n",
    "\n",
    "w = [-1, 1, -1, -1, -1, 1, -1, 1, -1, 1, 1, -1, 1, 1, -1];"
   ]
  },
  {
   "cell_type": "code",
   "execution_count": 3,
   "id": "c5556eff-c440-4f67-b663-442c201866b0",
   "metadata": {
    "tags": []
   },
   "outputs": [],
   "source": [
    "C, P, D, midpoints_x, midpoints_y, argcuts, idxcuts = coarseness_g(S,w);"
   ]
  },
  {
   "cell_type": "code",
   "execution_count": 4,
   "id": "4c44cbd9-3e0d-4e7e-9e5a-e382e4601d65",
   "metadata": {
    "tags": []
   },
   "outputs": [
    {
     "name": "stdout",
     "output_type": "stream",
     "text": [
      "C[1,1,n,n]=2\n"
     ]
    },
    {
     "data": {
      "image/svg+xml": [
       "<?xml version=\"1.0\" encoding=\"utf-8\"?>\n",
       "<svg xmlns=\"http://www.w3.org/2000/svg\" xmlns:xlink=\"http://www.w3.org/1999/xlink\" width=\"500\" height=\"500\" viewBox=\"0 0 2000 2000\">\n",
       "<defs>\n",
       "  <clipPath id=\"clip810\">\n",
       "    <rect x=\"0\" y=\"0\" width=\"2000\" height=\"2000\"/>\n",
       "  </clipPath>\n",
       "</defs>\n",
       "<path clip-path=\"url(#clip810)\" d=\"M0 2000 L2000 2000 L2000 0 L0 0  Z\" fill=\"#ffffff\" fill-rule=\"evenodd\" fill-opacity=\"1\"/>\n",
       "<defs>\n",
       "  <clipPath id=\"clip811\">\n",
       "    <rect x=\"400\" y=\"200\" width=\"1401\" height=\"1401\"/>\n",
       "  </clipPath>\n",
       "</defs>\n",
       "<path clip-path=\"url(#clip810)\" d=\"M182.274 1865.17 L1952.76 1865.17 L1952.76 47.2441 L182.274 47.2441  Z\" fill=\"#ffffff\" fill-rule=\"evenodd\" fill-opacity=\"1\"/>\n",
       "<defs>\n",
       "  <clipPath id=\"clip812\">\n",
       "    <rect x=\"182\" y=\"47\" width=\"1771\" height=\"1819\"/>\n",
       "  </clipPath>\n",
       "</defs>\n",
       "<circle clip-path=\"url(#clip812)\" cx=\"1521.51\" cy=\"901.44\" r=\"21.6\" fill=\"#ff0000\" fill-rule=\"evenodd\" fill-opacity=\"1\" stroke=\"#000000\" stroke-opacity=\"1\" stroke-width=\"4\"/>\n",
       "<circle clip-path=\"url(#clip812)\" cx=\"1098\" cy=\"918.651\" r=\"21.6\" fill=\"#ff0000\" fill-rule=\"evenodd\" fill-opacity=\"1\" stroke=\"#000000\" stroke-opacity=\"1\" stroke-width=\"4\"/>\n",
       "<circle clip-path=\"url(#clip812)\" cx=\"755.93\" cy=\"1563.86\" r=\"21.6\" fill=\"#ff0000\" fill-rule=\"evenodd\" fill-opacity=\"1\" stroke=\"#000000\" stroke-opacity=\"1\" stroke-width=\"4\"/>\n",
       "<circle clip-path=\"url(#clip812)\" cx=\"1410.28\" cy=\"1410\" r=\"21.6\" fill=\"#ff0000\" fill-rule=\"evenodd\" fill-opacity=\"1\" stroke=\"#000000\" stroke-opacity=\"1\" stroke-width=\"4\"/>\n",
       "<circle clip-path=\"url(#clip812)\" cx=\"965.69\" cy=\"830.92\" r=\"21.6\" fill=\"#ff0000\" fill-rule=\"evenodd\" fill-opacity=\"1\" stroke=\"#000000\" stroke-opacity=\"1\" stroke-width=\"4\"/>\n",
       "<circle clip-path=\"url(#clip812)\" cx=\"1699.83\" cy=\"349.532\" r=\"21.6\" fill=\"#ff0000\" fill-rule=\"evenodd\" fill-opacity=\"1\" stroke=\"#000000\" stroke-opacity=\"1\" stroke-width=\"4\"/>\n",
       "<circle clip-path=\"url(#clip812)\" cx=\"993.503\" cy=\"1434.33\" r=\"21.6\" fill=\"#ff0000\" fill-rule=\"evenodd\" fill-opacity=\"1\" stroke=\"#000000\" stroke-opacity=\"1\" stroke-width=\"4\"/>\n",
       "<circle clip-path=\"url(#clip812)\" cx=\"1408.34\" cy=\"1524.6\" r=\"21.6\" fill=\"#0000ff\" fill-rule=\"evenodd\" fill-opacity=\"1\" stroke=\"#000000\" stroke-opacity=\"1\" stroke-width=\"4\"/>\n",
       "<circle clip-path=\"url(#clip812)\" cx=\"1031.54\" cy=\"306.947\" r=\"21.6\" fill=\"#0000ff\" fill-rule=\"evenodd\" fill-opacity=\"1\" stroke=\"#000000\" stroke-opacity=\"1\" stroke-width=\"4\"/>\n",
       "<circle clip-path=\"url(#clip812)\" cx=\"829.95\" cy=\"1145.3\" r=\"21.6\" fill=\"#0000ff\" fill-rule=\"evenodd\" fill-opacity=\"1\" stroke=\"#000000\" stroke-opacity=\"1\" stroke-width=\"4\"/>\n",
       "<circle clip-path=\"url(#clip812)\" cx=\"1032.27\" cy=\"1012.22\" r=\"21.6\" fill=\"#0000ff\" fill-rule=\"evenodd\" fill-opacity=\"1\" stroke=\"#000000\" stroke-opacity=\"1\" stroke-width=\"4\"/>\n",
       "<circle clip-path=\"url(#clip812)\" cx=\"739.104\" cy=\"605.522\" r=\"21.6\" fill=\"#0000ff\" fill-rule=\"evenodd\" fill-opacity=\"1\" stroke=\"#000000\" stroke-opacity=\"1\" stroke-width=\"4\"/>\n",
       "<circle clip-path=\"url(#clip812)\" cx=\"1565.73\" cy=\"470.357\" r=\"21.6\" fill=\"#0000ff\" fill-rule=\"evenodd\" fill-opacity=\"1\" stroke=\"#000000\" stroke-opacity=\"1\" stroke-width=\"4\"/>\n",
       "<circle clip-path=\"url(#clip812)\" cx=\"1505.01\" cy=\"590.735\" r=\"21.6\" fill=\"#0000ff\" fill-rule=\"evenodd\" fill-opacity=\"1\" stroke=\"#000000\" stroke-opacity=\"1\" stroke-width=\"4\"/>\n",
       "<circle clip-path=\"url(#clip812)\" cx=\"435.2\" cy=\"1605.46\" r=\"21.6\" fill=\"#0000ff\" fill-rule=\"evenodd\" fill-opacity=\"1\" stroke=\"#000000\" stroke-opacity=\"1\" stroke-width=\"4\"/>\n",
       "<polyline clip-path=\"url(#clip812)\" style=\"stroke:#808080; stroke-linecap:round; stroke-linejoin:round; stroke-width:4; stroke-opacity:0.3; fill:none\" points=\"307.343,3683.09 307.343,-1770.68 \"/>\n",
       "<polyline clip-path=\"url(#clip812)\" style=\"stroke:#808080; stroke-linecap:round; stroke-linejoin:round; stroke-width:4; stroke-opacity:0.3; fill:none\" points=\"587.152,3683.09 587.152,-1770.68 \"/>\n",
       "<polyline clip-path=\"url(#clip812)\" style=\"stroke:#808080; stroke-linecap:round; stroke-linejoin:round; stroke-width:4; stroke-opacity:0.3; fill:none\" points=\"747.517,3683.09 747.517,-1770.68 \"/>\n",
       "<polyline clip-path=\"url(#clip812)\" style=\"stroke:#808080; stroke-linecap:round; stroke-linejoin:round; stroke-width:4; stroke-opacity:0.3; fill:none\" points=\"792.94,3683.09 792.94,-1770.68 \"/>\n",
       "<polyline clip-path=\"url(#clip812)\" style=\"stroke:#808080; stroke-linecap:round; stroke-linejoin:round; stroke-width:4; stroke-opacity:0.3; fill:none\" points=\"897.82,3683.09 897.82,-1770.68 \"/>\n",
       "<polyline clip-path=\"url(#clip812)\" style=\"stroke:#808080; stroke-linecap:round; stroke-linejoin:round; stroke-width:4; stroke-opacity:0.3; fill:none\" points=\"979.596,3683.09 979.596,-1770.68 \"/>\n",
       "<polyline clip-path=\"url(#clip812)\" style=\"stroke:#808080; stroke-linecap:round; stroke-linejoin:round; stroke-width:4; stroke-opacity:0.3; fill:none\" points=\"1012.52,3683.09 1012.52,-1770.68 \"/>\n",
       "<polyline clip-path=\"url(#clip812)\" style=\"stroke:#808080; stroke-linecap:round; stroke-linejoin:round; stroke-width:4; stroke-opacity:0.3; fill:none\" points=\"1031.91,3683.09 1031.91,-1770.68 \"/>\n",
       "<polyline clip-path=\"url(#clip812)\" style=\"stroke:#808080; stroke-linecap:round; stroke-linejoin:round; stroke-width:4; stroke-opacity:0.3; fill:none\" points=\"1065.14,3683.09 1065.14,-1770.68 \"/>\n",
       "<polyline clip-path=\"url(#clip812)\" style=\"stroke:#808080; stroke-linecap:round; stroke-linejoin:round; stroke-width:4; stroke-opacity:0.3; fill:none\" points=\"1253.17,3683.09 1253.17,-1770.68 \"/>\n",
       "<polyline clip-path=\"url(#clip812)\" style=\"stroke:#808080; stroke-linecap:round; stroke-linejoin:round; stroke-width:4; stroke-opacity:0.3; fill:none\" points=\"1409.31,3683.09 1409.31,-1770.68 \"/>\n",
       "<polyline clip-path=\"url(#clip812)\" style=\"stroke:#808080; stroke-linecap:round; stroke-linejoin:round; stroke-width:4; stroke-opacity:0.3; fill:none\" points=\"1457.64,3683.09 1457.64,-1770.68 \"/>\n",
       "<polyline clip-path=\"url(#clip812)\" style=\"stroke:#808080; stroke-linecap:round; stroke-linejoin:round; stroke-width:4; stroke-opacity:0.3; fill:none\" points=\"1513.26,3683.09 1513.26,-1770.68 \"/>\n",
       "<polyline clip-path=\"url(#clip812)\" style=\"stroke:#808080; stroke-linecap:round; stroke-linejoin:round; stroke-width:4; stroke-opacity:0.3; fill:none\" points=\"1543.62,3683.09 1543.62,-1770.68 \"/>\n",
       "<polyline clip-path=\"url(#clip812)\" style=\"stroke:#808080; stroke-linecap:round; stroke-linejoin:round; stroke-width:4; stroke-opacity:0.3; fill:none\" points=\"1632.78,3683.09 1632.78,-1770.68 \"/>\n",
       "<polyline clip-path=\"url(#clip812)\" style=\"stroke:#808080; stroke-linecap:round; stroke-linejoin:round; stroke-width:4; stroke-opacity:0.3; fill:none\" points=\"1827.69,3683.09 1827.69,-1770.68 \"/>\n",
       "<polyline clip-path=\"url(#clip812)\" style=\"stroke:#808080; stroke-linecap:round; stroke-linejoin:round; stroke-width:4; stroke-opacity:0.3; fill:none\" points=\"-1588.21,1687.46 3723.24,1687.46 \"/>\n",
       "<polyline clip-path=\"url(#clip812)\" style=\"stroke:#808080; stroke-linecap:round; stroke-linejoin:round; stroke-width:4; stroke-opacity:0.3; fill:none\" points=\"-1588.21,1584.66 3723.24,1584.66 \"/>\n",
       "<polyline clip-path=\"url(#clip812)\" style=\"stroke:#808080; stroke-linecap:round; stroke-linejoin:round; stroke-width:4; stroke-opacity:0.3; fill:none\" points=\"-1588.21,1544.23 3723.24,1544.23 \"/>\n",
       "<polyline clip-path=\"url(#clip812)\" style=\"stroke:#808080; stroke-linecap:round; stroke-linejoin:round; stroke-width:4; stroke-opacity:0.3; fill:none\" points=\"-1588.21,1479.46 3723.24,1479.46 \"/>\n",
       "<polyline clip-path=\"url(#clip812)\" style=\"stroke:#808080; stroke-linecap:round; stroke-linejoin:round; stroke-width:4; stroke-opacity:0.3; fill:none\" points=\"-1588.21,1422.16 3723.24,1422.16 \"/>\n",
       "<polyline clip-path=\"url(#clip812)\" style=\"stroke:#808080; stroke-linecap:round; stroke-linejoin:round; stroke-width:4; stroke-opacity:0.3; fill:none\" points=\"-1588.21,1277.65 3723.24,1277.65 \"/>\n",
       "<polyline clip-path=\"url(#clip812)\" style=\"stroke:#808080; stroke-linecap:round; stroke-linejoin:round; stroke-width:4; stroke-opacity:0.3; fill:none\" points=\"-1588.21,1078.76 3723.24,1078.76 \"/>\n",
       "<polyline clip-path=\"url(#clip812)\" style=\"stroke:#808080; stroke-linecap:round; stroke-linejoin:round; stroke-width:4; stroke-opacity:0.3; fill:none\" points=\"-1588.21,965.435 3723.24,965.435 \"/>\n",
       "<polyline clip-path=\"url(#clip812)\" style=\"stroke:#808080; stroke-linecap:round; stroke-linejoin:round; stroke-width:4; stroke-opacity:0.3; fill:none\" points=\"-1588.21,910.046 3723.24,910.046 \"/>\n",
       "<polyline clip-path=\"url(#clip812)\" style=\"stroke:#808080; stroke-linecap:round; stroke-linejoin:round; stroke-width:4; stroke-opacity:0.3; fill:none\" points=\"-1588.21,866.18 3723.24,866.18 \"/>\n",
       "<polyline clip-path=\"url(#clip812)\" style=\"stroke:#808080; stroke-linecap:round; stroke-linejoin:round; stroke-width:4; stroke-opacity:0.3; fill:none\" points=\"-1588.21,718.221 3723.24,718.221 \"/>\n",
       "<polyline clip-path=\"url(#clip812)\" style=\"stroke:#808080; stroke-linecap:round; stroke-linejoin:round; stroke-width:4; stroke-opacity:0.3; fill:none\" points=\"-1588.21,598.128 3723.24,598.128 \"/>\n",
       "<polyline clip-path=\"url(#clip812)\" style=\"stroke:#808080; stroke-linecap:round; stroke-linejoin:round; stroke-width:4; stroke-opacity:0.3; fill:none\" points=\"-1588.21,530.546 3723.24,530.546 \"/>\n",
       "<polyline clip-path=\"url(#clip812)\" style=\"stroke:#808080; stroke-linecap:round; stroke-linejoin:round; stroke-width:4; stroke-opacity:0.3; fill:none\" points=\"-1588.21,409.944 3723.24,409.944 \"/>\n",
       "<polyline clip-path=\"url(#clip812)\" style=\"stroke:#808080; stroke-linecap:round; stroke-linejoin:round; stroke-width:4; stroke-opacity:0.3; fill:none\" points=\"-1588.21,328.24 3723.24,328.24 \"/>\n",
       "<polyline clip-path=\"url(#clip812)\" style=\"stroke:#808080; stroke-linecap:round; stroke-linejoin:round; stroke-width:4; stroke-opacity:0.3; fill:none\" points=\"-1588.21,224.956 3723.24,224.956 \"/>\n",
       "<polyline clip-path=\"url(#clip812)\" style=\"stroke:#000000; stroke-linecap:round; stroke-linejoin:round; stroke-width:4; stroke-opacity:1; fill:none\" points=\"747.517,1687.46 747.517,224.956 \"/>\n",
       "<circle clip-path=\"url(#clip812)\" cx=\"747.517\" cy=\"956.206\" r=\"21.6\" fill=\"#ffffff\" fill-rule=\"evenodd\" fill-opacity=\"0.6\" stroke=\"none\"/>\n",
       "<polyline clip-path=\"url(#clip812)\" style=\"stroke:#000000; stroke-linecap:round; stroke-linejoin:round; stroke-width:4; stroke-opacity:1; fill:none\" points=\"747.517,1277.65 1827.69,1277.65 \"/>\n",
       "<circle clip-path=\"url(#clip812)\" cx=\"1287.6\" cy=\"1277.65\" r=\"21.6\" fill=\"#ffffff\" fill-rule=\"evenodd\" fill-opacity=\"0.6\" stroke=\"none\"/>\n",
       "<polyline clip-path=\"url(#clip812)\" style=\"stroke:#000000; stroke-linecap:round; stroke-linejoin:round; stroke-width:4; stroke-opacity:1; fill:none\" points=\"747.517,965.435 1827.69,965.435 \"/>\n",
       "<circle clip-path=\"url(#clip812)\" cx=\"1287.6\" cy=\"965.435\" r=\"21.6\" fill=\"#ffffff\" fill-rule=\"evenodd\" fill-opacity=\"0.6\" stroke=\"none\"/>\n",
       "<polyline clip-path=\"url(#clip812)\" style=\"stroke:#000000; stroke-linecap:round; stroke-linejoin:round; stroke-width:4; stroke-opacity:1; fill:none\" points=\"747.517,718.221 1827.69,718.221 \"/>\n",
       "<circle clip-path=\"url(#clip812)\" cx=\"1287.6\" cy=\"718.221\" r=\"21.6\" fill=\"#ffffff\" fill-rule=\"evenodd\" fill-opacity=\"0.6\" stroke=\"none\"/>\n",
       "<path clip-path=\"url(#clip810)\" d=\"M740.303 966.215 L746.032 966.215 L746.032 946.44 L739.8 947.69 L739.8 944.496 L745.998 943.246 L749.504 943.246 L749.504 966.215 L755.234 966.215 L755.234 969.166 L740.303 969.166 L740.303 966.215 Z\" fill=\"#000000\" fill-rule=\"nonzero\" fill-opacity=\"1\" /><path clip-path=\"url(#clip810)\" d=\"M1283.59 1287.65 L1295.83 1287.65 L1295.83 1290.61 L1279.37 1290.61 L1279.37 1287.65 Q1281.37 1285.59 1284.81 1282.12 Q1288.26 1278.63 1289.15 1277.62 Q1290.83 1275.73 1291.49 1274.43 Q1292.17 1273.11 1292.17 1271.84 Q1292.17 1269.77 1290.71 1268.47 Q1289.27 1267.17 1286.94 1267.17 Q1285.29 1267.17 1283.45 1267.74 Q1281.63 1268.31 1279.55 1269.48 L1279.55 1265.94 Q1281.66 1265.09 1283.5 1264.65 Q1285.34 1264.22 1286.87 1264.22 Q1290.9 1264.22 1293.3 1266.23 Q1295.69 1268.25 1295.69 1271.61 Q1295.69 1273.21 1295.08 1274.65 Q1294.49 1276.08 1292.91 1278.02 Q1292.48 1278.52 1290.15 1280.94 Q1287.83 1283.33 1283.59 1287.65 Z\" fill=\"#000000\" fill-rule=\"nonzero\" fill-opacity=\"1\" /><path clip-path=\"url(#clip810)\" d=\"M1290.79 964.42 Q1293.3 964.958 1294.71 966.659 Q1296.13 968.361 1296.13 970.861 Q1296.13 974.697 1293.5 976.798 Q1290.86 978.899 1286 978.899 Q1284.36 978.899 1282.63 978.569 Q1280.91 978.256 1279.07 977.614 L1279.07 974.229 Q1280.53 975.079 1282.26 975.513 Q1284 975.947 1285.89 975.947 Q1289.19 975.947 1290.91 974.645 Q1292.64 973.343 1292.64 970.861 Q1292.64 968.569 1291.03 967.284 Q1289.43 965.982 1286.57 965.982 L1283.55 965.982 L1283.55 963.1 L1286.71 963.1 Q1289.29 963.1 1290.67 962.076 Q1292.04 961.034 1292.04 959.09 Q1292.04 957.093 1290.61 956.034 Q1289.21 954.958 1286.57 954.958 Q1285.13 954.958 1283.48 955.27 Q1281.83 955.583 1279.85 956.243 L1279.85 953.118 Q1281.85 952.562 1283.58 952.284 Q1285.34 952.006 1286.88 952.006 Q1290.87 952.006 1293.2 953.829 Q1295.53 955.635 1295.53 958.725 Q1295.53 960.878 1294.29 962.371 Q1293.06 963.847 1290.79 964.42 Z\" fill=\"#000000\" fill-rule=\"nonzero\" fill-opacity=\"1\" /><path clip-path=\"url(#clip810)\" d=\"M1289.86 708.316 L1281 722.153 L1289.86 722.153 L1289.86 708.316 M1288.94 705.261 L1293.35 705.261 L1293.35 722.153 L1297.05 722.153 L1297.05 725.07 L1293.35 725.07 L1293.35 731.181 L1289.86 731.181 L1289.86 725.07 L1278.16 725.07 L1278.16 721.684 L1288.94 705.261 Z\" fill=\"#000000\" fill-rule=\"nonzero\" fill-opacity=\"1\" /></svg>\n"
      ]
     },
     "execution_count": 4,
     "metadata": {},
     "output_type": "execute_result"
    }
   ],
   "source": [
    "println(\"C[1,1,n,n]=$(C[1,1,n,n])\")\n",
    "fig = plot_rb_points(S, w)\n",
    "plot_add_lines!(fig, S)\n",
    "plot_guillotine_line!(fig,1,1,n,n)\n",
    "fig"
   ]
  },
  {
   "cell_type": "code",
   "execution_count": 28,
   "id": "2c0d5fee-6519-456d-8928-d9d0072822ef",
   "metadata": {
    "tags": []
   },
   "outputs": [
    {
     "data": {
      "text/plain": [
       "Co (generic function with 1 method)"
      ]
     },
     "execution_count": 28,
     "metadata": {},
     "output_type": "execute_result"
    }
   ],
   "source": [
    "function Co(p, q, i, j)\n",
    "    \n",
    "    if C[p,q,i,j] != Inf\n",
    "        return C[p,q,i,j]\n",
    "    end\n",
    "    \n",
    "    if P[p,q,i,j] == 0\n",
    "        return Inf\n",
    "    end\n",
    "    \n",
    "    d = D[p,q,i,j]\n",
    "    \n",
    "    for s = 1:i-1\n",
    "        c1 = Co(p, q, s, j)\n",
    "        c2 = Co(p+s, q, i-s, j)\n",
    "        cc = min(c1, c2)\n",
    "        if cc > d\n",
    "            d = cc\n",
    "        end\n",
    "    end\n",
    "    \n",
    "    for t = 1:j-1\n",
    "        c1 = Co(p, q, i, t)\n",
    "        c2 = Co(p, q+t, i, j-t)\n",
    "        cc = min(c1,c2)\n",
    "        if cc > d\n",
    "            d = cc\n",
    "        end\n",
    "    end\n",
    "    \n",
    "    C[p,q,i,j] = d\n",
    "    return d\n",
    "end"
   ]
  },
  {
   "cell_type": "code",
   "execution_count": 37,
   "id": "5b9975e6-7b47-4374-a7e0-bf14f3da04fc",
   "metadata": {
    "tags": []
   },
   "outputs": [
    {
     "data": {
      "text/plain": [
       "init (generic function with 1 method)"
      ]
     },
     "execution_count": 37,
     "metadata": {},
     "output_type": "execute_result"
    }
   ],
   "source": [
    "# Initialization #########################################################################\n",
    "\n",
    "function init()\n",
    "    global C = Inf*ones(Int,n,n,n,n)\n",
    "    global P = zeros(Int,n,n,n,n)\n",
    "    global D = zeros(Int,n,n,n,n)\n",
    "\n",
    "    for p = 1:n\n",
    "        for q = 1:n\n",
    "            for i = 1:n-p+1\n",
    "                for j = 1:n-q+1\n",
    "                    P[p,q,i,j] = Count_pqij(p,q,i,j)\n",
    "                    D[p,q,i,j] = Disc_pqij(p,q,i,j)\n",
    "                end\n",
    "                if P[p,q,1,1] != 0\n",
    "                    C[p,q,1,1] = D[p,q,1,1]\n",
    "                end\n",
    "            end\n",
    "        end\n",
    "    end\n",
    "end"
   ]
  },
  {
   "cell_type": "code",
   "execution_count": 111,
   "id": "55a50e25-7639-4046-8bce-909f274d86b6",
   "metadata": {
    "tags": []
   },
   "outputs": [
    {
     "data": {
      "image/svg+xml": [
       "<?xml version=\"1.0\" encoding=\"utf-8\"?>\n",
       "<svg xmlns=\"http://www.w3.org/2000/svg\" xmlns:xlink=\"http://www.w3.org/1999/xlink\" width=\"500\" height=\"500\" viewBox=\"0 0 2000 2000\">\n",
       "<defs>\n",
       "  <clipPath id=\"clip890\">\n",
       "    <rect x=\"0\" y=\"0\" width=\"2000\" height=\"2000\"/>\n",
       "  </clipPath>\n",
       "</defs>\n",
       "<path clip-path=\"url(#clip890)\" d=\"M0 2000 L2000 2000 L2000 0 L0 0  Z\" fill=\"#ffffff\" fill-rule=\"evenodd\" fill-opacity=\"1\"/>\n",
       "<defs>\n",
       "  <clipPath id=\"clip891\">\n",
       "    <rect x=\"400\" y=\"200\" width=\"1401\" height=\"1401\"/>\n",
       "  </clipPath>\n",
       "</defs>\n",
       "<path clip-path=\"url(#clip890)\" d=\"M182.274 1865.17 L1952.76 1865.17 L1952.76 47.2441 L182.274 47.2441  Z\" fill=\"#ffffff\" fill-rule=\"evenodd\" fill-opacity=\"1\"/>\n",
       "<defs>\n",
       "  <clipPath id=\"clip892\">\n",
       "    <rect x=\"182\" y=\"47\" width=\"1771\" height=\"1819\"/>\n",
       "  </clipPath>\n",
       "</defs>\n",
       "<circle clip-path=\"url(#clip892)\" cx=\"435.2\" cy=\"701.29\" r=\"21.6\" fill=\"#ff0000\" fill-rule=\"evenodd\" fill-opacity=\"1\" stroke=\"#000000\" stroke-opacity=\"1\" stroke-width=\"4\"/>\n",
       "<circle clip-path=\"url(#clip892)\" cx=\"1517.87\" cy=\"1605.46\" r=\"21.6\" fill=\"#ff0000\" fill-rule=\"evenodd\" fill-opacity=\"1\" stroke=\"#000000\" stroke-opacity=\"1\" stroke-width=\"4\"/>\n",
       "<circle clip-path=\"url(#clip892)\" cx=\"1525.34\" cy=\"565.681\" r=\"21.6\" fill=\"#ff0000\" fill-rule=\"evenodd\" fill-opacity=\"1\" stroke=\"#000000\" stroke-opacity=\"1\" stroke-width=\"4\"/>\n",
       "<circle clip-path=\"url(#clip892)\" cx=\"473.744\" cy=\"457.113\" r=\"21.6\" fill=\"#ff0000\" fill-rule=\"evenodd\" fill-opacity=\"1\" stroke=\"#000000\" stroke-opacity=\"1\" stroke-width=\"4\"/>\n",
       "<circle clip-path=\"url(#clip892)\" cx=\"908.14\" cy=\"1272.69\" r=\"21.6\" fill=\"#ff0000\" fill-rule=\"evenodd\" fill-opacity=\"1\" stroke=\"#000000\" stroke-opacity=\"1\" stroke-width=\"4\"/>\n",
       "<circle clip-path=\"url(#clip892)\" cx=\"1574.83\" cy=\"675.608\" r=\"21.6\" fill=\"#ff0000\" fill-rule=\"evenodd\" fill-opacity=\"1\" stroke=\"#000000\" stroke-opacity=\"1\" stroke-width=\"4\"/>\n",
       "<circle clip-path=\"url(#clip892)\" cx=\"1510.62\" cy=\"306.947\" r=\"21.6\" fill=\"#ff0000\" fill-rule=\"evenodd\" fill-opacity=\"1\" stroke=\"#000000\" stroke-opacity=\"1\" stroke-width=\"4\"/>\n",
       "<circle clip-path=\"url(#clip892)\" cx=\"525.693\" cy=\"1077.67\" r=\"21.6\" fill=\"#0000ff\" fill-rule=\"evenodd\" fill-opacity=\"1\" stroke=\"#000000\" stroke-opacity=\"1\" stroke-width=\"4\"/>\n",
       "<circle clip-path=\"url(#clip892)\" cx=\"691.562\" cy=\"790.823\" r=\"21.6\" fill=\"#0000ff\" fill-rule=\"evenodd\" fill-opacity=\"1\" stroke=\"#000000\" stroke-opacity=\"1\" stroke-width=\"4\"/>\n",
       "<circle clip-path=\"url(#clip892)\" cx=\"661.786\" cy=\"1585.7\" r=\"21.6\" fill=\"#0000ff\" fill-rule=\"evenodd\" fill-opacity=\"1\" stroke=\"#000000\" stroke-opacity=\"1\" stroke-width=\"4\"/>\n",
       "<circle clip-path=\"url(#clip892)\" cx=\"450.072\" cy=\"1604.59\" r=\"21.6\" fill=\"#0000ff\" fill-rule=\"evenodd\" fill-opacity=\"1\" stroke=\"#000000\" stroke-opacity=\"1\" stroke-width=\"4\"/>\n",
       "<circle clip-path=\"url(#clip892)\" cx=\"1689.55\" cy=\"423.365\" r=\"21.6\" fill=\"#0000ff\" fill-rule=\"evenodd\" fill-opacity=\"1\" stroke=\"#000000\" stroke-opacity=\"1\" stroke-width=\"4\"/>\n",
       "<circle clip-path=\"url(#clip892)\" cx=\"1591.16\" cy=\"1061.86\" r=\"21.6\" fill=\"#0000ff\" fill-rule=\"evenodd\" fill-opacity=\"1\" stroke=\"#000000\" stroke-opacity=\"1\" stroke-width=\"4\"/>\n",
       "<circle clip-path=\"url(#clip892)\" cx=\"1532.99\" cy=\"1444.67\" r=\"21.6\" fill=\"#0000ff\" fill-rule=\"evenodd\" fill-opacity=\"1\" stroke=\"#000000\" stroke-opacity=\"1\" stroke-width=\"4\"/>\n",
       "<circle clip-path=\"url(#clip892)\" cx=\"1699.83\" cy=\"500.671\" r=\"21.6\" fill=\"#0000ff\" fill-rule=\"evenodd\" fill-opacity=\"1\" stroke=\"#000000\" stroke-opacity=\"1\" stroke-width=\"4\"/>\n",
       "<polyline clip-path=\"url(#clip892)\" style=\"stroke:#808080; stroke-linecap:round; stroke-linejoin:round; stroke-width:4; stroke-opacity:0.3; fill:none\" points=\"326.027,3683.09 326.027,-1770.68 \"/>\n",
       "<polyline clip-path=\"url(#clip892)\" style=\"stroke:#808080; stroke-linecap:round; stroke-linejoin:round; stroke-width:4; stroke-opacity:0.3; fill:none\" points=\"442.636,3683.09 442.636,-1770.68 \"/>\n",
       "<polyline clip-path=\"url(#clip892)\" style=\"stroke:#808080; stroke-linecap:round; stroke-linejoin:round; stroke-width:4; stroke-opacity:0.3; fill:none\" points=\"461.908,3683.09 461.908,-1770.68 \"/>\n",
       "<polyline clip-path=\"url(#clip892)\" style=\"stroke:#808080; stroke-linecap:round; stroke-linejoin:round; stroke-width:4; stroke-opacity:0.3; fill:none\" points=\"499.719,3683.09 499.719,-1770.68 \"/>\n",
       "<polyline clip-path=\"url(#clip892)\" style=\"stroke:#808080; stroke-linecap:round; stroke-linejoin:round; stroke-width:4; stroke-opacity:0.3; fill:none\" points=\"593.74,3683.09 593.74,-1770.68 \"/>\n",
       "<polyline clip-path=\"url(#clip892)\" style=\"stroke:#808080; stroke-linecap:round; stroke-linejoin:round; stroke-width:4; stroke-opacity:0.3; fill:none\" points=\"676.674,3683.09 676.674,-1770.68 \"/>\n",
       "<polyline clip-path=\"url(#clip892)\" style=\"stroke:#808080; stroke-linecap:round; stroke-linejoin:round; stroke-width:4; stroke-opacity:0.3; fill:none\" points=\"799.851,3683.09 799.851,-1770.68 \"/>\n",
       "<polyline clip-path=\"url(#clip892)\" style=\"stroke:#808080; stroke-linecap:round; stroke-linejoin:round; stroke-width:4; stroke-opacity:0.3; fill:none\" points=\"1209.38,3683.09 1209.38,-1770.68 \"/>\n",
       "<polyline clip-path=\"url(#clip892)\" style=\"stroke:#808080; stroke-linecap:round; stroke-linejoin:round; stroke-width:4; stroke-opacity:0.3; fill:none\" points=\"1514.25,3683.09 1514.25,-1770.68 \"/>\n",
       "<polyline clip-path=\"url(#clip892)\" style=\"stroke:#808080; stroke-linecap:round; stroke-linejoin:round; stroke-width:4; stroke-opacity:0.3; fill:none\" points=\"1521.6,3683.09 1521.6,-1770.68 \"/>\n",
       "<polyline clip-path=\"url(#clip892)\" style=\"stroke:#808080; stroke-linecap:round; stroke-linejoin:round; stroke-width:4; stroke-opacity:0.3; fill:none\" points=\"1529.16,3683.09 1529.16,-1770.68 \"/>\n",
       "<polyline clip-path=\"url(#clip892)\" style=\"stroke:#808080; stroke-linecap:round; stroke-linejoin:round; stroke-width:4; stroke-opacity:0.3; fill:none\" points=\"1553.91,3683.09 1553.91,-1770.68 \"/>\n",
       "<polyline clip-path=\"url(#clip892)\" style=\"stroke:#808080; stroke-linecap:round; stroke-linejoin:round; stroke-width:4; stroke-opacity:0.3; fill:none\" points=\"1583,3683.09 1583,-1770.68 \"/>\n",
       "<polyline clip-path=\"url(#clip892)\" style=\"stroke:#808080; stroke-linecap:round; stroke-linejoin:round; stroke-width:4; stroke-opacity:0.3; fill:none\" points=\"1640.36,3683.09 1640.36,-1770.68 \"/>\n",
       "<polyline clip-path=\"url(#clip892)\" style=\"stroke:#808080; stroke-linecap:round; stroke-linejoin:round; stroke-width:4; stroke-opacity:0.3; fill:none\" points=\"1694.69,3683.09 1694.69,-1770.68 \"/>\n",
       "<polyline clip-path=\"url(#clip892)\" style=\"stroke:#808080; stroke-linecap:round; stroke-linejoin:round; stroke-width:4; stroke-opacity:0.3; fill:none\" points=\"1809,3683.09 1809,-1770.68 \"/>\n",
       "<polyline clip-path=\"url(#clip892)\" style=\"stroke:#808080; stroke-linecap:round; stroke-linejoin:round; stroke-width:4; stroke-opacity:0.3; fill:none\" points=\"-1588.21,1700.93 3723.24,1700.93 \"/>\n",
       "<polyline clip-path=\"url(#clip892)\" style=\"stroke:#808080; stroke-linecap:round; stroke-linejoin:round; stroke-width:4; stroke-opacity:0.3; fill:none\" points=\"-1588.21,1605.03 3723.24,1605.03 \"/>\n",
       "<polyline clip-path=\"url(#clip892)\" style=\"stroke:#808080; stroke-linecap:round; stroke-linejoin:round; stroke-width:4; stroke-opacity:0.3; fill:none\" points=\"-1588.21,1595.14 3723.24,1595.14 \"/>\n",
       "<polyline clip-path=\"url(#clip892)\" style=\"stroke:#808080; stroke-linecap:round; stroke-linejoin:round; stroke-width:4; stroke-opacity:0.3; fill:none\" points=\"-1588.21,1515.18 3723.24,1515.18 \"/>\n",
       "<polyline clip-path=\"url(#clip892)\" style=\"stroke:#808080; stroke-linecap:round; stroke-linejoin:round; stroke-width:4; stroke-opacity:0.3; fill:none\" points=\"-1588.21,1358.68 3723.24,1358.68 \"/>\n",
       "<polyline clip-path=\"url(#clip892)\" style=\"stroke:#808080; stroke-linecap:round; stroke-linejoin:round; stroke-width:4; stroke-opacity:0.3; fill:none\" points=\"-1588.21,1175.18 3723.24,1175.18 \"/>\n",
       "<polyline clip-path=\"url(#clip892)\" style=\"stroke:#808080; stroke-linecap:round; stroke-linejoin:round; stroke-width:4; stroke-opacity:0.3; fill:none\" points=\"-1588.21,1069.77 3723.24,1069.77 \"/>\n",
       "<polyline clip-path=\"url(#clip892)\" style=\"stroke:#808080; stroke-linecap:round; stroke-linejoin:round; stroke-width:4; stroke-opacity:0.3; fill:none\" points=\"-1588.21,926.342 3723.24,926.342 \"/>\n",
       "<polyline clip-path=\"url(#clip892)\" style=\"stroke:#808080; stroke-linecap:round; stroke-linejoin:round; stroke-width:4; stroke-opacity:0.3; fill:none\" points=\"-1588.21,746.056 3723.24,746.056 \"/>\n",
       "<polyline clip-path=\"url(#clip892)\" style=\"stroke:#808080; stroke-linecap:round; stroke-linejoin:round; stroke-width:4; stroke-opacity:0.3; fill:none\" points=\"-1588.21,688.449 3723.24,688.449 \"/>\n",
       "<polyline clip-path=\"url(#clip892)\" style=\"stroke:#808080; stroke-linecap:round; stroke-linejoin:round; stroke-width:4; stroke-opacity:0.3; fill:none\" points=\"-1588.21,620.645 3723.24,620.645 \"/>\n",
       "<polyline clip-path=\"url(#clip892)\" style=\"stroke:#808080; stroke-linecap:round; stroke-linejoin:round; stroke-width:4; stroke-opacity:0.3; fill:none\" points=\"-1588.21,533.176 3723.24,533.176 \"/>\n",
       "<polyline clip-path=\"url(#clip892)\" style=\"stroke:#808080; stroke-linecap:round; stroke-linejoin:round; stroke-width:4; stroke-opacity:0.3; fill:none\" points=\"-1588.21,478.892 3723.24,478.892 \"/>\n",
       "<polyline clip-path=\"url(#clip892)\" style=\"stroke:#808080; stroke-linecap:round; stroke-linejoin:round; stroke-width:4; stroke-opacity:0.3; fill:none\" points=\"-1588.21,440.239 3723.24,440.239 \"/>\n",
       "<polyline clip-path=\"url(#clip892)\" style=\"stroke:#808080; stroke-linecap:round; stroke-linejoin:round; stroke-width:4; stroke-opacity:0.3; fill:none\" points=\"-1588.21,365.156 3723.24,365.156 \"/>\n",
       "<polyline clip-path=\"url(#clip892)\" style=\"stroke:#808080; stroke-linecap:round; stroke-linejoin:round; stroke-width:4; stroke-opacity:0.3; fill:none\" points=\"-1588.21,211.481 3723.24,211.481 \"/>\n",
       "<polyline clip-path=\"url(#clip892)\" style=\"stroke:#000000; stroke-linecap:round; stroke-linejoin:round; stroke-width:4; stroke-opacity:1; fill:none\" points=\"1583,1700.93 1583,211.481 \"/>\n",
       "<circle clip-path=\"url(#clip892)\" cx=\"1583\" cy=\"956.206\" r=\"21.6\" fill=\"#ffffff\" fill-rule=\"evenodd\" fill-opacity=\"0.6\" stroke=\"none\"/>\n",
       "<polyline clip-path=\"url(#clip892)\" style=\"stroke:#000000; stroke-linecap:round; stroke-linejoin:round; stroke-width:4; stroke-opacity:1; fill:none\" points=\"326.027,746.056 1583,746.056 \"/>\n",
       "<circle clip-path=\"url(#clip892)\" cx=\"954.511\" cy=\"746.056\" r=\"21.6\" fill=\"#ffffff\" fill-rule=\"evenodd\" fill-opacity=\"0.6\" stroke=\"none\"/>\n",
       "<path clip-path=\"url(#clip890)\" d=\"M1575.78 966.215 L1581.51 966.215 L1581.51 946.44 L1575.28 947.69 L1575.28 944.496 L1581.48 943.246 L1584.98 943.246 L1584.98 966.215 L1590.71 966.215 L1590.71 969.166 L1575.78 969.166 L1575.78 966.215 Z\" fill=\"#000000\" fill-rule=\"nonzero\" fill-opacity=\"1\" /><path clip-path=\"url(#clip890)\" d=\"M950.501 756.065 L962.74 756.065 L962.74 759.016 L946.282 759.016 L946.282 756.065 Q948.278 753.999 951.716 750.527 Q955.171 747.037 956.056 746.03 Q957.74 744.138 958.4 742.836 Q959.077 741.516 959.077 740.249 Q959.077 738.183 957.619 736.881 Q956.178 735.579 953.851 735.579 Q952.202 735.579 950.362 736.152 Q948.539 736.725 946.456 737.888 L946.456 734.346 Q948.574 733.496 950.414 733.062 Q952.254 732.628 953.782 732.628 Q957.81 732.628 960.205 734.641 Q962.601 736.655 962.601 740.023 Q962.601 741.621 961.994 743.062 Q961.403 744.485 959.823 746.43 Q959.389 746.933 957.063 749.346 Q954.737 751.742 950.501 756.065 Z\" fill=\"#000000\" fill-rule=\"nonzero\" fill-opacity=\"1\" /></svg>\n"
      ]
     },
     "metadata": {},
     "output_type": "display_data"
    },
    {
     "name": "stdout",
     "output_type": "stream",
     "text": [
      "PD  : 3\n",
      "B   : 3.0\n",
      "BnB : 3.0\n"
     ]
    }
   ],
   "source": [
    "# BnB test\n",
    "\n",
    "seed = 21\n",
    "# Data generation ########################################################################\n",
    "n = 15\n",
    "rng = MersenneTwister(seed)\n",
    "S = rand(rng,n,2)\n",
    "half = n ÷ 2\n",
    "w = shuffle(rng,[ones(Int,half)...,-ones(Int,n-half)...]) # w = rand([-1,1], n)\n",
    "\n",
    "# Utils ##################################################################################\n",
    "sortperm_x = sortperm(S[:, 1])\n",
    "sorted_x = S[sortperm_x, 1]\n",
    "midpoints_x = sorted2midpoints(sorted_x)\n",
    "\n",
    "sortperm_y = sortperm(S[:, 2])\n",
    "sorted_y = S[sortperm_y, 2]\n",
    "midpoints_y = sorted2midpoints(sorted_y)\n",
    "\n",
    "# Esto HAY que cambiarlo por un \"orthogonal range count\"\n",
    "Disc_pqij(p,q,i,j) = abs(sum(w[intersect(sortperm_x[p:p+i-1],sortperm_y[q:q+j-1])]))\n",
    "Count_pqij(p,q,i,j) = length(intersect(sortperm_x[p:p+i-1],sortperm_y[q:q+j-1]))\n",
    "\n",
    "# PD alg to compare\n",
    "C, P, D, midpoints_x, midpoints_y, argcuts, idxcuts = coarseness_g(S,w);\n",
    "fig = plot_rb_points(S, w)\n",
    "plot_add_lines!(fig, S)\n",
    "plot_guillotine_line!(fig,1,1,n,n)\n",
    "display(fig)\n",
    "println(\"PD  : $(C[1,1,n,n])\")\n",
    "\n",
    "\n",
    "init()\n",
    "C_b = Co(1,1,n,n)\n",
    "println(\"B   : $C_b\")\n",
    "\n",
    "init()\n",
    "C_bnb = Cg_bnb(1,1,n,n,n)\n",
    "println(\"BnB : $C_bnb\")"
   ]
  },
  {
   "cell_type": "code",
   "execution_count": null,
   "id": "bd3eb798-ac9b-4485-a8f7-eb1dabf2bb79",
   "metadata": {},
   "outputs": [],
   "source": []
  },
  {
   "cell_type": "code",
   "execution_count": 56,
   "id": "793155c2-d590-48ed-a430-7997700cc282",
   "metadata": {
    "tags": []
   },
   "outputs": [
    {
     "data": {
      "text/plain": [
       "Cg_bnb (generic function with 1 method)"
      ]
     },
     "execution_count": 56,
     "metadata": {},
     "output_type": "execute_result"
    }
   ],
   "source": [
    "function Cg_bnb(p, q, i, j, k)\n",
    "    \n",
    "    if C[p,q,i,j] != Inf\n",
    "        return C[p,q,i,j]\n",
    "    end\n",
    "    \n",
    "    if P[p,q,i,j] == 0\n",
    "        return Inf\n",
    "    end\n",
    "    \n",
    "    d = D[p,q,i,j]\n",
    "    c = d\n",
    "    \n",
    "    if d < k \n",
    "        for s = 1:i-1\n",
    "            c1 = Cg_bnb(p, q, s, j, d)\n",
    "            c2 = Cg_bnb(p+s, q, i-s, j, d)\n",
    "            cc = min(c1, c2)\n",
    "            if cc > c\n",
    "                c = cc\n",
    "            end\n",
    "        end\n",
    "\n",
    "        for t = 1:j-1\n",
    "            c1 = Cg_bnb(p, q, i, t, d)\n",
    "            c2 = Cg_bnb(p, q+t, i, j-t, d)\n",
    "            cc = min(c1,c2)\n",
    "            if cc > c\n",
    "                c = cc\n",
    "            end\n",
    "        end\n",
    "    end\n",
    "    \n",
    "    C[p,q,i,j] = c\n",
    "    return c\n",
    "end"
   ]
  },
  {
   "cell_type": "code",
   "execution_count": 34,
   "id": "0441d7cb-f258-418c-b0b4-f1974bdf5e58",
   "metadata": {
    "tags": []
   },
   "outputs": [
    {
     "ename": "LoadError",
     "evalue": "UndefVarError: inf not defined",
     "output_type": "error",
     "traceback": [
      "UndefVarError: inf not defined",
      ""
     ]
    }
   ],
   "source": []
  }
 ],
 "metadata": {
  "kernelspec": {
   "display_name": "Julia 1.6.1",
   "language": "julia",
   "name": "julia-1.6"
  },
  "language_info": {
   "file_extension": ".jl",
   "mimetype": "application/julia",
   "name": "julia",
   "version": "1.6.1"
  }
 },
 "nbformat": 4,
 "nbformat_minor": 5
}
