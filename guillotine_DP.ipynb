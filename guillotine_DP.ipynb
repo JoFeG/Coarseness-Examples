{
 "cells": [
  {
   "cell_type": "code",
   "execution_count": 2,
   "id": "20108d71-c14a-49e9-acd0-961e564044c0",
   "metadata": {
    "tags": []
   },
   "outputs": [
    {
     "data": {
      "text/plain": [
       "plot_rb_points (generic function with 2 methods)"
      ]
     },
     "execution_count": 2,
     "metadata": {},
     "output_type": "execute_result"
    }
   ],
   "source": [
    "using Random\n",
    "include(\"src/plotting_utils.jl\")"
   ]
  },
  {
   "cell_type": "code",
   "execution_count": 4,
   "id": "7b21f064-e5b8-4299-b61f-b8031c339372",
   "metadata": {
    "tags": []
   },
   "outputs": [
    {
     "data": {
      "image/svg+xml": [
       "<?xml version=\"1.0\" encoding=\"utf-8\"?>\n",
       "<svg xmlns=\"http://www.w3.org/2000/svg\" xmlns:xlink=\"http://www.w3.org/1999/xlink\" width=\"500\" height=\"500\" viewBox=\"0 0 2000 2000\">\n",
       "<defs>\n",
       "  <clipPath id=\"clip380\">\n",
       "    <rect x=\"0\" y=\"0\" width=\"2000\" height=\"2000\"/>\n",
       "  </clipPath>\n",
       "</defs>\n",
       "<path clip-path=\"url(#clip380)\" d=\"M0 2000 L2000 2000 L2000 0 L0 0  Z\" fill=\"#ffffff\" fill-rule=\"evenodd\" fill-opacity=\"1\"/>\n",
       "<defs>\n",
       "  <clipPath id=\"clip381\">\n",
       "    <rect x=\"400\" y=\"200\" width=\"1401\" height=\"1401\"/>\n",
       "  </clipPath>\n",
       "</defs>\n",
       "<path clip-path=\"url(#clip380)\" d=\"M188.941 1865.17 L1952.76 1865.17 L1952.76 47.2441 L188.941 47.2441  Z\" fill=\"#ffffff\" fill-rule=\"evenodd\" fill-opacity=\"1\"/>\n",
       "<defs>\n",
       "  <clipPath id=\"clip382\">\n",
       "    <rect x=\"188\" y=\"47\" width=\"1765\" height=\"1819\"/>\n",
       "  </clipPath>\n",
       "</defs>\n",
       "<polyline clip-path=\"url(#clip382)\" style=\"stroke:#000000; stroke-linecap:round; stroke-linejoin:round; stroke-width:0; stroke-opacity:0.1; fill:none\" points=\"477.975,1865.17 477.975,47.2441 \"/>\n",
       "<polyline clip-path=\"url(#clip382)\" style=\"stroke:#000000; stroke-linecap:round; stroke-linejoin:round; stroke-width:0; stroke-opacity:0.1; fill:none\" points=\"774.752,1865.17 774.752,47.2441 \"/>\n",
       "<polyline clip-path=\"url(#clip382)\" style=\"stroke:#000000; stroke-linecap:round; stroke-linejoin:round; stroke-width:0; stroke-opacity:0.1; fill:none\" points=\"1071.53,1865.17 1071.53,47.2441 \"/>\n",
       "<polyline clip-path=\"url(#clip382)\" style=\"stroke:#000000; stroke-linecap:round; stroke-linejoin:round; stroke-width:0; stroke-opacity:0.1; fill:none\" points=\"1368.31,1865.17 1368.31,47.2441 \"/>\n",
       "<polyline clip-path=\"url(#clip382)\" style=\"stroke:#000000; stroke-linecap:round; stroke-linejoin:round; stroke-width:0; stroke-opacity:0.1; fill:none\" points=\"1665.08,1865.17 1665.08,47.2441 \"/>\n",
       "<polyline clip-path=\"url(#clip380)\" style=\"stroke:#000000; stroke-linecap:round; stroke-linejoin:round; stroke-width:4; stroke-opacity:1; fill:none\" points=\"188.941,1865.17 1952.76,1865.17 \"/>\n",
       "<polyline clip-path=\"url(#clip380)\" style=\"stroke:#000000; stroke-linecap:round; stroke-linejoin:round; stroke-width:4; stroke-opacity:1; fill:none\" points=\"188.941,47.2441 1952.76,47.2441 \"/>\n",
       "<polyline clip-path=\"url(#clip380)\" style=\"stroke:#000000; stroke-linecap:round; stroke-linejoin:round; stroke-width:4; stroke-opacity:1; fill:none\" points=\"477.975,1865.17 477.975,1846.27 \"/>\n",
       "<polyline clip-path=\"url(#clip380)\" style=\"stroke:#000000; stroke-linecap:round; stroke-linejoin:round; stroke-width:4; stroke-opacity:1; fill:none\" points=\"774.752,1865.17 774.752,1846.27 \"/>\n",
       "<polyline clip-path=\"url(#clip380)\" style=\"stroke:#000000; stroke-linecap:round; stroke-linejoin:round; stroke-width:4; stroke-opacity:1; fill:none\" points=\"1071.53,1865.17 1071.53,1846.27 \"/>\n",
       "<polyline clip-path=\"url(#clip380)\" style=\"stroke:#000000; stroke-linecap:round; stroke-linejoin:round; stroke-width:4; stroke-opacity:1; fill:none\" points=\"1368.31,1865.17 1368.31,1846.27 \"/>\n",
       "<polyline clip-path=\"url(#clip380)\" style=\"stroke:#000000; stroke-linecap:round; stroke-linejoin:round; stroke-width:4; stroke-opacity:1; fill:none\" points=\"1665.08,1865.17 1665.08,1846.27 \"/>\n",
       "<path clip-path=\"url(#clip380)\" d=\"M425.001 1907.54 L454.676 1907.54 L454.676 1911.47 L425.001 1911.47 L425.001 1907.54 Z\" fill=\"#000000\" fill-rule=\"nonzero\" fill-opacity=\"1\" /><path clip-path=\"url(#clip380)\" d=\"M474.769 1892.89 Q471.158 1892.89 469.329 1896.45 Q467.523 1899.99 467.523 1907.12 Q467.523 1914.23 469.329 1917.79 Q471.158 1921.34 474.769 1921.34 Q478.403 1921.34 480.209 1917.79 Q482.037 1914.23 482.037 1907.12 Q482.037 1899.99 480.209 1896.45 Q478.403 1892.89 474.769 1892.89 M474.769 1889.18 Q480.579 1889.18 483.634 1893.79 Q486.713 1898.37 486.713 1907.12 Q486.713 1915.85 483.634 1920.46 Q480.579 1925.04 474.769 1925.04 Q468.959 1925.04 465.88 1920.46 Q462.824 1915.85 462.824 1907.12 Q462.824 1898.37 465.88 1893.79 Q468.959 1889.18 474.769 1889.18 Z\" fill=\"#000000\" fill-rule=\"nonzero\" fill-opacity=\"1\" /><path clip-path=\"url(#clip380)\" d=\"M494.931 1918.49 L499.815 1918.49 L499.815 1924.37 L494.931 1924.37 L494.931 1918.49 Z\" fill=\"#000000\" fill-rule=\"nonzero\" fill-opacity=\"1\" /><path clip-path=\"url(#clip380)\" d=\"M510.046 1889.81 L528.403 1889.81 L528.403 1893.74 L514.329 1893.74 L514.329 1902.22 Q515.347 1901.87 516.366 1901.71 Q517.384 1901.52 518.403 1901.52 Q524.19 1901.52 527.569 1904.69 Q530.949 1907.86 530.949 1913.28 Q530.949 1918.86 527.477 1921.96 Q524.005 1925.04 517.685 1925.04 Q515.509 1925.04 513.241 1924.67 Q510.995 1924.3 508.588 1923.56 L508.588 1918.86 Q510.671 1919.99 512.894 1920.55 Q515.116 1921.1 517.593 1921.1 Q521.597 1921.1 523.935 1919 Q526.273 1916.89 526.273 1913.28 Q526.273 1909.67 523.935 1907.56 Q521.597 1905.46 517.593 1905.46 Q515.718 1905.46 513.843 1905.87 Q511.991 1906.29 510.046 1907.17 L510.046 1889.81 Z\" fill=\"#000000\" fill-rule=\"nonzero\" fill-opacity=\"1\" /><path clip-path=\"url(#clip380)\" d=\"M752.136 1892.89 Q748.525 1892.89 746.696 1896.45 Q744.891 1899.99 744.891 1907.12 Q744.891 1914.23 746.696 1917.79 Q748.525 1921.34 752.136 1921.34 Q755.77 1921.34 757.576 1917.79 Q759.404 1914.23 759.404 1907.12 Q759.404 1899.99 757.576 1896.45 Q755.77 1892.89 752.136 1892.89 M752.136 1889.18 Q757.946 1889.18 761.002 1893.79 Q764.08 1898.37 764.08 1907.12 Q764.08 1915.85 761.002 1920.46 Q757.946 1925.04 752.136 1925.04 Q746.326 1925.04 743.247 1920.46 Q740.192 1915.85 740.192 1907.12 Q740.192 1898.37 743.247 1893.79 Q746.326 1889.18 752.136 1889.18 Z\" fill=\"#000000\" fill-rule=\"nonzero\" fill-opacity=\"1\" /><path clip-path=\"url(#clip380)\" d=\"M772.298 1918.49 L777.182 1918.49 L777.182 1924.37 L772.298 1924.37 L772.298 1918.49 Z\" fill=\"#000000\" fill-rule=\"nonzero\" fill-opacity=\"1\" /><path clip-path=\"url(#clip380)\" d=\"M797.367 1892.89 Q793.756 1892.89 791.927 1896.45 Q790.122 1899.99 790.122 1907.12 Q790.122 1914.23 791.927 1917.79 Q793.756 1921.34 797.367 1921.34 Q801.001 1921.34 802.807 1917.79 Q804.636 1914.23 804.636 1907.12 Q804.636 1899.99 802.807 1896.45 Q801.001 1892.89 797.367 1892.89 M797.367 1889.18 Q803.177 1889.18 806.233 1893.79 Q809.312 1898.37 809.312 1907.12 Q809.312 1915.85 806.233 1920.46 Q803.177 1925.04 797.367 1925.04 Q791.557 1925.04 788.478 1920.46 Q785.423 1915.85 785.423 1907.12 Q785.423 1898.37 788.478 1893.79 Q791.557 1889.18 797.367 1889.18 Z\" fill=\"#000000\" fill-rule=\"nonzero\" fill-opacity=\"1\" /><path clip-path=\"url(#clip380)\" d=\"M1049.41 1892.89 Q1045.8 1892.89 1043.97 1896.45 Q1042.17 1899.99 1042.17 1907.12 Q1042.17 1914.23 1043.97 1917.79 Q1045.8 1921.34 1049.41 1921.34 Q1053.04 1921.34 1054.85 1917.79 Q1056.68 1914.23 1056.68 1907.12 Q1056.68 1899.99 1054.85 1896.45 Q1053.04 1892.89 1049.41 1892.89 M1049.41 1889.18 Q1055.22 1889.18 1058.28 1893.79 Q1061.35 1898.37 1061.35 1907.12 Q1061.35 1915.85 1058.28 1920.46 Q1055.22 1925.04 1049.41 1925.04 Q1043.6 1925.04 1040.52 1920.46 Q1037.47 1915.85 1037.47 1907.12 Q1037.47 1898.37 1040.52 1893.79 Q1043.6 1889.18 1049.41 1889.18 Z\" fill=\"#000000\" fill-rule=\"nonzero\" fill-opacity=\"1\" /><path clip-path=\"url(#clip380)\" d=\"M1069.57 1918.49 L1074.46 1918.49 L1074.46 1924.37 L1069.57 1924.37 L1069.57 1918.49 Z\" fill=\"#000000\" fill-rule=\"nonzero\" fill-opacity=\"1\" /><path clip-path=\"url(#clip380)\" d=\"M1084.69 1889.81 L1103.04 1889.81 L1103.04 1893.74 L1088.97 1893.74 L1088.97 1902.22 Q1089.99 1901.87 1091.01 1901.71 Q1092.03 1901.52 1093.04 1901.52 Q1098.83 1901.52 1102.21 1904.69 Q1105.59 1907.86 1105.59 1913.28 Q1105.59 1918.86 1102.12 1921.96 Q1098.65 1925.04 1092.33 1925.04 Q1090.15 1925.04 1087.88 1924.67 Q1085.64 1924.3 1083.23 1923.56 L1083.23 1918.86 Q1085.31 1919.99 1087.54 1920.55 Q1089.76 1921.1 1092.23 1921.1 Q1096.24 1921.1 1098.58 1919 Q1100.91 1916.89 1100.91 1913.28 Q1100.91 1909.67 1098.58 1907.56 Q1096.24 1905.46 1092.23 1905.46 Q1090.36 1905.46 1088.48 1905.87 Q1086.63 1906.29 1084.69 1907.17 L1084.69 1889.81 Z\" fill=\"#000000\" fill-rule=\"nonzero\" fill-opacity=\"1\" /><path clip-path=\"url(#clip380)\" d=\"M1335.46 1920.43 L1343.1 1920.43 L1343.1 1894.07 L1334.79 1895.73 L1334.79 1891.47 L1343.05 1889.81 L1347.73 1889.81 L1347.73 1920.43 L1355.37 1920.43 L1355.37 1924.37 L1335.46 1924.37 L1335.46 1920.43 Z\" fill=\"#000000\" fill-rule=\"nonzero\" fill-opacity=\"1\" /><path clip-path=\"url(#clip380)\" d=\"M1364.81 1918.49 L1369.69 1918.49 L1369.69 1924.37 L1364.81 1924.37 L1364.81 1918.49 Z\" fill=\"#000000\" fill-rule=\"nonzero\" fill-opacity=\"1\" /><path clip-path=\"url(#clip380)\" d=\"M1389.88 1892.89 Q1386.27 1892.89 1384.44 1896.45 Q1382.63 1899.99 1382.63 1907.12 Q1382.63 1914.23 1384.44 1917.79 Q1386.27 1921.34 1389.88 1921.34 Q1393.51 1921.34 1395.32 1917.79 Q1397.15 1914.23 1397.15 1907.12 Q1397.15 1899.99 1395.32 1896.45 Q1393.51 1892.89 1389.88 1892.89 M1389.88 1889.18 Q1395.69 1889.18 1398.74 1893.79 Q1401.82 1898.37 1401.82 1907.12 Q1401.82 1915.85 1398.74 1920.46 Q1395.69 1925.04 1389.88 1925.04 Q1384.07 1925.04 1380.99 1920.46 Q1377.93 1915.85 1377.93 1907.12 Q1377.93 1898.37 1380.99 1893.79 Q1384.07 1889.18 1389.88 1889.18 Z\" fill=\"#000000\" fill-rule=\"nonzero\" fill-opacity=\"1\" /><path clip-path=\"url(#clip380)\" d=\"M1632.73 1920.43 L1640.37 1920.43 L1640.37 1894.07 L1632.06 1895.73 L1632.06 1891.47 L1640.33 1889.81 L1645 1889.81 L1645 1920.43 L1652.64 1920.43 L1652.64 1924.37 L1632.73 1924.37 L1632.73 1920.43 Z\" fill=\"#000000\" fill-rule=\"nonzero\" fill-opacity=\"1\" /><path clip-path=\"url(#clip380)\" d=\"M1662.08 1918.49 L1666.97 1918.49 L1666.97 1924.37 L1662.08 1924.37 L1662.08 1918.49 Z\" fill=\"#000000\" fill-rule=\"nonzero\" fill-opacity=\"1\" /><path clip-path=\"url(#clip380)\" d=\"M1677.2 1889.81 L1695.56 1889.81 L1695.56 1893.74 L1681.48 1893.74 L1681.48 1902.22 Q1682.5 1901.87 1683.52 1901.71 Q1684.54 1901.52 1685.56 1901.52 Q1691.34 1901.52 1694.72 1904.69 Q1698.1 1907.86 1698.1 1913.28 Q1698.1 1918.86 1694.63 1921.96 Q1691.16 1925.04 1684.84 1925.04 Q1682.66 1925.04 1680.39 1924.67 Q1678.15 1924.3 1675.74 1923.56 L1675.74 1918.86 Q1677.83 1919.99 1680.05 1920.55 Q1682.27 1921.1 1684.75 1921.1 Q1688.75 1921.1 1691.09 1919 Q1693.43 1916.89 1693.43 1913.28 Q1693.43 1909.67 1691.09 1907.56 Q1688.75 1905.46 1684.75 1905.46 Q1682.87 1905.46 1681 1905.87 Q1679.14 1906.29 1677.2 1907.17 L1677.2 1889.81 Z\" fill=\"#000000\" fill-rule=\"nonzero\" fill-opacity=\"1\" /><polyline clip-path=\"url(#clip382)\" style=\"stroke:#000000; stroke-linecap:round; stroke-linejoin:round; stroke-width:0; stroke-opacity:0.1; fill:none\" points=\"188.941,1594.76 1952.76,1594.76 \"/>\n",
       "<polyline clip-path=\"url(#clip382)\" style=\"stroke:#000000; stroke-linecap:round; stroke-linejoin:round; stroke-width:0; stroke-opacity:0.1; fill:none\" points=\"188.941,1265.57 1952.76,1265.57 \"/>\n",
       "<polyline clip-path=\"url(#clip382)\" style=\"stroke:#000000; stroke-linecap:round; stroke-linejoin:round; stroke-width:0; stroke-opacity:0.1; fill:none\" points=\"188.941,936.373 1952.76,936.373 \"/>\n",
       "<polyline clip-path=\"url(#clip382)\" style=\"stroke:#000000; stroke-linecap:round; stroke-linejoin:round; stroke-width:0; stroke-opacity:0.1; fill:none\" points=\"188.941,607.18 1952.76,607.18 \"/>\n",
       "<polyline clip-path=\"url(#clip382)\" style=\"stroke:#000000; stroke-linecap:round; stroke-linejoin:round; stroke-width:0; stroke-opacity:0.1; fill:none\" points=\"188.941,277.987 1952.76,277.987 \"/>\n",
       "<polyline clip-path=\"url(#clip380)\" style=\"stroke:#000000; stroke-linecap:round; stroke-linejoin:round; stroke-width:4; stroke-opacity:1; fill:none\" points=\"188.941,1865.17 188.941,47.2441 \"/>\n",
       "<polyline clip-path=\"url(#clip380)\" style=\"stroke:#000000; stroke-linecap:round; stroke-linejoin:round; stroke-width:4; stroke-opacity:1; fill:none\" points=\"1952.76,1865.17 1952.76,47.2441 \"/>\n",
       "<polyline clip-path=\"url(#clip380)\" style=\"stroke:#000000; stroke-linecap:round; stroke-linejoin:round; stroke-width:4; stroke-opacity:1; fill:none\" points=\"188.941,1594.76 207.838,1594.76 \"/>\n",
       "<polyline clip-path=\"url(#clip380)\" style=\"stroke:#000000; stroke-linecap:round; stroke-linejoin:round; stroke-width:4; stroke-opacity:1; fill:none\" points=\"188.941,1265.57 207.838,1265.57 \"/>\n",
       "<polyline clip-path=\"url(#clip380)\" style=\"stroke:#000000; stroke-linecap:round; stroke-linejoin:round; stroke-width:4; stroke-opacity:1; fill:none\" points=\"188.941,936.373 207.838,936.373 \"/>\n",
       "<polyline clip-path=\"url(#clip380)\" style=\"stroke:#000000; stroke-linecap:round; stroke-linejoin:round; stroke-width:4; stroke-opacity:1; fill:none\" points=\"188.941,607.18 207.838,607.18 \"/>\n",
       "<polyline clip-path=\"url(#clip380)\" style=\"stroke:#000000; stroke-linecap:round; stroke-linejoin:round; stroke-width:4; stroke-opacity:1; fill:none\" points=\"188.941,277.987 207.838,277.987 \"/>\n",
       "<path clip-path=\"url(#clip380)\" d=\"M52.9921 1595.21 L82.6679 1595.21 L82.6679 1599.15 L52.9921 1599.15 L52.9921 1595.21 Z\" fill=\"#000000\" fill-rule=\"nonzero\" fill-opacity=\"1\" /><path clip-path=\"url(#clip380)\" d=\"M102.76 1580.56 Q99.1493 1580.56 97.3206 1584.12 Q95.515 1587.66 95.515 1594.79 Q95.515 1601.9 97.3206 1605.47 Q99.1493 1609.01 102.76 1609.01 Q106.395 1609.01 108.2 1605.47 Q110.029 1601.9 110.029 1594.79 Q110.029 1587.66 108.2 1584.12 Q106.395 1580.56 102.76 1580.56 M102.76 1576.85 Q108.571 1576.85 111.626 1581.46 Q114.705 1586.04 114.705 1594.79 Q114.705 1603.52 111.626 1608.13 Q108.571 1612.71 102.76 1612.71 Q96.9502 1612.71 93.8715 1608.13 Q90.816 1603.52 90.816 1594.79 Q90.816 1586.04 93.8715 1581.46 Q96.9502 1576.85 102.76 1576.85 Z\" fill=\"#000000\" fill-rule=\"nonzero\" fill-opacity=\"1\" /><path clip-path=\"url(#clip380)\" d=\"M122.922 1606.16 L127.807 1606.16 L127.807 1612.04 L122.922 1612.04 L122.922 1606.16 Z\" fill=\"#000000\" fill-rule=\"nonzero\" fill-opacity=\"1\" /><path clip-path=\"url(#clip380)\" d=\"M138.038 1577.48 L156.394 1577.48 L156.394 1581.41 L142.32 1581.41 L142.32 1589.89 Q143.339 1589.54 144.357 1589.38 Q145.376 1589.19 146.394 1589.19 Q152.181 1589.19 155.561 1592.36 Q158.941 1595.53 158.941 1600.95 Q158.941 1606.53 155.468 1609.63 Q151.996 1612.71 145.677 1612.71 Q143.501 1612.71 141.232 1612.34 Q138.987 1611.97 136.58 1611.23 L136.58 1606.53 Q138.663 1607.66 140.885 1608.22 Q143.107 1608.78 145.584 1608.78 Q149.589 1608.78 151.927 1606.67 Q154.265 1604.56 154.265 1600.95 Q154.265 1597.34 151.927 1595.23 Q149.589 1593.13 145.584 1593.13 Q143.709 1593.13 141.834 1593.54 Q139.982 1593.96 138.038 1594.84 L138.038 1577.48 Z\" fill=\"#000000\" fill-rule=\"nonzero\" fill-opacity=\"1\" /><path clip-path=\"url(#clip380)\" d=\"M101.765 1251.36 Q98.1539 1251.36 96.3252 1254.93 Q94.5197 1258.47 94.5197 1265.6 Q94.5197 1272.71 96.3252 1276.27 Q98.1539 1279.81 101.765 1279.81 Q105.399 1279.81 107.205 1276.27 Q109.033 1272.71 109.033 1265.6 Q109.033 1258.47 107.205 1254.93 Q105.399 1251.36 101.765 1251.36 M101.765 1247.66 Q107.575 1247.66 110.631 1252.27 Q113.709 1256.85 113.709 1265.6 Q113.709 1274.33 110.631 1278.93 Q107.575 1283.52 101.765 1283.52 Q95.9549 1283.52 92.8762 1278.93 Q89.8206 1274.33 89.8206 1265.6 Q89.8206 1256.85 92.8762 1252.27 Q95.9549 1247.66 101.765 1247.66 Z\" fill=\"#000000\" fill-rule=\"nonzero\" fill-opacity=\"1\" /><path clip-path=\"url(#clip380)\" d=\"M121.927 1276.97 L126.811 1276.97 L126.811 1282.85 L121.927 1282.85 L121.927 1276.97 Z\" fill=\"#000000\" fill-rule=\"nonzero\" fill-opacity=\"1\" /><path clip-path=\"url(#clip380)\" d=\"M146.996 1251.36 Q143.385 1251.36 141.556 1254.93 Q139.751 1258.47 139.751 1265.6 Q139.751 1272.71 141.556 1276.27 Q143.385 1279.81 146.996 1279.81 Q150.63 1279.81 152.436 1276.27 Q154.265 1272.71 154.265 1265.6 Q154.265 1258.47 152.436 1254.93 Q150.63 1251.36 146.996 1251.36 M146.996 1247.66 Q152.806 1247.66 155.862 1252.27 Q158.941 1256.85 158.941 1265.6 Q158.941 1274.33 155.862 1278.93 Q152.806 1283.52 146.996 1283.52 Q141.186 1283.52 138.107 1278.93 Q135.052 1274.33 135.052 1265.6 Q135.052 1256.85 138.107 1252.27 Q141.186 1247.66 146.996 1247.66 Z\" fill=\"#000000\" fill-rule=\"nonzero\" fill-opacity=\"1\" /><path clip-path=\"url(#clip380)\" d=\"M102.76 922.172 Q99.1493 922.172 97.3206 925.737 Q95.515 929.278 95.515 936.408 Q95.515 943.514 97.3206 947.079 Q99.1493 950.621 102.76 950.621 Q106.395 950.621 108.2 947.079 Q110.029 943.514 110.029 936.408 Q110.029 929.278 108.2 925.737 Q106.395 922.172 102.76 922.172 M102.76 918.468 Q108.571 918.468 111.626 923.075 Q114.705 927.658 114.705 936.408 Q114.705 945.135 111.626 949.741 Q108.571 954.324 102.76 954.324 Q96.9502 954.324 93.8715 949.741 Q90.816 945.135 90.816 936.408 Q90.816 927.658 93.8715 923.075 Q96.9502 918.468 102.76 918.468 Z\" fill=\"#000000\" fill-rule=\"nonzero\" fill-opacity=\"1\" /><path clip-path=\"url(#clip380)\" d=\"M122.922 947.774 L127.807 947.774 L127.807 953.653 L122.922 953.653 L122.922 947.774 Z\" fill=\"#000000\" fill-rule=\"nonzero\" fill-opacity=\"1\" /><path clip-path=\"url(#clip380)\" d=\"M138.038 919.093 L156.394 919.093 L156.394 923.028 L142.32 923.028 L142.32 931.5 Q143.339 931.153 144.357 930.991 Q145.376 930.806 146.394 930.806 Q152.181 930.806 155.561 933.977 Q158.941 937.149 158.941 942.565 Q158.941 948.144 155.468 951.246 Q151.996 954.324 145.677 954.324 Q143.501 954.324 141.232 953.954 Q138.987 953.584 136.58 952.843 L136.58 948.144 Q138.663 949.278 140.885 949.834 Q143.107 950.389 145.584 950.389 Q149.589 950.389 151.927 948.283 Q154.265 946.176 154.265 942.565 Q154.265 938.954 151.927 936.848 Q149.589 934.741 145.584 934.741 Q143.709 934.741 141.834 935.158 Q139.982 935.574 138.038 936.454 L138.038 919.093 Z\" fill=\"#000000\" fill-rule=\"nonzero\" fill-opacity=\"1\" /><path clip-path=\"url(#clip380)\" d=\"M92.5752 620.525 L100.214 620.525 L100.214 594.159 L91.904 595.826 L91.904 591.567 L100.168 589.9 L104.844 589.9 L104.844 620.525 L112.483 620.525 L112.483 624.46 L92.5752 624.46 L92.5752 620.525 Z\" fill=\"#000000\" fill-rule=\"nonzero\" fill-opacity=\"1\" /><path clip-path=\"url(#clip380)\" d=\"M121.927 618.58 L126.811 618.58 L126.811 624.46 L121.927 624.46 L121.927 618.58 Z\" fill=\"#000000\" fill-rule=\"nonzero\" fill-opacity=\"1\" /><path clip-path=\"url(#clip380)\" d=\"M146.996 592.979 Q143.385 592.979 141.556 596.544 Q139.751 600.085 139.751 607.215 Q139.751 614.321 141.556 617.886 Q143.385 621.428 146.996 621.428 Q150.63 621.428 152.436 617.886 Q154.265 614.321 154.265 607.215 Q154.265 600.085 152.436 596.544 Q150.63 592.979 146.996 592.979 M146.996 589.275 Q152.806 589.275 155.862 593.881 Q158.941 598.465 158.941 607.215 Q158.941 615.942 155.862 620.548 Q152.806 625.131 146.996 625.131 Q141.186 625.131 138.107 620.548 Q135.052 615.942 135.052 607.215 Q135.052 598.465 138.107 593.881 Q141.186 589.275 146.996 589.275 Z\" fill=\"#000000\" fill-rule=\"nonzero\" fill-opacity=\"1\" /><path clip-path=\"url(#clip380)\" d=\"M93.5706 291.332 L101.209 291.332 L101.209 264.966 L92.8993 266.633 L92.8993 262.374 L101.163 260.707 L105.839 260.707 L105.839 291.332 L113.478 291.332 L113.478 295.267 L93.5706 295.267 L93.5706 291.332 Z\" fill=\"#000000\" fill-rule=\"nonzero\" fill-opacity=\"1\" /><path clip-path=\"url(#clip380)\" d=\"M122.922 289.387 L127.807 289.387 L127.807 295.267 L122.922 295.267 L122.922 289.387 Z\" fill=\"#000000\" fill-rule=\"nonzero\" fill-opacity=\"1\" /><path clip-path=\"url(#clip380)\" d=\"M138.038 260.707 L156.394 260.707 L156.394 264.642 L142.32 264.642 L142.32 273.114 Q143.339 272.767 144.357 272.605 Q145.376 272.42 146.394 272.42 Q152.181 272.42 155.561 275.591 Q158.941 278.762 158.941 284.179 Q158.941 289.758 155.468 292.86 Q151.996 295.938 145.677 295.938 Q143.501 295.938 141.232 295.568 Q138.987 295.198 136.58 294.457 L136.58 289.758 Q138.663 290.892 140.885 291.448 Q143.107 292.003 145.584 292.003 Q149.589 292.003 151.927 289.897 Q154.265 287.79 154.265 284.179 Q154.265 280.568 151.927 278.461 Q149.589 276.355 145.584 276.355 Q143.709 276.355 141.834 276.772 Q139.982 277.188 138.038 278.068 L138.038 260.707 Z\" fill=\"#000000\" fill-rule=\"nonzero\" fill-opacity=\"1\" /><circle clip-path=\"url(#clip382)\" cx=\"1139.33\" cy=\"1072.46\" r=\"14.4\" fill=\"#ff0000\" fill-rule=\"evenodd\" fill-opacity=\"1\" stroke=\"#000000\" stroke-opacity=\"1\" stroke-width=\"4\"/>\n",
       "<circle clip-path=\"url(#clip382)\" cx=\"1359.2\" cy=\"705.63\" r=\"14.4\" fill=\"#ff0000\" fill-rule=\"evenodd\" fill-opacity=\"1\" stroke=\"#000000\" stroke-opacity=\"1\" stroke-width=\"4\"/>\n",
       "<circle clip-path=\"url(#clip382)\" cx=\"1321.37\" cy=\"1206.78\" r=\"14.4\" fill=\"#ff0000\" fill-rule=\"evenodd\" fill-opacity=\"1\" stroke=\"#000000\" stroke-opacity=\"1\" stroke-width=\"4\"/>\n",
       "<circle clip-path=\"url(#clip382)\" cx=\"1346.79\" cy=\"1100.26\" r=\"14.4\" fill=\"#ff0000\" fill-rule=\"evenodd\" fill-opacity=\"1\" stroke=\"#000000\" stroke-opacity=\"1\" stroke-width=\"4\"/>\n",
       "<circle clip-path=\"url(#clip382)\" cx=\"1029.85\" cy=\"795.991\" r=\"14.4\" fill=\"#0000ff\" fill-rule=\"evenodd\" fill-opacity=\"1\" stroke=\"#000000\" stroke-opacity=\"1\" stroke-width=\"4\"/>\n",
       "<circle clip-path=\"url(#clip382)\" cx=\"1217.36\" cy=\"895.194\" r=\"14.4\" fill=\"#0000ff\" fill-rule=\"evenodd\" fill-opacity=\"1\" stroke=\"#000000\" stroke-opacity=\"1\" stroke-width=\"4\"/>\n",
       "<circle clip-path=\"url(#clip382)\" cx=\"782.494\" cy=\"837.582\" r=\"14.4\" fill=\"#0000ff\" fill-rule=\"evenodd\" fill-opacity=\"1\" stroke=\"#000000\" stroke-opacity=\"1\" stroke-width=\"4\"/>\n",
       "<circle clip-path=\"url(#clip382)\" cx=\"1326.9\" cy=\"947.619\" r=\"14.4\" fill=\"#0000ff\" fill-rule=\"evenodd\" fill-opacity=\"1\" stroke=\"#000000\" stroke-opacity=\"1\" stroke-width=\"4\"/>\n",
       "</svg>\n"
      ]
     },
     "execution_count": 4,
     "metadata": {},
     "output_type": "execute_result"
    }
   ],
   "source": [
    "n = 8\n",
    "\n",
    "S = rand(n,2)\n",
    "w = rand([-1,1], n)\n",
    "\n",
    "plot_rb_points(S, w)"
   ]
  },
  {
   "cell_type": "code",
   "execution_count": 15,
   "id": "aa901305-b859-4639-9d8d-c1cc5b5c37d5",
   "metadata": {
    "tags": []
   },
   "outputs": [
    {
     "name": "stdout",
     "output_type": "stream",
     "text": [
      "[0.321, 0.976, 0.797, 0.164, 0.248, 0.225]\n",
      "[0.164, 0.225, 0.248, 0.321, 0.797, 0.976]\n"
     ]
    }
   ],
   "source": [
    "a = round.(rand(6),digits=3)\n",
    "b = sort(a)\n",
    "println(a)\n",
    "println(b)"
   ]
  },
  {
   "cell_type": "code",
   "execution_count": 22,
   "id": "0e40b60a-3f56-4aa5-9149-ca2387f9b10d",
   "metadata": {
    "tags": []
   },
   "outputs": [
    {
     "name": "stdout",
     "output_type": "stream",
     "text": [
      "[0.186, 0.332, 0.302, 0.779, 0.473, 0.255]\n",
      "i = [1, 6, 3, 2, 5, 4], \n",
      "a[i] =\n",
      "[0.186, 0.255, 0.302, 0.332, 0.473, 0.779]"
     ]
    }
   ],
   "source": [
    "a = round.(rand(6),digits=3)\n",
    "i = sortperm(a)\n",
    "println(a)\n",
    "println(\"i = $i, \\na[i] =\")\n",
    "print(a[i])"
   ]
  },
  {
   "cell_type": "code",
   "execution_count": 38,
   "id": "012e1cd5-42a0-4607-b5f6-a3bd7f51707e",
   "metadata": {
    "tags": []
   },
   "outputs": [
    {
     "data": {
      "image/svg+xml": [
       "<?xml version=\"1.0\" encoding=\"utf-8\"?>\n",
       "<svg xmlns=\"http://www.w3.org/2000/svg\" xmlns:xlink=\"http://www.w3.org/1999/xlink\" width=\"500\" height=\"500\" viewBox=\"0 0 2000 2000\">\n",
       "<defs>\n",
       "  <clipPath id=\"clip900\">\n",
       "    <rect x=\"0\" y=\"0\" width=\"2000\" height=\"2000\"/>\n",
       "  </clipPath>\n",
       "</defs>\n",
       "<path clip-path=\"url(#clip900)\" d=\"M0 2000 L2000 2000 L2000 0 L0 0  Z\" fill=\"#ffffff\" fill-rule=\"evenodd\" fill-opacity=\"1\"/>\n",
       "<defs>\n",
       "  <clipPath id=\"clip901\">\n",
       "    <rect x=\"400\" y=\"200\" width=\"1401\" height=\"1401\"/>\n",
       "  </clipPath>\n",
       "</defs>\n",
       "<path clip-path=\"url(#clip900)\" d=\"M188.941 1865.17 L1952.76 1865.17 L1952.76 47.2441 L188.941 47.2441  Z\" fill=\"#ffffff\" fill-rule=\"evenodd\" fill-opacity=\"1\"/>\n",
       "<defs>\n",
       "  <clipPath id=\"clip902\">\n",
       "    <rect x=\"188\" y=\"47\" width=\"1765\" height=\"1819\"/>\n",
       "  </clipPath>\n",
       "</defs>\n",
       "<polyline clip-path=\"url(#clip902)\" style=\"stroke:#000000; stroke-linecap:round; stroke-linejoin:round; stroke-width:0; stroke-opacity:0.1; fill:none\" points=\"477.975,1865.17 477.975,47.2441 \"/>\n",
       "<polyline clip-path=\"url(#clip902)\" style=\"stroke:#000000; stroke-linecap:round; stroke-linejoin:round; stroke-width:0; stroke-opacity:0.1; fill:none\" points=\"774.752,1865.17 774.752,47.2441 \"/>\n",
       "<polyline clip-path=\"url(#clip902)\" style=\"stroke:#000000; stroke-linecap:round; stroke-linejoin:round; stroke-width:0; stroke-opacity:0.1; fill:none\" points=\"1071.53,1865.17 1071.53,47.2441 \"/>\n",
       "<polyline clip-path=\"url(#clip902)\" style=\"stroke:#000000; stroke-linecap:round; stroke-linejoin:round; stroke-width:0; stroke-opacity:0.1; fill:none\" points=\"1368.31,1865.17 1368.31,47.2441 \"/>\n",
       "<polyline clip-path=\"url(#clip902)\" style=\"stroke:#000000; stroke-linecap:round; stroke-linejoin:round; stroke-width:0; stroke-opacity:0.1; fill:none\" points=\"1665.08,1865.17 1665.08,47.2441 \"/>\n",
       "<polyline clip-path=\"url(#clip900)\" style=\"stroke:#000000; stroke-linecap:round; stroke-linejoin:round; stroke-width:4; stroke-opacity:1; fill:none\" points=\"188.941,1865.17 1952.76,1865.17 \"/>\n",
       "<polyline clip-path=\"url(#clip900)\" style=\"stroke:#000000; stroke-linecap:round; stroke-linejoin:round; stroke-width:4; stroke-opacity:1; fill:none\" points=\"188.941,47.2441 1952.76,47.2441 \"/>\n",
       "<polyline clip-path=\"url(#clip900)\" style=\"stroke:#000000; stroke-linecap:round; stroke-linejoin:round; stroke-width:4; stroke-opacity:1; fill:none\" points=\"477.975,1865.17 477.975,1846.27 \"/>\n",
       "<polyline clip-path=\"url(#clip900)\" style=\"stroke:#000000; stroke-linecap:round; stroke-linejoin:round; stroke-width:4; stroke-opacity:1; fill:none\" points=\"774.752,1865.17 774.752,1846.27 \"/>\n",
       "<polyline clip-path=\"url(#clip900)\" style=\"stroke:#000000; stroke-linecap:round; stroke-linejoin:round; stroke-width:4; stroke-opacity:1; fill:none\" points=\"1071.53,1865.17 1071.53,1846.27 \"/>\n",
       "<polyline clip-path=\"url(#clip900)\" style=\"stroke:#000000; stroke-linecap:round; stroke-linejoin:round; stroke-width:4; stroke-opacity:1; fill:none\" points=\"1368.31,1865.17 1368.31,1846.27 \"/>\n",
       "<polyline clip-path=\"url(#clip900)\" style=\"stroke:#000000; stroke-linecap:round; stroke-linejoin:round; stroke-width:4; stroke-opacity:1; fill:none\" points=\"1665.08,1865.17 1665.08,1846.27 \"/>\n",
       "<path clip-path=\"url(#clip900)\" d=\"M425.001 1907.54 L454.676 1907.54 L454.676 1911.47 L425.001 1911.47 L425.001 1907.54 Z\" fill=\"#000000\" fill-rule=\"nonzero\" fill-opacity=\"1\" /><path clip-path=\"url(#clip900)\" d=\"M474.769 1892.89 Q471.158 1892.89 469.329 1896.45 Q467.523 1899.99 467.523 1907.12 Q467.523 1914.23 469.329 1917.79 Q471.158 1921.34 474.769 1921.34 Q478.403 1921.34 480.209 1917.79 Q482.037 1914.23 482.037 1907.12 Q482.037 1899.99 480.209 1896.45 Q478.403 1892.89 474.769 1892.89 M474.769 1889.18 Q480.579 1889.18 483.634 1893.79 Q486.713 1898.37 486.713 1907.12 Q486.713 1915.85 483.634 1920.46 Q480.579 1925.04 474.769 1925.04 Q468.959 1925.04 465.88 1920.46 Q462.824 1915.85 462.824 1907.12 Q462.824 1898.37 465.88 1893.79 Q468.959 1889.18 474.769 1889.18 Z\" fill=\"#000000\" fill-rule=\"nonzero\" fill-opacity=\"1\" /><path clip-path=\"url(#clip900)\" d=\"M494.931 1918.49 L499.815 1918.49 L499.815 1924.37 L494.931 1924.37 L494.931 1918.49 Z\" fill=\"#000000\" fill-rule=\"nonzero\" fill-opacity=\"1\" /><path clip-path=\"url(#clip900)\" d=\"M510.046 1889.81 L528.403 1889.81 L528.403 1893.74 L514.329 1893.74 L514.329 1902.22 Q515.347 1901.87 516.366 1901.71 Q517.384 1901.52 518.403 1901.52 Q524.19 1901.52 527.569 1904.69 Q530.949 1907.86 530.949 1913.28 Q530.949 1918.86 527.477 1921.96 Q524.005 1925.04 517.685 1925.04 Q515.509 1925.04 513.241 1924.67 Q510.995 1924.3 508.588 1923.56 L508.588 1918.86 Q510.671 1919.99 512.894 1920.55 Q515.116 1921.1 517.593 1921.1 Q521.597 1921.1 523.935 1919 Q526.273 1916.89 526.273 1913.28 Q526.273 1909.67 523.935 1907.56 Q521.597 1905.46 517.593 1905.46 Q515.718 1905.46 513.843 1905.87 Q511.991 1906.29 510.046 1907.17 L510.046 1889.81 Z\" fill=\"#000000\" fill-rule=\"nonzero\" fill-opacity=\"1\" /><path clip-path=\"url(#clip900)\" d=\"M752.136 1892.89 Q748.525 1892.89 746.696 1896.45 Q744.891 1899.99 744.891 1907.12 Q744.891 1914.23 746.696 1917.79 Q748.525 1921.34 752.136 1921.34 Q755.77 1921.34 757.576 1917.79 Q759.404 1914.23 759.404 1907.12 Q759.404 1899.99 757.576 1896.45 Q755.77 1892.89 752.136 1892.89 M752.136 1889.18 Q757.946 1889.18 761.002 1893.79 Q764.08 1898.37 764.08 1907.12 Q764.08 1915.85 761.002 1920.46 Q757.946 1925.04 752.136 1925.04 Q746.326 1925.04 743.247 1920.46 Q740.192 1915.85 740.192 1907.12 Q740.192 1898.37 743.247 1893.79 Q746.326 1889.18 752.136 1889.18 Z\" fill=\"#000000\" fill-rule=\"nonzero\" fill-opacity=\"1\" /><path clip-path=\"url(#clip900)\" d=\"M772.298 1918.49 L777.182 1918.49 L777.182 1924.37 L772.298 1924.37 L772.298 1918.49 Z\" fill=\"#000000\" fill-rule=\"nonzero\" fill-opacity=\"1\" /><path clip-path=\"url(#clip900)\" d=\"M797.367 1892.89 Q793.756 1892.89 791.927 1896.45 Q790.122 1899.99 790.122 1907.12 Q790.122 1914.23 791.927 1917.79 Q793.756 1921.34 797.367 1921.34 Q801.001 1921.34 802.807 1917.79 Q804.636 1914.23 804.636 1907.12 Q804.636 1899.99 802.807 1896.45 Q801.001 1892.89 797.367 1892.89 M797.367 1889.18 Q803.177 1889.18 806.233 1893.79 Q809.312 1898.37 809.312 1907.12 Q809.312 1915.85 806.233 1920.46 Q803.177 1925.04 797.367 1925.04 Q791.557 1925.04 788.478 1920.46 Q785.423 1915.85 785.423 1907.12 Q785.423 1898.37 788.478 1893.79 Q791.557 1889.18 797.367 1889.18 Z\" fill=\"#000000\" fill-rule=\"nonzero\" fill-opacity=\"1\" /><path clip-path=\"url(#clip900)\" d=\"M1049.41 1892.89 Q1045.8 1892.89 1043.97 1896.45 Q1042.17 1899.99 1042.17 1907.12 Q1042.17 1914.23 1043.97 1917.79 Q1045.8 1921.34 1049.41 1921.34 Q1053.04 1921.34 1054.85 1917.79 Q1056.68 1914.23 1056.68 1907.12 Q1056.68 1899.99 1054.85 1896.45 Q1053.04 1892.89 1049.41 1892.89 M1049.41 1889.18 Q1055.22 1889.18 1058.28 1893.79 Q1061.35 1898.37 1061.35 1907.12 Q1061.35 1915.85 1058.28 1920.46 Q1055.22 1925.04 1049.41 1925.04 Q1043.6 1925.04 1040.52 1920.46 Q1037.47 1915.85 1037.47 1907.12 Q1037.47 1898.37 1040.52 1893.79 Q1043.6 1889.18 1049.41 1889.18 Z\" fill=\"#000000\" fill-rule=\"nonzero\" fill-opacity=\"1\" /><path clip-path=\"url(#clip900)\" d=\"M1069.57 1918.49 L1074.46 1918.49 L1074.46 1924.37 L1069.57 1924.37 L1069.57 1918.49 Z\" fill=\"#000000\" fill-rule=\"nonzero\" fill-opacity=\"1\" /><path clip-path=\"url(#clip900)\" d=\"M1084.69 1889.81 L1103.04 1889.81 L1103.04 1893.74 L1088.97 1893.74 L1088.97 1902.22 Q1089.99 1901.87 1091.01 1901.71 Q1092.03 1901.52 1093.04 1901.52 Q1098.83 1901.52 1102.21 1904.69 Q1105.59 1907.86 1105.59 1913.28 Q1105.59 1918.86 1102.12 1921.96 Q1098.65 1925.04 1092.33 1925.04 Q1090.15 1925.04 1087.88 1924.67 Q1085.64 1924.3 1083.23 1923.56 L1083.23 1918.86 Q1085.31 1919.99 1087.54 1920.55 Q1089.76 1921.1 1092.23 1921.1 Q1096.24 1921.1 1098.58 1919 Q1100.91 1916.89 1100.91 1913.28 Q1100.91 1909.67 1098.58 1907.56 Q1096.24 1905.46 1092.23 1905.46 Q1090.36 1905.46 1088.48 1905.87 Q1086.63 1906.29 1084.69 1907.17 L1084.69 1889.81 Z\" fill=\"#000000\" fill-rule=\"nonzero\" fill-opacity=\"1\" /><path clip-path=\"url(#clip900)\" d=\"M1335.46 1920.43 L1343.1 1920.43 L1343.1 1894.07 L1334.79 1895.73 L1334.79 1891.47 L1343.05 1889.81 L1347.73 1889.81 L1347.73 1920.43 L1355.37 1920.43 L1355.37 1924.37 L1335.46 1924.37 L1335.46 1920.43 Z\" fill=\"#000000\" fill-rule=\"nonzero\" fill-opacity=\"1\" /><path clip-path=\"url(#clip900)\" d=\"M1364.81 1918.49 L1369.69 1918.49 L1369.69 1924.37 L1364.81 1924.37 L1364.81 1918.49 Z\" fill=\"#000000\" fill-rule=\"nonzero\" fill-opacity=\"1\" /><path clip-path=\"url(#clip900)\" d=\"M1389.88 1892.89 Q1386.27 1892.89 1384.44 1896.45 Q1382.63 1899.99 1382.63 1907.12 Q1382.63 1914.23 1384.44 1917.79 Q1386.27 1921.34 1389.88 1921.34 Q1393.51 1921.34 1395.32 1917.79 Q1397.15 1914.23 1397.15 1907.12 Q1397.15 1899.99 1395.32 1896.45 Q1393.51 1892.89 1389.88 1892.89 M1389.88 1889.18 Q1395.69 1889.18 1398.74 1893.79 Q1401.82 1898.37 1401.82 1907.12 Q1401.82 1915.85 1398.74 1920.46 Q1395.69 1925.04 1389.88 1925.04 Q1384.07 1925.04 1380.99 1920.46 Q1377.93 1915.85 1377.93 1907.12 Q1377.93 1898.37 1380.99 1893.79 Q1384.07 1889.18 1389.88 1889.18 Z\" fill=\"#000000\" fill-rule=\"nonzero\" fill-opacity=\"1\" /><path clip-path=\"url(#clip900)\" d=\"M1632.73 1920.43 L1640.37 1920.43 L1640.37 1894.07 L1632.06 1895.73 L1632.06 1891.47 L1640.33 1889.81 L1645 1889.81 L1645 1920.43 L1652.64 1920.43 L1652.64 1924.37 L1632.73 1924.37 L1632.73 1920.43 Z\" fill=\"#000000\" fill-rule=\"nonzero\" fill-opacity=\"1\" /><path clip-path=\"url(#clip900)\" d=\"M1662.08 1918.49 L1666.97 1918.49 L1666.97 1924.37 L1662.08 1924.37 L1662.08 1918.49 Z\" fill=\"#000000\" fill-rule=\"nonzero\" fill-opacity=\"1\" /><path clip-path=\"url(#clip900)\" d=\"M1677.2 1889.81 L1695.56 1889.81 L1695.56 1893.74 L1681.48 1893.74 L1681.48 1902.22 Q1682.5 1901.87 1683.52 1901.71 Q1684.54 1901.52 1685.56 1901.52 Q1691.34 1901.52 1694.72 1904.69 Q1698.1 1907.86 1698.1 1913.28 Q1698.1 1918.86 1694.63 1921.96 Q1691.16 1925.04 1684.84 1925.04 Q1682.66 1925.04 1680.39 1924.67 Q1678.15 1924.3 1675.74 1923.56 L1675.74 1918.86 Q1677.83 1919.99 1680.05 1920.55 Q1682.27 1921.1 1684.75 1921.1 Q1688.75 1921.1 1691.09 1919 Q1693.43 1916.89 1693.43 1913.28 Q1693.43 1909.67 1691.09 1907.56 Q1688.75 1905.46 1684.75 1905.46 Q1682.87 1905.46 1681 1905.87 Q1679.14 1906.29 1677.2 1907.17 L1677.2 1889.81 Z\" fill=\"#000000\" fill-rule=\"nonzero\" fill-opacity=\"1\" /><polyline clip-path=\"url(#clip902)\" style=\"stroke:#000000; stroke-linecap:round; stroke-linejoin:round; stroke-width:0; stroke-opacity:0.1; fill:none\" points=\"188.941,1594.76 1952.76,1594.76 \"/>\n",
       "<polyline clip-path=\"url(#clip902)\" style=\"stroke:#000000; stroke-linecap:round; stroke-linejoin:round; stroke-width:0; stroke-opacity:0.1; fill:none\" points=\"188.941,1265.57 1952.76,1265.57 \"/>\n",
       "<polyline clip-path=\"url(#clip902)\" style=\"stroke:#000000; stroke-linecap:round; stroke-linejoin:round; stroke-width:0; stroke-opacity:0.1; fill:none\" points=\"188.941,936.373 1952.76,936.373 \"/>\n",
       "<polyline clip-path=\"url(#clip902)\" style=\"stroke:#000000; stroke-linecap:round; stroke-linejoin:round; stroke-width:0; stroke-opacity:0.1; fill:none\" points=\"188.941,607.18 1952.76,607.18 \"/>\n",
       "<polyline clip-path=\"url(#clip902)\" style=\"stroke:#000000; stroke-linecap:round; stroke-linejoin:round; stroke-width:0; stroke-opacity:0.1; fill:none\" points=\"188.941,277.987 1952.76,277.987 \"/>\n",
       "<polyline clip-path=\"url(#clip900)\" style=\"stroke:#000000; stroke-linecap:round; stroke-linejoin:round; stroke-width:4; stroke-opacity:1; fill:none\" points=\"188.941,1865.17 188.941,47.2441 \"/>\n",
       "<polyline clip-path=\"url(#clip900)\" style=\"stroke:#000000; stroke-linecap:round; stroke-linejoin:round; stroke-width:4; stroke-opacity:1; fill:none\" points=\"1952.76,1865.17 1952.76,47.2441 \"/>\n",
       "<polyline clip-path=\"url(#clip900)\" style=\"stroke:#000000; stroke-linecap:round; stroke-linejoin:round; stroke-width:4; stroke-opacity:1; fill:none\" points=\"188.941,1594.76 207.838,1594.76 \"/>\n",
       "<polyline clip-path=\"url(#clip900)\" style=\"stroke:#000000; stroke-linecap:round; stroke-linejoin:round; stroke-width:4; stroke-opacity:1; fill:none\" points=\"188.941,1265.57 207.838,1265.57 \"/>\n",
       "<polyline clip-path=\"url(#clip900)\" style=\"stroke:#000000; stroke-linecap:round; stroke-linejoin:round; stroke-width:4; stroke-opacity:1; fill:none\" points=\"188.941,936.373 207.838,936.373 \"/>\n",
       "<polyline clip-path=\"url(#clip900)\" style=\"stroke:#000000; stroke-linecap:round; stroke-linejoin:round; stroke-width:4; stroke-opacity:1; fill:none\" points=\"188.941,607.18 207.838,607.18 \"/>\n",
       "<polyline clip-path=\"url(#clip900)\" style=\"stroke:#000000; stroke-linecap:round; stroke-linejoin:round; stroke-width:4; stroke-opacity:1; fill:none\" points=\"188.941,277.987 207.838,277.987 \"/>\n",
       "<path clip-path=\"url(#clip900)\" d=\"M52.9921 1595.21 L82.6679 1595.21 L82.6679 1599.15 L52.9921 1599.15 L52.9921 1595.21 Z\" fill=\"#000000\" fill-rule=\"nonzero\" fill-opacity=\"1\" /><path clip-path=\"url(#clip900)\" d=\"M102.76 1580.56 Q99.1493 1580.56 97.3206 1584.12 Q95.515 1587.66 95.515 1594.79 Q95.515 1601.9 97.3206 1605.47 Q99.1493 1609.01 102.76 1609.01 Q106.395 1609.01 108.2 1605.47 Q110.029 1601.9 110.029 1594.79 Q110.029 1587.66 108.2 1584.12 Q106.395 1580.56 102.76 1580.56 M102.76 1576.85 Q108.571 1576.85 111.626 1581.46 Q114.705 1586.04 114.705 1594.79 Q114.705 1603.52 111.626 1608.13 Q108.571 1612.71 102.76 1612.71 Q96.9502 1612.71 93.8715 1608.13 Q90.816 1603.52 90.816 1594.79 Q90.816 1586.04 93.8715 1581.46 Q96.9502 1576.85 102.76 1576.85 Z\" fill=\"#000000\" fill-rule=\"nonzero\" fill-opacity=\"1\" /><path clip-path=\"url(#clip900)\" d=\"M122.922 1606.16 L127.807 1606.16 L127.807 1612.04 L122.922 1612.04 L122.922 1606.16 Z\" fill=\"#000000\" fill-rule=\"nonzero\" fill-opacity=\"1\" /><path clip-path=\"url(#clip900)\" d=\"M138.038 1577.48 L156.394 1577.48 L156.394 1581.41 L142.32 1581.41 L142.32 1589.89 Q143.339 1589.54 144.357 1589.38 Q145.376 1589.19 146.394 1589.19 Q152.181 1589.19 155.561 1592.36 Q158.941 1595.53 158.941 1600.95 Q158.941 1606.53 155.468 1609.63 Q151.996 1612.71 145.677 1612.71 Q143.501 1612.71 141.232 1612.34 Q138.987 1611.97 136.58 1611.23 L136.58 1606.53 Q138.663 1607.66 140.885 1608.22 Q143.107 1608.78 145.584 1608.78 Q149.589 1608.78 151.927 1606.67 Q154.265 1604.56 154.265 1600.95 Q154.265 1597.34 151.927 1595.23 Q149.589 1593.13 145.584 1593.13 Q143.709 1593.13 141.834 1593.54 Q139.982 1593.96 138.038 1594.84 L138.038 1577.48 Z\" fill=\"#000000\" fill-rule=\"nonzero\" fill-opacity=\"1\" /><path clip-path=\"url(#clip900)\" d=\"M101.765 1251.36 Q98.1539 1251.36 96.3252 1254.93 Q94.5197 1258.47 94.5197 1265.6 Q94.5197 1272.71 96.3252 1276.27 Q98.1539 1279.81 101.765 1279.81 Q105.399 1279.81 107.205 1276.27 Q109.033 1272.71 109.033 1265.6 Q109.033 1258.47 107.205 1254.93 Q105.399 1251.36 101.765 1251.36 M101.765 1247.66 Q107.575 1247.66 110.631 1252.27 Q113.709 1256.85 113.709 1265.6 Q113.709 1274.33 110.631 1278.93 Q107.575 1283.52 101.765 1283.52 Q95.9549 1283.52 92.8762 1278.93 Q89.8206 1274.33 89.8206 1265.6 Q89.8206 1256.85 92.8762 1252.27 Q95.9549 1247.66 101.765 1247.66 Z\" fill=\"#000000\" fill-rule=\"nonzero\" fill-opacity=\"1\" /><path clip-path=\"url(#clip900)\" d=\"M121.927 1276.97 L126.811 1276.97 L126.811 1282.85 L121.927 1282.85 L121.927 1276.97 Z\" fill=\"#000000\" fill-rule=\"nonzero\" fill-opacity=\"1\" /><path clip-path=\"url(#clip900)\" d=\"M146.996 1251.36 Q143.385 1251.36 141.556 1254.93 Q139.751 1258.47 139.751 1265.6 Q139.751 1272.71 141.556 1276.27 Q143.385 1279.81 146.996 1279.81 Q150.63 1279.81 152.436 1276.27 Q154.265 1272.71 154.265 1265.6 Q154.265 1258.47 152.436 1254.93 Q150.63 1251.36 146.996 1251.36 M146.996 1247.66 Q152.806 1247.66 155.862 1252.27 Q158.941 1256.85 158.941 1265.6 Q158.941 1274.33 155.862 1278.93 Q152.806 1283.52 146.996 1283.52 Q141.186 1283.52 138.107 1278.93 Q135.052 1274.33 135.052 1265.6 Q135.052 1256.85 138.107 1252.27 Q141.186 1247.66 146.996 1247.66 Z\" fill=\"#000000\" fill-rule=\"nonzero\" fill-opacity=\"1\" /><path clip-path=\"url(#clip900)\" d=\"M102.76 922.172 Q99.1493 922.172 97.3206 925.737 Q95.515 929.278 95.515 936.408 Q95.515 943.514 97.3206 947.079 Q99.1493 950.621 102.76 950.621 Q106.395 950.621 108.2 947.079 Q110.029 943.514 110.029 936.408 Q110.029 929.278 108.2 925.737 Q106.395 922.172 102.76 922.172 M102.76 918.468 Q108.571 918.468 111.626 923.075 Q114.705 927.658 114.705 936.408 Q114.705 945.135 111.626 949.741 Q108.571 954.324 102.76 954.324 Q96.9502 954.324 93.8715 949.741 Q90.816 945.135 90.816 936.408 Q90.816 927.658 93.8715 923.075 Q96.9502 918.468 102.76 918.468 Z\" fill=\"#000000\" fill-rule=\"nonzero\" fill-opacity=\"1\" /><path clip-path=\"url(#clip900)\" d=\"M122.922 947.774 L127.807 947.774 L127.807 953.653 L122.922 953.653 L122.922 947.774 Z\" fill=\"#000000\" fill-rule=\"nonzero\" fill-opacity=\"1\" /><path clip-path=\"url(#clip900)\" d=\"M138.038 919.093 L156.394 919.093 L156.394 923.028 L142.32 923.028 L142.32 931.5 Q143.339 931.153 144.357 930.991 Q145.376 930.806 146.394 930.806 Q152.181 930.806 155.561 933.977 Q158.941 937.149 158.941 942.565 Q158.941 948.144 155.468 951.246 Q151.996 954.324 145.677 954.324 Q143.501 954.324 141.232 953.954 Q138.987 953.584 136.58 952.843 L136.58 948.144 Q138.663 949.278 140.885 949.834 Q143.107 950.389 145.584 950.389 Q149.589 950.389 151.927 948.283 Q154.265 946.176 154.265 942.565 Q154.265 938.954 151.927 936.848 Q149.589 934.741 145.584 934.741 Q143.709 934.741 141.834 935.158 Q139.982 935.574 138.038 936.454 L138.038 919.093 Z\" fill=\"#000000\" fill-rule=\"nonzero\" fill-opacity=\"1\" /><path clip-path=\"url(#clip900)\" d=\"M92.5752 620.525 L100.214 620.525 L100.214 594.159 L91.904 595.826 L91.904 591.567 L100.168 589.9 L104.844 589.9 L104.844 620.525 L112.483 620.525 L112.483 624.46 L92.5752 624.46 L92.5752 620.525 Z\" fill=\"#000000\" fill-rule=\"nonzero\" fill-opacity=\"1\" /><path clip-path=\"url(#clip900)\" d=\"M121.927 618.58 L126.811 618.58 L126.811 624.46 L121.927 624.46 L121.927 618.58 Z\" fill=\"#000000\" fill-rule=\"nonzero\" fill-opacity=\"1\" /><path clip-path=\"url(#clip900)\" d=\"M146.996 592.979 Q143.385 592.979 141.556 596.544 Q139.751 600.085 139.751 607.215 Q139.751 614.321 141.556 617.886 Q143.385 621.428 146.996 621.428 Q150.63 621.428 152.436 617.886 Q154.265 614.321 154.265 607.215 Q154.265 600.085 152.436 596.544 Q150.63 592.979 146.996 592.979 M146.996 589.275 Q152.806 589.275 155.862 593.881 Q158.941 598.465 158.941 607.215 Q158.941 615.942 155.862 620.548 Q152.806 625.131 146.996 625.131 Q141.186 625.131 138.107 620.548 Q135.052 615.942 135.052 607.215 Q135.052 598.465 138.107 593.881 Q141.186 589.275 146.996 589.275 Z\" fill=\"#000000\" fill-rule=\"nonzero\" fill-opacity=\"1\" /><path clip-path=\"url(#clip900)\" d=\"M93.5706 291.332 L101.209 291.332 L101.209 264.966 L92.8993 266.633 L92.8993 262.374 L101.163 260.707 L105.839 260.707 L105.839 291.332 L113.478 291.332 L113.478 295.267 L93.5706 295.267 L93.5706 291.332 Z\" fill=\"#000000\" fill-rule=\"nonzero\" fill-opacity=\"1\" /><path clip-path=\"url(#clip900)\" d=\"M122.922 289.387 L127.807 289.387 L127.807 295.267 L122.922 295.267 L122.922 289.387 Z\" fill=\"#000000\" fill-rule=\"nonzero\" fill-opacity=\"1\" /><path clip-path=\"url(#clip900)\" d=\"M138.038 260.707 L156.394 260.707 L156.394 264.642 L142.32 264.642 L142.32 273.114 Q143.339 272.767 144.357 272.605 Q145.376 272.42 146.394 272.42 Q152.181 272.42 155.561 275.591 Q158.941 278.762 158.941 284.179 Q158.941 289.758 155.468 292.86 Q151.996 295.938 145.677 295.938 Q143.501 295.938 141.232 295.568 Q138.987 295.198 136.58 294.457 L136.58 289.758 Q138.663 290.892 140.885 291.448 Q143.107 292.003 145.584 292.003 Q149.589 292.003 151.927 289.897 Q154.265 287.79 154.265 284.179 Q154.265 280.568 151.927 278.461 Q149.589 276.355 145.584 276.355 Q143.709 276.355 141.834 276.772 Q139.982 277.188 138.038 278.068 L138.038 260.707 Z\" fill=\"#000000\" fill-rule=\"nonzero\" fill-opacity=\"1\" /><circle clip-path=\"url(#clip902)\" cx=\"1139.33\" cy=\"1072.46\" r=\"14.4\" fill=\"#ff0000\" fill-rule=\"evenodd\" fill-opacity=\"1\" stroke=\"#000000\" stroke-opacity=\"1\" stroke-width=\"4\"/>\n",
       "<circle clip-path=\"url(#clip902)\" cx=\"1359.2\" cy=\"705.63\" r=\"14.4\" fill=\"#ff0000\" fill-rule=\"evenodd\" fill-opacity=\"1\" stroke=\"#000000\" stroke-opacity=\"1\" stroke-width=\"4\"/>\n",
       "<circle clip-path=\"url(#clip902)\" cx=\"1321.37\" cy=\"1206.78\" r=\"14.4\" fill=\"#ff0000\" fill-rule=\"evenodd\" fill-opacity=\"1\" stroke=\"#000000\" stroke-opacity=\"1\" stroke-width=\"4\"/>\n",
       "<circle clip-path=\"url(#clip902)\" cx=\"1346.79\" cy=\"1100.26\" r=\"14.4\" fill=\"#ff0000\" fill-rule=\"evenodd\" fill-opacity=\"1\" stroke=\"#000000\" stroke-opacity=\"1\" stroke-width=\"4\"/>\n",
       "<circle clip-path=\"url(#clip902)\" cx=\"1029.85\" cy=\"795.991\" r=\"14.4\" fill=\"#0000ff\" fill-rule=\"evenodd\" fill-opacity=\"1\" stroke=\"#000000\" stroke-opacity=\"1\" stroke-width=\"4\"/>\n",
       "<circle clip-path=\"url(#clip902)\" cx=\"1217.36\" cy=\"895.194\" r=\"14.4\" fill=\"#0000ff\" fill-rule=\"evenodd\" fill-opacity=\"1\" stroke=\"#000000\" stroke-opacity=\"1\" stroke-width=\"4\"/>\n",
       "<circle clip-path=\"url(#clip902)\" cx=\"782.494\" cy=\"837.582\" r=\"14.4\" fill=\"#0000ff\" fill-rule=\"evenodd\" fill-opacity=\"1\" stroke=\"#000000\" stroke-opacity=\"1\" stroke-width=\"4\"/>\n",
       "<circle clip-path=\"url(#clip902)\" cx=\"1326.9\" cy=\"947.619\" r=\"14.4\" fill=\"#0000ff\" fill-rule=\"evenodd\" fill-opacity=\"1\" stroke=\"#000000\" stroke-opacity=\"1\" stroke-width=\"4\"/>\n",
       "<polyline clip-path=\"url(#clip902)\" style=\"stroke:#808080; stroke-linecap:round; stroke-linejoin:round; stroke-width:4; stroke-opacity:0.4; fill:none\" points=\"708.47,3683.09 708.47,-1770.68 \"/>\n",
       "<polyline clip-path=\"url(#clip902)\" style=\"stroke:#808080; stroke-linecap:round; stroke-linejoin:round; stroke-width:4; stroke-opacity:0.4; fill:none\" points=\"906.17,3683.09 906.17,-1770.68 \"/>\n",
       "<polyline clip-path=\"url(#clip902)\" style=\"stroke:#808080; stroke-linecap:round; stroke-linejoin:round; stroke-width:4; stroke-opacity:0.4; fill:none\" points=\"1084.59,3683.09 1084.59,-1770.68 \"/>\n",
       "<polyline clip-path=\"url(#clip902)\" style=\"stroke:#808080; stroke-linecap:round; stroke-linejoin:round; stroke-width:4; stroke-opacity:0.4; fill:none\" points=\"1178.35,3683.09 1178.35,-1770.68 \"/>\n",
       "<polyline clip-path=\"url(#clip902)\" style=\"stroke:#808080; stroke-linecap:round; stroke-linejoin:round; stroke-width:4; stroke-opacity:0.4; fill:none\" points=\"1269.37,3683.09 1269.37,-1770.68 \"/>\n",
       "<polyline clip-path=\"url(#clip902)\" style=\"stroke:#808080; stroke-linecap:round; stroke-linejoin:round; stroke-width:4; stroke-opacity:0.4; fill:none\" points=\"1324.14,3683.09 1324.14,-1770.68 \"/>\n",
       "<polyline clip-path=\"url(#clip902)\" style=\"stroke:#808080; stroke-linecap:round; stroke-linejoin:round; stroke-width:4; stroke-opacity:0.4; fill:none\" points=\"1336.85,3683.09 1336.85,-1770.68 \"/>\n",
       "<polyline clip-path=\"url(#clip902)\" style=\"stroke:#808080; stroke-linecap:round; stroke-linejoin:round; stroke-width:4; stroke-opacity:0.4; fill:none\" points=\"1353,3683.09 1353,-1770.68 \"/>\n",
       "<polyline clip-path=\"url(#clip902)\" style=\"stroke:#808080; stroke-linecap:round; stroke-linejoin:round; stroke-width:4; stroke-opacity:0.4; fill:none\" points=\"1433.23,3683.09 1433.23,-1770.68 \"/>\n",
       "<polyline clip-path=\"url(#clip902)\" style=\"stroke:#808080; stroke-linecap:round; stroke-linejoin:round; stroke-width:4; stroke-opacity:0.4; fill:none\" points=\"-1574.87,1284.12 3716.57,1284.12 \"/>\n",
       "<polyline clip-path=\"url(#clip902)\" style=\"stroke:#808080; stroke-linecap:round; stroke-linejoin:round; stroke-width:4; stroke-opacity:0.4; fill:none\" points=\"-1574.87,1153.52 3716.57,1153.52 \"/>\n",
       "<polyline clip-path=\"url(#clip902)\" style=\"stroke:#808080; stroke-linecap:round; stroke-linejoin:round; stroke-width:4; stroke-opacity:0.4; fill:none\" points=\"-1574.87,1086.36 3716.57,1086.36 \"/>\n",
       "<polyline clip-path=\"url(#clip902)\" style=\"stroke:#808080; stroke-linecap:round; stroke-linejoin:round; stroke-width:4; stroke-opacity:0.4; fill:none\" points=\"-1574.87,1010.04 3716.57,1010.04 \"/>\n",
       "<polyline clip-path=\"url(#clip902)\" style=\"stroke:#808080; stroke-linecap:round; stroke-linejoin:round; stroke-width:4; stroke-opacity:0.4; fill:none\" points=\"-1574.87,921.406 3716.57,921.406 \"/>\n",
       "<polyline clip-path=\"url(#clip902)\" style=\"stroke:#808080; stroke-linecap:round; stroke-linejoin:round; stroke-width:4; stroke-opacity:0.4; fill:none\" points=\"-1574.87,866.388 3716.57,866.388 \"/>\n",
       "<polyline clip-path=\"url(#clip902)\" style=\"stroke:#808080; stroke-linecap:round; stroke-linejoin:round; stroke-width:4; stroke-opacity:0.4; fill:none\" points=\"-1574.87,816.787 3716.57,816.787 \"/>\n",
       "<polyline clip-path=\"url(#clip902)\" style=\"stroke:#808080; stroke-linecap:round; stroke-linejoin:round; stroke-width:4; stroke-opacity:0.4; fill:none\" points=\"-1574.87,750.811 3716.57,750.811 \"/>\n",
       "<polyline clip-path=\"url(#clip902)\" style=\"stroke:#808080; stroke-linecap:round; stroke-linejoin:round; stroke-width:4; stroke-opacity:0.4; fill:none\" points=\"-1574.87,628.29 3716.57,628.29 \"/>\n",
       "</svg>\n"
      ]
     },
     "execution_count": 38,
     "metadata": {},
     "output_type": "execute_result"
    }
   ],
   "source": [
    "function midpoints(sorted)\n",
    "    n = length(sorted)\n",
    "    midpoints = zeros(n + 1)\n",
    "    Δ = (sorted[1] + sorted[n])/n\n",
    "    midpoints[1] = sorted[1] - Δ\n",
    "    midpoints[n+1] = sorted[n] + Δ\n",
    "    midpoints[2:n] = 0.5(sorted[2:n] + sorted[1:n-1])\n",
    "    return midpoints\n",
    "end"
   ]
  },
  {
   "cell_type": "code",
   "execution_count": 46,
   "id": "49c109ce-8a76-430a-99e5-6c03117b2f48",
   "metadata": {
    "tags": []
   },
   "outputs": [
    {
     "data": {
      "image/svg+xml": [
       "<?xml version=\"1.0\" encoding=\"utf-8\"?>\n",
       "<svg xmlns=\"http://www.w3.org/2000/svg\" xmlns:xlink=\"http://www.w3.org/1999/xlink\" width=\"500\" height=\"500\" viewBox=\"0 0 2000 2000\">\n",
       "<defs>\n",
       "  <clipPath id=\"clip220\">\n",
       "    <rect x=\"0\" y=\"0\" width=\"2000\" height=\"2000\"/>\n",
       "  </clipPath>\n",
       "</defs>\n",
       "<path clip-path=\"url(#clip220)\" d=\"M0 2000 L2000 2000 L2000 0 L0 0  Z\" fill=\"#ffffff\" fill-rule=\"evenodd\" fill-opacity=\"1\"/>\n",
       "<defs>\n",
       "  <clipPath id=\"clip221\">\n",
       "    <rect x=\"400\" y=\"200\" width=\"1401\" height=\"1401\"/>\n",
       "  </clipPath>\n",
       "</defs>\n",
       "<path clip-path=\"url(#clip220)\" d=\"M188.941 1865.17 L1952.76 1865.17 L1952.76 47.2441 L188.941 47.2441  Z\" fill=\"#ffffff\" fill-rule=\"evenodd\" fill-opacity=\"1\"/>\n",
       "<defs>\n",
       "  <clipPath id=\"clip222\">\n",
       "    <rect x=\"188\" y=\"47\" width=\"1765\" height=\"1819\"/>\n",
       "  </clipPath>\n",
       "</defs>\n",
       "<polyline clip-path=\"url(#clip222)\" style=\"stroke:#000000; stroke-linecap:round; stroke-linejoin:round; stroke-width:0; stroke-opacity:0.1; fill:none\" points=\"479.766,1865.17 479.766,47.2441 \"/>\n",
       "<polyline clip-path=\"url(#clip222)\" style=\"stroke:#000000; stroke-linecap:round; stroke-linejoin:round; stroke-width:0; stroke-opacity:0.1; fill:none\" points=\"778.928,1865.17 778.928,47.2441 \"/>\n",
       "<polyline clip-path=\"url(#clip222)\" style=\"stroke:#000000; stroke-linecap:round; stroke-linejoin:round; stroke-width:0; stroke-opacity:0.1; fill:none\" points=\"1078.09,1865.17 1078.09,47.2441 \"/>\n",
       "<polyline clip-path=\"url(#clip222)\" style=\"stroke:#000000; stroke-linecap:round; stroke-linejoin:round; stroke-width:0; stroke-opacity:0.1; fill:none\" points=\"1377.25,1865.17 1377.25,47.2441 \"/>\n",
       "<polyline clip-path=\"url(#clip222)\" style=\"stroke:#000000; stroke-linecap:round; stroke-linejoin:round; stroke-width:0; stroke-opacity:0.1; fill:none\" points=\"1676.41,1865.17 1676.41,47.2441 \"/>\n",
       "<polyline clip-path=\"url(#clip220)\" style=\"stroke:#000000; stroke-linecap:round; stroke-linejoin:round; stroke-width:4; stroke-opacity:1; fill:none\" points=\"188.941,1865.17 1952.76,1865.17 \"/>\n",
       "<polyline clip-path=\"url(#clip220)\" style=\"stroke:#000000; stroke-linecap:round; stroke-linejoin:round; stroke-width:4; stroke-opacity:1; fill:none\" points=\"188.941,47.2441 1952.76,47.2441 \"/>\n",
       "<polyline clip-path=\"url(#clip220)\" style=\"stroke:#000000; stroke-linecap:round; stroke-linejoin:round; stroke-width:4; stroke-opacity:1; fill:none\" points=\"479.766,1865.17 479.766,1846.27 \"/>\n",
       "<polyline clip-path=\"url(#clip220)\" style=\"stroke:#000000; stroke-linecap:round; stroke-linejoin:round; stroke-width:4; stroke-opacity:1; fill:none\" points=\"778.928,1865.17 778.928,1846.27 \"/>\n",
       "<polyline clip-path=\"url(#clip220)\" style=\"stroke:#000000; stroke-linecap:round; stroke-linejoin:round; stroke-width:4; stroke-opacity:1; fill:none\" points=\"1078.09,1865.17 1078.09,1846.27 \"/>\n",
       "<polyline clip-path=\"url(#clip220)\" style=\"stroke:#000000; stroke-linecap:round; stroke-linejoin:round; stroke-width:4; stroke-opacity:1; fill:none\" points=\"1377.25,1865.17 1377.25,1846.27 \"/>\n",
       "<polyline clip-path=\"url(#clip220)\" style=\"stroke:#000000; stroke-linecap:round; stroke-linejoin:round; stroke-width:4; stroke-opacity:1; fill:none\" points=\"1676.41,1865.17 1676.41,1846.27 \"/>\n",
       "<path clip-path=\"url(#clip220)\" d=\"M426.791 1907.54 L456.467 1907.54 L456.467 1911.47 L426.791 1911.47 L426.791 1907.54 Z\" fill=\"#000000\" fill-rule=\"nonzero\" fill-opacity=\"1\" /><path clip-path=\"url(#clip220)\" d=\"M476.56 1892.89 Q472.948 1892.89 471.12 1896.45 Q469.314 1899.99 469.314 1907.12 Q469.314 1914.23 471.12 1917.79 Q472.948 1921.34 476.56 1921.34 Q480.194 1921.34 481.999 1917.79 Q483.828 1914.23 483.828 1907.12 Q483.828 1899.99 481.999 1896.45 Q480.194 1892.89 476.56 1892.89 M476.56 1889.18 Q482.37 1889.18 485.425 1893.79 Q488.504 1898.37 488.504 1907.12 Q488.504 1915.85 485.425 1920.46 Q482.37 1925.04 476.56 1925.04 Q470.749 1925.04 467.671 1920.46 Q464.615 1915.85 464.615 1907.12 Q464.615 1898.37 467.671 1893.79 Q470.749 1889.18 476.56 1889.18 Z\" fill=\"#000000\" fill-rule=\"nonzero\" fill-opacity=\"1\" /><path clip-path=\"url(#clip220)\" d=\"M496.722 1918.49 L501.606 1918.49 L501.606 1924.37 L496.722 1924.37 L496.722 1918.49 Z\" fill=\"#000000\" fill-rule=\"nonzero\" fill-opacity=\"1\" /><path clip-path=\"url(#clip220)\" d=\"M511.837 1889.81 L530.194 1889.81 L530.194 1893.74 L516.12 1893.74 L516.12 1902.22 Q517.138 1901.87 518.157 1901.71 Q519.175 1901.52 520.194 1901.52 Q525.981 1901.52 529.36 1904.69 Q532.74 1907.86 532.74 1913.28 Q532.74 1918.86 529.268 1921.96 Q525.795 1925.04 519.476 1925.04 Q517.3 1925.04 515.032 1924.67 Q512.786 1924.3 510.379 1923.56 L510.379 1918.86 Q512.462 1919.99 514.684 1920.55 Q516.907 1921.1 519.383 1921.1 Q523.388 1921.1 525.726 1919 Q528.064 1916.89 528.064 1913.28 Q528.064 1909.67 525.726 1907.56 Q523.388 1905.46 519.383 1905.46 Q517.508 1905.46 515.633 1905.87 Q513.782 1906.29 511.837 1907.17 L511.837 1889.81 Z\" fill=\"#000000\" fill-rule=\"nonzero\" fill-opacity=\"1\" /><path clip-path=\"url(#clip220)\" d=\"M756.312 1892.89 Q752.701 1892.89 750.873 1896.45 Q749.067 1899.99 749.067 1907.12 Q749.067 1914.23 750.873 1917.79 Q752.701 1921.34 756.312 1921.34 Q759.947 1921.34 761.752 1917.79 Q763.581 1914.23 763.581 1907.12 Q763.581 1899.99 761.752 1896.45 Q759.947 1892.89 756.312 1892.89 M756.312 1889.18 Q762.122 1889.18 765.178 1893.79 Q768.257 1898.37 768.257 1907.12 Q768.257 1915.85 765.178 1920.46 Q762.122 1925.04 756.312 1925.04 Q750.502 1925.04 747.423 1920.46 Q744.368 1915.85 744.368 1907.12 Q744.368 1898.37 747.423 1893.79 Q750.502 1889.18 756.312 1889.18 Z\" fill=\"#000000\" fill-rule=\"nonzero\" fill-opacity=\"1\" /><path clip-path=\"url(#clip220)\" d=\"M776.474 1918.49 L781.358 1918.49 L781.358 1924.37 L776.474 1924.37 L776.474 1918.49 Z\" fill=\"#000000\" fill-rule=\"nonzero\" fill-opacity=\"1\" /><path clip-path=\"url(#clip220)\" d=\"M801.544 1892.89 Q797.932 1892.89 796.104 1896.45 Q794.298 1899.99 794.298 1907.12 Q794.298 1914.23 796.104 1917.79 Q797.932 1921.34 801.544 1921.34 Q805.178 1921.34 806.983 1917.79 Q808.812 1914.23 808.812 1907.12 Q808.812 1899.99 806.983 1896.45 Q805.178 1892.89 801.544 1892.89 M801.544 1889.18 Q807.354 1889.18 810.409 1893.79 Q813.488 1898.37 813.488 1907.12 Q813.488 1915.85 810.409 1920.46 Q807.354 1925.04 801.544 1925.04 Q795.733 1925.04 792.655 1920.46 Q789.599 1915.85 789.599 1907.12 Q789.599 1898.37 792.655 1893.79 Q795.733 1889.18 801.544 1889.18 Z\" fill=\"#000000\" fill-rule=\"nonzero\" fill-opacity=\"1\" /><path clip-path=\"url(#clip220)\" d=\"M1055.97 1892.89 Q1052.36 1892.89 1050.53 1896.45 Q1048.73 1899.99 1048.73 1907.12 Q1048.73 1914.23 1050.53 1917.79 Q1052.36 1921.34 1055.97 1921.34 Q1059.61 1921.34 1061.41 1917.79 Q1063.24 1914.23 1063.24 1907.12 Q1063.24 1899.99 1061.41 1896.45 Q1059.61 1892.89 1055.97 1892.89 M1055.97 1889.18 Q1061.78 1889.18 1064.84 1893.79 Q1067.92 1898.37 1067.92 1907.12 Q1067.92 1915.85 1064.84 1920.46 Q1061.78 1925.04 1055.97 1925.04 Q1050.16 1925.04 1047.08 1920.46 Q1044.03 1915.85 1044.03 1907.12 Q1044.03 1898.37 1047.08 1893.79 Q1050.16 1889.18 1055.97 1889.18 Z\" fill=\"#000000\" fill-rule=\"nonzero\" fill-opacity=\"1\" /><path clip-path=\"url(#clip220)\" d=\"M1076.13 1918.49 L1081.02 1918.49 L1081.02 1924.37 L1076.13 1924.37 L1076.13 1918.49 Z\" fill=\"#000000\" fill-rule=\"nonzero\" fill-opacity=\"1\" /><path clip-path=\"url(#clip220)\" d=\"M1091.25 1889.81 L1109.61 1889.81 L1109.61 1893.74 L1095.53 1893.74 L1095.53 1902.22 Q1096.55 1901.87 1097.57 1901.71 Q1098.59 1901.52 1099.61 1901.52 Q1105.39 1901.52 1108.77 1904.69 Q1112.15 1907.86 1112.15 1913.28 Q1112.15 1918.86 1108.68 1921.96 Q1105.21 1925.04 1098.89 1925.04 Q1096.71 1925.04 1094.44 1924.67 Q1092.2 1924.3 1089.79 1923.56 L1089.79 1918.86 Q1091.87 1919.99 1094.1 1920.55 Q1096.32 1921.1 1098.8 1921.1 Q1102.8 1921.1 1105.14 1919 Q1107.48 1916.89 1107.48 1913.28 Q1107.48 1909.67 1105.14 1907.56 Q1102.8 1905.46 1098.8 1905.46 Q1096.92 1905.46 1095.05 1905.87 Q1093.19 1906.29 1091.25 1907.17 L1091.25 1889.81 Z\" fill=\"#000000\" fill-rule=\"nonzero\" fill-opacity=\"1\" /><path clip-path=\"url(#clip220)\" d=\"M1344.41 1920.43 L1352.04 1920.43 L1352.04 1894.07 L1343.73 1895.73 L1343.73 1891.47 L1352 1889.81 L1356.67 1889.81 L1356.67 1920.43 L1364.31 1920.43 L1364.31 1924.37 L1344.41 1924.37 L1344.41 1920.43 Z\" fill=\"#000000\" fill-rule=\"nonzero\" fill-opacity=\"1\" /><path clip-path=\"url(#clip220)\" d=\"M1373.76 1918.49 L1378.64 1918.49 L1378.64 1924.37 L1373.76 1924.37 L1373.76 1918.49 Z\" fill=\"#000000\" fill-rule=\"nonzero\" fill-opacity=\"1\" /><path clip-path=\"url(#clip220)\" d=\"M1398.83 1892.89 Q1395.22 1892.89 1393.39 1896.45 Q1391.58 1899.99 1391.58 1907.12 Q1391.58 1914.23 1393.39 1917.79 Q1395.22 1921.34 1398.83 1921.34 Q1402.46 1921.34 1404.27 1917.79 Q1406.09 1914.23 1406.09 1907.12 Q1406.09 1899.99 1404.27 1896.45 Q1402.46 1892.89 1398.83 1892.89 M1398.83 1889.18 Q1404.64 1889.18 1407.69 1893.79 Q1410.77 1898.37 1410.77 1907.12 Q1410.77 1915.85 1407.69 1920.46 Q1404.64 1925.04 1398.83 1925.04 Q1393.02 1925.04 1389.94 1920.46 Q1386.88 1915.85 1386.88 1907.12 Q1386.88 1898.37 1389.94 1893.79 Q1393.02 1889.18 1398.83 1889.18 Z\" fill=\"#000000\" fill-rule=\"nonzero\" fill-opacity=\"1\" /><path clip-path=\"url(#clip220)\" d=\"M1644.07 1920.43 L1651.7 1920.43 L1651.7 1894.07 L1643.39 1895.73 L1643.39 1891.47 L1651.66 1889.81 L1656.33 1889.81 L1656.33 1920.43 L1663.97 1920.43 L1663.97 1924.37 L1644.07 1924.37 L1644.07 1920.43 Z\" fill=\"#000000\" fill-rule=\"nonzero\" fill-opacity=\"1\" /><path clip-path=\"url(#clip220)\" d=\"M1673.42 1918.49 L1678.3 1918.49 L1678.3 1924.37 L1673.42 1924.37 L1673.42 1918.49 Z\" fill=\"#000000\" fill-rule=\"nonzero\" fill-opacity=\"1\" /><path clip-path=\"url(#clip220)\" d=\"M1688.53 1889.81 L1706.89 1889.81 L1706.89 1893.74 L1692.82 1893.74 L1692.82 1902.22 Q1693.83 1901.87 1694.85 1901.71 Q1695.87 1901.52 1696.89 1901.52 Q1702.68 1901.52 1706.06 1904.69 Q1709.44 1907.86 1709.44 1913.28 Q1709.44 1918.86 1705.96 1921.96 Q1702.49 1925.04 1696.17 1925.04 Q1694 1925.04 1691.73 1924.67 Q1689.48 1924.3 1687.07 1923.56 L1687.07 1918.86 Q1689.16 1919.99 1691.38 1920.55 Q1693.6 1921.1 1696.08 1921.1 Q1700.08 1921.1 1702.42 1919 Q1704.76 1916.89 1704.76 1913.28 Q1704.76 1909.67 1702.42 1907.56 Q1700.08 1905.46 1696.08 1905.46 Q1694.2 1905.46 1692.33 1905.87 Q1690.48 1906.29 1688.53 1907.17 L1688.53 1889.81 Z\" fill=\"#000000\" fill-rule=\"nonzero\" fill-opacity=\"1\" /><polyline clip-path=\"url(#clip222)\" style=\"stroke:#000000; stroke-linecap:round; stroke-linejoin:round; stroke-width:0; stroke-opacity:0.1; fill:none\" points=\"188.941,1698.98 1952.76,1698.98 \"/>\n",
       "<polyline clip-path=\"url(#clip222)\" style=\"stroke:#000000; stroke-linecap:round; stroke-linejoin:round; stroke-width:0; stroke-opacity:0.1; fill:none\" points=\"188.941,1363.94 1952.76,1363.94 \"/>\n",
       "<polyline clip-path=\"url(#clip222)\" style=\"stroke:#000000; stroke-linecap:round; stroke-linejoin:round; stroke-width:0; stroke-opacity:0.1; fill:none\" points=\"188.941,1028.9 1952.76,1028.9 \"/>\n",
       "<polyline clip-path=\"url(#clip222)\" style=\"stroke:#000000; stroke-linecap:round; stroke-linejoin:round; stroke-width:0; stroke-opacity:0.1; fill:none\" points=\"188.941,693.863 1952.76,693.863 \"/>\n",
       "<polyline clip-path=\"url(#clip222)\" style=\"stroke:#000000; stroke-linecap:round; stroke-linejoin:round; stroke-width:0; stroke-opacity:0.1; fill:none\" points=\"188.941,358.823 1952.76,358.823 \"/>\n",
       "<polyline clip-path=\"url(#clip220)\" style=\"stroke:#000000; stroke-linecap:round; stroke-linejoin:round; stroke-width:4; stroke-opacity:1; fill:none\" points=\"188.941,1865.17 188.941,47.2441 \"/>\n",
       "<polyline clip-path=\"url(#clip220)\" style=\"stroke:#000000; stroke-linecap:round; stroke-linejoin:round; stroke-width:4; stroke-opacity:1; fill:none\" points=\"1952.76,1865.17 1952.76,47.2441 \"/>\n",
       "<polyline clip-path=\"url(#clip220)\" style=\"stroke:#000000; stroke-linecap:round; stroke-linejoin:round; stroke-width:4; stroke-opacity:1; fill:none\" points=\"188.941,1698.98 207.838,1698.98 \"/>\n",
       "<polyline clip-path=\"url(#clip220)\" style=\"stroke:#000000; stroke-linecap:round; stroke-linejoin:round; stroke-width:4; stroke-opacity:1; fill:none\" points=\"188.941,1363.94 207.838,1363.94 \"/>\n",
       "<polyline clip-path=\"url(#clip220)\" style=\"stroke:#000000; stroke-linecap:round; stroke-linejoin:round; stroke-width:4; stroke-opacity:1; fill:none\" points=\"188.941,1028.9 207.838,1028.9 \"/>\n",
       "<polyline clip-path=\"url(#clip220)\" style=\"stroke:#000000; stroke-linecap:round; stroke-linejoin:round; stroke-width:4; stroke-opacity:1; fill:none\" points=\"188.941,693.863 207.838,693.863 \"/>\n",
       "<polyline clip-path=\"url(#clip220)\" style=\"stroke:#000000; stroke-linecap:round; stroke-linejoin:round; stroke-width:4; stroke-opacity:1; fill:none\" points=\"188.941,358.823 207.838,358.823 \"/>\n",
       "<path clip-path=\"url(#clip220)\" d=\"M52.9921 1699.43 L82.6679 1699.43 L82.6679 1703.37 L52.9921 1703.37 L52.9921 1699.43 Z\" fill=\"#000000\" fill-rule=\"nonzero\" fill-opacity=\"1\" /><path clip-path=\"url(#clip220)\" d=\"M102.76 1684.78 Q99.1493 1684.78 97.3206 1688.35 Q95.515 1691.89 95.515 1699.02 Q95.515 1706.12 97.3206 1709.69 Q99.1493 1713.23 102.76 1713.23 Q106.395 1713.23 108.2 1709.69 Q110.029 1706.12 110.029 1699.02 Q110.029 1691.89 108.2 1688.35 Q106.395 1684.78 102.76 1684.78 M102.76 1681.08 Q108.571 1681.08 111.626 1685.68 Q114.705 1690.27 114.705 1699.02 Q114.705 1707.74 111.626 1712.35 Q108.571 1716.93 102.76 1716.93 Q96.9502 1716.93 93.8715 1712.35 Q90.816 1707.74 90.816 1699.02 Q90.816 1690.27 93.8715 1685.68 Q96.9502 1681.08 102.76 1681.08 Z\" fill=\"#000000\" fill-rule=\"nonzero\" fill-opacity=\"1\" /><path clip-path=\"url(#clip220)\" d=\"M122.922 1710.38 L127.807 1710.38 L127.807 1716.26 L122.922 1716.26 L122.922 1710.38 Z\" fill=\"#000000\" fill-rule=\"nonzero\" fill-opacity=\"1\" /><path clip-path=\"url(#clip220)\" d=\"M138.038 1681.7 L156.394 1681.7 L156.394 1685.64 L142.32 1685.64 L142.32 1694.11 Q143.339 1693.76 144.357 1693.6 Q145.376 1693.42 146.394 1693.42 Q152.181 1693.42 155.561 1696.59 Q158.941 1699.76 158.941 1705.17 Q158.941 1710.75 155.468 1713.86 Q151.996 1716.93 145.677 1716.93 Q143.501 1716.93 141.232 1716.56 Q138.987 1716.19 136.58 1715.45 L136.58 1710.75 Q138.663 1711.89 140.885 1712.44 Q143.107 1713 145.584 1713 Q149.589 1713 151.927 1710.89 Q154.265 1708.79 154.265 1705.17 Q154.265 1701.56 151.927 1699.46 Q149.589 1697.35 145.584 1697.35 Q143.709 1697.35 141.834 1697.77 Q139.982 1698.18 138.038 1699.06 L138.038 1681.7 Z\" fill=\"#000000\" fill-rule=\"nonzero\" fill-opacity=\"1\" /><path clip-path=\"url(#clip220)\" d=\"M101.765 1349.74 Q98.1539 1349.74 96.3252 1353.31 Q94.5197 1356.85 94.5197 1363.98 Q94.5197 1371.08 96.3252 1374.65 Q98.1539 1378.19 101.765 1378.19 Q105.399 1378.19 107.205 1374.65 Q109.033 1371.08 109.033 1363.98 Q109.033 1356.85 107.205 1353.31 Q105.399 1349.74 101.765 1349.74 M101.765 1346.04 Q107.575 1346.04 110.631 1350.64 Q113.709 1355.23 113.709 1363.98 Q113.709 1372.7 110.631 1377.31 Q107.575 1381.89 101.765 1381.89 Q95.9549 1381.89 92.8762 1377.31 Q89.8206 1372.7 89.8206 1363.98 Q89.8206 1355.23 92.8762 1350.64 Q95.9549 1346.04 101.765 1346.04 Z\" fill=\"#000000\" fill-rule=\"nonzero\" fill-opacity=\"1\" /><path clip-path=\"url(#clip220)\" d=\"M121.927 1375.34 L126.811 1375.34 L126.811 1381.22 L121.927 1381.22 L121.927 1375.34 Z\" fill=\"#000000\" fill-rule=\"nonzero\" fill-opacity=\"1\" /><path clip-path=\"url(#clip220)\" d=\"M146.996 1349.74 Q143.385 1349.74 141.556 1353.31 Q139.751 1356.85 139.751 1363.98 Q139.751 1371.08 141.556 1374.65 Q143.385 1378.19 146.996 1378.19 Q150.63 1378.19 152.436 1374.65 Q154.265 1371.08 154.265 1363.98 Q154.265 1356.85 152.436 1353.31 Q150.63 1349.74 146.996 1349.74 M146.996 1346.04 Q152.806 1346.04 155.862 1350.64 Q158.941 1355.23 158.941 1363.98 Q158.941 1372.7 155.862 1377.31 Q152.806 1381.89 146.996 1381.89 Q141.186 1381.89 138.107 1377.31 Q135.052 1372.7 135.052 1363.98 Q135.052 1355.23 138.107 1350.64 Q141.186 1346.04 146.996 1346.04 Z\" fill=\"#000000\" fill-rule=\"nonzero\" fill-opacity=\"1\" /><path clip-path=\"url(#clip220)\" d=\"M102.76 1014.7 Q99.1493 1014.7 97.3206 1018.27 Q95.515 1021.81 95.515 1028.94 Q95.515 1036.04 97.3206 1039.61 Q99.1493 1043.15 102.76 1043.15 Q106.395 1043.15 108.2 1039.61 Q110.029 1036.04 110.029 1028.94 Q110.029 1021.81 108.2 1018.27 Q106.395 1014.7 102.76 1014.7 M102.76 1011 Q108.571 1011 111.626 1015.6 Q114.705 1020.19 114.705 1028.94 Q114.705 1037.66 111.626 1042.27 Q108.571 1046.85 102.76 1046.85 Q96.9502 1046.85 93.8715 1042.27 Q90.816 1037.66 90.816 1028.94 Q90.816 1020.19 93.8715 1015.6 Q96.9502 1011 102.76 1011 Z\" fill=\"#000000\" fill-rule=\"nonzero\" fill-opacity=\"1\" /><path clip-path=\"url(#clip220)\" d=\"M122.922 1040.3 L127.807 1040.3 L127.807 1046.18 L122.922 1046.18 L122.922 1040.3 Z\" fill=\"#000000\" fill-rule=\"nonzero\" fill-opacity=\"1\" /><path clip-path=\"url(#clip220)\" d=\"M138.038 1011.62 L156.394 1011.62 L156.394 1015.56 L142.32 1015.56 L142.32 1024.03 Q143.339 1023.68 144.357 1023.52 Q145.376 1023.34 146.394 1023.34 Q152.181 1023.34 155.561 1026.51 Q158.941 1029.68 158.941 1035.09 Q158.941 1040.67 155.468 1043.78 Q151.996 1046.85 145.677 1046.85 Q143.501 1046.85 141.232 1046.48 Q138.987 1046.11 136.58 1045.37 L136.58 1040.67 Q138.663 1041.81 140.885 1042.36 Q143.107 1042.92 145.584 1042.92 Q149.589 1042.92 151.927 1040.81 Q154.265 1038.71 154.265 1035.09 Q154.265 1031.48 151.927 1029.38 Q149.589 1027.27 145.584 1027.27 Q143.709 1027.27 141.834 1027.69 Q139.982 1028.1 138.038 1028.98 L138.038 1011.62 Z\" fill=\"#000000\" fill-rule=\"nonzero\" fill-opacity=\"1\" /><path clip-path=\"url(#clip220)\" d=\"M92.5752 707.208 L100.214 707.208 L100.214 680.842 L91.904 682.509 L91.904 678.25 L100.168 676.583 L104.844 676.583 L104.844 707.208 L112.483 707.208 L112.483 711.143 L92.5752 711.143 L92.5752 707.208 Z\" fill=\"#000000\" fill-rule=\"nonzero\" fill-opacity=\"1\" /><path clip-path=\"url(#clip220)\" d=\"M121.927 705.263 L126.811 705.263 L126.811 711.143 L121.927 711.143 L121.927 705.263 Z\" fill=\"#000000\" fill-rule=\"nonzero\" fill-opacity=\"1\" /><path clip-path=\"url(#clip220)\" d=\"M146.996 679.662 Q143.385 679.662 141.556 683.226 Q139.751 686.768 139.751 693.898 Q139.751 701.004 141.556 704.569 Q143.385 708.111 146.996 708.111 Q150.63 708.111 152.436 704.569 Q154.265 701.004 154.265 693.898 Q154.265 686.768 152.436 683.226 Q150.63 679.662 146.996 679.662 M146.996 675.958 Q152.806 675.958 155.862 680.564 Q158.941 685.148 158.941 693.898 Q158.941 702.624 155.862 707.231 Q152.806 711.814 146.996 711.814 Q141.186 711.814 138.107 707.231 Q135.052 702.624 135.052 693.898 Q135.052 685.148 138.107 680.564 Q141.186 675.958 146.996 675.958 Z\" fill=\"#000000\" fill-rule=\"nonzero\" fill-opacity=\"1\" /><path clip-path=\"url(#clip220)\" d=\"M93.5706 372.168 L101.209 372.168 L101.209 345.802 L92.8993 347.469 L92.8993 343.21 L101.163 341.543 L105.839 341.543 L105.839 372.168 L113.478 372.168 L113.478 376.103 L93.5706 376.103 L93.5706 372.168 Z\" fill=\"#000000\" fill-rule=\"nonzero\" fill-opacity=\"1\" /><path clip-path=\"url(#clip220)\" d=\"M122.922 370.223 L127.807 370.223 L127.807 376.103 L122.922 376.103 L122.922 370.223 Z\" fill=\"#000000\" fill-rule=\"nonzero\" fill-opacity=\"1\" /><path clip-path=\"url(#clip220)\" d=\"M138.038 341.543 L156.394 341.543 L156.394 345.478 L142.32 345.478 L142.32 353.95 Q143.339 353.603 144.357 353.441 Q145.376 353.256 146.394 353.256 Q152.181 353.256 155.561 356.427 Q158.941 359.598 158.941 365.015 Q158.941 370.594 155.468 373.696 Q151.996 376.774 145.677 376.774 Q143.501 376.774 141.232 376.404 Q138.987 376.034 136.58 375.293 L136.58 370.594 Q138.663 371.728 140.885 372.284 Q143.107 372.839 145.584 372.839 Q149.589 372.839 151.927 370.733 Q154.265 368.626 154.265 365.015 Q154.265 361.404 151.927 359.298 Q149.589 357.191 145.584 357.191 Q143.709 357.191 141.834 357.608 Q139.982 358.024 138.038 358.904 L138.038 341.543 Z\" fill=\"#000000\" fill-rule=\"nonzero\" fill-opacity=\"1\" /><circle clip-path=\"url(#clip222)\" cx=\"1354.43\" cy=\"845.836\" r=\"14.4\" fill=\"#ff0000\" fill-rule=\"evenodd\" fill-opacity=\"1\" stroke=\"#000000\" stroke-opacity=\"1\" stroke-width=\"4\"/>\n",
       "<circle clip-path=\"url(#clip222)\" cx=\"1142.91\" cy=\"1054.18\" r=\"14.4\" fill=\"#ff0000\" fill-rule=\"evenodd\" fill-opacity=\"1\" stroke=\"#000000\" stroke-opacity=\"1\" stroke-width=\"4\"/>\n",
       "<circle clip-path=\"url(#clip222)\" cx=\"1178.56\" cy=\"1195.09\" r=\"14.4\" fill=\"#ff0000\" fill-rule=\"evenodd\" fill-opacity=\"1\" stroke=\"#000000\" stroke-opacity=\"1\" stroke-width=\"4\"/>\n",
       "<circle clip-path=\"url(#clip222)\" cx=\"962.593\" cy=\"949.582\" r=\"14.4\" fill=\"#0000ff\" fill-rule=\"evenodd\" fill-opacity=\"1\" stroke=\"#000000\" stroke-opacity=\"1\" stroke-width=\"4\"/>\n",
       "<circle clip-path=\"url(#clip222)\" cx=\"972.766\" cy=\"1183.97\" r=\"14.4\" fill=\"#0000ff\" fill-rule=\"evenodd\" fill-opacity=\"1\" stroke=\"#000000\" stroke-opacity=\"1\" stroke-width=\"4\"/>\n",
       "<circle clip-path=\"url(#clip222)\" cx=\"1138.41\" cy=\"1019.52\" r=\"14.4\" fill=\"#0000ff\" fill-rule=\"evenodd\" fill-opacity=\"1\" stroke=\"#000000\" stroke-opacity=\"1\" stroke-width=\"4\"/>\n",
       "<circle clip-path=\"url(#clip222)\" cx=\"787.265\" cy=\"717.324\" r=\"14.4\" fill=\"#0000ff\" fill-rule=\"evenodd\" fill-opacity=\"1\" stroke=\"#000000\" stroke-opacity=\"1\" stroke-width=\"4\"/>\n",
       "<circle clip-path=\"url(#clip222)\" cx=\"1244.27\" cy=\"950.644\" r=\"14.4\" fill=\"#0000ff\" fill-rule=\"evenodd\" fill-opacity=\"1\" stroke=\"#000000\" stroke-opacity=\"1\" stroke-width=\"4\"/>\n",
       "<polyline clip-path=\"url(#clip222)\" style=\"stroke:#808080; stroke-linecap:round; stroke-linejoin:round; stroke-width:4; stroke-opacity:0.4; fill:none\" points=\"714.285,3683.09 714.285,-1770.68 \"/>\n",
       "<polyline clip-path=\"url(#clip222)\" style=\"stroke:#808080; stroke-linecap:round; stroke-linejoin:round; stroke-width:4; stroke-opacity:0.4; fill:none\" points=\"874.929,3683.09 874.929,-1770.68 \"/>\n",
       "<polyline clip-path=\"url(#clip222)\" style=\"stroke:#808080; stroke-linecap:round; stroke-linejoin:round; stroke-width:4; stroke-opacity:0.4; fill:none\" points=\"967.679,3683.09 967.679,-1770.68 \"/>\n",
       "<polyline clip-path=\"url(#clip222)\" style=\"stroke:#808080; stroke-linecap:round; stroke-linejoin:round; stroke-width:4; stroke-opacity:0.4; fill:none\" points=\"1055.59,3683.09 1055.59,-1770.68 \"/>\n",
       "<polyline clip-path=\"url(#clip222)\" style=\"stroke:#808080; stroke-linecap:round; stroke-linejoin:round; stroke-width:4; stroke-opacity:0.4; fill:none\" points=\"1140.66,3683.09 1140.66,-1770.68 \"/>\n",
       "<polyline clip-path=\"url(#clip222)\" style=\"stroke:#808080; stroke-linecap:round; stroke-linejoin:round; stroke-width:4; stroke-opacity:0.4; fill:none\" points=\"1160.73,3683.09 1160.73,-1770.68 \"/>\n",
       "<polyline clip-path=\"url(#clip222)\" style=\"stroke:#808080; stroke-linecap:round; stroke-linejoin:round; stroke-width:4; stroke-opacity:0.4; fill:none\" points=\"1211.41,3683.09 1211.41,-1770.68 \"/>\n",
       "<polyline clip-path=\"url(#clip222)\" style=\"stroke:#808080; stroke-linecap:round; stroke-linejoin:round; stroke-width:4; stroke-opacity:0.4; fill:none\" points=\"1299.35,3683.09 1299.35,-1770.68 \"/>\n",
       "<polyline clip-path=\"url(#clip222)\" style=\"stroke:#808080; stroke-linecap:round; stroke-linejoin:round; stroke-width:4; stroke-opacity:0.4; fill:none\" points=\"1427.41,3683.09 1427.41,-1770.68 \"/>\n",
       "<polyline clip-path=\"url(#clip222)\" style=\"stroke:#808080; stroke-linecap:round; stroke-linejoin:round; stroke-width:4; stroke-opacity:0.4; fill:none\" points=\"-1574.87,1297.02 3716.57,1297.02 \"/>\n",
       "<polyline clip-path=\"url(#clip222)\" style=\"stroke:#808080; stroke-linecap:round; stroke-linejoin:round; stroke-width:4; stroke-opacity:0.4; fill:none\" points=\"-1574.87,1189.53 3716.57,1189.53 \"/>\n",
       "<polyline clip-path=\"url(#clip222)\" style=\"stroke:#808080; stroke-linecap:round; stroke-linejoin:round; stroke-width:4; stroke-opacity:0.4; fill:none\" points=\"-1574.87,1119.08 3716.57,1119.08 \"/>\n",
       "<polyline clip-path=\"url(#clip222)\" style=\"stroke:#808080; stroke-linecap:round; stroke-linejoin:round; stroke-width:4; stroke-opacity:0.4; fill:none\" points=\"-1574.87,1036.85 3716.57,1036.85 \"/>\n",
       "<polyline clip-path=\"url(#clip222)\" style=\"stroke:#808080; stroke-linecap:round; stroke-linejoin:round; stroke-width:4; stroke-opacity:0.4; fill:none\" points=\"-1574.87,985.082 3716.57,985.082 \"/>\n",
       "<polyline clip-path=\"url(#clip222)\" style=\"stroke:#808080; stroke-linecap:round; stroke-linejoin:round; stroke-width:4; stroke-opacity:0.4; fill:none\" points=\"-1574.87,950.113 3716.57,950.113 \"/>\n",
       "<polyline clip-path=\"url(#clip222)\" style=\"stroke:#808080; stroke-linecap:round; stroke-linejoin:round; stroke-width:4; stroke-opacity:0.4; fill:none\" points=\"-1574.87,897.709 3716.57,897.709 \"/>\n",
       "<polyline clip-path=\"url(#clip222)\" style=\"stroke:#808080; stroke-linecap:round; stroke-linejoin:round; stroke-width:4; stroke-opacity:0.4; fill:none\" points=\"-1574.87,781.58 3716.57,781.58 \"/>\n",
       "<polyline clip-path=\"url(#clip222)\" style=\"stroke:#808080; stroke-linecap:round; stroke-linejoin:round; stroke-width:4; stroke-opacity:0.4; fill:none\" points=\"-1574.87,615.39 3716.57,615.39 \"/>\n",
       "</svg>\n"
      ]
     },
     "execution_count": 46,
     "metadata": {},
     "output_type": "execute_result"
    }
   ],
   "source": [
    "n = 8\n",
    "\n",
    "S = rand(n,2)\n",
    "w = rand([-1,1], n)\n",
    "\n",
    "sortperm_x = sortperm(S[:, 1])\n",
    "sorted_x = S[sortperm_x, 1]\n",
    "midpoints_x = midpoints(sorted_x)\n",
    "\n",
    "sortperm_y = sortperm(S[:, 2])\n",
    "sorted_y = S[sortperm_y, 2]\n",
    "midpoints_y = midpoints(sorted_y)\n",
    "\n",
    "plot_rb_points(S, w)\n",
    "vline!(midpoints_x, color=:gray, alpha = .4)\n",
    "hline!(midpoints_y, color=:gray, alpha = .4)"
   ]
  },
  {
   "cell_type": "code",
   "execution_count": 66,
   "id": "e3bd4e05-8082-479a-89cc-10fb5ee92a73",
   "metadata": {
    "tags": []
   },
   "outputs": [
    {
     "data": {
      "text/plain": [
       "Disc_ijkl (generic function with 2 methods)"
      ]
     },
     "execution_count": 66,
     "metadata": {},
     "output_type": "execute_result"
    }
   ],
   "source": [
    "function Disc_ijkl(i, j, k, l, show=false)\n",
    "    if show\n",
    "        plot_rb_points(S, w)\n",
    "        vline!(midpoints_x, color=:gray, alpha = .4)\n",
    "        hline!(midpoints_y, color=:gray, alpha = .4)\n",
    "        xx = [midpoints_x[i], midpoints_x[i], midpoints_x[j], midpoints_x[j]]\n",
    "        yy = [midpoints_y[k], midpoints_y[l], midpoints_y[l], midpoints_y[k]]\n",
    "        plot!(Shape(xx,yy), color=:gray, alpha = .2)\n",
    "    end\n",
    "end"
   ]
  },
  {
   "cell_type": "code",
   "execution_count": 69,
   "id": "5c6dcf80-bda7-4a4c-9b2b-f665c755a525",
   "metadata": {
    "tags": []
   },
   "outputs": [
    {
     "data": {
      "text/plain": [
       "8×2 Matrix{Float64}:\n",
       " 0.0139345  0.964988\n",
       " 0.306966   0.618376\n",
       " 0.323968   0.268582\n",
       " 0.600822   0.514002\n",
       " 0.608333   0.462277\n",
       " 0.667915   0.251992\n",
       " 0.777741   0.616791\n",
       " 0.961858   0.773202"
      ]
     },
     "execution_count": 69,
     "metadata": {},
     "output_type": "execute_result"
    }
   ],
   "source": [
    "i = 3\n",
    "j = 8\n",
    "k = 4\n",
    "l =7\n",
    "\n",
    "Disc_ijkl(i,j,k,l,true)\n",
    "\n",
    "S[sortperm_x,:]\n",
    "\n",
    "#= \n",
    "se puede implementar Disc_ijkl() en O(n) ??\n",
    "\n",
    "creo que se puede precalcular un arreglo de n^4 en O(n^4) (o a lo mas O(n^5)), \n",
    "pero es la mejor idea? va a tener muchos ceros...\n",
    "=#"
   ]
  }
 ],
 "metadata": {
  "kernelspec": {
   "display_name": "Julia 1.8.4",
   "language": "julia",
   "name": "julia-1.8"
  },
  "language_info": {
   "file_extension": ".jl",
   "mimetype": "application/julia",
   "name": "julia",
   "version": "1.8.4"
  }
 },
 "nbformat": 4,
 "nbformat_minor": 5
}
