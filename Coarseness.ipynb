{
 "cells": [
  {
   "cell_type": "code",
   "execution_count": 1,
   "id": "84e9de01-68e4-41b8-a5b4-0c2637672b8d",
   "metadata": {
    "tags": []
   },
   "outputs": [],
   "source": [
    "using Plots\n",
    "using LazySets\n",
    "using Random"
   ]
  },
  {
   "cell_type": "code",
   "execution_count": 2,
   "id": "d5294553-2943-4b70-931c-88592232d3e9",
   "metadata": {
    "tags": []
   },
   "outputs": [
    {
     "data": {
      "text/plain": [
       "plot_points (generic function with 2 methods)"
      ]
     },
     "execution_count": 2,
     "metadata": {},
     "output_type": "execute_result"
    }
   ],
   "source": [
    "function plot_points(S::Matrix{<:Real}, w::Vector{<:Integer}, Π::Vector{<:Integer}=[0])\n",
    "    S = Float64.(S)\n",
    "    red_points = S[w.==1, :]\n",
    "    blue_points = S[w.==-1, :]\n",
    "\n",
    "    plt = scatter(size=(500, 500), legend=:none, \n",
    "                  xlims=(minimum(S[:,1])-1, maximum(S[:,1])+1),\n",
    "                  ylims=(minimum(S[:,2])-1, maximum(S[:,2])+1), \n",
    "                  axis=0, framestyle=:box,\n",
    "                  grid=0, color=:white)\n",
    "    \n",
    "    scatter!(plt, red_points[:, 1], red_points[:, 2], color=:red)\n",
    "    scatter!(plt, blue_points[:, 1], blue_points[:, 2], color=:blue)\n",
    "    \n",
    "    if Π != [0]\n",
    "        k = maximum(Π)        \n",
    "        for j = 1:k\n",
    "            j_points = S[Π .== j,:]\n",
    "            j_set = [j_points[i,:] for i in 1:size(j_points,1)]\n",
    "            j_hull = convex_hull(j_set)\n",
    "            plot!(VPolygon(j_hull), color=:gray, alpha=0.2)\n",
    "        end\n",
    "        SΠ_disc = [abs(sum((Π.==j) .* (w.==1)) - sum((Π.==j) .* (w.==-1))) for j=1:k]\n",
    "        println(\"Discrepancy = \", minimum(SΠ_disc), \" = min\",SΠ_disc) \n",
    "    end\n",
    "    \n",
    "    return plt\n",
    "end"
   ]
  },
  {
   "cell_type": "code",
   "execution_count": 3,
   "id": "a5f6e3fa-c777-4c84-b07e-012ccf9b28b3",
   "metadata": {
    "tags": []
   },
   "outputs": [
    {
     "data": {
      "text/plain": [
       "discrepancy (generic function with 1 method)"
      ]
     },
     "execution_count": 3,
     "metadata": {},
     "output_type": "execute_result"
    }
   ],
   "source": [
    "function discrepancy(S::Matrix{<:Real},w::Vector{<:Integer},Π::Vector{<:Integer})\n",
    "    k = maximum(Π)  \n",
    "    SΠ_disc = [abs(sum((Π.==j) .* (w.==1)) - sum((Π.==j) .* (w.==-1))) for j=1:k]\n",
    "    disc = minimum(SΠ_disc)\n",
    "    return disc\n",
    "end"
   ]
  },
  {
   "cell_type": "code",
   "execution_count": 5,
   "id": "a73cb47e-9068-4497-90db-b723a0e01fa7",
   "metadata": {
    "tags": []
   },
   "outputs": [
    {
     "data": {
      "text/plain": [
       "relabler (generic function with 1 method)"
      ]
     },
     "execution_count": 5,
     "metadata": {},
     "output_type": "execute_result"
    }
   ],
   "source": [
    "function relabler(Π::Array{<:Integer}, new_names::Vector{<:Integer})\n",
    "    for i = 1:length(Π)\n",
    "        Π[i] = new_names[Π[i]]\n",
    "    end\n",
    "    return Π\n",
    "end"
   ]
  },
  {
   "cell_type": "code",
   "execution_count": 4,
   "id": "2a50e361-572d-419a-ae0f-19e3b413dacb",
   "metadata": {
    "tags": []
   },
   "outputs": [
    {
     "data": {
      "text/plain": [
       "partitions (generic function with 1 method)"
      ]
     },
     "execution_count": 4,
     "metadata": {},
     "output_type": "execute_result"
    }
   ],
   "source": [
    "function partitions(n::Int, k::Int)\n",
    "    if k == 1\n",
    "        return [1 for i in 1:n]\n",
    "    elseif n == k\n",
    "        return [i for i in 1:n]\n",
    "    else\n",
    "        ## This is essentially the recurrence of Stirling numbers of the second kind. (https://en.wikipedia.org/wiki/Stirling_numbers_of_the_second_kind)\n",
    "        res = Array{Integer,2}(undef,n,0)\n",
    "        for i in 1:k\n",
    "            sub_par = relabler(partitions(n-1, k), circshift([j for j in 1:k],i-1))\n",
    "            par = vcat(ones(Int,1,size(sub_par,2)),sub_par)\n",
    "            res = hcat(res,par)\n",
    "        end\n",
    "        sub_par = relabler(partitions(n-1, k-1), [j for j in 2:k])\n",
    "        par = vcat(ones(Int,1,size(sub_par,2)),sub_par)\n",
    "        res = hcat(res,par)\n",
    "        return res\n",
    "    end\n",
    "end"
   ]
  },
  {
   "cell_type": "code",
   "execution_count": 6,
   "id": "fbf3e279-e2fd-4564-a0f0-4974064a726f",
   "metadata": {
    "tags": []
   },
   "outputs": [
    {
     "data": {
      "text/plain": [
       "coarseness (generic function with 1 method)"
      ]
     },
     "execution_count": 6,
     "metadata": {},
     "output_type": "execute_result"
    }
   ],
   "source": [
    "function coarseness(S::Matrix{<:Real}, w::Vector{<:Integer})\n",
    "    c = 1\n",
    "    Π_opt = Array{Integer,2}(undef,n,0)\n",
    "\n",
    "    for k = 1:n\n",
    "        par = partitions(n,k)\n",
    "\n",
    "        for p = 1:size(par,2)\n",
    "            Π = par[:,p]\n",
    "\n",
    "            hulls = Array{Array{Array{Float64, 1}, 1}, 1}(undef,k)\n",
    "            for j = 1:k\n",
    "                j_points = S[Π .== j,:]\n",
    "                j_set = [j_points[i,:] for i in 1:size(j_points,1)]\n",
    "                hulls[j] = convex_hull(j_set)\n",
    "            end\n",
    "            flag = true\n",
    "            for j = 1:k-1\n",
    "                for l = j+1:k\n",
    "                    flag = flag * isempty( VPolygon(hulls[j]) ∩ VPolygon(hulls[l]) )\n",
    "                end\n",
    "            end\n",
    "\n",
    "            if flag \n",
    "                d = discrepancy(S,w,Π)\n",
    "                if d == c\n",
    "                    Π_opt = hcat(Π_opt, Π)\n",
    "                elseif d > c\n",
    "                    Π_opt = Π\n",
    "                    c = d\n",
    "                end\n",
    "            end\n",
    "        end\n",
    "    end\n",
    "    \n",
    "    return c,Π_opt\n",
    "end"
   ]
  },
  {
   "cell_type": "code",
   "execution_count": 37,
   "id": "f1309304-f417-4bb6-a9ff-3c7872182f32",
   "metadata": {
    "tags": []
   },
   "outputs": [
    {
     "name": "stdout",
     "output_type": "stream",
     "text": [
      "coarseness = 2\n"
     ]
    },
    {
     "data": {
      "text/plain": [
       "10×28 Matrix{Integer}:\n",
       " 1  1  1  1  1  1  1  1  1  1  1  1  1  …  1  1  1  1  1  1  1  1  1  1  1  1\n",
       " 1  1  1  1  1  1  1  3  3  3  3  3  3     2  2  2  2  2  2  2  1  4  1  5  5\n",
       " 1  1  1  1  3  2  2  3  3  3  2  2  2     2  2  2  2  2  1  3  4  3  2  4  3\n",
       " 1  1  2  2  2  2  2  3  3  2  2  2  1     2  2  2  1  3  3  1  2  2  4  2  2\n",
       " 1  2  3  3  1  3  3  2  2  3  2  3  2     2  3  3  3  3  1  3  3  3  5  3  3\n",
       " 1  1  2  1  3  1  2  2  1  3  2  3  1  …  3  3  2  1  3  3  1  4  3  2  4  4\n",
       " 1  1  1  1  1  2  2  3  3  3  3  2  3     2  2  2  2  2  2  2  1  4  3  5  5\n",
       " 1  1  2  1  1  1  2  1  1  1  1  1  1     1  1  1  1  1  3  1  1  1  3  1  1\n",
       " 1  1  2  2  2  2  2  2  1  2  2  2  1     2  2  2  2  2  3  1  2  2  4  2  2\n",
       " 1  2  3  3  1  3  3  2  2  3  2  3  2     3  3  3  3  3  1  1  3  3  5  3  4"
      ]
     },
     "execution_count": 37,
     "metadata": {},
     "output_type": "execute_result"
    }
   ],
   "source": [
    "# OJO que esto es exponencial! con n=10 demora aprox 7min en mi compu, con 11 ya no probe...\n",
    "\n",
    "n = 10\n",
    "\n",
    "S = rand(n,2)\n",
    "w = rand([-1,1], n)\n",
    "\n",
    "c, Π_opt = coarseness(S,w)\n",
    "\n",
    "println(\"coarseness = \", c)\n",
    "Π_opt"
   ]
  },
  {
   "cell_type": "code",
   "execution_count": 50,
   "id": "c1fbc4ce-385f-4515-9e02-4cbdb8c9f0f3",
   "metadata": {
    "tags": []
   },
   "outputs": [
    {
     "name": "stdout",
     "output_type": "stream",
     "text": [
      "Discrepancy = 2 = min[2, 2, 2]\n"
     ]
    },
    {
     "data": {
      "image/svg+xml": [
       "<?xml version=\"1.0\" encoding=\"utf-8\"?>\n",
       "<svg xmlns=\"http://www.w3.org/2000/svg\" xmlns:xlink=\"http://www.w3.org/1999/xlink\" width=\"500\" height=\"500\" viewBox=\"0 0 2000 2000\">\n",
       "<defs>\n",
       "  <clipPath id=\"clip370\">\n",
       "    <rect x=\"0\" y=\"0\" width=\"2000\" height=\"2000\"/>\n",
       "  </clipPath>\n",
       "</defs>\n",
       "<path clip-path=\"url(#clip370)\" d=\"\n",
       "M0 2000 L2000 2000 L2000 0 L0 0  Z\n",
       "  \" fill=\"#ffffff\" fill-rule=\"evenodd\" fill-opacity=\"1\"/>\n",
       "<defs>\n",
       "  <clipPath id=\"clip371\">\n",
       "    <rect x=\"400\" y=\"200\" width=\"1401\" height=\"1401\"/>\n",
       "  </clipPath>\n",
       "</defs>\n",
       "<path clip-path=\"url(#clip370)\" d=\"\n",
       "M188.941 1865.17 L1952.76 1865.17 L1952.76 47.2441 L188.941 47.2441  Z\n",
       "  \" fill=\"#ffffff\" fill-rule=\"evenodd\" fill-opacity=\"1\"/>\n",
       "<defs>\n",
       "  <clipPath id=\"clip372\">\n",
       "    <rect x=\"188\" y=\"47\" width=\"1765\" height=\"1819\"/>\n",
       "  </clipPath>\n",
       "</defs>\n",
       "<polyline clip-path=\"url(#clip372)\" style=\"stroke:#000000; stroke-linecap:round; stroke-linejoin:round; stroke-width:0; stroke-opacity:0.1; fill:none\" points=\"\n",
       "  476.976,1865.17 476.976,47.2441 \n",
       "  \"/>\n",
       "<polyline clip-path=\"url(#clip372)\" style=\"stroke:#000000; stroke-linecap:round; stroke-linejoin:round; stroke-width:0; stroke-opacity:0.1; fill:none\" points=\"\n",
       "  788.605,1865.17 788.605,47.2441 \n",
       "  \"/>\n",
       "<polyline clip-path=\"url(#clip372)\" style=\"stroke:#000000; stroke-linecap:round; stroke-linejoin:round; stroke-width:0; stroke-opacity:0.1; fill:none\" points=\"\n",
       "  1100.24,1865.17 1100.24,47.2441 \n",
       "  \"/>\n",
       "<polyline clip-path=\"url(#clip372)\" style=\"stroke:#000000; stroke-linecap:round; stroke-linejoin:round; stroke-width:0; stroke-opacity:0.1; fill:none\" points=\"\n",
       "  1411.86,1865.17 1411.86,47.2441 \n",
       "  \"/>\n",
       "<polyline clip-path=\"url(#clip372)\" style=\"stroke:#000000; stroke-linecap:round; stroke-linejoin:round; stroke-width:0; stroke-opacity:0.1; fill:none\" points=\"\n",
       "  1723.49,1865.17 1723.49,47.2441 \n",
       "  \"/>\n",
       "<polyline clip-path=\"url(#clip370)\" style=\"stroke:#000000; stroke-linecap:round; stroke-linejoin:round; stroke-width:4; stroke-opacity:1; fill:none\" points=\"\n",
       "  188.941,1865.17 1952.76,1865.17 \n",
       "  \"/>\n",
       "<polyline clip-path=\"url(#clip370)\" style=\"stroke:#000000; stroke-linecap:round; stroke-linejoin:round; stroke-width:4; stroke-opacity:1; fill:none\" points=\"\n",
       "  188.941,47.2441 1952.76,47.2441 \n",
       "  \"/>\n",
       "<polyline clip-path=\"url(#clip370)\" style=\"stroke:#000000; stroke-linecap:round; stroke-linejoin:round; stroke-width:4; stroke-opacity:1; fill:none\" points=\"\n",
       "  476.976,1865.17 476.976,1846.27 \n",
       "  \"/>\n",
       "<polyline clip-path=\"url(#clip370)\" style=\"stroke:#000000; stroke-linecap:round; stroke-linejoin:round; stroke-width:4; stroke-opacity:1; fill:none\" points=\"\n",
       "  788.605,1865.17 788.605,1846.27 \n",
       "  \"/>\n",
       "<polyline clip-path=\"url(#clip370)\" style=\"stroke:#000000; stroke-linecap:round; stroke-linejoin:round; stroke-width:4; stroke-opacity:1; fill:none\" points=\"\n",
       "  1100.24,1865.17 1100.24,1846.27 \n",
       "  \"/>\n",
       "<polyline clip-path=\"url(#clip370)\" style=\"stroke:#000000; stroke-linecap:round; stroke-linejoin:round; stroke-width:4; stroke-opacity:1; fill:none\" points=\"\n",
       "  1411.86,1865.17 1411.86,1846.27 \n",
       "  \"/>\n",
       "<polyline clip-path=\"url(#clip370)\" style=\"stroke:#000000; stroke-linecap:round; stroke-linejoin:round; stroke-width:4; stroke-opacity:1; fill:none\" points=\"\n",
       "  1723.49,1865.17 1723.49,1846.27 \n",
       "  \"/>\n",
       "<path clip-path=\"url(#clip370)\" d=\"M424.002 1907.54 L453.677 1907.54 L453.677 1911.47 L424.002 1911.47 L424.002 1907.54 Z\" fill=\"#000000\" fill-rule=\"evenodd\" fill-opacity=\"1\" /><path clip-path=\"url(#clip370)\" d=\"M473.77 1892.89 Q470.159 1892.89 468.33 1896.45 Q466.524 1899.99 466.524 1907.12 Q466.524 1914.23 468.33 1917.79 Q470.159 1921.34 473.77 1921.34 Q477.404 1921.34 479.21 1917.79 Q481.038 1914.23 481.038 1907.12 Q481.038 1899.99 479.21 1896.45 Q477.404 1892.89 473.77 1892.89 M473.77 1889.18 Q479.58 1889.18 482.636 1893.79 Q485.714 1898.37 485.714 1907.12 Q485.714 1915.85 482.636 1920.46 Q479.58 1925.04 473.77 1925.04 Q467.96 1925.04 464.881 1920.46 Q461.825 1915.85 461.825 1907.12 Q461.825 1898.37 464.881 1893.79 Q467.96 1889.18 473.77 1889.18 Z\" fill=\"#000000\" fill-rule=\"evenodd\" fill-opacity=\"1\" /><path clip-path=\"url(#clip370)\" d=\"M493.932 1918.49 L498.816 1918.49 L498.816 1924.37 L493.932 1924.37 L493.932 1918.49 Z\" fill=\"#000000\" fill-rule=\"evenodd\" fill-opacity=\"1\" /><path clip-path=\"url(#clip370)\" d=\"M509.047 1889.81 L527.404 1889.81 L527.404 1893.74 L513.33 1893.74 L513.33 1902.22 Q514.348 1901.87 515.367 1901.71 Q516.385 1901.52 517.404 1901.52 Q523.191 1901.52 526.57 1904.69 Q529.95 1907.86 529.95 1913.28 Q529.95 1918.86 526.478 1921.96 Q523.006 1925.04 516.686 1925.04 Q514.51 1925.04 512.242 1924.67 Q509.996 1924.3 507.589 1923.56 L507.589 1918.86 Q509.672 1919.99 511.895 1920.55 Q514.117 1921.1 516.594 1921.1 Q520.598 1921.1 522.936 1919 Q525.274 1916.89 525.274 1913.28 Q525.274 1909.67 522.936 1907.56 Q520.598 1905.46 516.594 1905.46 Q514.719 1905.46 512.844 1905.87 Q510.992 1906.29 509.047 1907.17 L509.047 1889.81 Z\" fill=\"#000000\" fill-rule=\"evenodd\" fill-opacity=\"1\" /><path clip-path=\"url(#clip370)\" d=\"M765.99 1892.89 Q762.379 1892.89 760.55 1896.45 Q758.744 1899.99 758.744 1907.12 Q758.744 1914.23 760.55 1917.79 Q762.379 1921.34 765.99 1921.34 Q769.624 1921.34 771.43 1917.79 Q773.258 1914.23 773.258 1907.12 Q773.258 1899.99 771.43 1896.45 Q769.624 1892.89 765.99 1892.89 M765.99 1889.18 Q771.8 1889.18 774.856 1893.79 Q777.934 1898.37 777.934 1907.12 Q777.934 1915.85 774.856 1920.46 Q771.8 1925.04 765.99 1925.04 Q760.18 1925.04 757.101 1920.46 Q754.045 1915.85 754.045 1907.12 Q754.045 1898.37 757.101 1893.79 Q760.18 1889.18 765.99 1889.18 Z\" fill=\"#000000\" fill-rule=\"evenodd\" fill-opacity=\"1\" /><path clip-path=\"url(#clip370)\" d=\"M786.152 1918.49 L791.036 1918.49 L791.036 1924.37 L786.152 1924.37 L786.152 1918.49 Z\" fill=\"#000000\" fill-rule=\"evenodd\" fill-opacity=\"1\" /><path clip-path=\"url(#clip370)\" d=\"M811.221 1892.89 Q807.61 1892.89 805.781 1896.45 Q803.976 1899.99 803.976 1907.12 Q803.976 1914.23 805.781 1917.79 Q807.61 1921.34 811.221 1921.34 Q814.855 1921.34 816.661 1917.79 Q818.49 1914.23 818.49 1907.12 Q818.49 1899.99 816.661 1896.45 Q814.855 1892.89 811.221 1892.89 M811.221 1889.18 Q817.031 1889.18 820.087 1893.79 Q823.165 1898.37 823.165 1907.12 Q823.165 1915.85 820.087 1920.46 Q817.031 1925.04 811.221 1925.04 Q805.411 1925.04 802.332 1920.46 Q799.277 1915.85 799.277 1907.12 Q799.277 1898.37 802.332 1893.79 Q805.411 1889.18 811.221 1889.18 Z\" fill=\"#000000\" fill-rule=\"evenodd\" fill-opacity=\"1\" /><path clip-path=\"url(#clip370)\" d=\"M1078.12 1892.89 Q1074.51 1892.89 1072.68 1896.45 Q1070.87 1899.99 1070.87 1907.12 Q1070.87 1914.23 1072.68 1917.79 Q1074.51 1921.34 1078.12 1921.34 Q1081.75 1921.34 1083.56 1917.79 Q1085.39 1914.23 1085.39 1907.12 Q1085.39 1899.99 1083.56 1896.45 Q1081.75 1892.89 1078.12 1892.89 M1078.12 1889.18 Q1083.93 1889.18 1086.98 1893.79 Q1090.06 1898.37 1090.06 1907.12 Q1090.06 1915.85 1086.98 1920.46 Q1083.93 1925.04 1078.12 1925.04 Q1072.31 1925.04 1069.23 1920.46 Q1066.17 1915.85 1066.17 1907.12 Q1066.17 1898.37 1069.23 1893.79 Q1072.31 1889.18 1078.12 1889.18 Z\" fill=\"#000000\" fill-rule=\"evenodd\" fill-opacity=\"1\" /><path clip-path=\"url(#clip370)\" d=\"M1098.28 1918.49 L1103.16 1918.49 L1103.16 1924.37 L1098.28 1924.37 L1098.28 1918.49 Z\" fill=\"#000000\" fill-rule=\"evenodd\" fill-opacity=\"1\" /><path clip-path=\"url(#clip370)\" d=\"M1113.39 1889.81 L1131.75 1889.81 L1131.75 1893.74 L1117.68 1893.74 L1117.68 1902.22 Q1118.7 1901.87 1119.71 1901.71 Q1120.73 1901.52 1121.75 1901.52 Q1127.54 1901.52 1130.92 1904.69 Q1134.3 1907.86 1134.3 1913.28 Q1134.3 1918.86 1130.83 1921.96 Q1127.35 1925.04 1121.03 1925.04 Q1118.86 1925.04 1116.59 1924.67 Q1114.34 1924.3 1111.94 1923.56 L1111.94 1918.86 Q1114.02 1919.99 1116.24 1920.55 Q1118.46 1921.1 1120.94 1921.1 Q1124.95 1921.1 1127.28 1919 Q1129.62 1916.89 1129.62 1913.28 Q1129.62 1909.67 1127.28 1907.56 Q1124.95 1905.46 1120.94 1905.46 Q1119.07 1905.46 1117.19 1905.87 Q1115.34 1906.29 1113.39 1907.17 L1113.39 1889.81 Z\" fill=\"#000000\" fill-rule=\"evenodd\" fill-opacity=\"1\" /><path clip-path=\"url(#clip370)\" d=\"M1379.02 1920.43 L1386.66 1920.43 L1386.66 1894.07 L1378.35 1895.73 L1378.35 1891.47 L1386.61 1889.81 L1391.29 1889.81 L1391.29 1920.43 L1398.92 1920.43 L1398.92 1924.37 L1379.02 1924.37 L1379.02 1920.43 Z\" fill=\"#000000\" fill-rule=\"evenodd\" fill-opacity=\"1\" /><path clip-path=\"url(#clip370)\" d=\"M1408.37 1918.49 L1413.25 1918.49 L1413.25 1924.37 L1408.37 1924.37 L1408.37 1918.49 Z\" fill=\"#000000\" fill-rule=\"evenodd\" fill-opacity=\"1\" /><path clip-path=\"url(#clip370)\" d=\"M1433.44 1892.89 Q1429.83 1892.89 1428 1896.45 Q1426.19 1899.99 1426.19 1907.12 Q1426.19 1914.23 1428 1917.79 Q1429.83 1921.34 1433.44 1921.34 Q1437.07 1921.34 1438.88 1917.79 Q1440.71 1914.23 1440.71 1907.12 Q1440.71 1899.99 1438.88 1896.45 Q1437.07 1892.89 1433.44 1892.89 M1433.44 1889.18 Q1439.25 1889.18 1442.3 1893.79 Q1445.38 1898.37 1445.38 1907.12 Q1445.38 1915.85 1442.3 1920.46 Q1439.25 1925.04 1433.44 1925.04 Q1427.63 1925.04 1424.55 1920.46 Q1421.49 1915.85 1421.49 1907.12 Q1421.49 1898.37 1424.55 1893.79 Q1427.63 1889.18 1433.44 1889.18 Z\" fill=\"#000000\" fill-rule=\"evenodd\" fill-opacity=\"1\" /><path clip-path=\"url(#clip370)\" d=\"M1691.14 1920.43 L1698.78 1920.43 L1698.78 1894.07 L1690.47 1895.73 L1690.47 1891.47 L1698.74 1889.81 L1703.41 1889.81 L1703.41 1920.43 L1711.05 1920.43 L1711.05 1924.37 L1691.14 1924.37 L1691.14 1920.43 Z\" fill=\"#000000\" fill-rule=\"evenodd\" fill-opacity=\"1\" /><path clip-path=\"url(#clip370)\" d=\"M1720.5 1918.49 L1725.38 1918.49 L1725.38 1924.37 L1720.5 1924.37 L1720.5 1918.49 Z\" fill=\"#000000\" fill-rule=\"evenodd\" fill-opacity=\"1\" /><path clip-path=\"url(#clip370)\" d=\"M1735.61 1889.81 L1753.97 1889.81 L1753.97 1893.74 L1739.89 1893.74 L1739.89 1902.22 Q1740.91 1901.87 1741.93 1901.71 Q1742.95 1901.52 1743.97 1901.52 Q1749.76 1901.52 1753.14 1904.69 Q1756.51 1907.86 1756.51 1913.28 Q1756.51 1918.86 1753.04 1921.96 Q1749.57 1925.04 1743.25 1925.04 Q1741.08 1925.04 1738.81 1924.67 Q1736.56 1924.3 1734.15 1923.56 L1734.15 1918.86 Q1736.24 1919.99 1738.46 1920.55 Q1740.68 1921.1 1743.16 1921.1 Q1747.16 1921.1 1749.5 1919 Q1751.84 1916.89 1751.84 1913.28 Q1751.84 1909.67 1749.5 1907.56 Q1747.16 1905.46 1743.16 1905.46 Q1741.28 1905.46 1739.41 1905.87 Q1737.56 1906.29 1735.61 1907.17 L1735.61 1889.81 Z\" fill=\"#000000\" fill-rule=\"evenodd\" fill-opacity=\"1\" /><polyline clip-path=\"url(#clip372)\" style=\"stroke:#000000; stroke-linecap:round; stroke-linejoin:round; stroke-width:0; stroke-opacity:0.1; fill:none\" points=\"\n",
       "  188.941,1608.31 1952.76,1608.31 \n",
       "  \"/>\n",
       "<polyline clip-path=\"url(#clip372)\" style=\"stroke:#000000; stroke-linecap:round; stroke-linejoin:round; stroke-width:0; stroke-opacity:0.1; fill:none\" points=\"\n",
       "  188.941,1294.05 1952.76,1294.05 \n",
       "  \"/>\n",
       "<polyline clip-path=\"url(#clip372)\" style=\"stroke:#000000; stroke-linecap:round; stroke-linejoin:round; stroke-width:0; stroke-opacity:0.1; fill:none\" points=\"\n",
       "  188.941,979.796 1952.76,979.796 \n",
       "  \"/>\n",
       "<polyline clip-path=\"url(#clip372)\" style=\"stroke:#000000; stroke-linecap:round; stroke-linejoin:round; stroke-width:0; stroke-opacity:0.1; fill:none\" points=\"\n",
       "  188.941,665.541 1952.76,665.541 \n",
       "  \"/>\n",
       "<polyline clip-path=\"url(#clip372)\" style=\"stroke:#000000; stroke-linecap:round; stroke-linejoin:round; stroke-width:0; stroke-opacity:0.1; fill:none\" points=\"\n",
       "  188.941,351.285 1952.76,351.285 \n",
       "  \"/>\n",
       "<polyline clip-path=\"url(#clip370)\" style=\"stroke:#000000; stroke-linecap:round; stroke-linejoin:round; stroke-width:4; stroke-opacity:1; fill:none\" points=\"\n",
       "  188.941,1865.17 188.941,47.2441 \n",
       "  \"/>\n",
       "<polyline clip-path=\"url(#clip370)\" style=\"stroke:#000000; stroke-linecap:round; stroke-linejoin:round; stroke-width:4; stroke-opacity:1; fill:none\" points=\"\n",
       "  1952.76,1865.17 1952.76,47.2441 \n",
       "  \"/>\n",
       "<polyline clip-path=\"url(#clip370)\" style=\"stroke:#000000; stroke-linecap:round; stroke-linejoin:round; stroke-width:4; stroke-opacity:1; fill:none\" points=\"\n",
       "  188.941,1608.31 207.838,1608.31 \n",
       "  \"/>\n",
       "<polyline clip-path=\"url(#clip370)\" style=\"stroke:#000000; stroke-linecap:round; stroke-linejoin:round; stroke-width:4; stroke-opacity:1; fill:none\" points=\"\n",
       "  188.941,1294.05 207.838,1294.05 \n",
       "  \"/>\n",
       "<polyline clip-path=\"url(#clip370)\" style=\"stroke:#000000; stroke-linecap:round; stroke-linejoin:round; stroke-width:4; stroke-opacity:1; fill:none\" points=\"\n",
       "  188.941,979.796 207.838,979.796 \n",
       "  \"/>\n",
       "<polyline clip-path=\"url(#clip370)\" style=\"stroke:#000000; stroke-linecap:round; stroke-linejoin:round; stroke-width:4; stroke-opacity:1; fill:none\" points=\"\n",
       "  188.941,665.541 207.838,665.541 \n",
       "  \"/>\n",
       "<polyline clip-path=\"url(#clip370)\" style=\"stroke:#000000; stroke-linecap:round; stroke-linejoin:round; stroke-width:4; stroke-opacity:1; fill:none\" points=\"\n",
       "  188.941,351.285 207.838,351.285 \n",
       "  \"/>\n",
       "<path clip-path=\"url(#clip370)\" d=\"M52.9921 1608.76 L82.6679 1608.76 L82.6679 1612.69 L52.9921 1612.69 L52.9921 1608.76 Z\" fill=\"#000000\" fill-rule=\"evenodd\" fill-opacity=\"1\" /><path clip-path=\"url(#clip370)\" d=\"M102.76 1594.11 Q99.1493 1594.11 97.3206 1597.67 Q95.515 1601.21 95.515 1608.34 Q95.515 1615.45 97.3206 1619.01 Q99.1493 1622.56 102.76 1622.56 Q106.395 1622.56 108.2 1619.01 Q110.029 1615.45 110.029 1608.34 Q110.029 1601.21 108.2 1597.67 Q106.395 1594.11 102.76 1594.11 M102.76 1590.4 Q108.571 1590.4 111.626 1595.01 Q114.705 1599.59 114.705 1608.34 Q114.705 1617.07 111.626 1621.68 Q108.571 1626.26 102.76 1626.26 Q96.9502 1626.26 93.8715 1621.68 Q90.816 1617.07 90.816 1608.34 Q90.816 1599.59 93.8715 1595.01 Q96.9502 1590.4 102.76 1590.4 Z\" fill=\"#000000\" fill-rule=\"evenodd\" fill-opacity=\"1\" /><path clip-path=\"url(#clip370)\" d=\"M122.922 1619.71 L127.807 1619.71 L127.807 1625.59 L122.922 1625.59 L122.922 1619.71 Z\" fill=\"#000000\" fill-rule=\"evenodd\" fill-opacity=\"1\" /><path clip-path=\"url(#clip370)\" d=\"M138.038 1591.03 L156.394 1591.03 L156.394 1594.96 L142.32 1594.96 L142.32 1603.43 Q143.339 1603.09 144.357 1602.93 Q145.376 1602.74 146.394 1602.74 Q152.181 1602.74 155.561 1605.91 Q158.941 1609.08 158.941 1614.5 Q158.941 1620.08 155.468 1623.18 Q151.996 1626.26 145.677 1626.26 Q143.501 1626.26 141.232 1625.89 Q138.987 1625.52 136.58 1624.78 L136.58 1620.08 Q138.663 1621.21 140.885 1621.77 Q143.107 1622.32 145.584 1622.32 Q149.589 1622.32 151.927 1620.22 Q154.265 1618.11 154.265 1614.5 Q154.265 1610.89 151.927 1608.78 Q149.589 1606.68 145.584 1606.68 Q143.709 1606.68 141.834 1607.09 Q139.982 1607.51 138.038 1608.39 L138.038 1591.03 Z\" fill=\"#000000\" fill-rule=\"evenodd\" fill-opacity=\"1\" /><path clip-path=\"url(#clip370)\" d=\"M101.765 1279.85 Q98.1539 1279.85 96.3252 1283.42 Q94.5197 1286.96 94.5197 1294.09 Q94.5197 1301.19 96.3252 1304.76 Q98.1539 1308.3 101.765 1308.3 Q105.399 1308.3 107.205 1304.76 Q109.033 1301.19 109.033 1294.09 Q109.033 1286.96 107.205 1283.42 Q105.399 1279.85 101.765 1279.85 M101.765 1276.15 Q107.575 1276.15 110.631 1280.75 Q113.709 1285.34 113.709 1294.09 Q113.709 1302.81 110.631 1307.42 Q107.575 1312 101.765 1312 Q95.9549 1312 92.8762 1307.42 Q89.8206 1302.81 89.8206 1294.09 Q89.8206 1285.34 92.8762 1280.75 Q95.9549 1276.15 101.765 1276.15 Z\" fill=\"#000000\" fill-rule=\"evenodd\" fill-opacity=\"1\" /><path clip-path=\"url(#clip370)\" d=\"M121.927 1305.45 L126.811 1305.45 L126.811 1311.33 L121.927 1311.33 L121.927 1305.45 Z\" fill=\"#000000\" fill-rule=\"evenodd\" fill-opacity=\"1\" /><path clip-path=\"url(#clip370)\" d=\"M146.996 1279.85 Q143.385 1279.85 141.556 1283.42 Q139.751 1286.96 139.751 1294.09 Q139.751 1301.19 141.556 1304.76 Q143.385 1308.3 146.996 1308.3 Q150.63 1308.3 152.436 1304.76 Q154.265 1301.19 154.265 1294.09 Q154.265 1286.96 152.436 1283.42 Q150.63 1279.85 146.996 1279.85 M146.996 1276.15 Q152.806 1276.15 155.862 1280.75 Q158.941 1285.34 158.941 1294.09 Q158.941 1302.81 155.862 1307.42 Q152.806 1312 146.996 1312 Q141.186 1312 138.107 1307.42 Q135.052 1302.81 135.052 1294.09 Q135.052 1285.34 138.107 1280.75 Q141.186 1276.15 146.996 1276.15 Z\" fill=\"#000000\" fill-rule=\"evenodd\" fill-opacity=\"1\" /><path clip-path=\"url(#clip370)\" d=\"M102.76 965.595 Q99.1493 965.595 97.3206 969.16 Q95.515 972.701 95.515 979.831 Q95.515 986.937 97.3206 990.502 Q99.1493 994.044 102.76 994.044 Q106.395 994.044 108.2 990.502 Q110.029 986.937 110.029 979.831 Q110.029 972.701 108.2 969.16 Q106.395 965.595 102.76 965.595 M102.76 961.891 Q108.571 961.891 111.626 966.498 Q114.705 971.081 114.705 979.831 Q114.705 988.558 111.626 993.164 Q108.571 997.748 102.76 997.748 Q96.9502 997.748 93.8715 993.164 Q90.816 988.558 90.816 979.831 Q90.816 971.081 93.8715 966.498 Q96.9502 961.891 102.76 961.891 Z\" fill=\"#000000\" fill-rule=\"evenodd\" fill-opacity=\"1\" /><path clip-path=\"url(#clip370)\" d=\"M122.922 991.197 L127.807 991.197 L127.807 997.076 L122.922 997.076 L122.922 991.197 Z\" fill=\"#000000\" fill-rule=\"evenodd\" fill-opacity=\"1\" /><path clip-path=\"url(#clip370)\" d=\"M138.038 962.516 L156.394 962.516 L156.394 966.451 L142.32 966.451 L142.32 974.924 Q143.339 974.576 144.357 974.414 Q145.376 974.229 146.394 974.229 Q152.181 974.229 155.561 977.401 Q158.941 980.572 158.941 985.988 Q158.941 991.567 155.468 994.669 Q151.996 997.748 145.677 997.748 Q143.501 997.748 141.232 997.377 Q138.987 997.007 136.58 996.266 L136.58 991.567 Q138.663 992.701 140.885 993.257 Q143.107 993.812 145.584 993.812 Q149.589 993.812 151.927 991.706 Q154.265 989.6 154.265 985.988 Q154.265 982.377 151.927 980.271 Q149.589 978.164 145.584 978.164 Q143.709 978.164 141.834 978.581 Q139.982 978.998 138.038 979.877 L138.038 962.516 Z\" fill=\"#000000\" fill-rule=\"evenodd\" fill-opacity=\"1\" /><path clip-path=\"url(#clip370)\" d=\"M92.5752 678.886 L100.214 678.886 L100.214 652.52 L91.904 654.187 L91.904 649.927 L100.168 648.261 L104.844 648.261 L104.844 678.886 L112.483 678.886 L112.483 682.821 L92.5752 682.821 L92.5752 678.886 Z\" fill=\"#000000\" fill-rule=\"evenodd\" fill-opacity=\"1\" /><path clip-path=\"url(#clip370)\" d=\"M121.927 676.941 L126.811 676.941 L126.811 682.821 L121.927 682.821 L121.927 676.941 Z\" fill=\"#000000\" fill-rule=\"evenodd\" fill-opacity=\"1\" /><path clip-path=\"url(#clip370)\" d=\"M146.996 651.339 Q143.385 651.339 141.556 654.904 Q139.751 658.446 139.751 665.575 Q139.751 672.682 141.556 676.247 Q143.385 679.788 146.996 679.788 Q150.63 679.788 152.436 676.247 Q154.265 672.682 154.265 665.575 Q154.265 658.446 152.436 654.904 Q150.63 651.339 146.996 651.339 M146.996 647.636 Q152.806 647.636 155.862 652.242 Q158.941 656.825 158.941 665.575 Q158.941 674.302 155.862 678.909 Q152.806 683.492 146.996 683.492 Q141.186 683.492 138.107 678.909 Q135.052 674.302 135.052 665.575 Q135.052 656.825 138.107 652.242 Q141.186 647.636 146.996 647.636 Z\" fill=\"#000000\" fill-rule=\"evenodd\" fill-opacity=\"1\" /><path clip-path=\"url(#clip370)\" d=\"M93.5706 364.63 L101.209 364.63 L101.209 338.264 L92.8993 339.931 L92.8993 335.672 L101.163 334.005 L105.839 334.005 L105.839 364.63 L113.478 364.63 L113.478 368.565 L93.5706 368.565 L93.5706 364.63 Z\" fill=\"#000000\" fill-rule=\"evenodd\" fill-opacity=\"1\" /><path clip-path=\"url(#clip370)\" d=\"M122.922 362.685 L127.807 362.685 L127.807 368.565 L122.922 368.565 L122.922 362.685 Z\" fill=\"#000000\" fill-rule=\"evenodd\" fill-opacity=\"1\" /><path clip-path=\"url(#clip370)\" d=\"M138.038 334.005 L156.394 334.005 L156.394 337.94 L142.32 337.94 L142.32 346.412 Q143.339 346.065 144.357 345.903 Q145.376 345.718 146.394 345.718 Q152.181 345.718 155.561 348.889 Q158.941 352.061 158.941 357.477 Q158.941 363.056 155.468 366.158 Q151.996 369.236 145.677 369.236 Q143.501 369.236 141.232 368.866 Q138.987 368.496 136.58 367.755 L136.58 363.056 Q138.663 364.19 140.885 364.746 Q143.107 365.301 145.584 365.301 Q149.589 365.301 151.927 363.195 Q154.265 361.088 154.265 357.477 Q154.265 353.866 151.927 351.76 Q149.589 349.653 145.584 349.653 Q143.709 349.653 141.834 350.07 Q139.982 350.486 138.038 351.366 L138.038 334.005 Z\" fill=\"#000000\" fill-rule=\"evenodd\" fill-opacity=\"1\" /><circle clip-path=\"url(#clip372)\" cx=\"1077.07\" cy=\"775.096\" r=\"14.4\" fill=\"#ff0000\" fill-rule=\"evenodd\" fill-opacity=\"1\" stroke=\"#000000\" stroke-opacity=\"1\" stroke-width=\"4\"/>\n",
       "<circle clip-path=\"url(#clip372)\" cx=\"1034.7\" cy=\"1214.89\" r=\"14.4\" fill=\"#ff0000\" fill-rule=\"evenodd\" fill-opacity=\"1\" stroke=\"#000000\" stroke-opacity=\"1\" stroke-width=\"4\"/>\n",
       "<circle clip-path=\"url(#clip372)\" cx=\"1329.5\" cy=\"810.141\" r=\"14.4\" fill=\"#ff0000\" fill-rule=\"evenodd\" fill-opacity=\"1\" stroke=\"#000000\" stroke-opacity=\"1\" stroke-width=\"4\"/>\n",
       "<circle clip-path=\"url(#clip372)\" cx=\"1085.3\" cy=\"1236.66\" r=\"14.4\" fill=\"#ff0000\" fill-rule=\"evenodd\" fill-opacity=\"1\" stroke=\"#000000\" stroke-opacity=\"1\" stroke-width=\"4\"/>\n",
       "<circle clip-path=\"url(#clip372)\" cx=\"1115.35\" cy=\"747.075\" r=\"14.4\" fill=\"#ff0000\" fill-rule=\"evenodd\" fill-opacity=\"1\" stroke=\"#000000\" stroke-opacity=\"1\" stroke-width=\"4\"/>\n",
       "<circle clip-path=\"url(#clip372)\" cx=\"1268.61\" cy=\"867.822\" r=\"14.4\" fill=\"#ff0000\" fill-rule=\"evenodd\" fill-opacity=\"1\" stroke=\"#000000\" stroke-opacity=\"1\" stroke-width=\"4\"/>\n",
       "<circle clip-path=\"url(#clip372)\" cx=\"1246.87\" cy=\"1128.23\" r=\"14.4\" fill=\"#0000ff\" fill-rule=\"evenodd\" fill-opacity=\"1\" stroke=\"#000000\" stroke-opacity=\"1\" stroke-width=\"4\"/>\n",
       "<circle clip-path=\"url(#clip372)\" cx=\"812.2\" cy=\"1207.47\" r=\"14.4\" fill=\"#0000ff\" fill-rule=\"evenodd\" fill-opacity=\"1\" stroke=\"#000000\" stroke-opacity=\"1\" stroke-width=\"4\"/>\n",
       "<circle clip-path=\"url(#clip372)\" cx=\"1265.9\" cy=\"675.755\" r=\"14.4\" fill=\"#0000ff\" fill-rule=\"evenodd\" fill-opacity=\"1\" stroke=\"#000000\" stroke-opacity=\"1\" stroke-width=\"4\"/>\n",
       "<circle clip-path=\"url(#clip372)\" cx=\"1002.9\" cy=\"853.547\" r=\"14.4\" fill=\"#0000ff\" fill-rule=\"evenodd\" fill-opacity=\"1\" stroke=\"#000000\" stroke-opacity=\"1\" stroke-width=\"4\"/>\n",
       "<path clip-path=\"url(#clip372)\" d=\"\n",
       "M1077.07 775.096 L1329.5 810.141 L1265.9 675.755 L1115.35 747.075 L1077.07 775.096 L1077.07 775.096  Z\n",
       "  \" fill=\"#808080\" fill-rule=\"evenodd\" fill-opacity=\"0.2\"/>\n",
       "<polyline clip-path=\"url(#clip372)\" style=\"stroke:#000000; stroke-linecap:round; stroke-linejoin:round; stroke-width:4; stroke-opacity:0.2; fill:none\" points=\"\n",
       "  1077.07,775.096 1329.5,810.141 1265.9,675.755 1115.35,747.075 1077.07,775.096 \n",
       "  \"/>\n",
       "<path clip-path=\"url(#clip372)\" d=\"\n",
       "M1268.61 867.822 L1034.7 1214.89 L1085.3 1236.66 L1246.87 1128.23 L1268.61 867.822 L1268.61 867.822  Z\n",
       "  \" fill=\"#808080\" fill-rule=\"evenodd\" fill-opacity=\"0.2\"/>\n",
       "<polyline clip-path=\"url(#clip372)\" style=\"stroke:#000000; stroke-linecap:round; stroke-linejoin:round; stroke-width:4; stroke-opacity:0.2; fill:none\" points=\"\n",
       "  1268.61,867.822 1034.7,1214.89 1085.3,1236.66 1246.87,1128.23 1268.61,867.822 \n",
       "  \"/>\n",
       "<polyline clip-path=\"url(#clip372)\" style=\"stroke:#808080; stroke-linecap:round; stroke-linejoin:round; stroke-width:4; stroke-opacity:0.2; fill:none\" points=\"\n",
       "  812.2,1207.47 1002.9,853.547 \n",
       "  \"/>\n",
       "<circle clip-path=\"url(#clip372)\" cx=\"812.2\" cy=\"1207.47\" r=\"14.4\" fill=\"#808080\" fill-rule=\"evenodd\" fill-opacity=\"0.2\" stroke=\"#000000\" stroke-opacity=\"0.2\" stroke-width=\"4\"/>\n",
       "<circle clip-path=\"url(#clip372)\" cx=\"1002.9\" cy=\"853.547\" r=\"14.4\" fill=\"#808080\" fill-rule=\"evenodd\" fill-opacity=\"0.2\" stroke=\"#000000\" stroke-opacity=\"0.2\" stroke-width=\"4\"/>\n",
       "</svg>\n"
      ]
     },
     "execution_count": 50,
     "metadata": {},
     "output_type": "execute_result"
    }
   ],
   "source": [
    "i = 20\n",
    "plot_points(S,w,Π_opt[:,i])"
   ]
  },
  {
   "cell_type": "code",
   "execution_count": 51,
   "id": "a112eedd-461e-41ab-8282-8382ef049d63",
   "metadata": {
    "tags": []
   },
   "outputs": [
    {
     "name": "stdout",
     "output_type": "stream",
     "text": [
      "coarseness = 2\n"
     ]
    },
    {
     "data": {
      "text/plain": [
       "10×20 Matrix{Integer}:\n",
       " 1  1  1  1  1  1  1  1  1  1  1  1  1  1  1  1  1  1  1  1\n",
       " 1  1  1  1  1  1  1  3  3  3  3  2  2  2  2  2  2  2  5  3\n",
       " 1  1  1  1  1  1  1  3  3  1  1  2  2  2  2  1  1  4  3  5\n",
       " 1  1  1  1  1  1  1  3  3  1  1  2  2  1  1  1  1  1  4  1\n",
       " 1  1  1  1  3  2  2  1  1  1  1  1  1  2  2  1  1  1  1  2\n",
       " 1  2  2  3  2  3  3  2  2  2  2  1  3  3  3  1  3  3  2  4\n",
       " 1  2  1  2  3  3  2  2  3  2  3  1  1  3  2  1  1  1  4  2\n",
       " 1  1  1  2  1  2  2  3  3  3  3  2  2  2  2  2  2  2  5  3\n",
       " 1  2  2  3  2  3  3  2  2  2  2  3  3  3  3  3  3  3  2  4\n",
       " 1  2  1  1  1  3  2  2  3  2  3  3  1  3  2  3  1  4  3  5"
      ]
     },
     "execution_count": 51,
     "metadata": {},
     "output_type": "execute_result"
    }
   ],
   "source": [
    "n = 10\n",
    "\n",
    "S = rand(n,2)\n",
    "w = rand([-1,1], n)\n",
    "\n",
    "c, Π_opt = coarseness(S,w)\n",
    "\n",
    "println(\"coarseness = \", c)\n",
    "Π_opt"
   ]
  }
 ],
 "metadata": {
  "kernelspec": {
   "display_name": "Julia 1.4.1",
   "language": "julia",
   "name": "julia-1.4"
  },
  "language_info": {
   "file_extension": ".jl",
   "mimetype": "application/julia",
   "name": "julia",
   "version": "1.6.1"
  }
 },
 "nbformat": 4,
 "nbformat_minor": 5
}
