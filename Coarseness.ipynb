{
 "cells": [
  {
   "cell_type": "code",
   "execution_count": 1,
   "id": "84e9de01-68e4-41b8-a5b4-0c2637672b8d",
   "metadata": {
    "tags": []
   },
   "outputs": [],
   "source": [
    "using Plots\n",
    "using LazySets\n",
    "using Random"
   ]
  },
  {
   "cell_type": "code",
   "execution_count": 11,
   "id": "d5294553-2943-4b70-931c-88592232d3e9",
   "metadata": {
    "tags": []
   },
   "outputs": [
    {
     "data": {
      "text/plain": [
       "plot_points (generic function with 2 methods)"
      ]
     },
     "execution_count": 11,
     "metadata": {},
     "output_type": "execute_result"
    }
   ],
   "source": [
    "function plot_points(S::Matrix{<:Real}, w::Vector{<:Integer}, Π::Vector{<:Integer}=[0])\n",
    "    S = Float64.(S)\n",
    "    red_points = S[w.==1, :]\n",
    "    blue_points = S[w.==-1, :]\n",
    "\n",
    "    plt = scatter(size=(500, 500), legend=:none, \n",
    "                  xlims=(minimum(S[:,1])-1, maximum(S[:,1])+1),\n",
    "                  ylims=(minimum(S[:,2])-1, maximum(S[:,2])+1), \n",
    "                  axis=0, framestyle=:box,\n",
    "                  grid=0, color=:white)\n",
    "    \n",
    "    scatter!(plt, red_points[:, 1], red_points[:, 2], color=:red)\n",
    "    scatter!(plt, blue_points[:, 1], blue_points[:, 2], color=:blue)\n",
    "    \n",
    "    if Π != [0]\n",
    "        k = maximum(Π)        \n",
    "        for j = 1:k\n",
    "            j_points = S[Π .== j,:]\n",
    "            j_set = [j_points[i,:] for i in 1:size(j_points,1)]\n",
    "            j_hull = convex_hull(j_set)\n",
    "            plot!(VPolygon(j_hull), color=:gray, alpha=0.2)\n",
    "        end\n",
    "        SΠ_disc = [abs(sum((Π.==j) .* (w.==1)) - sum((Π.==j) .* (w.==-1))) for j=1:k]\n",
    "        println(\"Discrepancy = \", minimum(SΠ_disc), \" = min\",SΠ_disc) \n",
    "    end\n",
    "    \n",
    "    return plt\n",
    "end"
   ]
  },
  {
   "cell_type": "code",
   "execution_count": 3,
   "id": "a5f6e3fa-c777-4c84-b07e-012ccf9b28b3",
   "metadata": {
    "tags": []
   },
   "outputs": [
    {
     "data": {
      "text/plain": [
       "discrepancy (generic function with 1 method)"
      ]
     },
     "execution_count": 3,
     "metadata": {},
     "output_type": "execute_result"
    }
   ],
   "source": [
    "function discrepancy(S::Matrix{<:Real},w::Vector{<:Integer},Π::Vector{<:Integer})\n",
    "    k = maximum(Π)  \n",
    "    SΠ_disc = [abs(sum((Π.==j) .* (w.==1)) - sum((Π.==j) .* (w.==-1))) for j=1:k]\n",
    "    disc = minimum(SΠ_disc)\n",
    "    return disc\n",
    "end"
   ]
  },
  {
   "cell_type": "code",
   "execution_count": 4,
   "id": "a73cb47e-9068-4497-90db-b723a0e01fa7",
   "metadata": {
    "tags": []
   },
   "outputs": [
    {
     "data": {
      "text/plain": [
       "relabler (generic function with 1 method)"
      ]
     },
     "execution_count": 4,
     "metadata": {},
     "output_type": "execute_result"
    }
   ],
   "source": [
    "function relabler(Π::Array{<:Integer}, new_names::Vector{<:Integer})\n",
    "    for i = 1:length(Π)\n",
    "        Π[i] = new_names[Π[i]]\n",
    "    end\n",
    "    return Π\n",
    "end"
   ]
  },
  {
   "cell_type": "code",
   "execution_count": 5,
   "id": "2a50e361-572d-419a-ae0f-19e3b413dacb",
   "metadata": {
    "tags": []
   },
   "outputs": [
    {
     "data": {
      "text/plain": [
       "partitions (generic function with 1 method)"
      ]
     },
     "execution_count": 5,
     "metadata": {},
     "output_type": "execute_result"
    }
   ],
   "source": [
    "function partitions(n::Int, k::Int)\n",
    "    if k == 1\n",
    "        return [1 for i in 1:n]\n",
    "    elseif n == k\n",
    "        return [i for i in 1:n]\n",
    "    else\n",
    "        ## This is essentially the recurrence of Stirling numbers of the second kind. (https://en.wikipedia.org/wiki/Stirling_numbers_of_the_second_kind)\n",
    "        res = Array{Integer,2}(undef,n,0)\n",
    "        for i in 1:k\n",
    "            sub_par = relabler(partitions(n-1, k), circshift([j for j in 1:k],i-1))\n",
    "            par = vcat(ones(Int,1,size(sub_par,2)),sub_par)\n",
    "            res = hcat(res,par)\n",
    "        end\n",
    "        sub_par = relabler(partitions(n-1, k-1), [j for j in 2:k])\n",
    "        par = vcat(ones(Int,1,size(sub_par,2)),sub_par)\n",
    "        res = hcat(res,par)\n",
    "        return res\n",
    "    end\n",
    "end"
   ]
  },
  {
   "cell_type": "code",
   "execution_count": 6,
   "id": "fbf3e279-e2fd-4564-a0f0-4974064a726f",
   "metadata": {
    "tags": []
   },
   "outputs": [
    {
     "data": {
      "text/plain": [
       "coarseness (generic function with 1 method)"
      ]
     },
     "execution_count": 6,
     "metadata": {},
     "output_type": "execute_result"
    }
   ],
   "source": [
    "function coarseness(S::Matrix{<:Real}, w::Vector{<:Integer})\n",
    "    c = 1\n",
    "    Π_opt = Array{Integer,2}(undef,n,0)\n",
    "\n",
    "    for k = 1:n\n",
    "        par = partitions(n,k)\n",
    "\n",
    "        for p = 1:size(par,2)\n",
    "            Π = par[:,p]\n",
    "\n",
    "            hulls = Array{Array{Array{Float64, 1}, 1}, 1}(undef,k)\n",
    "            for j = 1:k\n",
    "                j_points = S[Π .== j,:]\n",
    "                j_set = [j_points[i,:] for i in 1:size(j_points,1)]\n",
    "                hulls[j] = convex_hull(j_set)\n",
    "            end\n",
    "            flag = true\n",
    "            for j = 1:k-1\n",
    "                for l = j+1:k\n",
    "                    flag = flag * isempty( VPolygon(hulls[j]) ∩ VPolygon(hulls[l]) )\n",
    "                end\n",
    "            end\n",
    "\n",
    "            if flag \n",
    "                d = discrepancy(S,w,Π)\n",
    "                if d == c\n",
    "                    Π_opt = hcat(Π_opt, Π)\n",
    "                elseif d > c\n",
    "                    Π_opt = Π\n",
    "                    c = d\n",
    "                end\n",
    "            end\n",
    "        end\n",
    "    end\n",
    "    \n",
    "    return c,Π_opt\n",
    "end\n"
   ]
  },
  {
   "cell_type": "code",
   "execution_count": 17,
   "id": "f1309304-f417-4bb6-a9ff-3c7872182f32",
   "metadata": {
    "tags": []
   },
   "outputs": [
    {
     "name": "stdout",
     "output_type": "stream",
     "text": [
      "coarseness = 2\n"
     ]
    },
    {
     "data": {
      "text/plain": [
       "6×2 Matrix{Integer}:\n",
       " 1  1\n",
       " 1  2\n",
       " 1  3\n",
       " 1  3\n",
       " 1  1\n",
       " 1  2"
      ]
     },
     "execution_count": 17,
     "metadata": {},
     "output_type": "execute_result"
    }
   ],
   "source": [
    "n = 6\n",
    "S = rand(n,2)\n",
    "w = rand([-1,1], n)\n",
    "\n",
    "c, Π_opt = coarseness(S,w)\n",
    "\n",
    "println(\"coarseness = \", c)\n",
    "Π_opt"
   ]
  },
  {
   "cell_type": "code",
   "execution_count": 19,
   "id": "c1fbc4ce-385f-4515-9e02-4cbdb8c9f0f3",
   "metadata": {
    "tags": []
   },
   "outputs": [
    {
     "name": "stdout",
     "output_type": "stream",
     "text": [
      "Discrepancy = 2 = min[2, 2, 2]\n"
     ]
    },
    {
     "data": {
      "image/svg+xml": [
       "<?xml version=\"1.0\" encoding=\"utf-8\"?>\n",
       "<svg xmlns=\"http://www.w3.org/2000/svg\" xmlns:xlink=\"http://www.w3.org/1999/xlink\" width=\"500\" height=\"500\" viewBox=\"0 0 2000 2000\">\n",
       "<defs>\n",
       "  <clipPath id=\"clip090\">\n",
       "    <rect x=\"0\" y=\"0\" width=\"2000\" height=\"2000\"/>\n",
       "  </clipPath>\n",
       "</defs>\n",
       "<path clip-path=\"url(#clip090)\" d=\"\n",
       "M0 2000 L2000 2000 L2000 0 L0 0  Z\n",
       "  \" fill=\"#ffffff\" fill-rule=\"evenodd\" fill-opacity=\"1\"/>\n",
       "<defs>\n",
       "  <clipPath id=\"clip091\">\n",
       "    <rect x=\"400\" y=\"200\" width=\"1401\" height=\"1401\"/>\n",
       "  </clipPath>\n",
       "</defs>\n",
       "<path clip-path=\"url(#clip090)\" d=\"\n",
       "M188.941 1865.17 L1952.76 1865.17 L1952.76 47.2441 L188.941 47.2441  Z\n",
       "  \" fill=\"#ffffff\" fill-rule=\"evenodd\" fill-opacity=\"1\"/>\n",
       "<defs>\n",
       "  <clipPath id=\"clip092\">\n",
       "    <rect x=\"188\" y=\"47\" width=\"1765\" height=\"1819\"/>\n",
       "  </clipPath>\n",
       "</defs>\n",
       "<polyline clip-path=\"url(#clip092)\" style=\"stroke:#000000; stroke-linecap:round; stroke-linejoin:round; stroke-width:0; stroke-opacity:0.1; fill:none\" points=\"\n",
       "  392.425,1865.17 392.425,47.2441 \n",
       "  \"/>\n",
       "<polyline clip-path=\"url(#clip092)\" style=\"stroke:#000000; stroke-linecap:round; stroke-linejoin:round; stroke-width:0; stroke-opacity:0.1; fill:none\" points=\"\n",
       "  715.634,1865.17 715.634,47.2441 \n",
       "  \"/>\n",
       "<polyline clip-path=\"url(#clip092)\" style=\"stroke:#000000; stroke-linecap:round; stroke-linejoin:round; stroke-width:0; stroke-opacity:0.1; fill:none\" points=\"\n",
       "  1038.84,1865.17 1038.84,47.2441 \n",
       "  \"/>\n",
       "<polyline clip-path=\"url(#clip092)\" style=\"stroke:#000000; stroke-linecap:round; stroke-linejoin:round; stroke-width:0; stroke-opacity:0.1; fill:none\" points=\"\n",
       "  1362.05,1865.17 1362.05,47.2441 \n",
       "  \"/>\n",
       "<polyline clip-path=\"url(#clip092)\" style=\"stroke:#000000; stroke-linecap:round; stroke-linejoin:round; stroke-width:0; stroke-opacity:0.1; fill:none\" points=\"\n",
       "  1685.26,1865.17 1685.26,47.2441 \n",
       "  \"/>\n",
       "<polyline clip-path=\"url(#clip090)\" style=\"stroke:#000000; stroke-linecap:round; stroke-linejoin:round; stroke-width:4; stroke-opacity:1; fill:none\" points=\"\n",
       "  188.941,1865.17 1952.76,1865.17 \n",
       "  \"/>\n",
       "<polyline clip-path=\"url(#clip090)\" style=\"stroke:#000000; stroke-linecap:round; stroke-linejoin:round; stroke-width:4; stroke-opacity:1; fill:none\" points=\"\n",
       "  188.941,47.2441 1952.76,47.2441 \n",
       "  \"/>\n",
       "<polyline clip-path=\"url(#clip090)\" style=\"stroke:#000000; stroke-linecap:round; stroke-linejoin:round; stroke-width:4; stroke-opacity:1; fill:none\" points=\"\n",
       "  392.425,1865.17 392.425,1846.27 \n",
       "  \"/>\n",
       "<polyline clip-path=\"url(#clip090)\" style=\"stroke:#000000; stroke-linecap:round; stroke-linejoin:round; stroke-width:4; stroke-opacity:1; fill:none\" points=\"\n",
       "  715.634,1865.17 715.634,1846.27 \n",
       "  \"/>\n",
       "<polyline clip-path=\"url(#clip090)\" style=\"stroke:#000000; stroke-linecap:round; stroke-linejoin:round; stroke-width:4; stroke-opacity:1; fill:none\" points=\"\n",
       "  1038.84,1865.17 1038.84,1846.27 \n",
       "  \"/>\n",
       "<polyline clip-path=\"url(#clip090)\" style=\"stroke:#000000; stroke-linecap:round; stroke-linejoin:round; stroke-width:4; stroke-opacity:1; fill:none\" points=\"\n",
       "  1362.05,1865.17 1362.05,1846.27 \n",
       "  \"/>\n",
       "<polyline clip-path=\"url(#clip090)\" style=\"stroke:#000000; stroke-linecap:round; stroke-linejoin:round; stroke-width:4; stroke-opacity:1; fill:none\" points=\"\n",
       "  1685.26,1865.17 1685.26,1846.27 \n",
       "  \"/>\n",
       "<path clip-path=\"url(#clip090)\" d=\"M339.451 1907.54 L369.126 1907.54 L369.126 1911.47 L339.451 1911.47 L339.451 1907.54 Z\" fill=\"#000000\" fill-rule=\"evenodd\" fill-opacity=\"1\" /><path clip-path=\"url(#clip090)\" d=\"M389.219 1892.89 Q385.608 1892.89 383.779 1896.45 Q381.973 1899.99 381.973 1907.12 Q381.973 1914.23 383.779 1917.79 Q385.608 1921.34 389.219 1921.34 Q392.853 1921.34 394.659 1917.79 Q396.487 1914.23 396.487 1907.12 Q396.487 1899.99 394.659 1896.45 Q392.853 1892.89 389.219 1892.89 M389.219 1889.18 Q395.029 1889.18 398.084 1893.79 Q401.163 1898.37 401.163 1907.12 Q401.163 1915.85 398.084 1920.46 Q395.029 1925.04 389.219 1925.04 Q383.409 1925.04 380.33 1920.46 Q377.274 1915.85 377.274 1907.12 Q377.274 1898.37 380.33 1893.79 Q383.409 1889.18 389.219 1889.18 Z\" fill=\"#000000\" fill-rule=\"evenodd\" fill-opacity=\"1\" /><path clip-path=\"url(#clip090)\" d=\"M409.381 1918.49 L414.265 1918.49 L414.265 1924.37 L409.381 1924.37 L409.381 1918.49 Z\" fill=\"#000000\" fill-rule=\"evenodd\" fill-opacity=\"1\" /><path clip-path=\"url(#clip090)\" d=\"M424.496 1889.81 L442.853 1889.81 L442.853 1893.74 L428.779 1893.74 L428.779 1902.22 Q429.797 1901.87 430.816 1901.71 Q431.834 1901.52 432.853 1901.52 Q438.64 1901.52 442.019 1904.69 Q445.399 1907.86 445.399 1913.28 Q445.399 1918.86 441.927 1921.96 Q438.455 1925.04 432.135 1925.04 Q429.959 1925.04 427.691 1924.67 Q425.445 1924.3 423.038 1923.56 L423.038 1918.86 Q425.121 1919.99 427.344 1920.55 Q429.566 1921.1 432.043 1921.1 Q436.047 1921.1 438.385 1919 Q440.723 1916.89 440.723 1913.28 Q440.723 1909.67 438.385 1907.56 Q436.047 1905.46 432.043 1905.46 Q430.168 1905.46 428.293 1905.87 Q426.441 1906.29 424.496 1907.17 L424.496 1889.81 Z\" fill=\"#000000\" fill-rule=\"evenodd\" fill-opacity=\"1\" /><path clip-path=\"url(#clip090)\" d=\"M693.018 1892.89 Q689.407 1892.89 687.578 1896.45 Q685.773 1899.99 685.773 1907.12 Q685.773 1914.23 687.578 1917.79 Q689.407 1921.34 693.018 1921.34 Q696.653 1921.34 698.458 1917.79 Q700.287 1914.23 700.287 1907.12 Q700.287 1899.99 698.458 1896.45 Q696.653 1892.89 693.018 1892.89 M693.018 1889.18 Q698.828 1889.18 701.884 1893.79 Q704.963 1898.37 704.963 1907.12 Q704.963 1915.85 701.884 1920.46 Q698.828 1925.04 693.018 1925.04 Q687.208 1925.04 684.129 1920.46 Q681.074 1915.85 681.074 1907.12 Q681.074 1898.37 684.129 1893.79 Q687.208 1889.18 693.018 1889.18 Z\" fill=\"#000000\" fill-rule=\"evenodd\" fill-opacity=\"1\" /><path clip-path=\"url(#clip090)\" d=\"M713.18 1918.49 L718.064 1918.49 L718.064 1924.37 L713.18 1924.37 L713.18 1918.49 Z\" fill=\"#000000\" fill-rule=\"evenodd\" fill-opacity=\"1\" /><path clip-path=\"url(#clip090)\" d=\"M738.25 1892.89 Q734.638 1892.89 732.81 1896.45 Q731.004 1899.99 731.004 1907.12 Q731.004 1914.23 732.81 1917.79 Q734.638 1921.34 738.25 1921.34 Q741.884 1921.34 743.689 1917.79 Q745.518 1914.23 745.518 1907.12 Q745.518 1899.99 743.689 1896.45 Q741.884 1892.89 738.25 1892.89 M738.25 1889.18 Q744.06 1889.18 747.115 1893.79 Q750.194 1898.37 750.194 1907.12 Q750.194 1915.85 747.115 1920.46 Q744.06 1925.04 738.25 1925.04 Q732.439 1925.04 729.361 1920.46 Q726.305 1915.85 726.305 1907.12 Q726.305 1898.37 729.361 1893.79 Q732.439 1889.18 738.25 1889.18 Z\" fill=\"#000000\" fill-rule=\"evenodd\" fill-opacity=\"1\" /><path clip-path=\"url(#clip090)\" d=\"M1016.73 1892.89 Q1013.11 1892.89 1011.29 1896.45 Q1009.48 1899.99 1009.48 1907.12 Q1009.48 1914.23 1011.29 1917.79 Q1013.11 1921.34 1016.73 1921.34 Q1020.36 1921.34 1022.16 1917.79 Q1023.99 1914.23 1023.99 1907.12 Q1023.99 1899.99 1022.16 1896.45 Q1020.36 1892.89 1016.73 1892.89 M1016.73 1889.18 Q1022.54 1889.18 1025.59 1893.79 Q1028.67 1898.37 1028.67 1907.12 Q1028.67 1915.85 1025.59 1920.46 Q1022.54 1925.04 1016.73 1925.04 Q1010.91 1925.04 1007.84 1920.46 Q1004.78 1915.85 1004.78 1907.12 Q1004.78 1898.37 1007.84 1893.79 Q1010.91 1889.18 1016.73 1889.18 Z\" fill=\"#000000\" fill-rule=\"evenodd\" fill-opacity=\"1\" /><path clip-path=\"url(#clip090)\" d=\"M1036.89 1918.49 L1041.77 1918.49 L1041.77 1924.37 L1036.89 1924.37 L1036.89 1918.49 Z\" fill=\"#000000\" fill-rule=\"evenodd\" fill-opacity=\"1\" /><path clip-path=\"url(#clip090)\" d=\"M1052 1889.81 L1070.36 1889.81 L1070.36 1893.74 L1056.29 1893.74 L1056.29 1902.22 Q1057.3 1901.87 1058.32 1901.71 Q1059.34 1901.52 1060.36 1901.52 Q1066.15 1901.52 1069.53 1904.69 Q1072.91 1907.86 1072.91 1913.28 Q1072.91 1918.86 1069.43 1921.96 Q1065.96 1925.04 1059.64 1925.04 Q1057.47 1925.04 1055.2 1924.67 Q1052.95 1924.3 1050.54 1923.56 L1050.54 1918.86 Q1052.63 1919.99 1054.85 1920.55 Q1057.07 1921.1 1059.55 1921.1 Q1063.55 1921.1 1065.89 1919 Q1068.23 1916.89 1068.23 1913.28 Q1068.23 1909.67 1065.89 1907.56 Q1063.55 1905.46 1059.55 1905.46 Q1057.67 1905.46 1055.8 1905.87 Q1053.95 1906.29 1052 1907.17 L1052 1889.81 Z\" fill=\"#000000\" fill-rule=\"evenodd\" fill-opacity=\"1\" /><path clip-path=\"url(#clip090)\" d=\"M1329.21 1920.43 L1336.84 1920.43 L1336.84 1894.07 L1328.53 1895.73 L1328.53 1891.47 L1336.8 1889.81 L1341.47 1889.81 L1341.47 1920.43 L1349.11 1920.43 L1349.11 1924.37 L1329.21 1924.37 L1329.21 1920.43 Z\" fill=\"#000000\" fill-rule=\"evenodd\" fill-opacity=\"1\" /><path clip-path=\"url(#clip090)\" d=\"M1358.56 1918.49 L1363.44 1918.49 L1363.44 1924.37 L1358.56 1924.37 L1358.56 1918.49 Z\" fill=\"#000000\" fill-rule=\"evenodd\" fill-opacity=\"1\" /><path clip-path=\"url(#clip090)\" d=\"M1383.63 1892.89 Q1380.01 1892.89 1378.19 1896.45 Q1376.38 1899.99 1376.38 1907.12 Q1376.38 1914.23 1378.19 1917.79 Q1380.01 1921.34 1383.63 1921.34 Q1387.26 1921.34 1389.07 1917.79 Q1390.89 1914.23 1390.89 1907.12 Q1390.89 1899.99 1389.07 1896.45 Q1387.26 1892.89 1383.63 1892.89 M1383.63 1889.18 Q1389.44 1889.18 1392.49 1893.79 Q1395.57 1898.37 1395.57 1907.12 Q1395.57 1915.85 1392.49 1920.46 Q1389.44 1925.04 1383.63 1925.04 Q1377.82 1925.04 1374.74 1920.46 Q1371.68 1915.85 1371.68 1907.12 Q1371.68 1898.37 1374.74 1893.79 Q1377.82 1889.18 1383.63 1889.18 Z\" fill=\"#000000\" fill-rule=\"evenodd\" fill-opacity=\"1\" /><path clip-path=\"url(#clip090)\" d=\"M1652.91 1920.43 L1660.55 1920.43 L1660.55 1894.07 L1652.24 1895.73 L1652.24 1891.47 L1660.5 1889.81 L1665.18 1889.81 L1665.18 1920.43 L1672.82 1920.43 L1672.82 1924.37 L1652.91 1924.37 L1652.91 1920.43 Z\" fill=\"#000000\" fill-rule=\"evenodd\" fill-opacity=\"1\" /><path clip-path=\"url(#clip090)\" d=\"M1682.26 1918.49 L1687.15 1918.49 L1687.15 1924.37 L1682.26 1924.37 L1682.26 1918.49 Z\" fill=\"#000000\" fill-rule=\"evenodd\" fill-opacity=\"1\" /><path clip-path=\"url(#clip090)\" d=\"M1697.38 1889.81 L1715.74 1889.81 L1715.74 1893.74 L1701.66 1893.74 L1701.66 1902.22 Q1702.68 1901.87 1703.7 1901.71 Q1704.72 1901.52 1705.74 1901.52 Q1711.52 1901.52 1714.9 1904.69 Q1718.28 1907.86 1718.28 1913.28 Q1718.28 1918.86 1714.81 1921.96 Q1711.34 1925.04 1705.02 1925.04 Q1702.84 1925.04 1700.57 1924.67 Q1698.33 1924.3 1695.92 1923.56 L1695.92 1918.86 Q1698 1919.99 1700.23 1920.55 Q1702.45 1921.1 1704.93 1921.1 Q1708.93 1921.1 1711.27 1919 Q1713.61 1916.89 1713.61 1913.28 Q1713.61 1909.67 1711.27 1907.56 Q1708.93 1905.46 1704.93 1905.46 Q1703.05 1905.46 1701.18 1905.87 Q1699.32 1906.29 1697.38 1907.17 L1697.38 1889.81 Z\" fill=\"#000000\" fill-rule=\"evenodd\" fill-opacity=\"1\" /><polyline clip-path=\"url(#clip092)\" style=\"stroke:#000000; stroke-linecap:round; stroke-linejoin:round; stroke-width:0; stroke-opacity:0.1; fill:none\" points=\"\n",
       "  188.941,1572.01 1952.76,1572.01 \n",
       "  \"/>\n",
       "<polyline clip-path=\"url(#clip092)\" style=\"stroke:#000000; stroke-linecap:round; stroke-linejoin:round; stroke-width:0; stroke-opacity:0.1; fill:none\" points=\"\n",
       "  188.941,1256.99 1952.76,1256.99 \n",
       "  \"/>\n",
       "<polyline clip-path=\"url(#clip092)\" style=\"stroke:#000000; stroke-linecap:round; stroke-linejoin:round; stroke-width:0; stroke-opacity:0.1; fill:none\" points=\"\n",
       "  188.941,941.969 1952.76,941.969 \n",
       "  \"/>\n",
       "<polyline clip-path=\"url(#clip092)\" style=\"stroke:#000000; stroke-linecap:round; stroke-linejoin:round; stroke-width:0; stroke-opacity:0.1; fill:none\" points=\"\n",
       "  188.941,626.948 1952.76,626.948 \n",
       "  \"/>\n",
       "<polyline clip-path=\"url(#clip092)\" style=\"stroke:#000000; stroke-linecap:round; stroke-linejoin:round; stroke-width:0; stroke-opacity:0.1; fill:none\" points=\"\n",
       "  188.941,311.926 1952.76,311.926 \n",
       "  \"/>\n",
       "<polyline clip-path=\"url(#clip090)\" style=\"stroke:#000000; stroke-linecap:round; stroke-linejoin:round; stroke-width:4; stroke-opacity:1; fill:none\" points=\"\n",
       "  188.941,1865.17 188.941,47.2441 \n",
       "  \"/>\n",
       "<polyline clip-path=\"url(#clip090)\" style=\"stroke:#000000; stroke-linecap:round; stroke-linejoin:round; stroke-width:4; stroke-opacity:1; fill:none\" points=\"\n",
       "  1952.76,1865.17 1952.76,47.2441 \n",
       "  \"/>\n",
       "<polyline clip-path=\"url(#clip090)\" style=\"stroke:#000000; stroke-linecap:round; stroke-linejoin:round; stroke-width:4; stroke-opacity:1; fill:none\" points=\"\n",
       "  188.941,1572.01 207.838,1572.01 \n",
       "  \"/>\n",
       "<polyline clip-path=\"url(#clip090)\" style=\"stroke:#000000; stroke-linecap:round; stroke-linejoin:round; stroke-width:4; stroke-opacity:1; fill:none\" points=\"\n",
       "  188.941,1256.99 207.838,1256.99 \n",
       "  \"/>\n",
       "<polyline clip-path=\"url(#clip090)\" style=\"stroke:#000000; stroke-linecap:round; stroke-linejoin:round; stroke-width:4; stroke-opacity:1; fill:none\" points=\"\n",
       "  188.941,941.969 207.838,941.969 \n",
       "  \"/>\n",
       "<polyline clip-path=\"url(#clip090)\" style=\"stroke:#000000; stroke-linecap:round; stroke-linejoin:round; stroke-width:4; stroke-opacity:1; fill:none\" points=\"\n",
       "  188.941,626.948 207.838,626.948 \n",
       "  \"/>\n",
       "<polyline clip-path=\"url(#clip090)\" style=\"stroke:#000000; stroke-linecap:round; stroke-linejoin:round; stroke-width:4; stroke-opacity:1; fill:none\" points=\"\n",
       "  188.941,311.926 207.838,311.926 \n",
       "  \"/>\n",
       "<path clip-path=\"url(#clip090)\" d=\"M52.9921 1572.46 L82.6679 1572.46 L82.6679 1576.4 L52.9921 1576.4 L52.9921 1572.46 Z\" fill=\"#000000\" fill-rule=\"evenodd\" fill-opacity=\"1\" /><path clip-path=\"url(#clip090)\" d=\"M102.76 1557.81 Q99.1493 1557.81 97.3206 1561.38 Q95.515 1564.92 95.515 1572.05 Q95.515 1579.15 97.3206 1582.72 Q99.1493 1586.26 102.76 1586.26 Q106.395 1586.26 108.2 1582.72 Q110.029 1579.15 110.029 1572.05 Q110.029 1564.92 108.2 1561.38 Q106.395 1557.81 102.76 1557.81 M102.76 1554.11 Q108.571 1554.11 111.626 1558.71 Q114.705 1563.3 114.705 1572.05 Q114.705 1580.77 111.626 1585.38 Q108.571 1589.96 102.76 1589.96 Q96.9502 1589.96 93.8715 1585.38 Q90.816 1580.77 90.816 1572.05 Q90.816 1563.3 93.8715 1558.71 Q96.9502 1554.11 102.76 1554.11 Z\" fill=\"#000000\" fill-rule=\"evenodd\" fill-opacity=\"1\" /><path clip-path=\"url(#clip090)\" d=\"M122.922 1583.41 L127.807 1583.41 L127.807 1589.29 L122.922 1589.29 L122.922 1583.41 Z\" fill=\"#000000\" fill-rule=\"evenodd\" fill-opacity=\"1\" /><path clip-path=\"url(#clip090)\" d=\"M138.038 1554.73 L156.394 1554.73 L156.394 1558.67 L142.32 1558.67 L142.32 1567.14 Q143.339 1566.79 144.357 1566.63 Q145.376 1566.45 146.394 1566.45 Q152.181 1566.45 155.561 1569.62 Q158.941 1572.79 158.941 1578.2 Q158.941 1583.78 155.468 1586.88 Q151.996 1589.96 145.677 1589.96 Q143.501 1589.96 141.232 1589.59 Q138.987 1589.22 136.58 1588.48 L136.58 1583.78 Q138.663 1584.92 140.885 1585.47 Q143.107 1586.03 145.584 1586.03 Q149.589 1586.03 151.927 1583.92 Q154.265 1581.82 154.265 1578.2 Q154.265 1574.59 151.927 1572.49 Q149.589 1570.38 145.584 1570.38 Q143.709 1570.38 141.834 1570.8 Q139.982 1571.21 138.038 1572.09 L138.038 1554.73 Z\" fill=\"#000000\" fill-rule=\"evenodd\" fill-opacity=\"1\" /><path clip-path=\"url(#clip090)\" d=\"M101.765 1242.79 Q98.1539 1242.79 96.3252 1246.35 Q94.5197 1249.9 94.5197 1257.03 Q94.5197 1264.13 96.3252 1267.7 Q98.1539 1271.24 101.765 1271.24 Q105.399 1271.24 107.205 1267.7 Q109.033 1264.13 109.033 1257.03 Q109.033 1249.9 107.205 1246.35 Q105.399 1242.79 101.765 1242.79 M101.765 1239.09 Q107.575 1239.09 110.631 1243.69 Q113.709 1248.28 113.709 1257.03 Q113.709 1265.75 110.631 1270.36 Q107.575 1274.94 101.765 1274.94 Q95.9549 1274.94 92.8762 1270.36 Q89.8206 1265.75 89.8206 1257.03 Q89.8206 1248.28 92.8762 1243.69 Q95.9549 1239.09 101.765 1239.09 Z\" fill=\"#000000\" fill-rule=\"evenodd\" fill-opacity=\"1\" /><path clip-path=\"url(#clip090)\" d=\"M121.927 1268.39 L126.811 1268.39 L126.811 1274.27 L121.927 1274.27 L121.927 1268.39 Z\" fill=\"#000000\" fill-rule=\"evenodd\" fill-opacity=\"1\" /><path clip-path=\"url(#clip090)\" d=\"M146.996 1242.79 Q143.385 1242.79 141.556 1246.35 Q139.751 1249.9 139.751 1257.03 Q139.751 1264.13 141.556 1267.7 Q143.385 1271.24 146.996 1271.24 Q150.63 1271.24 152.436 1267.7 Q154.265 1264.13 154.265 1257.03 Q154.265 1249.9 152.436 1246.35 Q150.63 1242.79 146.996 1242.79 M146.996 1239.09 Q152.806 1239.09 155.862 1243.69 Q158.941 1248.28 158.941 1257.03 Q158.941 1265.75 155.862 1270.36 Q152.806 1274.94 146.996 1274.94 Q141.186 1274.94 138.107 1270.36 Q135.052 1265.75 135.052 1257.03 Q135.052 1248.28 138.107 1243.69 Q141.186 1239.09 146.996 1239.09 Z\" fill=\"#000000\" fill-rule=\"evenodd\" fill-opacity=\"1\" /><path clip-path=\"url(#clip090)\" d=\"M102.76 927.768 Q99.1493 927.768 97.3206 931.333 Q95.515 934.874 95.515 942.004 Q95.515 949.111 97.3206 952.675 Q99.1493 956.217 102.76 956.217 Q106.395 956.217 108.2 952.675 Q110.029 949.111 110.029 942.004 Q110.029 934.874 108.2 931.333 Q106.395 927.768 102.76 927.768 M102.76 924.064 Q108.571 924.064 111.626 928.671 Q114.705 933.254 114.705 942.004 Q114.705 950.731 111.626 955.337 Q108.571 959.921 102.76 959.921 Q96.9502 959.921 93.8715 955.337 Q90.816 950.731 90.816 942.004 Q90.816 933.254 93.8715 928.671 Q96.9502 924.064 102.76 924.064 Z\" fill=\"#000000\" fill-rule=\"evenodd\" fill-opacity=\"1\" /><path clip-path=\"url(#clip090)\" d=\"M122.922 953.37 L127.807 953.37 L127.807 959.249 L122.922 959.249 L122.922 953.37 Z\" fill=\"#000000\" fill-rule=\"evenodd\" fill-opacity=\"1\" /><path clip-path=\"url(#clip090)\" d=\"M138.038 924.689 L156.394 924.689 L156.394 928.625 L142.32 928.625 L142.32 937.097 Q143.339 936.749 144.357 936.587 Q145.376 936.402 146.394 936.402 Q152.181 936.402 155.561 939.574 Q158.941 942.745 158.941 948.161 Q158.941 953.74 155.468 956.842 Q151.996 959.921 145.677 959.921 Q143.501 959.921 141.232 959.55 Q138.987 959.18 136.58 958.439 L136.58 953.74 Q138.663 954.874 140.885 955.43 Q143.107 955.985 145.584 955.985 Q149.589 955.985 151.927 953.879 Q154.265 951.773 154.265 948.161 Q154.265 944.55 151.927 942.444 Q149.589 940.337 145.584 940.337 Q143.709 940.337 141.834 940.754 Q139.982 941.171 138.038 942.05 L138.038 924.689 Z\" fill=\"#000000\" fill-rule=\"evenodd\" fill-opacity=\"1\" /><path clip-path=\"url(#clip090)\" d=\"M92.5752 640.293 L100.214 640.293 L100.214 613.927 L91.904 615.594 L91.904 611.335 L100.168 609.668 L104.844 609.668 L104.844 640.293 L112.483 640.293 L112.483 644.228 L92.5752 644.228 L92.5752 640.293 Z\" fill=\"#000000\" fill-rule=\"evenodd\" fill-opacity=\"1\" /><path clip-path=\"url(#clip090)\" d=\"M121.927 638.348 L126.811 638.348 L126.811 644.228 L121.927 644.228 L121.927 638.348 Z\" fill=\"#000000\" fill-rule=\"evenodd\" fill-opacity=\"1\" /><path clip-path=\"url(#clip090)\" d=\"M146.996 612.747 Q143.385 612.747 141.556 616.311 Q139.751 619.853 139.751 626.983 Q139.751 634.089 141.556 637.654 Q143.385 641.196 146.996 641.196 Q150.63 641.196 152.436 637.654 Q154.265 634.089 154.265 626.983 Q154.265 619.853 152.436 616.311 Q150.63 612.747 146.996 612.747 M146.996 609.043 Q152.806 609.043 155.862 613.649 Q158.941 618.233 158.941 626.983 Q158.941 635.709 155.862 640.316 Q152.806 644.899 146.996 644.899 Q141.186 644.899 138.107 640.316 Q135.052 635.709 135.052 626.983 Q135.052 618.233 138.107 613.649 Q141.186 609.043 146.996 609.043 Z\" fill=\"#000000\" fill-rule=\"evenodd\" fill-opacity=\"1\" /><path clip-path=\"url(#clip090)\" d=\"M93.5706 325.271 L101.209 325.271 L101.209 298.906 L92.8993 300.572 L92.8993 296.313 L101.163 294.646 L105.839 294.646 L105.839 325.271 L113.478 325.271 L113.478 329.206 L93.5706 329.206 L93.5706 325.271 Z\" fill=\"#000000\" fill-rule=\"evenodd\" fill-opacity=\"1\" /><path clip-path=\"url(#clip090)\" d=\"M122.922 323.327 L127.807 323.327 L127.807 329.206 L122.922 329.206 L122.922 323.327 Z\" fill=\"#000000\" fill-rule=\"evenodd\" fill-opacity=\"1\" /><path clip-path=\"url(#clip090)\" d=\"M138.038 294.646 L156.394 294.646 L156.394 298.582 L142.32 298.582 L142.32 307.054 Q143.339 306.707 144.357 306.545 Q145.376 306.359 146.394 306.359 Q152.181 306.359 155.561 309.531 Q158.941 312.702 158.941 318.119 Q158.941 323.697 155.468 326.799 Q151.996 329.878 145.677 329.878 Q143.501 329.878 141.232 329.507 Q138.987 329.137 136.58 328.396 L136.58 323.697 Q138.663 324.831 140.885 325.387 Q143.107 325.943 145.584 325.943 Q149.589 325.943 151.927 323.836 Q154.265 321.73 154.265 318.119 Q154.265 314.507 151.927 312.401 Q149.589 310.295 145.584 310.295 Q143.709 310.295 141.834 310.711 Q139.982 311.128 138.038 312.007 L138.038 294.646 Z\" fill=\"#000000\" fill-rule=\"evenodd\" fill-opacity=\"1\" /><circle clip-path=\"url(#clip092)\" cx=\"1115.56\" cy=\"1061.23\" r=\"14.4\" fill=\"#ff0000\" fill-rule=\"evenodd\" fill-opacity=\"1\" stroke=\"#000000\" stroke-opacity=\"1\" stroke-width=\"4\"/>\n",
       "<circle clip-path=\"url(#clip092)\" cx=\"924.579\" cy=\"944.514\" r=\"14.4\" fill=\"#ff0000\" fill-rule=\"evenodd\" fill-opacity=\"1\" stroke=\"#000000\" stroke-opacity=\"1\" stroke-width=\"4\"/>\n",
       "<circle clip-path=\"url(#clip092)\" cx=\"835.359\" cy=\"677.287\" r=\"14.4\" fill=\"#0000ff\" fill-rule=\"evenodd\" fill-opacity=\"1\" stroke=\"#000000\" stroke-opacity=\"1\" stroke-width=\"4\"/>\n",
       "<circle clip-path=\"url(#clip092)\" cx=\"1268.64\" cy=\"1162.78\" r=\"14.4\" fill=\"#0000ff\" fill-rule=\"evenodd\" fill-opacity=\"1\" stroke=\"#000000\" stroke-opacity=\"1\" stroke-width=\"4\"/>\n",
       "<circle clip-path=\"url(#clip092)\" cx=\"1053.68\" cy=\"1235.12\" r=\"14.4\" fill=\"#0000ff\" fill-rule=\"evenodd\" fill-opacity=\"1\" stroke=\"#000000\" stroke-opacity=\"1\" stroke-width=\"4\"/>\n",
       "<circle clip-path=\"url(#clip092)\" cx=\"1306.34\" cy=\"973.163\" r=\"14.4\" fill=\"#0000ff\" fill-rule=\"evenodd\" fill-opacity=\"1\" stroke=\"#000000\" stroke-opacity=\"1\" stroke-width=\"4\"/>\n",
       "<polyline clip-path=\"url(#clip092)\" style=\"stroke:#808080; stroke-linecap:round; stroke-linejoin:round; stroke-width:4; stroke-opacity:0.2; fill:none\" points=\"\n",
       "  1115.56,1061.23 924.579,944.514 \n",
       "  \"/>\n",
       "<circle clip-path=\"url(#clip092)\" cx=\"1115.56\" cy=\"1061.23\" r=\"14.4\" fill=\"#808080\" fill-rule=\"evenodd\" fill-opacity=\"0.2\" stroke=\"#000000\" stroke-opacity=\"0.2\" stroke-width=\"4\"/>\n",
       "<circle clip-path=\"url(#clip092)\" cx=\"924.579\" cy=\"944.514\" r=\"14.4\" fill=\"#808080\" fill-rule=\"evenodd\" fill-opacity=\"0.2\" stroke=\"#000000\" stroke-opacity=\"0.2\" stroke-width=\"4\"/>\n",
       "<polyline clip-path=\"url(#clip092)\" style=\"stroke:#808080; stroke-linecap:round; stroke-linejoin:round; stroke-width:4; stroke-opacity:0.2; fill:none\" points=\"\n",
       "  835.359,677.287 1306.34,973.163 \n",
       "  \"/>\n",
       "<circle clip-path=\"url(#clip092)\" cx=\"835.359\" cy=\"677.287\" r=\"14.4\" fill=\"#808080\" fill-rule=\"evenodd\" fill-opacity=\"0.2\" stroke=\"#000000\" stroke-opacity=\"0.2\" stroke-width=\"4\"/>\n",
       "<circle clip-path=\"url(#clip092)\" cx=\"1306.34\" cy=\"973.163\" r=\"14.4\" fill=\"#808080\" fill-rule=\"evenodd\" fill-opacity=\"0.2\" stroke=\"#000000\" stroke-opacity=\"0.2\" stroke-width=\"4\"/>\n",
       "<polyline clip-path=\"url(#clip092)\" style=\"stroke:#808080; stroke-linecap:round; stroke-linejoin:round; stroke-width:4; stroke-opacity:0.2; fill:none\" points=\"\n",
       "  1268.64,1162.78 1053.68,1235.12 \n",
       "  \"/>\n",
       "<circle clip-path=\"url(#clip092)\" cx=\"1268.64\" cy=\"1162.78\" r=\"14.4\" fill=\"#808080\" fill-rule=\"evenodd\" fill-opacity=\"0.2\" stroke=\"#000000\" stroke-opacity=\"0.2\" stroke-width=\"4\"/>\n",
       "<circle clip-path=\"url(#clip092)\" cx=\"1053.68\" cy=\"1235.12\" r=\"14.4\" fill=\"#808080\" fill-rule=\"evenodd\" fill-opacity=\"0.2\" stroke=\"#000000\" stroke-opacity=\"0.2\" stroke-width=\"4\"/>\n",
       "</svg>\n"
      ]
     },
     "execution_count": 19,
     "metadata": {},
     "output_type": "execute_result"
    }
   ],
   "source": [
    "plot_points(S,w,Π_opt[:,2])"
   ]
  }
 ],
 "metadata": {
  "kernelspec": {
   "display_name": "Julia 1.8.4",
   "language": "julia",
   "name": "julia-1.8"
  },
  "language_info": {
   "file_extension": ".jl",
   "mimetype": "application/julia",
   "name": "julia",
   "version": "1.8.4"
  }
 },
 "nbformat": 4,
 "nbformat_minor": 5
}
