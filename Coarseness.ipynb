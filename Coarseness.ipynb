{
 "cells": [
  {
   "cell_type": "code",
   "execution_count": 1,
   "id": "84e9de01-68e4-41b8-a5b4-0c2637672b8d",
   "metadata": {
    "tags": []
   },
   "outputs": [],
   "source": [
    "using Plots\n",
    "using LazySets\n",
    "using Random"
   ]
  },
  {
   "cell_type": "code",
   "execution_count": 2,
   "id": "d5294553-2943-4b70-931c-88592232d3e9",
   "metadata": {
    "tags": []
   },
   "outputs": [
    {
     "ename": "LoadError",
     "evalue": "syntax: misplaced assignment statement in \"[abs((sum(((Π .== j) .* (w .== 1))) - sum(((Π .== j) .* (w .== -1))))) forj = 1:k]\" around In[2]:23",
     "output_type": "error",
     "traceback": [
      "syntax: misplaced assignment statement in \"[abs((sum(((Π .== j) .* (w .== 1))) - sum(((Π .== j) .* (w .== -1))))) forj = 1:k]\" around In[2]:23",
      "",
      "Stacktrace:",
      " [1] top-level scope",
      "   @ In[2]:1"
     ]
    }
   ],
   "source": [
    "function plot_points(S::Matrix{<:Real}, w::Vector{<:Integer}, Π::Vector{<:Integer}=[0])\n",
    "    S = Float64.(S)\n",
    "    red_points = S[w.==1, :]\n",
    "    blue_points = S[w.==-1, :]\n",
    "\n",
    "    plt = scatter(size=(500, 500), legend=:none, \n",
    "                  xlims=(minimum(S[:,1])-1, maximum(S[:,1])+1),\n",
    "                  ylims=(minimum(S[:,2])-1, maximum(S[:,2])+1), \n",
    "                  axis=0, framestyle=:box,\n",
    "                  grid=0, color=:white)\n",
    "    \n",
    "    scatter!(plt, red_points[:, 1], red_points[:, 2], color=:red)\n",
    "    scatter!(plt, blue_points[:, 1], blue_points[:, 2], color=:blue)\n",
    "    \n",
    "    if Π != [0]\n",
    "        k = maximum(Π)        \n",
    "        for j = 1:k\n",
    "            j_points = S[Π .== j,:]\n",
    "            j_set = [j_points[i,:] for i in 1:size(j_points,1)]\n",
    "            j_hull = convex_hull(j_set)\n",
    "            plot!(VPolygon(j_hull), color=:gray, alpha=0.2)\n",
    "        end\n",
    "        SΠ_disc = [abs(sum((Π.==j) .* (w.==1)) - sum((Π.==j) .* (w.==-1))) forj=1:k]\n",
    "        println(\"Discrepancy = \", minimum(SΠ_disc), \" = min\",SΠ_disc) \n",
    "    end\n",
    "    \n",
    "    return plt\n",
    "end"
   ]
  },
  {
   "cell_type": "code",
   "execution_count": 3,
   "id": "a5f6e3fa-c777-4c84-b07e-012ccf9b28b3",
   "metadata": {
    "tags": []
   },
   "outputs": [
    {
     "data": {
      "text/plain": [
       "discrepancy (generic function with 1 method)"
      ]
     },
     "execution_count": 3,
     "metadata": {},
     "output_type": "execute_result"
    }
   ],
   "source": [
    "function discrepancy(S::Matrix{<:Real},w::Vector{<:Integer},Π::Vector{<:Integer})\n",
    "    k = maximum(Π)  \n",
    "    SΠ_disc = [abs(sum((Π.==j) .* (w.==1)) - sum((Π.==j) .* (w.==-1))) for j=1:k]\n",
    "    disc = minimum(SΠ_disc)\n",
    "    return disc\n",
    "end"
   ]
  },
  {
   "cell_type": "code",
   "execution_count": 4,
   "id": "a73cb47e-9068-4497-90db-b723a0e01fa7",
   "metadata": {
    "tags": []
   },
   "outputs": [
    {
     "data": {
      "text/plain": [
       "relabler (generic function with 1 method)"
      ]
     },
     "execution_count": 4,
     "metadata": {},
     "output_type": "execute_result"
    }
   ],
   "source": [
    "function relabler(Π::Array{<:Integer}, new_names::Vector{<:Integer})\n",
    "    for i = 1:length(Π)\n",
    "        Π[i] = new_names[Π[i]]\n",
    "    end\n",
    "    return Π\n",
    "end"
   ]
  },
  {
   "cell_type": "code",
   "execution_count": 5,
   "id": "2a50e361-572d-419a-ae0f-19e3b413dacb",
   "metadata": {
    "tags": []
   },
   "outputs": [
    {
     "data": {
      "text/plain": [
       "partitions (generic function with 1 method)"
      ]
     },
     "execution_count": 5,
     "metadata": {},
     "output_type": "execute_result"
    }
   ],
   "source": [
    "function partitions(n::Int, k::Int)\n",
    "    if k == 1\n",
    "        return [1 for i in 1:n]\n",
    "    elseif n == k\n",
    "        return [i for i in 1:n]\n",
    "    else\n",
    "        ## This is essentially the recurrence of Stirling numbers of the second kind. (https://en.wikipedia.org/wiki/Stirling_numbers_of_the_second_kind)\n",
    "        res = Array{Integer,2}(undef,n,0)\n",
    "        for i in 1:k\n",
    "            sub_par = relabler(partitions(n-1, k), circshift([j for j in 1:k],i-1))\n",
    "            par = vcat(ones(Int,1,size(sub_par,2)),sub_par)\n",
    "            res = hcat(res,par)\n",
    "        end\n",
    "        sub_par = relabler(partitions(n-1, k-1), [j for j in 2:k])\n",
    "        par = vcat(ones(Int,1,size(sub_par,2)),sub_par)\n",
    "        res = hcat(res,par)\n",
    "        return res\n",
    "    end\n",
    "end"
   ]
  },
  {
   "cell_type": "code",
   "execution_count": 6,
   "id": "fbf3e279-e2fd-4564-a0f0-4974064a726f",
   "metadata": {
    "tags": []
   },
   "outputs": [
    {
     "data": {
      "text/plain": [
       "coarseness (generic function with 1 method)"
      ]
     },
     "execution_count": 6,
     "metadata": {},
     "output_type": "execute_result"
    }
   ],
   "source": [
    "function coarseness(S::Matrix{<:Real}, w::Vector{<:Integer})\n",
    "    c = 1\n",
    "    Π_opt = Array{Integer,2}(undef,n,0)\n",
    "\n",
    "    for k = 1:n\n",
    "        par = partitions(n,k)\n",
    "\n",
    "        for p = 1:size(par,2)\n",
    "            Π = par[:,p]\n",
    "\n",
    "            hulls = Array{Array{Array{Float64, 1}, 1}, 1}(undef,k)\n",
    "            for j = 1:k\n",
    "                j_points = S[Π .== j,:]\n",
    "                j_set = [j_points[i,:] for i in 1:size(j_points,1)]\n",
    "                hulls[j] = convex_hull(j_set)\n",
    "            end\n",
    "            flag = true\n",
    "            for j = 1:k-1\n",
    "                for l = j+1:k\n",
    "                    flag = flag * isempty( VPolygon(hulls[j]) ∩ VPolygon(hulls[l]) )\n",
    "                end\n",
    "            end\n",
    "\n",
    "            if flag \n",
    "                d = discrepancy(S,w,Π)\n",
    "                if d == c\n",
    "                    Π_opt = hcat(Π_opt, Π)\n",
    "                elseif d > c\n",
    "                    Π_opt = Π\n",
    "                    c = d\n",
    "                end\n",
    "            end\n",
    "        end\n",
    "    end\n",
    "    \n",
    "    return c,Π_opt\n",
    "end\n"
   ]
  },
  {
   "cell_type": "code",
   "execution_count": 7,
   "id": "f1309304-f417-4bb6-a9ff-3c7872182f32",
   "metadata": {
    "tags": []
   },
   "outputs": [
    {
     "name": "stdout",
     "output_type": "stream",
     "text": [
      "coarseness = 4\n",
      "[1, 1, 1, 1, 1, 1]\n"
     ]
    }
   ],
   "source": [
    "n = 6\n",
    "S = rand(n,2)\n",
    "w = rand([-1,1], n)\n",
    "\n",
    "c, Π_opt = coarseness(S,w)\n",
    "\n",
    "println(\"coarseness = \", c)\n",
    "println(Π_opt)"
   ]
  },
  {
   "cell_type": "code",
   "execution_count": 8,
   "id": "c1fbc4ce-385f-4515-9e02-4cbdb8c9f0f3",
   "metadata": {
    "tags": []
   },
   "outputs": [
    {
     "ename": "LoadError",
     "evalue": "BoundsError: attempt to access 6-element Vector{Int64} at index [1:6, 4]",
     "output_type": "error",
     "traceback": [
      "BoundsError: attempt to access 6-element Vector{Int64} at index [1:6, 4]",
      "",
      "Stacktrace:",
      " [1] throw_boundserror(A::Vector{Int64}, I::Tuple{Base.Slice{Base.OneTo{Int64}}, Int64})",
      "   @ Base .\\abstractarray.jl:703",
      " [2] checkbounds",
      "   @ .\\abstractarray.jl:668 [inlined]",
      " [3] _getindex",
      "   @ .\\multidimensional.jl:874 [inlined]",
      " [4] getindex(::Vector{Int64}, ::Function, ::Int64)",
      "   @ Base .\\abstractarray.jl:1241",
      " [5] top-level scope",
      "   @ In[8]:1"
     ]
    }
   ],
   "source": [
    "plot_points(S,w,Π_opt[:,4])"
   ]
  }
 ],
 "metadata": {
  "kernelspec": {
   "display_name": "Julia 1.8.4",
   "language": "julia",
   "name": "julia-1.8"
  },
  "language_info": {
   "file_extension": ".jl",
   "mimetype": "application/julia",
   "name": "julia",
   "version": "1.8.4"
  }
 },
 "nbformat": 4,
 "nbformat_minor": 5
}
