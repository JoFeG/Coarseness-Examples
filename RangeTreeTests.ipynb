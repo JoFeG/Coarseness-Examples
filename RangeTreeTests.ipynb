{
 "cells": [
  {
   "cell_type": "code",
   "execution_count": 1,
   "id": "a3c57ce3-044d-4fbf-9716-4c416e2fad9e",
   "metadata": {
    "tags": []
   },
   "outputs": [],
   "source": [
    "using Plots"
   ]
  },
  {
   "cell_type": "code",
   "execution_count": 2,
   "id": "e851996e-bf67-44d2-8b15-7c337f6bd1c1",
   "metadata": {
    "tags": []
   },
   "outputs": [],
   "source": [
    "struct Node{T}\n",
    "    min::T\n",
    "    max::T\n",
    "    left::Union{Node, Nothing}\n",
    "    right::Union{Node, Nothing}\n",
    "    tree::Union{Node, Nothing}\n",
    "    \n",
    "    Node(x::T) where T = new{T}(x, x, nothing, nothing, nothing)\n",
    "    Node(x::T, y::T; l=nothing, r=nothing, t=nothing) where T = new{T}(x, y, l, r, t)\n",
    "end"
   ]
  },
  {
   "cell_type": "code",
   "execution_count": 85,
   "id": "170db279-bae8-468d-9fe0-3012a17116b9",
   "metadata": {
    "tags": []
   },
   "outputs": [
    {
     "data": {
      "text/plain": [
       "4×2 Matrix{Int64}:\n",
       " 2  3\n",
       " 3  4\n",
       " 4  2\n",
       " 5  1"
      ]
     },
     "execution_count": 85,
     "metadata": {},
     "output_type": "execute_result"
    }
   ],
   "source": [
    "A = [\n",
    "    2 3\n",
    "    5 1\n",
    "    4 2\n",
    "    3 4\n",
    "]\n",
    "\n",
    "sortslices(A, dims=1, by=x->x[1])"
   ]
  },
  {
   "cell_type": "code",
   "execution_count": 25,
   "id": "425827b6-fcb1-49d0-b298-bcb199ef57c8",
   "metadata": {
    "tags": []
   },
   "outputs": [
    {
     "data": {
      "text/plain": [
       "0.5"
      ]
     },
     "execution_count": 25,
     "metadata": {},
     "output_type": "execute_result"
    }
   ],
   "source": [
    "root = Node(.1,.2,l=Node(.1,.2,l=Node(.5)))\n",
    "root.left.left.min"
   ]
  },
  {
   "cell_type": "code",
   "execution_count": 93,
   "id": "7c7930f7-5a09-4a7c-9143-012f68e76cbf",
   "metadata": {
    "tags": []
   },
   "outputs": [
    {
     "data": {
      "text/plain": [
       "Node{Vector{Int64}}([1, 7], [5, 1], Node{Vector{Int64}}([1, 7], [5, 1], Node{Vector{Int64}}([1, 7], [5, 1], Node{Vector{Int64}}([1, 7], [1, 7], nothing, nothing, nothing), Node{Vector{Int64}}([2, 3], [2, 3], nothing, nothing, nothing), Node{Vector{Int64}}([1, 7], [5, 1], Node{Vector{Int64}}([5, 1], [5, 1], nothing, nothing, nothing), Node{Vector{Int64}}([4, 2], [4, 2], nothing, nothing, nothing), nothing)), Node{Vector{Int64}}([3, 4], [3, 4], nothing, nothing, nothing), Node{Vector{Int64}}([1, 7], [5, 1], Node{Vector{Int64}}([1, 7], [5, 1], Node{Vector{Int64}}([5, 1], [5, 1], nothing, nothing, nothing), Node{Vector{Int64}}([4, 2], [4, 2], nothing, nothing, nothing), nothing), Node{Vector{Int64}}([2, 3], [2, 3], nothing, nothing, nothing), nothing)), Node{Vector{Int64}}([1, 7], [5, 1], Node{Vector{Int64}}([4, 2], [4, 2], nothing, nothing, nothing), Node{Vector{Int64}}([5, 1], [5, 1], nothing, nothing, nothing), Node{Vector{Int64}}([1, 7], [5, 1], Node{Vector{Int64}}([3, 4], [3, 4], nothing, nothing, nothing), Node{Vector{Int64}}([1, 7], [1, 7], nothing, nothing, nothing), nothing)), Node{Vector{Int64}}([1, 7], [5, 1], Node{Vector{Int64}}([1, 7], [5, 1], Node{Vector{Int64}}([1, 7], [5, 1], Node{Vector{Int64}}([5, 1], [5, 1], nothing, nothing, nothing), Node{Vector{Int64}}([4, 2], [4, 2], nothing, nothing, nothing), nothing), Node{Vector{Int64}}([2, 3], [2, 3], nothing, nothing, nothing), nothing), Node{Vector{Int64}}([1, 7], [5, 1], Node{Vector{Int64}}([3, 4], [3, 4], nothing, nothing, nothing), Node{Vector{Int64}}([1, 7], [1, 7], nothing, nothing, nothing), nothing), nothing))"
      ]
     },
     "execution_count": 93,
     "metadata": {},
     "output_type": "execute_result"
    }
   ],
   "source": [
    "function BuildYTree(S, i, j)\n",
    "    Y = sortslices(S, dims=1, by=x->x[2])\n",
    "    if i == j\n",
    "        return Node(Y[i,:])\n",
    "    else\n",
    "        m = (i + j) ÷ 2\n",
    "        return Node(X[1,:], X[end,:], l=BuildYTree(X, i, m), r=BuildYTree(X, m+1, j))\n",
    "    end\n",
    "end\n",
    "\n",
    "function BuildXTree(S, i, j)\n",
    "    X = sortslices(S, dims=1, by=x->x[1])\n",
    "    if i == j\n",
    "        return Node(X[i,:])\n",
    "    else\n",
    "        m = (i + j) ÷ 2\n",
    "        return Node(X[1,:], X[end,:], l=BuildXTree(X, i, m), r=BuildXTree(X, m+1, j), t=BuildYTree(X, i, j))\n",
    "    end\n",
    "end\n",
    "\n",
    "BuildXTree(S) = BuildXTree(S, 1, size(S)[1])\n",
    "\n",
    "S = [\n",
    "    2 3\n",
    "    5 1\n",
    "    4 2\n",
    "    3 4\n",
    "    1 7\n",
    "]\n",
    "\n",
    "tree = BuildXTree(S)\n",
    "\n",
    "function RTsearch(tree, p, q, i, j)\n",
    "    points = []\n",
    "    n = tree"
   ]
  },
  {
   "cell_type": "code",
   "execution_count": 37,
   "id": "211706b1-66a6-46cd-b354-091e503e8901",
   "metadata": {
    "tags": []
   },
   "outputs": [
    {
     "data": {
      "image/svg+xml": [
       "<?xml version=\"1.0\" encoding=\"utf-8\"?>\n",
       "<svg xmlns=\"http://www.w3.org/2000/svg\" xmlns:xlink=\"http://www.w3.org/1999/xlink\" width=\"600\" height=\"400\" viewBox=\"0 0 2400 1600\">\n",
       "<defs>\n",
       "  <clipPath id=\"clip580\">\n",
       "    <rect x=\"0\" y=\"0\" width=\"2400\" height=\"1600\"/>\n",
       "  </clipPath>\n",
       "</defs>\n",
       "<path clip-path=\"url(#clip580)\" d=\"M0 1600 L2400 1600 L2400 0 L0 0  Z\" fill=\"#ffffff\" fill-rule=\"evenodd\" fill-opacity=\"1\"/>\n",
       "<defs>\n",
       "  <clipPath id=\"clip581\">\n",
       "    <rect x=\"480\" y=\"0\" width=\"1681\" height=\"1600\"/>\n",
       "  </clipPath>\n",
       "</defs>\n",
       "<path clip-path=\"url(#clip580)\" d=\"M156.598 1486.45 L2352.76 1486.45 L2352.76 47.2441 L156.598 47.2441  Z\" fill=\"#ffffff\" fill-rule=\"evenodd\" fill-opacity=\"1\"/>\n",
       "<defs>\n",
       "  <clipPath id=\"clip582\">\n",
       "    <rect x=\"156\" y=\"47\" width=\"2197\" height=\"1440\"/>\n",
       "  </clipPath>\n",
       "</defs>\n",
       "<polyline clip-path=\"url(#clip582)\" style=\"stroke:#000000; stroke-linecap:round; stroke-linejoin:round; stroke-width:2; stroke-opacity:0.1; fill:none\" points=\"555.209,1486.45 555.209,47.2441 \"/>\n",
       "<polyline clip-path=\"url(#clip582)\" style=\"stroke:#000000; stroke-linecap:round; stroke-linejoin:round; stroke-width:2; stroke-opacity:0.1; fill:none\" points=\"694.977,1486.45 694.977,47.2441 \"/>\n",
       "<polyline clip-path=\"url(#clip582)\" style=\"stroke:#000000; stroke-linecap:round; stroke-linejoin:round; stroke-width:2; stroke-opacity:0.1; fill:none\" points=\"834.746,1486.45 834.746,47.2441 \"/>\n",
       "<polyline clip-path=\"url(#clip582)\" style=\"stroke:#000000; stroke-linecap:round; stroke-linejoin:round; stroke-width:2; stroke-opacity:0.1; fill:none\" points=\"974.515,1486.45 974.515,47.2441 \"/>\n",
       "<polyline clip-path=\"url(#clip582)\" style=\"stroke:#000000; stroke-linecap:round; stroke-linejoin:round; stroke-width:2; stroke-opacity:0.1; fill:none\" points=\"1114.28,1486.45 1114.28,47.2441 \"/>\n",
       "<polyline clip-path=\"url(#clip582)\" style=\"stroke:#000000; stroke-linecap:round; stroke-linejoin:round; stroke-width:2; stroke-opacity:0.1; fill:none\" points=\"1254.05,1486.45 1254.05,47.2441 \"/>\n",
       "<polyline clip-path=\"url(#clip582)\" style=\"stroke:#000000; stroke-linecap:round; stroke-linejoin:round; stroke-width:2; stroke-opacity:0.1; fill:none\" points=\"1393.82,1486.45 1393.82,47.2441 \"/>\n",
       "<polyline clip-path=\"url(#clip582)\" style=\"stroke:#000000; stroke-linecap:round; stroke-linejoin:round; stroke-width:2; stroke-opacity:0.1; fill:none\" points=\"1533.59,1486.45 1533.59,47.2441 \"/>\n",
       "<polyline clip-path=\"url(#clip582)\" style=\"stroke:#000000; stroke-linecap:round; stroke-linejoin:round; stroke-width:2; stroke-opacity:0.1; fill:none\" points=\"1673.36,1486.45 1673.36,47.2441 \"/>\n",
       "<polyline clip-path=\"url(#clip582)\" style=\"stroke:#000000; stroke-linecap:round; stroke-linejoin:round; stroke-width:2; stroke-opacity:0.1; fill:none\" points=\"1813.13,1486.45 1813.13,47.2441 \"/>\n",
       "<polyline clip-path=\"url(#clip582)\" style=\"stroke:#000000; stroke-linecap:round; stroke-linejoin:round; stroke-width:2; stroke-opacity:0.1; fill:none\" points=\"1952.9,1486.45 1952.9,47.2441 \"/>\n",
       "<polyline clip-path=\"url(#clip580)\" style=\"stroke:#000000; stroke-linecap:round; stroke-linejoin:round; stroke-width:4; stroke-opacity:1; fill:none\" points=\"156.598,1486.45 2352.76,1486.45 \"/>\n",
       "<polyline clip-path=\"url(#clip580)\" style=\"stroke:#000000; stroke-linecap:round; stroke-linejoin:round; stroke-width:4; stroke-opacity:1; fill:none\" points=\"555.209,1486.45 555.209,1467.55 \"/>\n",
       "<polyline clip-path=\"url(#clip580)\" style=\"stroke:#000000; stroke-linecap:round; stroke-linejoin:round; stroke-width:4; stroke-opacity:1; fill:none\" points=\"694.977,1486.45 694.977,1467.55 \"/>\n",
       "<polyline clip-path=\"url(#clip580)\" style=\"stroke:#000000; stroke-linecap:round; stroke-linejoin:round; stroke-width:4; stroke-opacity:1; fill:none\" points=\"834.746,1486.45 834.746,1467.55 \"/>\n",
       "<polyline clip-path=\"url(#clip580)\" style=\"stroke:#000000; stroke-linecap:round; stroke-linejoin:round; stroke-width:4; stroke-opacity:1; fill:none\" points=\"974.515,1486.45 974.515,1467.55 \"/>\n",
       "<polyline clip-path=\"url(#clip580)\" style=\"stroke:#000000; stroke-linecap:round; stroke-linejoin:round; stroke-width:4; stroke-opacity:1; fill:none\" points=\"1114.28,1486.45 1114.28,1467.55 \"/>\n",
       "<polyline clip-path=\"url(#clip580)\" style=\"stroke:#000000; stroke-linecap:round; stroke-linejoin:round; stroke-width:4; stroke-opacity:1; fill:none\" points=\"1254.05,1486.45 1254.05,1467.55 \"/>\n",
       "<polyline clip-path=\"url(#clip580)\" style=\"stroke:#000000; stroke-linecap:round; stroke-linejoin:round; stroke-width:4; stroke-opacity:1; fill:none\" points=\"1393.82,1486.45 1393.82,1467.55 \"/>\n",
       "<polyline clip-path=\"url(#clip580)\" style=\"stroke:#000000; stroke-linecap:round; stroke-linejoin:round; stroke-width:4; stroke-opacity:1; fill:none\" points=\"1533.59,1486.45 1533.59,1467.55 \"/>\n",
       "<polyline clip-path=\"url(#clip580)\" style=\"stroke:#000000; stroke-linecap:round; stroke-linejoin:round; stroke-width:4; stroke-opacity:1; fill:none\" points=\"1673.36,1486.45 1673.36,1467.55 \"/>\n",
       "<polyline clip-path=\"url(#clip580)\" style=\"stroke:#000000; stroke-linecap:round; stroke-linejoin:round; stroke-width:4; stroke-opacity:1; fill:none\" points=\"1813.13,1486.45 1813.13,1467.55 \"/>\n",
       "<polyline clip-path=\"url(#clip580)\" style=\"stroke:#000000; stroke-linecap:round; stroke-linejoin:round; stroke-width:4; stroke-opacity:1; fill:none\" points=\"1952.9,1486.45 1952.9,1467.55 \"/>\n",
       "<path clip-path=\"url(#clip580)\" d=\"M532.593 1517.37 Q528.982 1517.37 527.153 1520.93 Q525.348 1524.47 525.348 1531.6 Q525.348 1538.71 527.153 1542.27 Q528.982 1545.82 532.593 1545.82 Q536.227 1545.82 538.033 1542.27 Q539.861 1538.71 539.861 1531.6 Q539.861 1524.47 538.033 1520.93 Q536.227 1517.37 532.593 1517.37 M532.593 1513.66 Q538.403 1513.66 541.459 1518.27 Q544.537 1522.85 544.537 1531.6 Q544.537 1540.33 541.459 1544.94 Q538.403 1549.52 532.593 1549.52 Q526.783 1549.52 523.704 1544.94 Q520.649 1540.33 520.649 1531.6 Q520.649 1522.85 523.704 1518.27 Q526.783 1513.66 532.593 1513.66 Z\" fill=\"#000000\" fill-rule=\"nonzero\" fill-opacity=\"1\" /><path clip-path=\"url(#clip580)\" d=\"M552.755 1542.97 L557.639 1542.97 L557.639 1548.85 L552.755 1548.85 L552.755 1542.97 Z\" fill=\"#000000\" fill-rule=\"nonzero\" fill-opacity=\"1\" /><path clip-path=\"url(#clip580)\" d=\"M577.824 1517.37 Q574.213 1517.37 572.384 1520.93 Q570.579 1524.47 570.579 1531.6 Q570.579 1538.71 572.384 1542.27 Q574.213 1545.82 577.824 1545.82 Q581.458 1545.82 583.264 1542.27 Q585.093 1538.71 585.093 1531.6 Q585.093 1524.47 583.264 1520.93 Q581.458 1517.37 577.824 1517.37 M577.824 1513.66 Q583.634 1513.66 586.69 1518.27 Q589.769 1522.85 589.769 1531.6 Q589.769 1540.33 586.69 1544.94 Q583.634 1549.52 577.824 1549.52 Q572.014 1549.52 568.935 1544.94 Q565.88 1540.33 565.88 1531.6 Q565.88 1522.85 568.935 1518.27 Q572.014 1513.66 577.824 1513.66 Z\" fill=\"#000000\" fill-rule=\"nonzero\" fill-opacity=\"1\" /><path clip-path=\"url(#clip580)\" d=\"M672.975 1517.37 Q669.364 1517.37 667.535 1520.93 Q665.73 1524.47 665.73 1531.6 Q665.73 1538.71 667.535 1542.27 Q669.364 1545.82 672.975 1545.82 Q676.609 1545.82 678.415 1542.27 Q680.244 1538.71 680.244 1531.6 Q680.244 1524.47 678.415 1520.93 Q676.609 1517.37 672.975 1517.37 M672.975 1513.66 Q678.785 1513.66 681.841 1518.27 Q684.92 1522.85 684.92 1531.6 Q684.92 1540.33 681.841 1544.94 Q678.785 1549.52 672.975 1549.52 Q667.165 1549.52 664.086 1544.94 Q661.031 1540.33 661.031 1531.6 Q661.031 1522.85 664.086 1518.27 Q667.165 1513.66 672.975 1513.66 Z\" fill=\"#000000\" fill-rule=\"nonzero\" fill-opacity=\"1\" /><path clip-path=\"url(#clip580)\" d=\"M693.137 1542.97 L698.021 1542.97 L698.021 1548.85 L693.137 1548.85 L693.137 1542.97 Z\" fill=\"#000000\" fill-rule=\"nonzero\" fill-opacity=\"1\" /><path clip-path=\"url(#clip580)\" d=\"M709.017 1544.91 L716.656 1544.91 L716.656 1518.55 L708.345 1520.21 L708.345 1515.95 L716.609 1514.29 L721.285 1514.29 L721.285 1544.91 L728.924 1544.91 L728.924 1548.85 L709.017 1548.85 L709.017 1544.91 Z\" fill=\"#000000\" fill-rule=\"nonzero\" fill-opacity=\"1\" /><path clip-path=\"url(#clip580)\" d=\"M812.929 1517.37 Q809.318 1517.37 807.489 1520.93 Q805.684 1524.47 805.684 1531.6 Q805.684 1538.71 807.489 1542.27 Q809.318 1545.82 812.929 1545.82 Q816.563 1545.82 818.369 1542.27 Q820.198 1538.71 820.198 1531.6 Q820.198 1524.47 818.369 1520.93 Q816.563 1517.37 812.929 1517.37 M812.929 1513.66 Q818.739 1513.66 821.795 1518.27 Q824.874 1522.85 824.874 1531.6 Q824.874 1540.33 821.795 1544.94 Q818.739 1549.52 812.929 1549.52 Q807.119 1549.52 804.04 1544.94 Q800.985 1540.33 800.985 1531.6 Q800.985 1522.85 804.04 1518.27 Q807.119 1513.66 812.929 1513.66 Z\" fill=\"#000000\" fill-rule=\"nonzero\" fill-opacity=\"1\" /><path clip-path=\"url(#clip580)\" d=\"M833.091 1542.97 L837.975 1542.97 L837.975 1548.85 L833.091 1548.85 L833.091 1542.97 Z\" fill=\"#000000\" fill-rule=\"nonzero\" fill-opacity=\"1\" /><path clip-path=\"url(#clip580)\" d=\"M852.188 1544.91 L868.508 1544.91 L868.508 1548.85 L846.563 1548.85 L846.563 1544.91 Q849.225 1542.16 853.809 1537.53 Q858.415 1532.88 859.596 1531.53 Q861.841 1529.01 862.721 1527.27 Q863.623 1525.51 863.623 1523.82 Q863.623 1521.07 861.679 1519.33 Q859.758 1517.6 856.656 1517.6 Q854.457 1517.6 852.003 1518.36 Q849.573 1519.13 846.795 1520.68 L846.795 1515.95 Q849.619 1514.82 852.073 1514.24 Q854.526 1513.66 856.563 1513.66 Q861.934 1513.66 865.128 1516.35 Q868.322 1519.03 868.322 1523.52 Q868.322 1525.65 867.512 1527.57 Q866.725 1529.47 864.619 1532.07 Q864.04 1532.74 860.938 1535.95 Q857.836 1539.15 852.188 1544.91 Z\" fill=\"#000000\" fill-rule=\"nonzero\" fill-opacity=\"1\" /><path clip-path=\"url(#clip580)\" d=\"M952.224 1517.37 Q948.613 1517.37 946.784 1520.93 Q944.978 1524.47 944.978 1531.6 Q944.978 1538.71 946.784 1542.27 Q948.613 1545.82 952.224 1545.82 Q955.858 1545.82 957.663 1542.27 Q959.492 1538.71 959.492 1531.6 Q959.492 1524.47 957.663 1520.93 Q955.858 1517.37 952.224 1517.37 M952.224 1513.66 Q958.034 1513.66 961.089 1518.27 Q964.168 1522.85 964.168 1531.6 Q964.168 1540.33 961.089 1544.94 Q958.034 1549.52 952.224 1549.52 Q946.413 1549.52 943.335 1544.94 Q940.279 1540.33 940.279 1531.6 Q940.279 1522.85 943.335 1518.27 Q946.413 1513.66 952.224 1513.66 Z\" fill=\"#000000\" fill-rule=\"nonzero\" fill-opacity=\"1\" /><path clip-path=\"url(#clip580)\" d=\"M972.386 1542.97 L977.27 1542.97 L977.27 1548.85 L972.386 1548.85 L972.386 1542.97 Z\" fill=\"#000000\" fill-rule=\"nonzero\" fill-opacity=\"1\" /><path clip-path=\"url(#clip580)\" d=\"M1001.62 1530.21 Q1004.98 1530.93 1006.85 1533.2 Q1008.75 1535.47 1008.75 1538.8 Q1008.75 1543.92 1005.23 1546.72 Q1001.71 1549.52 995.233 1549.52 Q993.057 1549.52 990.742 1549.08 Q988.45 1548.66 985.997 1547.81 L985.997 1543.29 Q987.941 1544.43 990.256 1545.01 Q992.571 1545.58 995.094 1545.58 Q999.492 1545.58 1001.78 1543.85 Q1004.1 1542.11 1004.1 1538.8 Q1004.1 1535.75 1001.95 1534.03 Q999.816 1532.3 995.997 1532.3 L991.969 1532.3 L991.969 1528.45 L996.182 1528.45 Q999.631 1528.45 1001.46 1527.09 Q1003.29 1525.7 1003.29 1523.11 Q1003.29 1520.45 1001.39 1519.03 Q999.515 1517.6 995.997 1517.6 Q994.075 1517.6 991.876 1518.01 Q989.677 1518.43 987.038 1519.31 L987.038 1515.14 Q989.7 1514.4 992.015 1514.03 Q994.353 1513.66 996.413 1513.66 Q1001.74 1513.66 1004.84 1516.09 Q1007.94 1518.5 1007.94 1522.62 Q1007.94 1525.49 1006.3 1527.48 Q1004.65 1529.45 1001.62 1530.21 Z\" fill=\"#000000\" fill-rule=\"nonzero\" fill-opacity=\"1\" /><path clip-path=\"url(#clip580)\" d=\"M1091.43 1517.37 Q1087.81 1517.37 1085.99 1520.93 Q1084.18 1524.47 1084.18 1531.6 Q1084.18 1538.71 1085.99 1542.27 Q1087.81 1545.82 1091.43 1545.82 Q1095.06 1545.82 1096.87 1542.27 Q1098.69 1538.71 1098.69 1531.6 Q1098.69 1524.47 1096.87 1520.93 Q1095.06 1517.37 1091.43 1517.37 M1091.43 1513.66 Q1097.24 1513.66 1100.29 1518.27 Q1103.37 1522.85 1103.37 1531.6 Q1103.37 1540.33 1100.29 1544.94 Q1097.24 1549.52 1091.43 1549.52 Q1085.62 1549.52 1082.54 1544.94 Q1079.48 1540.33 1079.48 1531.6 Q1079.48 1522.85 1082.54 1518.27 Q1085.62 1513.66 1091.43 1513.66 Z\" fill=\"#000000\" fill-rule=\"nonzero\" fill-opacity=\"1\" /><path clip-path=\"url(#clip580)\" d=\"M1111.59 1542.97 L1116.47 1542.97 L1116.47 1548.85 L1111.59 1548.85 L1111.59 1542.97 Z\" fill=\"#000000\" fill-rule=\"nonzero\" fill-opacity=\"1\" /><path clip-path=\"url(#clip580)\" d=\"M1139.5 1518.36 L1127.7 1536.81 L1139.5 1536.81 L1139.5 1518.36 M1138.28 1514.29 L1144.16 1514.29 L1144.16 1536.81 L1149.09 1536.81 L1149.09 1540.7 L1144.16 1540.7 L1144.16 1548.85 L1139.5 1548.85 L1139.5 1540.7 L1123.9 1540.7 L1123.9 1536.19 L1138.28 1514.29 Z\" fill=\"#000000\" fill-rule=\"nonzero\" fill-opacity=\"1\" /><path clip-path=\"url(#clip580)\" d=\"M1231.93 1517.37 Q1228.32 1517.37 1226.5 1520.93 Q1224.69 1524.47 1224.69 1531.6 Q1224.69 1538.71 1226.5 1542.27 Q1228.32 1545.82 1231.93 1545.82 Q1235.57 1545.82 1237.37 1542.27 Q1239.2 1538.71 1239.2 1531.6 Q1239.2 1524.47 1237.37 1520.93 Q1235.57 1517.37 1231.93 1517.37 M1231.93 1513.66 Q1237.75 1513.66 1240.8 1518.27 Q1243.88 1522.85 1243.88 1531.6 Q1243.88 1540.33 1240.8 1544.94 Q1237.75 1549.52 1231.93 1549.52 Q1226.12 1549.52 1223.05 1544.94 Q1219.99 1540.33 1219.99 1531.6 Q1219.99 1522.85 1223.05 1518.27 Q1226.12 1513.66 1231.93 1513.66 Z\" fill=\"#000000\" fill-rule=\"nonzero\" fill-opacity=\"1\" /><path clip-path=\"url(#clip580)\" d=\"M1252.1 1542.97 L1256.98 1542.97 L1256.98 1548.85 L1252.1 1548.85 L1252.1 1542.97 Z\" fill=\"#000000\" fill-rule=\"nonzero\" fill-opacity=\"1\" /><path clip-path=\"url(#clip580)\" d=\"M1267.21 1514.29 L1285.57 1514.29 L1285.57 1518.22 L1271.49 1518.22 L1271.49 1526.7 Q1272.51 1526.35 1273.53 1526.19 Q1274.55 1526 1275.57 1526 Q1281.36 1526 1284.74 1529.17 Q1288.12 1532.34 1288.12 1537.76 Q1288.12 1543.34 1284.64 1546.44 Q1281.17 1549.52 1274.85 1549.52 Q1272.68 1549.52 1270.41 1549.15 Q1268.16 1548.78 1265.75 1548.04 L1265.75 1543.34 Q1267.84 1544.47 1270.06 1545.03 Q1272.28 1545.58 1274.76 1545.58 Q1278.76 1545.58 1281.1 1543.48 Q1283.44 1541.37 1283.44 1537.76 Q1283.44 1534.15 1281.1 1532.04 Q1278.76 1529.94 1274.76 1529.94 Q1272.88 1529.94 1271.01 1530.35 Q1269.16 1530.77 1267.21 1531.65 L1267.21 1514.29 Z\" fill=\"#000000\" fill-rule=\"nonzero\" fill-opacity=\"1\" /><path clip-path=\"url(#clip580)\" d=\"M1371.13 1517.37 Q1367.51 1517.37 1365.69 1520.93 Q1363.88 1524.47 1363.88 1531.6 Q1363.88 1538.71 1365.69 1542.27 Q1367.51 1545.82 1371.13 1545.82 Q1374.76 1545.82 1376.56 1542.27 Q1378.39 1538.71 1378.39 1531.6 Q1378.39 1524.47 1376.56 1520.93 Q1374.76 1517.37 1371.13 1517.37 M1371.13 1513.66 Q1376.94 1513.66 1379.99 1518.27 Q1383.07 1522.85 1383.07 1531.6 Q1383.07 1540.33 1379.99 1544.94 Q1376.94 1549.52 1371.13 1549.52 Q1365.31 1549.52 1362.24 1544.94 Q1359.18 1540.33 1359.18 1531.6 Q1359.18 1522.85 1362.24 1518.27 Q1365.31 1513.66 1371.13 1513.66 Z\" fill=\"#000000\" fill-rule=\"nonzero\" fill-opacity=\"1\" /><path clip-path=\"url(#clip580)\" d=\"M1391.29 1542.97 L1396.17 1542.97 L1396.17 1548.85 L1391.29 1548.85 L1391.29 1542.97 Z\" fill=\"#000000\" fill-rule=\"nonzero\" fill-opacity=\"1\" /><path clip-path=\"url(#clip580)\" d=\"M1416.94 1529.7 Q1413.79 1529.7 1411.94 1531.86 Q1410.11 1534.01 1410.11 1537.76 Q1410.11 1541.49 1411.94 1543.66 Q1413.79 1545.82 1416.94 1545.82 Q1420.08 1545.82 1421.91 1543.66 Q1423.76 1541.49 1423.76 1537.76 Q1423.76 1534.01 1421.91 1531.86 Q1420.08 1529.7 1416.94 1529.7 M1426.22 1515.05 L1426.22 1519.31 Q1424.46 1518.48 1422.65 1518.04 Q1420.87 1517.6 1419.11 1517.6 Q1414.48 1517.6 1412.03 1520.72 Q1409.6 1523.85 1409.25 1530.17 Q1410.62 1528.15 1412.68 1527.09 Q1414.74 1526 1417.21 1526 Q1422.42 1526 1425.43 1529.17 Q1428.46 1532.32 1428.46 1537.76 Q1428.46 1543.08 1425.31 1546.3 Q1422.17 1549.52 1416.94 1549.52 Q1410.94 1549.52 1407.77 1544.94 Q1404.6 1540.33 1404.6 1531.6 Q1404.6 1523.41 1408.49 1518.55 Q1412.37 1513.66 1418.93 1513.66 Q1420.69 1513.66 1422.47 1514.01 Q1424.27 1514.36 1426.22 1515.05 Z\" fill=\"#000000\" fill-rule=\"nonzero\" fill-opacity=\"1\" /><path clip-path=\"url(#clip580)\" d=\"M1511.43 1517.37 Q1507.82 1517.37 1505.99 1520.93 Q1504.18 1524.47 1504.18 1531.6 Q1504.18 1538.71 1505.99 1542.27 Q1507.82 1545.82 1511.43 1545.82 Q1515.06 1545.82 1516.87 1542.27 Q1518.69 1538.71 1518.69 1531.6 Q1518.69 1524.47 1516.87 1520.93 Q1515.06 1517.37 1511.43 1517.37 M1511.43 1513.66 Q1517.24 1513.66 1520.29 1518.27 Q1523.37 1522.85 1523.37 1531.6 Q1523.37 1540.33 1520.29 1544.94 Q1517.24 1549.52 1511.43 1549.52 Q1505.62 1549.52 1502.54 1544.94 Q1499.48 1540.33 1499.48 1531.6 Q1499.48 1522.85 1502.54 1518.27 Q1505.62 1513.66 1511.43 1513.66 Z\" fill=\"#000000\" fill-rule=\"nonzero\" fill-opacity=\"1\" /><path clip-path=\"url(#clip580)\" d=\"M1531.59 1542.97 L1536.47 1542.97 L1536.47 1548.85 L1531.59 1548.85 L1531.59 1542.97 Z\" fill=\"#000000\" fill-rule=\"nonzero\" fill-opacity=\"1\" /><path clip-path=\"url(#clip580)\" d=\"M1545.48 1514.29 L1567.7 1514.29 L1567.7 1516.28 L1555.15 1548.85 L1550.27 1548.85 L1562.07 1518.22 L1545.48 1518.22 L1545.48 1514.29 Z\" fill=\"#000000\" fill-rule=\"nonzero\" fill-opacity=\"1\" /><path clip-path=\"url(#clip580)\" d=\"M1650.79 1517.37 Q1647.18 1517.37 1645.35 1520.93 Q1643.54 1524.47 1643.54 1531.6 Q1643.54 1538.71 1645.35 1542.27 Q1647.18 1545.82 1650.79 1545.82 Q1654.42 1545.82 1656.23 1542.27 Q1658.06 1538.71 1658.06 1531.6 Q1658.06 1524.47 1656.23 1520.93 Q1654.42 1517.37 1650.79 1517.37 M1650.79 1513.66 Q1656.6 1513.66 1659.66 1518.27 Q1662.73 1522.85 1662.73 1531.6 Q1662.73 1540.33 1659.66 1544.94 Q1656.6 1549.52 1650.79 1549.52 Q1644.98 1549.52 1641.9 1544.94 Q1638.85 1540.33 1638.85 1531.6 Q1638.85 1522.85 1641.9 1518.27 Q1644.98 1513.66 1650.79 1513.66 Z\" fill=\"#000000\" fill-rule=\"nonzero\" fill-opacity=\"1\" /><path clip-path=\"url(#clip580)\" d=\"M1670.95 1542.97 L1675.84 1542.97 L1675.84 1548.85 L1670.95 1548.85 L1670.95 1542.97 Z\" fill=\"#000000\" fill-rule=\"nonzero\" fill-opacity=\"1\" /><path clip-path=\"url(#clip580)\" d=\"M1696.02 1532.44 Q1692.69 1532.44 1690.77 1534.22 Q1688.87 1536 1688.87 1539.13 Q1688.87 1542.25 1690.77 1544.03 Q1692.69 1545.82 1696.02 1545.82 Q1699.35 1545.82 1701.28 1544.03 Q1703.2 1542.23 1703.2 1539.13 Q1703.2 1536 1701.28 1534.22 Q1699.38 1532.44 1696.02 1532.44 M1691.35 1530.45 Q1688.34 1529.7 1686.65 1527.64 Q1684.98 1525.58 1684.98 1522.62 Q1684.98 1518.48 1687.92 1516.07 Q1690.88 1513.66 1696.02 1513.66 Q1701.18 1513.66 1704.12 1516.07 Q1707.06 1518.48 1707.06 1522.62 Q1707.06 1525.58 1705.37 1527.64 Q1703.71 1529.7 1700.72 1530.45 Q1704.1 1531.23 1705.98 1533.52 Q1707.87 1535.82 1707.87 1539.13 Q1707.87 1544.15 1704.79 1546.83 Q1701.74 1549.52 1696.02 1549.52 Q1690.3 1549.52 1687.23 1546.83 Q1684.17 1544.15 1684.17 1539.13 Q1684.17 1535.82 1686.07 1533.52 Q1687.97 1531.23 1691.35 1530.45 M1689.63 1523.06 Q1689.63 1525.75 1691.3 1527.25 Q1692.99 1528.76 1696.02 1528.76 Q1699.03 1528.76 1700.72 1527.25 Q1702.43 1525.75 1702.43 1523.06 Q1702.43 1520.38 1700.72 1518.87 Q1699.03 1517.37 1696.02 1517.37 Q1692.99 1517.37 1691.3 1518.87 Q1689.63 1520.38 1689.63 1523.06 Z\" fill=\"#000000\" fill-rule=\"nonzero\" fill-opacity=\"1\" /><path clip-path=\"url(#clip580)\" d=\"M1790.61 1517.37 Q1786.99 1517.37 1785.17 1520.93 Q1783.36 1524.47 1783.36 1531.6 Q1783.36 1538.71 1785.17 1542.27 Q1786.99 1545.82 1790.61 1545.82 Q1794.24 1545.82 1796.05 1542.27 Q1797.87 1538.71 1797.87 1531.6 Q1797.87 1524.47 1796.05 1520.93 Q1794.24 1517.37 1790.61 1517.37 M1790.61 1513.66 Q1796.42 1513.66 1799.47 1518.27 Q1802.55 1522.85 1802.55 1531.6 Q1802.55 1540.33 1799.47 1544.94 Q1796.42 1549.52 1790.61 1549.52 Q1784.8 1549.52 1781.72 1544.94 Q1778.66 1540.33 1778.66 1531.6 Q1778.66 1522.85 1781.72 1518.27 Q1784.8 1513.66 1790.61 1513.66 Z\" fill=\"#000000\" fill-rule=\"nonzero\" fill-opacity=\"1\" /><path clip-path=\"url(#clip580)\" d=\"M1810.77 1542.97 L1815.65 1542.97 L1815.65 1548.85 L1810.77 1548.85 L1810.77 1542.97 Z\" fill=\"#000000\" fill-rule=\"nonzero\" fill-opacity=\"1\" /><path clip-path=\"url(#clip580)\" d=\"M1825.98 1548.13 L1825.98 1543.87 Q1827.73 1544.7 1829.54 1545.14 Q1831.35 1545.58 1833.08 1545.58 Q1837.71 1545.58 1840.14 1542.48 Q1842.6 1539.36 1842.94 1533.01 Q1841.6 1535.01 1839.54 1536.07 Q1837.48 1537.13 1834.98 1537.13 Q1829.79 1537.13 1826.76 1534.01 Q1823.75 1530.86 1823.75 1525.42 Q1823.75 1520.1 1826.9 1516.88 Q1830.05 1513.66 1835.28 1513.66 Q1841.28 1513.66 1844.42 1518.27 Q1847.6 1522.85 1847.6 1531.6 Q1847.6 1539.77 1843.71 1544.66 Q1839.84 1549.52 1833.29 1549.52 Q1831.53 1549.52 1829.73 1549.17 Q1827.92 1548.82 1825.98 1548.13 M1835.28 1533.48 Q1838.43 1533.48 1840.26 1531.32 Q1842.11 1529.17 1842.11 1525.42 Q1842.11 1521.7 1840.26 1519.54 Q1838.43 1517.37 1835.28 1517.37 Q1832.13 1517.37 1830.28 1519.54 Q1828.45 1521.7 1828.45 1525.42 Q1828.45 1529.17 1830.28 1531.32 Q1832.13 1533.48 1835.28 1533.48 Z\" fill=\"#000000\" fill-rule=\"nonzero\" fill-opacity=\"1\" /><path clip-path=\"url(#clip580)\" d=\"M1920.05 1544.91 L1927.69 1544.91 L1927.69 1518.55 L1919.38 1520.21 L1919.38 1515.95 L1927.64 1514.29 L1932.32 1514.29 L1932.32 1544.91 L1939.96 1544.91 L1939.96 1548.85 L1920.05 1548.85 L1920.05 1544.91 Z\" fill=\"#000000\" fill-rule=\"nonzero\" fill-opacity=\"1\" /><path clip-path=\"url(#clip580)\" d=\"M1949.4 1542.97 L1954.29 1542.97 L1954.29 1548.85 L1949.4 1548.85 L1949.4 1542.97 Z\" fill=\"#000000\" fill-rule=\"nonzero\" fill-opacity=\"1\" /><path clip-path=\"url(#clip580)\" d=\"M1974.47 1517.37 Q1970.86 1517.37 1969.03 1520.93 Q1967.23 1524.47 1967.23 1531.6 Q1967.23 1538.71 1969.03 1542.27 Q1970.86 1545.82 1974.47 1545.82 Q1978.11 1545.82 1979.91 1542.27 Q1981.74 1538.71 1981.74 1531.6 Q1981.74 1524.47 1979.91 1520.93 Q1978.11 1517.37 1974.47 1517.37 M1974.47 1513.66 Q1980.28 1513.66 1983.34 1518.27 Q1986.42 1522.85 1986.42 1531.6 Q1986.42 1540.33 1983.34 1544.94 Q1980.28 1549.52 1974.47 1549.52 Q1968.66 1549.52 1965.58 1544.94 Q1962.53 1540.33 1962.53 1531.6 Q1962.53 1522.85 1965.58 1518.27 Q1968.66 1513.66 1974.47 1513.66 Z\" fill=\"#000000\" fill-rule=\"nonzero\" fill-opacity=\"1\" /><polyline clip-path=\"url(#clip582)\" style=\"stroke:#000000; stroke-linecap:round; stroke-linejoin:round; stroke-width:2; stroke-opacity:0.1; fill:none\" points=\"156.598,1466.62 2352.76,1466.62 \"/>\n",
       "<polyline clip-path=\"url(#clip582)\" style=\"stroke:#000000; stroke-linecap:round; stroke-linejoin:round; stroke-width:2; stroke-opacity:0.1; fill:none\" points=\"156.598,1326.85 2352.76,1326.85 \"/>\n",
       "<polyline clip-path=\"url(#clip582)\" style=\"stroke:#000000; stroke-linecap:round; stroke-linejoin:round; stroke-width:2; stroke-opacity:0.1; fill:none\" points=\"156.598,1187.08 2352.76,1187.08 \"/>\n",
       "<polyline clip-path=\"url(#clip582)\" style=\"stroke:#000000; stroke-linecap:round; stroke-linejoin:round; stroke-width:2; stroke-opacity:0.1; fill:none\" points=\"156.598,1047.31 2352.76,1047.31 \"/>\n",
       "<polyline clip-path=\"url(#clip582)\" style=\"stroke:#000000; stroke-linecap:round; stroke-linejoin:round; stroke-width:2; stroke-opacity:0.1; fill:none\" points=\"156.598,907.54 2352.76,907.54 \"/>\n",
       "<polyline clip-path=\"url(#clip582)\" style=\"stroke:#000000; stroke-linecap:round; stroke-linejoin:round; stroke-width:2; stroke-opacity:0.1; fill:none\" points=\"156.598,767.771 2352.76,767.771 \"/>\n",
       "<polyline clip-path=\"url(#clip582)\" style=\"stroke:#000000; stroke-linecap:round; stroke-linejoin:round; stroke-width:2; stroke-opacity:0.1; fill:none\" points=\"156.598,628.002 2352.76,628.002 \"/>\n",
       "<polyline clip-path=\"url(#clip582)\" style=\"stroke:#000000; stroke-linecap:round; stroke-linejoin:round; stroke-width:2; stroke-opacity:0.1; fill:none\" points=\"156.598,488.233 2352.76,488.233 \"/>\n",
       "<polyline clip-path=\"url(#clip582)\" style=\"stroke:#000000; stroke-linecap:round; stroke-linejoin:round; stroke-width:2; stroke-opacity:0.1; fill:none\" points=\"156.598,348.464 2352.76,348.464 \"/>\n",
       "<polyline clip-path=\"url(#clip582)\" style=\"stroke:#000000; stroke-linecap:round; stroke-linejoin:round; stroke-width:2; stroke-opacity:0.1; fill:none\" points=\"156.598,208.695 2352.76,208.695 \"/>\n",
       "<polyline clip-path=\"url(#clip582)\" style=\"stroke:#000000; stroke-linecap:round; stroke-linejoin:round; stroke-width:2; stroke-opacity:0.1; fill:none\" points=\"156.598,68.9265 2352.76,68.9265 \"/>\n",
       "<polyline clip-path=\"url(#clip580)\" style=\"stroke:#000000; stroke-linecap:round; stroke-linejoin:round; stroke-width:4; stroke-opacity:1; fill:none\" points=\"156.598,1486.45 156.598,47.2441 \"/>\n",
       "<polyline clip-path=\"url(#clip580)\" style=\"stroke:#000000; stroke-linecap:round; stroke-linejoin:round; stroke-width:4; stroke-opacity:1; fill:none\" points=\"156.598,1466.62 175.496,1466.62 \"/>\n",
       "<polyline clip-path=\"url(#clip580)\" style=\"stroke:#000000; stroke-linecap:round; stroke-linejoin:round; stroke-width:4; stroke-opacity:1; fill:none\" points=\"156.598,1326.85 175.496,1326.85 \"/>\n",
       "<polyline clip-path=\"url(#clip580)\" style=\"stroke:#000000; stroke-linecap:round; stroke-linejoin:round; stroke-width:4; stroke-opacity:1; fill:none\" points=\"156.598,1187.08 175.496,1187.08 \"/>\n",
       "<polyline clip-path=\"url(#clip580)\" style=\"stroke:#000000; stroke-linecap:round; stroke-linejoin:round; stroke-width:4; stroke-opacity:1; fill:none\" points=\"156.598,1047.31 175.496,1047.31 \"/>\n",
       "<polyline clip-path=\"url(#clip580)\" style=\"stroke:#000000; stroke-linecap:round; stroke-linejoin:round; stroke-width:4; stroke-opacity:1; fill:none\" points=\"156.598,907.54 175.496,907.54 \"/>\n",
       "<polyline clip-path=\"url(#clip580)\" style=\"stroke:#000000; stroke-linecap:round; stroke-linejoin:round; stroke-width:4; stroke-opacity:1; fill:none\" points=\"156.598,767.771 175.496,767.771 \"/>\n",
       "<polyline clip-path=\"url(#clip580)\" style=\"stroke:#000000; stroke-linecap:round; stroke-linejoin:round; stroke-width:4; stroke-opacity:1; fill:none\" points=\"156.598,628.002 175.496,628.002 \"/>\n",
       "<polyline clip-path=\"url(#clip580)\" style=\"stroke:#000000; stroke-linecap:round; stroke-linejoin:round; stroke-width:4; stroke-opacity:1; fill:none\" points=\"156.598,488.233 175.496,488.233 \"/>\n",
       "<polyline clip-path=\"url(#clip580)\" style=\"stroke:#000000; stroke-linecap:round; stroke-linejoin:round; stroke-width:4; stroke-opacity:1; fill:none\" points=\"156.598,348.464 175.496,348.464 \"/>\n",
       "<polyline clip-path=\"url(#clip580)\" style=\"stroke:#000000; stroke-linecap:round; stroke-linejoin:round; stroke-width:4; stroke-opacity:1; fill:none\" points=\"156.598,208.695 175.496,208.695 \"/>\n",
       "<polyline clip-path=\"url(#clip580)\" style=\"stroke:#000000; stroke-linecap:round; stroke-linejoin:round; stroke-width:4; stroke-opacity:1; fill:none\" points=\"156.598,68.9265 175.496,68.9265 \"/>\n",
       "<path clip-path=\"url(#clip580)\" d=\"M63.4226 1452.41 Q59.8115 1452.41 57.9828 1455.98 Q56.1773 1459.52 56.1773 1466.65 Q56.1773 1473.76 57.9828 1477.32 Q59.8115 1480.86 63.4226 1480.86 Q67.0569 1480.86 68.8624 1477.32 Q70.6911 1473.76 70.6911 1466.65 Q70.6911 1459.52 68.8624 1455.98 Q67.0569 1452.41 63.4226 1452.41 M63.4226 1448.71 Q69.2328 1448.71 72.2883 1453.32 Q75.367 1457.9 75.367 1466.65 Q75.367 1475.38 72.2883 1479.98 Q69.2328 1484.57 63.4226 1484.57 Q57.6125 1484.57 54.5338 1479.98 Q51.4782 1475.38 51.4782 1466.65 Q51.4782 1457.9 54.5338 1453.32 Q57.6125 1448.71 63.4226 1448.71 Z\" fill=\"#000000\" fill-rule=\"nonzero\" fill-opacity=\"1\" /><path clip-path=\"url(#clip580)\" d=\"M83.5845 1478.02 L88.4688 1478.02 L88.4688 1483.9 L83.5845 1483.9 L83.5845 1478.02 Z\" fill=\"#000000\" fill-rule=\"nonzero\" fill-opacity=\"1\" /><path clip-path=\"url(#clip580)\" d=\"M108.654 1452.41 Q105.043 1452.41 103.214 1455.98 Q101.409 1459.52 101.409 1466.65 Q101.409 1473.76 103.214 1477.32 Q105.043 1480.86 108.654 1480.86 Q112.288 1480.86 114.094 1477.32 Q115.922 1473.76 115.922 1466.65 Q115.922 1459.52 114.094 1455.98 Q112.288 1452.41 108.654 1452.41 M108.654 1448.71 Q114.464 1448.71 117.52 1453.32 Q120.598 1457.9 120.598 1466.65 Q120.598 1475.38 117.52 1479.98 Q114.464 1484.57 108.654 1484.57 Q102.844 1484.57 99.765 1479.98 Q96.7095 1475.38 96.7095 1466.65 Q96.7095 1457.9 99.765 1453.32 Q102.844 1448.71 108.654 1448.71 Z\" fill=\"#000000\" fill-rule=\"nonzero\" fill-opacity=\"1\" /><path clip-path=\"url(#clip580)\" d=\"M64.6495 1312.65 Q61.0384 1312.65 59.2097 1316.21 Q57.4041 1319.75 57.4041 1326.88 Q57.4041 1333.99 59.2097 1337.55 Q61.0384 1341.09 64.6495 1341.09 Q68.2837 1341.09 70.0892 1337.55 Q71.9179 1333.99 71.9179 1326.88 Q71.9179 1319.75 70.0892 1316.21 Q68.2837 1312.65 64.6495 1312.65 M64.6495 1308.94 Q70.4596 1308.94 73.5152 1313.55 Q76.5938 1318.13 76.5938 1326.88 Q76.5938 1335.61 73.5152 1340.21 Q70.4596 1344.8 64.6495 1344.8 Q58.8393 1344.8 55.7606 1340.21 Q52.7051 1335.61 52.7051 1326.88 Q52.7051 1318.13 55.7606 1313.55 Q58.8393 1308.94 64.6495 1308.94 Z\" fill=\"#000000\" fill-rule=\"nonzero\" fill-opacity=\"1\" /><path clip-path=\"url(#clip580)\" d=\"M84.8114 1338.25 L89.6956 1338.25 L89.6956 1344.13 L84.8114 1344.13 L84.8114 1338.25 Z\" fill=\"#000000\" fill-rule=\"nonzero\" fill-opacity=\"1\" /><path clip-path=\"url(#clip580)\" d=\"M100.691 1340.19 L108.33 1340.19 L108.33 1313.83 L100.02 1315.49 L100.02 1311.23 L108.283 1309.57 L112.959 1309.57 L112.959 1340.19 L120.598 1340.19 L120.598 1344.13 L100.691 1344.13 L100.691 1340.19 Z\" fill=\"#000000\" fill-rule=\"nonzero\" fill-opacity=\"1\" /><path clip-path=\"url(#clip580)\" d=\"M65.0198 1172.88 Q61.4087 1172.88 59.58 1176.44 Q57.7745 1179.98 57.7745 1187.11 Q57.7745 1194.22 59.58 1197.78 Q61.4087 1201.33 65.0198 1201.33 Q68.6541 1201.33 70.4596 1197.78 Q72.2883 1194.22 72.2883 1187.11 Q72.2883 1179.98 70.4596 1176.44 Q68.6541 1172.88 65.0198 1172.88 M65.0198 1169.17 Q70.83 1169.17 73.8855 1173.78 Q76.9642 1178.36 76.9642 1187.11 Q76.9642 1195.84 73.8855 1200.45 Q70.83 1205.03 65.0198 1205.03 Q59.2097 1205.03 56.131 1200.45 Q53.0754 1195.84 53.0754 1187.11 Q53.0754 1178.36 56.131 1173.78 Q59.2097 1169.17 65.0198 1169.17 Z\" fill=\"#000000\" fill-rule=\"nonzero\" fill-opacity=\"1\" /><path clip-path=\"url(#clip580)\" d=\"M85.1818 1198.48 L90.066 1198.48 L90.066 1204.36 L85.1818 1204.36 L85.1818 1198.48 Z\" fill=\"#000000\" fill-rule=\"nonzero\" fill-opacity=\"1\" /><path clip-path=\"url(#clip580)\" d=\"M104.279 1200.42 L120.598 1200.42 L120.598 1204.36 L98.6539 1204.36 L98.6539 1200.42 Q101.316 1197.67 105.899 1193.04 Q110.506 1188.39 111.686 1187.04 Q113.932 1184.52 114.811 1182.78 Q115.714 1181.02 115.714 1179.33 Q115.714 1176.58 113.77 1174.84 Q111.848 1173.11 108.746 1173.11 Q106.547 1173.11 104.094 1173.87 Q101.663 1174.64 98.8854 1176.19 L98.8854 1171.46 Q101.709 1170.33 104.163 1169.75 Q106.617 1169.17 108.654 1169.17 Q114.024 1169.17 117.219 1171.86 Q120.413 1174.54 120.413 1179.03 Q120.413 1181.16 119.603 1183.08 Q118.816 1184.98 116.709 1187.58 Q116.131 1188.25 113.029 1191.46 Q109.927 1194.66 104.279 1200.42 Z\" fill=\"#000000\" fill-rule=\"nonzero\" fill-opacity=\"1\" /><path clip-path=\"url(#clip580)\" d=\"M64.0708 1033.11 Q60.4597 1033.11 58.631 1036.67 Q56.8254 1040.21 56.8254 1047.34 Q56.8254 1054.45 58.631 1058.01 Q60.4597 1061.56 64.0708 1061.56 Q67.705 1061.56 69.5105 1058.01 Q71.3392 1054.45 71.3392 1047.34 Q71.3392 1040.21 69.5105 1036.67 Q67.705 1033.11 64.0708 1033.11 M64.0708 1029.4 Q69.8809 1029.4 72.9365 1034.01 Q76.0151 1038.59 76.0151 1047.34 Q76.0151 1056.07 72.9365 1060.68 Q69.8809 1065.26 64.0708 1065.26 Q58.2606 1065.26 55.1819 1060.68 Q52.1264 1056.07 52.1264 1047.34 Q52.1264 1038.59 55.1819 1034.01 Q58.2606 1029.4 64.0708 1029.4 Z\" fill=\"#000000\" fill-rule=\"nonzero\" fill-opacity=\"1\" /><path clip-path=\"url(#clip580)\" d=\"M84.2327 1058.71 L89.1169 1058.71 L89.1169 1064.59 L84.2327 1064.59 L84.2327 1058.71 Z\" fill=\"#000000\" fill-rule=\"nonzero\" fill-opacity=\"1\" /><path clip-path=\"url(#clip580)\" d=\"M113.469 1045.95 Q116.825 1046.67 118.7 1048.94 Q120.598 1051.21 120.598 1054.54 Q120.598 1059.66 117.08 1062.46 Q113.561 1065.26 107.08 1065.26 Q104.904 1065.26 102.589 1064.82 Q100.297 1064.4 97.8437 1063.55 L97.8437 1059.03 Q99.7882 1060.17 102.103 1060.75 Q104.418 1061.32 106.941 1061.32 Q111.339 1061.32 113.631 1059.59 Q115.945 1057.85 115.945 1054.54 Q115.945 1051.49 113.793 1049.77 Q111.663 1048.04 107.844 1048.04 L103.816 1048.04 L103.816 1044.2 L108.029 1044.2 Q111.478 1044.2 113.307 1042.83 Q115.135 1041.44 115.135 1038.85 Q115.135 1036.19 113.237 1034.77 Q111.362 1033.34 107.844 1033.34 Q105.922 1033.34 103.723 1033.76 Q101.524 1034.17 98.8854 1035.05 L98.8854 1030.89 Q101.547 1030.14 103.862 1029.77 Q106.2 1029.4 108.26 1029.4 Q113.584 1029.4 116.686 1031.83 Q119.788 1034.24 119.788 1038.36 Q119.788 1041.23 118.145 1043.22 Q116.501 1045.19 113.469 1045.95 Z\" fill=\"#000000\" fill-rule=\"nonzero\" fill-opacity=\"1\" /><path clip-path=\"url(#clip580)\" d=\"M62.9365 893.338 Q59.3254 893.338 57.4967 896.903 Q55.6912 900.445 55.6912 907.574 Q55.6912 914.681 57.4967 918.246 Q59.3254 921.787 62.9365 921.787 Q66.5707 921.787 68.3763 918.246 Q70.205 914.681 70.205 907.574 Q70.205 900.445 68.3763 896.903 Q66.5707 893.338 62.9365 893.338 M62.9365 889.635 Q68.7467 889.635 71.8022 894.241 Q74.8809 898.825 74.8809 907.574 Q74.8809 916.301 71.8022 920.908 Q68.7467 925.491 62.9365 925.491 Q57.1264 925.491 54.0477 920.908 Q50.9921 916.301 50.9921 907.574 Q50.9921 898.825 54.0477 894.241 Q57.1264 889.635 62.9365 889.635 Z\" fill=\"#000000\" fill-rule=\"nonzero\" fill-opacity=\"1\" /><path clip-path=\"url(#clip580)\" d=\"M83.0984 918.94 L87.9827 918.94 L87.9827 924.82 L83.0984 924.82 L83.0984 918.94 Z\" fill=\"#000000\" fill-rule=\"nonzero\" fill-opacity=\"1\" /><path clip-path=\"url(#clip580)\" d=\"M111.015 894.334 L99.2095 912.783 L111.015 912.783 L111.015 894.334 M109.788 890.26 L115.668 890.26 L115.668 912.783 L120.598 912.783 L120.598 916.672 L115.668 916.672 L115.668 924.82 L111.015 924.82 L111.015 916.672 L95.4132 916.672 L95.4132 912.158 L109.788 890.26 Z\" fill=\"#000000\" fill-rule=\"nonzero\" fill-opacity=\"1\" /><path clip-path=\"url(#clip580)\" d=\"M64.418 753.57 Q60.8069 753.57 58.9782 757.134 Q57.1726 760.676 57.1726 767.806 Q57.1726 774.912 58.9782 778.477 Q60.8069 782.018 64.418 782.018 Q68.0522 782.018 69.8578 778.477 Q71.6865 774.912 71.6865 767.806 Q71.6865 760.676 69.8578 757.134 Q68.0522 753.57 64.418 753.57 M64.418 749.866 Q70.2281 749.866 73.2837 754.472 Q76.3624 759.056 76.3624 767.806 Q76.3624 776.532 73.2837 781.139 Q70.2281 785.722 64.418 785.722 Q58.6078 785.722 55.5291 781.139 Q52.4736 776.532 52.4736 767.806 Q52.4736 759.056 55.5291 754.472 Q58.6078 749.866 64.418 749.866 Z\" fill=\"#000000\" fill-rule=\"nonzero\" fill-opacity=\"1\" /><path clip-path=\"url(#clip580)\" d=\"M84.5799 779.171 L89.4641 779.171 L89.4641 785.051 L84.5799 785.051 L84.5799 779.171 Z\" fill=\"#000000\" fill-rule=\"nonzero\" fill-opacity=\"1\" /><path clip-path=\"url(#clip580)\" d=\"M99.6956 750.491 L118.052 750.491 L118.052 754.426 L103.978 754.426 L103.978 762.898 Q104.996 762.551 106.015 762.389 Q107.033 762.204 108.052 762.204 Q113.839 762.204 117.219 765.375 Q120.598 768.546 120.598 773.963 Q120.598 779.542 117.126 782.643 Q113.654 785.722 107.334 785.722 Q105.159 785.722 102.89 785.352 Q100.645 784.981 98.2372 784.241 L98.2372 779.542 Q100.321 780.676 102.543 781.231 Q104.765 781.787 107.242 781.787 Q111.246 781.787 113.584 779.681 Q115.922 777.574 115.922 773.963 Q115.922 770.352 113.584 768.245 Q111.246 766.139 107.242 766.139 Q105.367 766.139 103.492 766.556 Q101.64 766.972 99.6956 767.852 L99.6956 750.491 Z\" fill=\"#000000\" fill-rule=\"nonzero\" fill-opacity=\"1\" /><path clip-path=\"url(#clip580)\" d=\"M63.2606 613.801 Q59.6495 613.801 57.8208 617.365 Q56.0152 620.907 56.0152 628.037 Q56.0152 635.143 57.8208 638.708 Q59.6495 642.25 63.2606 642.25 Q66.8948 642.25 68.7004 638.708 Q70.5291 635.143 70.5291 628.037 Q70.5291 620.907 68.7004 617.365 Q66.8948 613.801 63.2606 613.801 M63.2606 610.097 Q69.0707 610.097 72.1263 614.703 Q75.205 619.287 75.205 628.037 Q75.205 636.764 72.1263 641.37 Q69.0707 645.953 63.2606 645.953 Q57.4504 645.953 54.3717 641.37 Q51.3162 636.764 51.3162 628.037 Q51.3162 619.287 54.3717 614.703 Q57.4504 610.097 63.2606 610.097 Z\" fill=\"#000000\" fill-rule=\"nonzero\" fill-opacity=\"1\" /><path clip-path=\"url(#clip580)\" d=\"M83.4225 639.402 L88.3067 639.402 L88.3067 645.282 L83.4225 645.282 L83.4225 639.402 Z\" fill=\"#000000\" fill-rule=\"nonzero\" fill-opacity=\"1\" /><path clip-path=\"url(#clip580)\" d=\"M109.071 626.139 Q105.922 626.139 104.071 628.291 Q102.242 630.444 102.242 634.194 Q102.242 637.921 104.071 640.097 Q105.922 642.25 109.071 642.25 Q112.219 642.25 114.047 640.097 Q115.899 637.921 115.899 634.194 Q115.899 630.444 114.047 628.291 Q112.219 626.139 109.071 626.139 M118.353 611.486 L118.353 615.745 Q116.594 614.912 114.788 614.472 Q113.006 614.032 111.246 614.032 Q106.617 614.032 104.163 617.157 Q101.733 620.282 101.385 626.602 Q102.751 624.588 104.811 623.523 Q106.871 622.435 109.348 622.435 Q114.557 622.435 117.566 625.606 Q120.598 628.754 120.598 634.194 Q120.598 639.518 117.45 642.736 Q114.302 645.953 109.071 645.953 Q103.075 645.953 99.9039 641.37 Q96.7326 636.764 96.7326 628.037 Q96.7326 619.842 100.621 614.981 Q104.51 610.097 111.061 610.097 Q112.82 610.097 114.603 610.444 Q116.408 610.791 118.353 611.486 Z\" fill=\"#000000\" fill-rule=\"nonzero\" fill-opacity=\"1\" /><path clip-path=\"url(#clip580)\" d=\"M64.3254 474.032 Q60.7143 474.032 58.8856 477.597 Q57.0801 481.138 57.0801 488.268 Q57.0801 495.374 58.8856 498.939 Q60.7143 502.481 64.3254 502.481 Q67.9596 502.481 69.7652 498.939 Q71.5939 495.374 71.5939 488.268 Q71.5939 481.138 69.7652 477.597 Q67.9596 474.032 64.3254 474.032 M64.3254 470.328 Q70.1355 470.328 73.1911 474.935 Q76.2698 479.518 76.2698 488.268 Q76.2698 496.995 73.1911 501.601 Q70.1355 506.184 64.3254 506.184 Q58.5152 506.184 55.4365 501.601 Q52.381 496.995 52.381 488.268 Q52.381 479.518 55.4365 474.935 Q58.5152 470.328 64.3254 470.328 Z\" fill=\"#000000\" fill-rule=\"nonzero\" fill-opacity=\"1\" /><path clip-path=\"url(#clip580)\" d=\"M84.4873 499.634 L89.3715 499.634 L89.3715 505.513 L84.4873 505.513 L84.4873 499.634 Z\" fill=\"#000000\" fill-rule=\"nonzero\" fill-opacity=\"1\" /><path clip-path=\"url(#clip580)\" d=\"M98.3761 470.953 L120.598 470.953 L120.598 472.944 L108.052 505.513 L103.168 505.513 L114.973 474.888 L98.3761 474.888 L98.3761 470.953 Z\" fill=\"#000000\" fill-rule=\"nonzero\" fill-opacity=\"1\" /><path clip-path=\"url(#clip580)\" d=\"M63.5152 334.263 Q59.9041 334.263 58.0754 337.828 Q56.2699 341.369 56.2699 348.499 Q56.2699 355.605 58.0754 359.17 Q59.9041 362.712 63.5152 362.712 Q67.1494 362.712 68.955 359.17 Q70.7837 355.605 70.7837 348.499 Q70.7837 341.369 68.955 337.828 Q67.1494 334.263 63.5152 334.263 M63.5152 330.559 Q69.3254 330.559 72.3809 335.166 Q75.4596 339.749 75.4596 348.499 Q75.4596 357.226 72.3809 361.832 Q69.3254 366.416 63.5152 366.416 Q57.7051 366.416 54.6264 361.832 Q51.5708 357.226 51.5708 348.499 Q51.5708 339.749 54.6264 335.166 Q57.7051 330.559 63.5152 330.559 Z\" fill=\"#000000\" fill-rule=\"nonzero\" fill-opacity=\"1\" /><path clip-path=\"url(#clip580)\" d=\"M83.6771 359.865 L88.5614 359.865 L88.5614 365.744 L83.6771 365.744 L83.6771 359.865 Z\" fill=\"#000000\" fill-rule=\"nonzero\" fill-opacity=\"1\" /><path clip-path=\"url(#clip580)\" d=\"M108.746 349.332 Q105.413 349.332 103.492 351.115 Q101.594 352.897 101.594 356.022 Q101.594 359.147 103.492 360.929 Q105.413 362.712 108.746 362.712 Q112.08 362.712 114.001 360.929 Q115.922 359.124 115.922 356.022 Q115.922 352.897 114.001 351.115 Q112.103 349.332 108.746 349.332 M104.071 347.342 Q101.061 346.601 99.3715 344.541 Q97.7048 342.48 97.7048 339.518 Q97.7048 335.374 100.645 332.967 Q103.608 330.559 108.746 330.559 Q113.908 330.559 116.848 332.967 Q119.788 335.374 119.788 339.518 Q119.788 342.48 118.098 344.541 Q116.432 346.601 113.445 347.342 Q116.825 348.129 118.7 350.42 Q120.598 352.712 120.598 356.022 Q120.598 361.045 117.52 363.73 Q114.464 366.416 108.746 366.416 Q103.029 366.416 99.9502 363.73 Q96.8947 361.045 96.8947 356.022 Q96.8947 352.712 98.7928 350.42 Q100.691 348.129 104.071 347.342 M102.358 339.957 Q102.358 342.643 104.024 344.147 Q105.714 345.652 108.746 345.652 Q111.756 345.652 113.445 344.147 Q115.158 342.643 115.158 339.957 Q115.158 337.272 113.445 335.768 Q111.756 334.263 108.746 334.263 Q105.714 334.263 104.024 335.768 Q102.358 337.272 102.358 339.957 Z\" fill=\"#000000\" fill-rule=\"nonzero\" fill-opacity=\"1\" /><path clip-path=\"url(#clip580)\" d=\"M63.6078 194.494 Q59.9967 194.494 58.168 198.059 Q56.3625 201.6 56.3625 208.73 Q56.3625 215.837 58.168 219.401 Q59.9967 222.943 63.6078 222.943 Q67.242 222.943 69.0476 219.401 Q70.8763 215.837 70.8763 208.73 Q70.8763 201.6 69.0476 198.059 Q67.242 194.494 63.6078 194.494 M63.6078 190.79 Q69.418 190.79 72.4735 195.397 Q75.5522 199.98 75.5522 208.73 Q75.5522 217.457 72.4735 222.063 Q69.418 226.647 63.6078 226.647 Q57.7976 226.647 54.719 222.063 Q51.6634 217.457 51.6634 208.73 Q51.6634 199.98 54.719 195.397 Q57.7976 190.79 63.6078 190.79 Z\" fill=\"#000000\" fill-rule=\"nonzero\" fill-opacity=\"1\" /><path clip-path=\"url(#clip580)\" d=\"M83.7697 220.096 L88.654 220.096 L88.654 225.975 L83.7697 225.975 L83.7697 220.096 Z\" fill=\"#000000\" fill-rule=\"nonzero\" fill-opacity=\"1\" /><path clip-path=\"url(#clip580)\" d=\"M98.978 225.258 L98.978 220.999 Q100.737 221.832 102.543 222.272 Q104.348 222.711 106.084 222.711 Q110.714 222.711 113.145 219.61 Q115.598 216.485 115.945 210.142 Q114.603 212.133 112.543 213.198 Q110.483 214.262 107.983 214.262 Q102.797 214.262 99.765 211.137 Q96.7558 207.989 96.7558 202.55 Q96.7558 197.226 99.9039 194.008 Q103.052 190.79 108.283 190.79 Q114.279 190.79 117.427 195.397 Q120.598 199.98 120.598 208.73 Q120.598 216.901 116.709 221.786 Q112.844 226.647 106.293 226.647 Q104.534 226.647 102.728 226.299 Q100.922 225.952 98.978 225.258 M108.283 210.605 Q111.432 210.605 113.26 208.452 Q115.112 206.3 115.112 202.55 Q115.112 198.823 113.26 196.67 Q111.432 194.494 108.283 194.494 Q105.135 194.494 103.284 196.67 Q101.455 198.823 101.455 202.55 Q101.455 206.3 103.284 208.452 Q105.135 210.605 108.283 210.605 Z\" fill=\"#000000\" fill-rule=\"nonzero\" fill-opacity=\"1\" /><path clip-path=\"url(#clip580)\" d=\"M54.2328 82.2713 L61.8717 82.2713 L61.8717 55.9057 L53.5616 57.5724 L53.5616 53.3131 L61.8254 51.6465 L66.5013 51.6465 L66.5013 82.2713 L74.1402 82.2713 L74.1402 86.2065 L54.2328 86.2065 L54.2328 82.2713 Z\" fill=\"#000000\" fill-rule=\"nonzero\" fill-opacity=\"1\" /><path clip-path=\"url(#clip580)\" d=\"M83.5845 80.3269 L88.4688 80.3269 L88.4688 86.2065 L83.5845 86.2065 L83.5845 80.3269 Z\" fill=\"#000000\" fill-rule=\"nonzero\" fill-opacity=\"1\" /><path clip-path=\"url(#clip580)\" d=\"M108.654 54.7252 Q105.043 54.7252 103.214 58.29 Q101.409 61.8316 101.409 68.9612 Q101.409 76.0677 103.214 79.6324 Q105.043 83.1741 108.654 83.1741 Q112.288 83.1741 114.094 79.6324 Q115.922 76.0677 115.922 68.9612 Q115.922 61.8316 114.094 58.29 Q112.288 54.7252 108.654 54.7252 M108.654 51.0215 Q114.464 51.0215 117.52 55.6279 Q120.598 60.2113 120.598 68.9612 Q120.598 77.688 117.52 82.2945 Q114.464 86.8778 108.654 86.8778 Q102.844 86.8778 99.765 82.2945 Q96.7095 77.688 96.7095 68.9612 Q96.7095 60.2113 99.765 55.6279 Q102.844 51.0215 108.654 51.0215 Z\" fill=\"#000000\" fill-rule=\"nonzero\" fill-opacity=\"1\" /><circle clip-path=\"url(#clip582)\" cx=\"1605.27\" cy=\"617.267\" r=\"14.4\" fill=\"#009af9\" fill-rule=\"evenodd\" fill-opacity=\"1\" stroke=\"#000000\" stroke-opacity=\"1\" stroke-width=\"3.2\"/>\n",
       "<circle clip-path=\"url(#clip582)\" cx=\"1329.35\" cy=\"663.539\" r=\"14.4\" fill=\"#009af9\" fill-rule=\"evenodd\" fill-opacity=\"1\" stroke=\"#000000\" stroke-opacity=\"1\" stroke-width=\"3.2\"/>\n",
       "<circle clip-path=\"url(#clip582)\" cx=\"1336.9\" cy=\"199.091\" r=\"14.4\" fill=\"#009af9\" fill-rule=\"evenodd\" fill-opacity=\"1\" stroke=\"#000000\" stroke-opacity=\"1\" stroke-width=\"3.2\"/>\n",
       "<circle clip-path=\"url(#clip582)\" cx=\"1359.91\" cy=\"884.393\" r=\"14.4\" fill=\"#009af9\" fill-rule=\"evenodd\" fill-opacity=\"1\" stroke=\"#000000\" stroke-opacity=\"1\" stroke-width=\"3.2\"/>\n",
       "<circle clip-path=\"url(#clip582)\" cx=\"756.777\" cy=\"114.384\" r=\"14.4\" fill=\"#009af9\" fill-rule=\"evenodd\" fill-opacity=\"1\" stroke=\"#000000\" stroke-opacity=\"1\" stroke-width=\"3.2\"/>\n",
       "<circle clip-path=\"url(#clip582)\" cx=\"1274.68\" cy=\"1302.51\" r=\"14.4\" fill=\"#009af9\" fill-rule=\"evenodd\" fill-opacity=\"1\" stroke=\"#000000\" stroke-opacity=\"1\" stroke-width=\"3.2\"/>\n",
       "<circle clip-path=\"url(#clip582)\" cx=\"628.427\" cy=\"1072.08\" r=\"14.4\" fill=\"#009af9\" fill-rule=\"evenodd\" fill-opacity=\"1\" stroke=\"#000000\" stroke-opacity=\"1\" stroke-width=\"3.2\"/>\n",
       "<circle clip-path=\"url(#clip582)\" cx=\"743.975\" cy=\"848.447\" r=\"14.4\" fill=\"#009af9\" fill-rule=\"evenodd\" fill-opacity=\"1\" stroke=\"#000000\" stroke-opacity=\"1\" stroke-width=\"3.2\"/>\n",
       "<circle clip-path=\"url(#clip582)\" cx=\"1516.07\" cy=\"782.881\" r=\"14.4\" fill=\"#009af9\" fill-rule=\"evenodd\" fill-opacity=\"1\" stroke=\"#000000\" stroke-opacity=\"1\" stroke-width=\"3.2\"/>\n",
       "<circle clip-path=\"url(#clip582)\" cx=\"1236.96\" cy=\"769.155\" r=\"14.4\" fill=\"#009af9\" fill-rule=\"evenodd\" fill-opacity=\"1\" stroke=\"#000000\" stroke-opacity=\"1\" stroke-width=\"3.2\"/>\n",
       "<circle clip-path=\"url(#clip582)\" cx=\"1751.88\" cy=\"291.041\" r=\"14.4\" fill=\"#009af9\" fill-rule=\"evenodd\" fill-opacity=\"1\" stroke=\"#000000\" stroke-opacity=\"1\" stroke-width=\"3.2\"/>\n",
       "<circle clip-path=\"url(#clip582)\" cx=\"1635.59\" cy=\"1251.68\" r=\"14.4\" fill=\"#009af9\" fill-rule=\"evenodd\" fill-opacity=\"1\" stroke=\"#000000\" stroke-opacity=\"1\" stroke-width=\"3.2\"/>\n",
       "<circle clip-path=\"url(#clip582)\" cx=\"718.04\" cy=\"614.373\" r=\"14.4\" fill=\"#009af9\" fill-rule=\"evenodd\" fill-opacity=\"1\" stroke=\"#000000\" stroke-opacity=\"1\" stroke-width=\"3.2\"/>\n",
       "<circle clip-path=\"url(#clip582)\" cx=\"1032.85\" cy=\"446.305\" r=\"14.4\" fill=\"#009af9\" fill-rule=\"evenodd\" fill-opacity=\"1\" stroke=\"#000000\" stroke-opacity=\"1\" stroke-width=\"3.2\"/>\n",
       "<circle clip-path=\"url(#clip582)\" cx=\"1371.64\" cy=\"1358.34\" r=\"14.4\" fill=\"#009af9\" fill-rule=\"evenodd\" fill-opacity=\"1\" stroke=\"#000000\" stroke-opacity=\"1\" stroke-width=\"3.2\"/>\n",
       "<circle clip-path=\"url(#clip582)\" cx=\"1721.59\" cy=\"500.642\" r=\"14.4\" fill=\"#009af9\" fill-rule=\"evenodd\" fill-opacity=\"1\" stroke=\"#000000\" stroke-opacity=\"1\" stroke-width=\"3.2\"/>\n",
       "<circle clip-path=\"url(#clip582)\" cx=\"858.636\" cy=\"1445.34\" r=\"14.4\" fill=\"#009af9\" fill-rule=\"evenodd\" fill-opacity=\"1\" stroke=\"#000000\" stroke-opacity=\"1\" stroke-width=\"3.2\"/>\n",
       "<circle clip-path=\"url(#clip582)\" cx=\"1422.05\" cy=\"1341.47\" r=\"14.4\" fill=\"#009af9\" fill-rule=\"evenodd\" fill-opacity=\"1\" stroke=\"#000000\" stroke-opacity=\"1\" stroke-width=\"3.2\"/>\n",
       "<circle clip-path=\"url(#clip582)\" cx=\"1043.4\" cy=\"423.444\" r=\"14.4\" fill=\"#009af9\" fill-rule=\"evenodd\" fill-opacity=\"1\" stroke=\"#000000\" stroke-opacity=\"1\" stroke-width=\"3.2\"/>\n",
       "<circle clip-path=\"url(#clip582)\" cx=\"1153.78\" cy=\"457\" r=\"14.4\" fill=\"#009af9\" fill-rule=\"evenodd\" fill-opacity=\"1\" stroke=\"#000000\" stroke-opacity=\"1\" stroke-width=\"3.2\"/>\n",
       "<circle clip-path=\"url(#clip582)\" cx=\"762.232\" cy=\"1162.3\" r=\"14.4\" fill=\"#009af9\" fill-rule=\"evenodd\" fill-opacity=\"1\" stroke=\"#000000\" stroke-opacity=\"1\" stroke-width=\"3.2\"/>\n",
       "<circle clip-path=\"url(#clip582)\" cx=\"1366.89\" cy=\"151.863\" r=\"14.4\" fill=\"#009af9\" fill-rule=\"evenodd\" fill-opacity=\"1\" stroke=\"#000000\" stroke-opacity=\"1\" stroke-width=\"3.2\"/>\n",
       "<circle clip-path=\"url(#clip582)\" cx=\"1137.11\" cy=\"228.752\" r=\"14.4\" fill=\"#009af9\" fill-rule=\"evenodd\" fill-opacity=\"1\" stroke=\"#000000\" stroke-opacity=\"1\" stroke-width=\"3.2\"/>\n",
       "<circle clip-path=\"url(#clip582)\" cx=\"1859.33\" cy=\"1242.14\" r=\"14.4\" fill=\"#009af9\" fill-rule=\"evenodd\" fill-opacity=\"1\" stroke=\"#000000\" stroke-opacity=\"1\" stroke-width=\"3.2\"/>\n",
       "<circle clip-path=\"url(#clip582)\" cx=\"569.57\" cy=\"1441.27\" r=\"14.4\" fill=\"#009af9\" fill-rule=\"evenodd\" fill-opacity=\"1\" stroke=\"#000000\" stroke-opacity=\"1\" stroke-width=\"3.2\"/>\n",
       "<circle clip-path=\"url(#clip582)\" cx=\"947.132\" cy=\"1222.6\" r=\"14.4\" fill=\"#009af9\" fill-rule=\"evenodd\" fill-opacity=\"1\" stroke=\"#000000\" stroke-opacity=\"1\" stroke-width=\"3.2\"/>\n",
       "<circle clip-path=\"url(#clip582)\" cx=\"1175.17\" cy=\"978.515\" r=\"14.4\" fill=\"#009af9\" fill-rule=\"evenodd\" fill-opacity=\"1\" stroke=\"#000000\" stroke-opacity=\"1\" stroke-width=\"3.2\"/>\n",
       "<circle clip-path=\"url(#clip582)\" cx=\"1236.09\" cy=\"112.638\" r=\"14.4\" fill=\"#009af9\" fill-rule=\"evenodd\" fill-opacity=\"1\" stroke=\"#000000\" stroke-opacity=\"1\" stroke-width=\"3.2\"/>\n",
       "<circle clip-path=\"url(#clip582)\" cx=\"1788.44\" cy=\"622.505\" r=\"14.4\" fill=\"#009af9\" fill-rule=\"evenodd\" fill-opacity=\"1\" stroke=\"#000000\" stroke-opacity=\"1\" stroke-width=\"3.2\"/>\n",
       "<circle clip-path=\"url(#clip582)\" cx=\"1109.08\" cy=\"1367.04\" r=\"14.4\" fill=\"#009af9\" fill-rule=\"evenodd\" fill-opacity=\"1\" stroke=\"#000000\" stroke-opacity=\"1\" stroke-width=\"3.2\"/>\n",
       "<circle clip-path=\"url(#clip582)\" cx=\"1560.11\" cy=\"643.235\" r=\"14.4\" fill=\"#009af9\" fill-rule=\"evenodd\" fill-opacity=\"1\" stroke=\"#000000\" stroke-opacity=\"1\" stroke-width=\"3.2\"/>\n",
       "<circle clip-path=\"url(#clip582)\" cx=\"758.176\" cy=\"1264.95\" r=\"14.4\" fill=\"#009af9\" fill-rule=\"evenodd\" fill-opacity=\"1\" stroke=\"#000000\" stroke-opacity=\"1\" stroke-width=\"3.2\"/>\n",
       "<circle clip-path=\"url(#clip582)\" cx=\"755.894\" cy=\"1292.88\" r=\"14.4\" fill=\"#009af9\" fill-rule=\"evenodd\" fill-opacity=\"1\" stroke=\"#000000\" stroke-opacity=\"1\" stroke-width=\"3.2\"/>\n",
       "<circle clip-path=\"url(#clip582)\" cx=\"1208.4\" cy=\"1445.72\" r=\"14.4\" fill=\"#009af9\" fill-rule=\"evenodd\" fill-opacity=\"1\" stroke=\"#000000\" stroke-opacity=\"1\" stroke-width=\"3.2\"/>\n",
       "<circle clip-path=\"url(#clip582)\" cx=\"564.008\" cy=\"1324.49\" r=\"14.4\" fill=\"#009af9\" fill-rule=\"evenodd\" fill-opacity=\"1\" stroke=\"#000000\" stroke-opacity=\"1\" stroke-width=\"3.2\"/>\n",
       "<circle clip-path=\"url(#clip582)\" cx=\"1637.93\" cy=\"1137.21\" r=\"14.4\" fill=\"#009af9\" fill-rule=\"evenodd\" fill-opacity=\"1\" stroke=\"#000000\" stroke-opacity=\"1\" stroke-width=\"3.2\"/>\n",
       "<circle clip-path=\"url(#clip582)\" cx=\"763.411\" cy=\"849.49\" r=\"14.4\" fill=\"#009af9\" fill-rule=\"evenodd\" fill-opacity=\"1\" stroke=\"#000000\" stroke-opacity=\"1\" stroke-width=\"3.2\"/>\n",
       "<circle clip-path=\"url(#clip582)\" cx=\"1328.8\" cy=\"460.39\" r=\"14.4\" fill=\"#009af9\" fill-rule=\"evenodd\" fill-opacity=\"1\" stroke=\"#000000\" stroke-opacity=\"1\" stroke-width=\"3.2\"/>\n",
       "<circle clip-path=\"url(#clip582)\" cx=\"1572.25\" cy=\"757.01\" r=\"14.4\" fill=\"#009af9\" fill-rule=\"evenodd\" fill-opacity=\"1\" stroke=\"#000000\" stroke-opacity=\"1\" stroke-width=\"3.2\"/>\n",
       "<circle clip-path=\"url(#clip582)\" cx=\"1020.56\" cy=\"87.9763\" r=\"14.4\" fill=\"#009af9\" fill-rule=\"evenodd\" fill-opacity=\"1\" stroke=\"#000000\" stroke-opacity=\"1\" stroke-width=\"3.2\"/>\n",
       "<circle clip-path=\"url(#clip582)\" cx=\"1528.86\" cy=\"515.156\" r=\"14.4\" fill=\"#009af9\" fill-rule=\"evenodd\" fill-opacity=\"1\" stroke=\"#000000\" stroke-opacity=\"1\" stroke-width=\"3.2\"/>\n",
       "<circle clip-path=\"url(#clip582)\" cx=\"1161.99\" cy=\"273.003\" r=\"14.4\" fill=\"#009af9\" fill-rule=\"evenodd\" fill-opacity=\"1\" stroke=\"#000000\" stroke-opacity=\"1\" stroke-width=\"3.2\"/>\n",
       "<circle clip-path=\"url(#clip582)\" cx=\"1885.29\" cy=\"790.52\" r=\"14.4\" fill=\"#009af9\" fill-rule=\"evenodd\" fill-opacity=\"1\" stroke=\"#000000\" stroke-opacity=\"1\" stroke-width=\"3.2\"/>\n",
       "<circle clip-path=\"url(#clip582)\" cx=\"1002.85\" cy=\"1369.14\" r=\"14.4\" fill=\"#009af9\" fill-rule=\"evenodd\" fill-opacity=\"1\" stroke=\"#000000\" stroke-opacity=\"1\" stroke-width=\"3.2\"/>\n",
       "<circle clip-path=\"url(#clip582)\" cx=\"1152.45\" cy=\"350.242\" r=\"14.4\" fill=\"#009af9\" fill-rule=\"evenodd\" fill-opacity=\"1\" stroke=\"#000000\" stroke-opacity=\"1\" stroke-width=\"3.2\"/>\n",
       "<circle clip-path=\"url(#clip582)\" cx=\"1908.35\" cy=\"1234.77\" r=\"14.4\" fill=\"#009af9\" fill-rule=\"evenodd\" fill-opacity=\"1\" stroke=\"#000000\" stroke-opacity=\"1\" stroke-width=\"3.2\"/>\n",
       "<circle clip-path=\"url(#clip582)\" cx=\"748.64\" cy=\"1320.86\" r=\"14.4\" fill=\"#009af9\" fill-rule=\"evenodd\" fill-opacity=\"1\" stroke=\"#000000\" stroke-opacity=\"1\" stroke-width=\"3.2\"/>\n",
       "<circle clip-path=\"url(#clip582)\" cx=\"1555.34\" cy=\"1399.27\" r=\"14.4\" fill=\"#009af9\" fill-rule=\"evenodd\" fill-opacity=\"1\" stroke=\"#000000\" stroke-opacity=\"1\" stroke-width=\"3.2\"/>\n",
       "<circle clip-path=\"url(#clip582)\" cx=\"779.131\" cy=\"88.8497\" r=\"14.4\" fill=\"#009af9\" fill-rule=\"evenodd\" fill-opacity=\"1\" stroke=\"#000000\" stroke-opacity=\"1\" stroke-width=\"3.2\"/>\n",
       "<circle clip-path=\"url(#clip582)\" cx=\"1757.01\" cy=\"892.642\" r=\"14.4\" fill=\"#009af9\" fill-rule=\"evenodd\" fill-opacity=\"1\" stroke=\"#000000\" stroke-opacity=\"1\" stroke-width=\"3.2\"/>\n",
       "<circle clip-path=\"url(#clip582)\" cx=\"1630.72\" cy=\"178.665\" r=\"14.4\" fill=\"#009af9\" fill-rule=\"evenodd\" fill-opacity=\"1\" stroke=\"#000000\" stroke-opacity=\"1\" stroke-width=\"3.2\"/>\n",
       "<circle clip-path=\"url(#clip582)\" cx=\"566.365\" cy=\"307.159\" r=\"14.4\" fill=\"#009af9\" fill-rule=\"evenodd\" fill-opacity=\"1\" stroke=\"#000000\" stroke-opacity=\"1\" stroke-width=\"3.2\"/>\n",
       "<circle clip-path=\"url(#clip582)\" cx=\"1827.18\" cy=\"172.754\" r=\"14.4\" fill=\"#009af9\" fill-rule=\"evenodd\" fill-opacity=\"1\" stroke=\"#000000\" stroke-opacity=\"1\" stroke-width=\"3.2\"/>\n",
       "<circle clip-path=\"url(#clip582)\" cx=\"1888.02\" cy=\"884.423\" r=\"14.4\" fill=\"#009af9\" fill-rule=\"evenodd\" fill-opacity=\"1\" stroke=\"#000000\" stroke-opacity=\"1\" stroke-width=\"3.2\"/>\n",
       "<circle clip-path=\"url(#clip582)\" cx=\"1012.61\" cy=\"114.779\" r=\"14.4\" fill=\"#009af9\" fill-rule=\"evenodd\" fill-opacity=\"1\" stroke=\"#000000\" stroke-opacity=\"1\" stroke-width=\"3.2\"/>\n",
       "<circle clip-path=\"url(#clip582)\" cx=\"879.529\" cy=\"1335.05\" r=\"14.4\" fill=\"#009af9\" fill-rule=\"evenodd\" fill-opacity=\"1\" stroke=\"#000000\" stroke-opacity=\"1\" stroke-width=\"3.2\"/>\n",
       "<circle clip-path=\"url(#clip582)\" cx=\"854.599\" cy=\"627.459\" r=\"14.4\" fill=\"#009af9\" fill-rule=\"evenodd\" fill-opacity=\"1\" stroke=\"#000000\" stroke-opacity=\"1\" stroke-width=\"3.2\"/>\n",
       "<circle clip-path=\"url(#clip582)\" cx=\"565.928\" cy=\"997.782\" r=\"14.4\" fill=\"#009af9\" fill-rule=\"evenodd\" fill-opacity=\"1\" stroke=\"#000000\" stroke-opacity=\"1\" stroke-width=\"3.2\"/>\n",
       "<circle clip-path=\"url(#clip582)\" cx=\"1667.07\" cy=\"1425.48\" r=\"14.4\" fill=\"#009af9\" fill-rule=\"evenodd\" fill-opacity=\"1\" stroke=\"#000000\" stroke-opacity=\"1\" stroke-width=\"3.2\"/>\n",
       "<circle clip-path=\"url(#clip582)\" cx=\"1936\" cy=\"776.974\" r=\"14.4\" fill=\"#009af9\" fill-rule=\"evenodd\" fill-opacity=\"1\" stroke=\"#000000\" stroke-opacity=\"1\" stroke-width=\"3.2\"/>\n",
       "<circle clip-path=\"url(#clip582)\" cx=\"1707.17\" cy=\"479.239\" r=\"14.4\" fill=\"#009af9\" fill-rule=\"evenodd\" fill-opacity=\"1\" stroke=\"#000000\" stroke-opacity=\"1\" stroke-width=\"3.2\"/>\n",
       "<circle clip-path=\"url(#clip582)\" cx=\"955.083\" cy=\"106.315\" r=\"14.4\" fill=\"#009af9\" fill-rule=\"evenodd\" fill-opacity=\"1\" stroke=\"#000000\" stroke-opacity=\"1\" stroke-width=\"3.2\"/>\n",
       "<circle clip-path=\"url(#clip582)\" cx=\"1835.22\" cy=\"1106.62\" r=\"14.4\" fill=\"#009af9\" fill-rule=\"evenodd\" fill-opacity=\"1\" stroke=\"#000000\" stroke-opacity=\"1\" stroke-width=\"3.2\"/>\n",
       "<circle clip-path=\"url(#clip582)\" cx=\"973.977\" cy=\"473.939\" r=\"14.4\" fill=\"#009af9\" fill-rule=\"evenodd\" fill-opacity=\"1\" stroke=\"#000000\" stroke-opacity=\"1\" stroke-width=\"3.2\"/>\n",
       "<circle clip-path=\"url(#clip582)\" cx=\"1647.35\" cy=\"938.558\" r=\"14.4\" fill=\"#009af9\" fill-rule=\"evenodd\" fill-opacity=\"1\" stroke=\"#000000\" stroke-opacity=\"1\" stroke-width=\"3.2\"/>\n",
       "<circle clip-path=\"url(#clip582)\" cx=\"902.395\" cy=\"578.354\" r=\"14.4\" fill=\"#009af9\" fill-rule=\"evenodd\" fill-opacity=\"1\" stroke=\"#000000\" stroke-opacity=\"1\" stroke-width=\"3.2\"/>\n",
       "<circle clip-path=\"url(#clip582)\" cx=\"1146.35\" cy=\"602.69\" r=\"14.4\" fill=\"#009af9\" fill-rule=\"evenodd\" fill-opacity=\"1\" stroke=\"#000000\" stroke-opacity=\"1\" stroke-width=\"3.2\"/>\n",
       "<circle clip-path=\"url(#clip582)\" cx=\"1786.55\" cy=\"773.01\" r=\"14.4\" fill=\"#009af9\" fill-rule=\"evenodd\" fill-opacity=\"1\" stroke=\"#000000\" stroke-opacity=\"1\" stroke-width=\"3.2\"/>\n",
       "<circle clip-path=\"url(#clip582)\" cx=\"1082.17\" cy=\"748.42\" r=\"14.4\" fill=\"#009af9\" fill-rule=\"evenodd\" fill-opacity=\"1\" stroke=\"#000000\" stroke-opacity=\"1\" stroke-width=\"3.2\"/>\n",
       "<circle clip-path=\"url(#clip582)\" cx=\"754.027\" cy=\"790.516\" r=\"14.4\" fill=\"#009af9\" fill-rule=\"evenodd\" fill-opacity=\"1\" stroke=\"#000000\" stroke-opacity=\"1\" stroke-width=\"3.2\"/>\n",
       "<circle clip-path=\"url(#clip582)\" cx=\"1450.73\" cy=\"1127.12\" r=\"14.4\" fill=\"#009af9\" fill-rule=\"evenodd\" fill-opacity=\"1\" stroke=\"#000000\" stroke-opacity=\"1\" stroke-width=\"3.2\"/>\n",
       "<circle clip-path=\"url(#clip582)\" cx=\"640.289\" cy=\"225.059\" r=\"14.4\" fill=\"#009af9\" fill-rule=\"evenodd\" fill-opacity=\"1\" stroke=\"#000000\" stroke-opacity=\"1\" stroke-width=\"3.2\"/>\n",
       "<circle clip-path=\"url(#clip582)\" cx=\"1924.54\" cy=\"898.149\" r=\"14.4\" fill=\"#009af9\" fill-rule=\"evenodd\" fill-opacity=\"1\" stroke=\"#000000\" stroke-opacity=\"1\" stroke-width=\"3.2\"/>\n",
       "<circle clip-path=\"url(#clip582)\" cx=\"1183.65\" cy=\"394.843\" r=\"14.4\" fill=\"#009af9\" fill-rule=\"evenodd\" fill-opacity=\"1\" stroke=\"#000000\" stroke-opacity=\"1\" stroke-width=\"3.2\"/>\n",
       "<circle clip-path=\"url(#clip582)\" cx=\"1520.52\" cy=\"450.313\" r=\"14.4\" fill=\"#009af9\" fill-rule=\"evenodd\" fill-opacity=\"1\" stroke=\"#000000\" stroke-opacity=\"1\" stroke-width=\"3.2\"/>\n",
       "<circle clip-path=\"url(#clip582)\" cx=\"1488.76\" cy=\"958.573\" r=\"14.4\" fill=\"#009af9\" fill-rule=\"evenodd\" fill-opacity=\"1\" stroke=\"#000000\" stroke-opacity=\"1\" stroke-width=\"3.2\"/>\n",
       "<circle clip-path=\"url(#clip582)\" cx=\"1873.9\" cy=\"970.662\" r=\"14.4\" fill=\"#009af9\" fill-rule=\"evenodd\" fill-opacity=\"1\" stroke=\"#000000\" stroke-opacity=\"1\" stroke-width=\"3.2\"/>\n",
       "<circle clip-path=\"url(#clip582)\" cx=\"563.126\" cy=\"921.578\" r=\"14.4\" fill=\"#009af9\" fill-rule=\"evenodd\" fill-opacity=\"1\" stroke=\"#000000\" stroke-opacity=\"1\" stroke-width=\"3.2\"/>\n",
       "<circle clip-path=\"url(#clip582)\" cx=\"880.044\" cy=\"879.099\" r=\"14.4\" fill=\"#009af9\" fill-rule=\"evenodd\" fill-opacity=\"1\" stroke=\"#000000\" stroke-opacity=\"1\" stroke-width=\"3.2\"/>\n",
       "<circle clip-path=\"url(#clip582)\" cx=\"683.011\" cy=\"949.915\" r=\"14.4\" fill=\"#009af9\" fill-rule=\"evenodd\" fill-opacity=\"1\" stroke=\"#000000\" stroke-opacity=\"1\" stroke-width=\"3.2\"/>\n",
       "<circle clip-path=\"url(#clip582)\" cx=\"1946.23\" cy=\"259.33\" r=\"14.4\" fill=\"#009af9\" fill-rule=\"evenodd\" fill-opacity=\"1\" stroke=\"#000000\" stroke-opacity=\"1\" stroke-width=\"3.2\"/>\n",
       "<circle clip-path=\"url(#clip582)\" cx=\"1691.56\" cy=\"886.335\" r=\"14.4\" fill=\"#009af9\" fill-rule=\"evenodd\" fill-opacity=\"1\" stroke=\"#000000\" stroke-opacity=\"1\" stroke-width=\"3.2\"/>\n",
       "<circle clip-path=\"url(#clip582)\" cx=\"1795.58\" cy=\"918.925\" r=\"14.4\" fill=\"#009af9\" fill-rule=\"evenodd\" fill-opacity=\"1\" stroke=\"#000000\" stroke-opacity=\"1\" stroke-width=\"3.2\"/>\n",
       "<circle clip-path=\"url(#clip582)\" cx=\"1723.95\" cy=\"1295.9\" r=\"14.4\" fill=\"#009af9\" fill-rule=\"evenodd\" fill-opacity=\"1\" stroke=\"#000000\" stroke-opacity=\"1\" stroke-width=\"3.2\"/>\n",
       "<circle clip-path=\"url(#clip582)\" cx=\"1799.76\" cy=\"1094.11\" r=\"14.4\" fill=\"#009af9\" fill-rule=\"evenodd\" fill-opacity=\"1\" stroke=\"#000000\" stroke-opacity=\"1\" stroke-width=\"3.2\"/>\n",
       "<circle clip-path=\"url(#clip582)\" cx=\"1676.82\" cy=\"121.129\" r=\"14.4\" fill=\"#009af9\" fill-rule=\"evenodd\" fill-opacity=\"1\" stroke=\"#000000\" stroke-opacity=\"1\" stroke-width=\"3.2\"/>\n",
       "<circle clip-path=\"url(#clip582)\" cx=\"1096.91\" cy=\"441.612\" r=\"14.4\" fill=\"#009af9\" fill-rule=\"evenodd\" fill-opacity=\"1\" stroke=\"#000000\" stroke-opacity=\"1\" stroke-width=\"3.2\"/>\n",
       "<circle clip-path=\"url(#clip582)\" cx=\"1536.44\" cy=\"94.493\" r=\"14.4\" fill=\"#009af9\" fill-rule=\"evenodd\" fill-opacity=\"1\" stroke=\"#000000\" stroke-opacity=\"1\" stroke-width=\"3.2\"/>\n",
       "<circle clip-path=\"url(#clip582)\" cx=\"1274.31\" cy=\"702.119\" r=\"14.4\" fill=\"#009af9\" fill-rule=\"evenodd\" fill-opacity=\"1\" stroke=\"#000000\" stroke-opacity=\"1\" stroke-width=\"3.2\"/>\n",
       "<circle clip-path=\"url(#clip582)\" cx=\"1649.85\" cy=\"1135.32\" r=\"14.4\" fill=\"#009af9\" fill-rule=\"evenodd\" fill-opacity=\"1\" stroke=\"#000000\" stroke-opacity=\"1\" stroke-width=\"3.2\"/>\n",
       "<circle clip-path=\"url(#clip582)\" cx=\"1017.84\" cy=\"1183.22\" r=\"14.4\" fill=\"#009af9\" fill-rule=\"evenodd\" fill-opacity=\"1\" stroke=\"#000000\" stroke-opacity=\"1\" stroke-width=\"3.2\"/>\n",
       "<circle clip-path=\"url(#clip582)\" cx=\"1608.2\" cy=\"798.83\" r=\"14.4\" fill=\"#009af9\" fill-rule=\"evenodd\" fill-opacity=\"1\" stroke=\"#000000\" stroke-opacity=\"1\" stroke-width=\"3.2\"/>\n",
       "<circle clip-path=\"url(#clip582)\" cx=\"1486.88\" cy=\"876.664\" r=\"14.4\" fill=\"#009af9\" fill-rule=\"evenodd\" fill-opacity=\"1\" stroke=\"#000000\" stroke-opacity=\"1\" stroke-width=\"3.2\"/>\n",
       "<circle clip-path=\"url(#clip582)\" cx=\"1843.5\" cy=\"105.517\" r=\"14.4\" fill=\"#009af9\" fill-rule=\"evenodd\" fill-opacity=\"1\" stroke=\"#000000\" stroke-opacity=\"1\" stroke-width=\"3.2\"/>\n",
       "<circle clip-path=\"url(#clip582)\" cx=\"1749.52\" cy=\"682.593\" r=\"14.4\" fill=\"#009af9\" fill-rule=\"evenodd\" fill-opacity=\"1\" stroke=\"#000000\" stroke-opacity=\"1\" stroke-width=\"3.2\"/>\n",
       "<circle clip-path=\"url(#clip582)\" cx=\"1497.17\" cy=\"1336.79\" r=\"14.4\" fill=\"#009af9\" fill-rule=\"evenodd\" fill-opacity=\"1\" stroke=\"#000000\" stroke-opacity=\"1\" stroke-width=\"3.2\"/>\n",
       "<circle clip-path=\"url(#clip582)\" cx=\"1236.49\" cy=\"502.286\" r=\"14.4\" fill=\"#009af9\" fill-rule=\"evenodd\" fill-opacity=\"1\" stroke=\"#000000\" stroke-opacity=\"1\" stroke-width=\"3.2\"/>\n",
       "<circle clip-path=\"url(#clip582)\" cx=\"1252.11\" cy=\"602.767\" r=\"14.4\" fill=\"#009af9\" fill-rule=\"evenodd\" fill-opacity=\"1\" stroke=\"#000000\" stroke-opacity=\"1\" stroke-width=\"3.2\"/>\n",
       "<circle clip-path=\"url(#clip582)\" cx=\"1130.12\" cy=\"933.284\" r=\"14.4\" fill=\"#009af9\" fill-rule=\"evenodd\" fill-opacity=\"1\" stroke=\"#000000\" stroke-opacity=\"1\" stroke-width=\"3.2\"/>\n",
       "<circle clip-path=\"url(#clip582)\" cx=\"1739.51\" cy=\"871.498\" r=\"14.4\" fill=\"#009af9\" fill-rule=\"evenodd\" fill-opacity=\"1\" stroke=\"#000000\" stroke-opacity=\"1\" stroke-width=\"3.2\"/>\n",
       "</svg>\n"
      ]
     },
     "execution_count": 37,
     "metadata": {},
     "output_type": "execute_result"
    }
   ],
   "source": [
    "n = 100\n",
    "S = rand(n,2)\n",
    "\n",
    "scatter(S[:,1], S[:,2], ratio=1, label=nothing)\n",
    "\n",
    "xaxis!(0:.1:1)\n",
    "yaxis!(0:.1:1)"
   ]
  }
 ],
 "metadata": {
  "kernelspec": {
   "display_name": "Julia 1.6.1",
   "language": "julia",
   "name": "julia-1.6"
  },
  "language_info": {
   "file_extension": ".jl",
   "mimetype": "application/julia",
   "name": "julia",
   "version": "1.6.1"
  }
 },
 "nbformat": 4,
 "nbformat_minor": 5
}
